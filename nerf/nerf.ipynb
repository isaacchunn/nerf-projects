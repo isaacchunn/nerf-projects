{
 "cells": [
  {
   "cell_type": "markdown",
   "id": "8d6135c0",
   "metadata": {},
   "source": [
    "# Neural Radiance Fields\n",
    "\n",
    "This notebook was written while referencing the original NeRF code so as to visualize step by step on how NeRF works. Some functions have been refactored for better understanding but as much as possible, none of the actual code was changed."
   ]
  },
  {
   "cell_type": "markdown",
   "id": "bedc70c7",
   "metadata": {},
   "source": [
    "## Attribution and Citation\n",
    "- Original paper: Mildenhall, Ben; Srinivasan, Pratul P.; Tancik, Matthew; Barron, Jonathan T.; Ramamoorthi, Ravi; Ng, Ren. “NeRF: Representing Scenes as Neural Radiance Fields for View Synthesis.” ECCV 2020. [arXiv:2003.08934](https://arxiv.org/abs/2003.08934)\n",
    "- Reference code: [bmild/nerf](https://github.com/bmild/nerf) (MIT License). Copyright © 2020 Ben Mildenhall.\n",
    "\n",
    "```bibtex\n",
    "@inproceedings{mildenhall2020nerf,\n",
    "  title     = {NeRF: Representing Scenes as Neural Radiance Fields for View Synthesis},\n",
    "  author    = {Mildenhall, Ben and Srinivasan, Pratul P. and Tancik, Matthew and Barron, Jonathan T. and Ramamoorthi, Ravi and Ng, Ren},\n",
    "  booktitle = {European Conference on Computer Vision (ECCV)},\n",
    "  year      = {2020}\n",
    "}\n",
    "```"
   ]
  },
  {
   "cell_type": "markdown",
   "id": "8dc42dfb",
   "metadata": {},
   "source": [
    "## Import Dependencies and Check CUDA"
   ]
  },
  {
   "cell_type": "code",
   "execution_count": 43,
   "id": "c328110f",
   "metadata": {},
   "outputs": [],
   "source": [
    "# Standard libraries\n",
    "import sys\n",
    "import os\n",
    "import time\n",
    "\n",
    "# Third party libraries\n",
    "import imageio\n",
    "import numpy as np\n",
    "import torch\n",
    "import torch.nn as nn\n",
    "import torch.nn.functional as F\n",
    "from tqdm import tqdm, trange\n",
    "\n",
    "import matplotlib.pyplot as plt\n",
    "\n",
    "# Helper libraries\n",
    "from embedder import *\n",
    "from nerf_helpers import *\n",
    "import utils\n",
    "\n",
    "# Loaders\n",
    "from load_llff import *\n",
    "from load_blender import *\n",
    "from load_deepvoxels import * \n",
    "from load_LINEMOD import *\n",
    "\n",
    "# Set seed\n",
    "np.random.seed(0)\n",
    "DEBUG = False\n",
    "torch.set_default_dtype(torch.float32)"
   ]
  },
  {
   "cell_type": "code",
   "execution_count": 44,
   "id": "82faedd4",
   "metadata": {},
   "outputs": [
    {
     "name": "stdout",
     "output_type": "stream",
     "text": [
      "Using device: cuda\n"
     ]
    }
   ],
   "source": [
    "# Check device \n",
    "device = torch.device(\"cuda\" if torch.cuda.is_available() else \"cpu\")\n",
    "print(f\"Using device: {device}\")"
   ]
  },
  {
   "cell_type": "code",
   "execution_count": 45,
   "id": "db3d9eff",
   "metadata": {},
   "outputs": [
    {
     "name": "stdout",
     "output_type": "stream",
     "text": [
      "Targeted yaml folder: yaml\\mic_blender200k_fullres\n",
      "Loading configuration from yaml\\mic_blender200k_fullres\n",
      "Configuration validation passed! Arguments are valid and correctly set.\n",
      "Experiment name: mic_blender200k_fullres\n"
     ]
    }
   ],
   "source": [
    "# Load experiment config from yaml\n",
    "EXPERIMENT_NAME = \"mic_blender200k_fullres\"\n",
    "folder_path = os.path.join(\"yaml\", EXPERIMENT_NAME)\n",
    "print(f\"Targeted yaml folder: {folder_path}\")\n",
    "\n",
    "# Load the yaml data for use later in terms of args.\n",
    "args = utils.load_or_create_config(folder_path)\n",
    "\n",
    "print(f\"Experiment name: {args[\"expname\"]}\")"
   ]
  },
  {
   "cell_type": "code",
   "execution_count": 46,
   "id": "acfcaacc",
   "metadata": {},
   "outputs": [
    {
     "name": "stdout",
     "output_type": "stream",
     "text": [
      "Converted args dict to AttrDict (dot-access enabled). Example: args.expname -> mic_blender200k_fullres\n"
     ]
    }
   ],
   "source": [
    "# Convert dict-style args to dot-access with recursive wrapping\n",
    "class AttrDict(dict):\n",
    "    \"\"\"Dictionary with attribute-style access that recursively wraps nested dicts/lists.\n",
    "\n",
    "    Example:\n",
    "        d = AttrDict.from_obj({\"a\": {\"b\": 1}, \"c\": [{\"d\": 2}]})\n",
    "        d.a.b == 1\n",
    "        d.c[0].d == 2\n",
    "        d.new_key = 3  # also writes to the underlying dict\n",
    "    \"\"\"\n",
    "    __slots__ = ()\n",
    "\n",
    "    def __getattr__(self, name):\n",
    "        try:\n",
    "            return self[name]\n",
    "        except KeyError as e:\n",
    "            raise AttributeError(f\"No such attribute: {name}\") from e\n",
    "\n",
    "    def __setattr__(self, name, value):\n",
    "        self[name] = value\n",
    "\n",
    "    @classmethod\n",
    "    def from_obj(cls, obj):\n",
    "        if isinstance(obj, dict):\n",
    "            return cls({k: cls.from_obj(v) for k, v in obj.items()})\n",
    "        if isinstance(obj, list):\n",
    "            return [cls.from_obj(v) for v in obj]\n",
    "        return obj\n",
    "\n",
    "# If args came from YAML as a plain dict, wrap it for dot access\n",
    "try:\n",
    "    if isinstance(args, dict):\n",
    "        args = AttrDict.from_obj(args)\n",
    "        print(\"Converted args dict to AttrDict (dot-access enabled). Example: args.expname ->\", args.expname)\n",
    "except NameError:\n",
    "    # If this cell runs before args is defined, it's a no-op\n",
    "    pass\n"
   ]
  },
  {
   "cell_type": "markdown",
   "id": "ea5538f3",
   "metadata": {},
   "source": [
    "## Render\n",
    "\n",
    "NeRF rendering utilities\n",
    "\n",
    "This part contains helper functions to render volumes using Neural Radiance Fields (NeRF).\n",
    "If you're new to NeRF, here's the high-level idea you'll see reflected in the code:\n",
    "\n",
    "- A NeRF model takes a 3D point (and often a viewing direction) and predicts color (RGB)\n",
    "  and density (sigma) at that point.\n",
    "- To render an image, we cast a ray through each pixel, sample many points along the ray,\n",
    "  evaluate the network at those points, and composite the colors using volume rendering.\n",
    "- We optionally do this in two passes: a coarse pass to find where the scene is, then a\n",
    "  fine pass that samples more densely in the important regions (importance sampling).\n",
    "\n",
    "The functions below help with:\n",
    "- Splitting big tensors/ray sets into smaller chunks to avoid out-of-memory issues.\n",
    "- Converting raw network outputs into rendered RGB/depth/opacity via volume rendering.\n",
    "- Orchestrating the full per-ray rendering with optional hierarchical sampling.\n"
   ]
  },
  {
   "cell_type": "code",
   "execution_count": 47,
   "id": "3d11a863",
   "metadata": {},
   "outputs": [],
   "source": [
    "\"\"\"\n",
    "The following function wraps a function fn so it processes a large input tensor in smaller chunks\n",
    "to reduce peak memory usage, then stitches the result together.\n",
    "\n",
    "This splits inputs along the first dimension into slices of size chunk and applies fn to each slice.\n",
    "Then it concatenates the results back together along the first dimension.\n",
    "\n",
    "This reduces gpu and cpu spikes when fn is heavy (i.e neural network forward pass) and preserves\n",
    "autograd, as gradients flow through torch.cat and slicing.\n",
    "\"\"\"\n",
    "def batchify(fn, chunk):\n",
    "    \"\"\"Wrap a function so it runs on smaller input chunks to reduce peak memory.\n",
    "\n",
    "    This is useful for heavy functions like neural network forward passes. Instead of\n",
    "    evaluating the entire input tensor in one go, we split it along the first dimension\n",
    "    into slices of size ``chunk`` and then concatenate the results.\n",
    "\n",
    "    Args:\n",
    "        fn (Callable[[Tensor], Tensor]): The function to run on chunks.\n",
    "        chunk (Optional[int]): Number of rows to process per call. If ``None``,\n",
    "            no chunking is performed.\n",
    "\n",
    "    Returns:\n",
    "        Callable[[Tensor], Tensor]: A wrapper that applies ``fn`` on input chunks and\n",
    "        stitches the outputs along the first dimension.\n",
    "    \"\"\"\n",
    "    if chunk is None:\n",
    "        return fn\n",
    "    def ret(inputs):\n",
    "        return torch.cat([fn(inputs[i:i+chunk]) for i in range(0, inputs.shape[0], chunk)], 0)\n",
    "    return ret\n"
   ]
  },
  {
   "cell_type": "code",
   "execution_count": 48,
   "id": "2c35c443",
   "metadata": {},
   "outputs": [],
   "source": [
    "def raw2outputs(raw, z_vals, rays_d, raw_noise_std=0, white_bkgd=False, pytest=False):\n",
    "    \"\"\"\n",
    "    Convert raw network predictions along rays into rendered outputs using\n",
    "    volumetric rendering (accumulation over samples).\n",
    "\n",
    "    High-level intuition (NeRF volume rendering):\n",
    "    - The network predicts, per sampled point along a ray, an RGB value and a density\n",
    "      (often called sigma). Density indicates how much light is absorbed/emitted there.\n",
    "    - We turn densities into per-sample opacities (alpha) based on the distance between\n",
    "      adjacent samples along the ray.\n",
    "    - We compute transmittance (how much light makes it to a sample without being blocked)\n",
    "      via a cumulative product, then form per-sample weights = transmittance * alpha.\n",
    "    - We composite colors, depths, and other quantities by weighted sums over samples.\n",
    "\n",
    "    Args:\n",
    "        raw (torch.Tensor): [N_rays, N_samples, 4] raw predictions per sample. The first\n",
    "            3 channels are RGB logits (before sigmoid), and the last channel is density (sigma).\n",
    "        z_vals (torch.Tensor): [N_rays, N_samples] sample depths or t-values along each ray.\n",
    "        rays_d (torch.Tensor): [N_rays, 3] direction vectors for each ray. Used to scale\n",
    "            step sizes from parametric units to metric distances.\n",
    "        raw_noise_std (float): Stddev of Gaussian noise added to sigma during training for\n",
    "            regularization. Set to 0.0 at eval time.\n",
    "        white_bkgd (bool): If True, composite the result over a white background (useful\n",
    "            for synthetic datasets rendered on white).\n",
    "        pytest (bool): If True, use deterministic numpy noise for reproducible tests.\n",
    "\n",
    "    Returns:\n",
    "        tuple:\n",
    "            - rgb_map (torch.Tensor): [N_rays, 3] rendered RGB color per ray.\n",
    "            - disp_map (torch.Tensor): [N_rays] disparity (inverse depth) per ray.\n",
    "            - acc_map (torch.Tensor): [N_rays] accumulated opacity per ray (sum of weights).\n",
    "            - weights (torch.Tensor): [N_rays, N_samples] per-sample contribution weights.\n",
    "            - depth_map (torch.Tensor): [N_rays] expected depth per ray.\n",
    "    \"\"\"\n",
    "    # Map density (sigma) and step size (distance between samples) to opacity (alpha):\n",
    "    #   alpha = 1 - exp(-relu(sigma) * delta)\n",
    "    # relu ensures sigma is non-negative, as negative density is not physical.\n",
    "    raw2alpha = lambda raw_sigma, dists, act_fn=F.relu: 1.0 - torch.exp(-act_fn(raw_sigma) * dists)\n",
    "\n",
    "    # Compute distances between adjacent samples along each ray in z (or t) space.\n",
    "    # Shape after diff: [N_rays, N_samples-1]\n",
    "    dists = z_vals[..., 1:] - z_vals[..., :-1]\n",
    "\n",
    "    # For the last sample on each ray, append a very large distance so that its\n",
    "    # contribution is properly modeled as the ray exiting the volume.\n",
    "    # Resulting shape: [N_rays, N_samples]\n",
    "    dists = torch.cat([dists, torch.tensor([1e10], device=z_vals.device, dtype=z_vals.dtype).expand(dists[..., :1].shape)], dim=-1)\n",
    "\n",
    "    # Convert parametric distances to metric distances by multiplying by the ray length.\n",
    "    # This accounts for non-unit ray directions. rays_d[..., None, :] has shape [N_rays, 1, 3]\n",
    "    # and we take its L2 norm to scale each sample distance.\n",
    "    dists = dists * torch.norm(rays_d[..., None, :], dim=-1)\n",
    "\n",
    "    # Convert raw RGB logits to [0,1] colors per sample.\n",
    "    rgb = torch.sigmoid(raw[..., :3])  # [N_rays, N_samples, 3]\n",
    "\n",
    "    # Optional noise added to densities during training for regularization.\n",
    "    # Ensure raw_noise_std is a float (configs may pass strings).\n",
    "    try:\n",
    "        noise_std = float(raw_noise_std)\n",
    "    except (TypeError, ValueError):\n",
    "        noise_std = 0.0\n",
    "\n",
    "    noise = 0.0\n",
    "    if noise_std > 0.0:\n",
    "        noise = torch.randn(raw[..., 3].shape, device=raw.device, dtype=raw.dtype) * noise_std\n",
    "\n",
    "        # Deterministic noise path for unit tests.\n",
    "        if pytest:\n",
    "            np.random.seed(0)\n",
    "            noise_np = np.random.rand(*list(raw[..., 3].shape)) * noise_std\n",
    "            noise = torch.tensor(noise_np, device=raw.device, dtype=raw.dtype)\n",
    "\n",
    "    # Opacity per sample from density and distance.\n",
    "    alpha = raw2alpha(raw[..., 3] + noise, dists)  # [N_rays, N_samples]\n",
    "    weights = alpha * torch.cumprod(torch.cat([torch.ones((alpha.shape[0], 1), device=alpha.device, dtype=alpha.dtype), 1.-alpha + 1e-10], -1), -1)[:, :-1]\n",
    "\n",
    "    # Rendered color is the weighted sum of per-sample colors along the ray.\n",
    "    rgb_map = torch.sum(weights[..., None] * rgb, dim=-2)  # [N_rays, 3]\n",
    "\n",
    "    # Expected depth is the weighted sum of sample depths.\n",
    "    depth_map = torch.sum(weights * z_vals, dim=-1)\n",
    "\n",
    "    # Disparity is inverse depth. We divide expected depth by total weight (visibility)\n",
    "    # and guard with epsilon to avoid divide-by-zero when the ray hits nothing.\n",
    "    denom = torch.max(1e-10 * torch.ones_like(depth_map), torch.sum(weights, dim=-1))\n",
    "    disp_map = 1.0 / torch.clamp(depth_map / denom, min=1e-10)\n",
    "\n",
    "    # Accumulated opacity along the ray (how much of the ray got \"stopped\").\n",
    "    acc_map = torch.sum(weights, dim=-1)\n",
    "\n",
    "    # If the scene assumes a white background, composite the missing transmittance as white.\n",
    "    if white_bkgd:\n",
    "        rgb_map = rgb_map + (1.0 - acc_map[..., None])\n",
    "\n",
    "    return rgb_map, disp_map, acc_map, weights, depth_map"
   ]
  },
  {
   "cell_type": "code",
   "execution_count": 49,
   "id": "6208cb16",
   "metadata": {},
   "outputs": [],
   "source": [
    "def render_rays(ray_batch,\n",
    "                network_fn,\n",
    "                network_query_fn,\n",
    "                N_samples,\n",
    "                retraw=False,\n",
    "                lindisp=False,\n",
    "                perturb=0.,\n",
    "                N_importance=0,\n",
    "                network_fine=None,\n",
    "                white_bkgd=False,\n",
    "                raw_noise_std=0.,\n",
    "                verbose=False,\n",
    "                pytest=False):\n",
    "    \"\"\"Render a bundle of rays using NeRF-style volume rendering.\n",
    "\n",
    "    High-level steps for each ray:\n",
    "    1) Sample N points between near and far along the ray (evenly in depth or inverse depth).\n",
    "    2) Query the network at those 3D points (and optionally view directions) to get raw RGB+sigma.\n",
    "    3) Convert raw predictions to colors via volume rendering (accumulate with alphas/weights).\n",
    "    4) If enabled, run hierarchical (importance) sampling: take a second set of samples drawn\n",
    "       from a PDF defined by the coarse weights, re-evaluate the network (fine), and re-render.\n",
    "\n",
    "    Args:\n",
    "        ray_batch (torch.Tensor): [num_rays, Cray]. Per-ray data packed together. The first\n",
    "            3 entries are ray origins, next 3 are ray directions, next 2 are near/far bounds,\n",
    "            and the last 3 (if present) are unit view directions for view-dependent effects.\n",
    "        network_fn (Callable): The coarse NeRF MLP. Given points (and viewdirs), predicts\n",
    "            raw RGB (logits) and density (sigma).\n",
    "        network_query_fn (Callable): A helper that formats inputs and calls the network.\n",
    "        N_samples (int): Number of stratified samples for the coarse pass.\n",
    "        retraw (bool): If True, also return the raw outputs from the last pass.\n",
    "        lindisp (bool): If True, sample uniformly in inverse depth (disparity) instead of depth.\n",
    "            This concentrates samples near the camera, helpful for scenes with large depth ranges.\n",
    "        perturb (float): If > 0, enable stratified sampling noise during training for anti-aliasing.\n",
    "        N_importance (int): Extra samples for the fine pass (hierarchical sampling). 0 disables it.\n",
    "        network_fine (Optional[Callable]): A separate fine MLP. If None, reuse ``network_fn``.\n",
    "        white_bkgd (bool): If True, composite the result over a white background.\n",
    "        raw_noise_std (float): Stddev of Gaussian noise added to density during training.\n",
    "        verbose (bool): If True, print additional debug information.\n",
    "        pytest (bool): If True, make randomness deterministic for unit tests.\n",
    "\n",
    "    Returns:\n",
    "        Dict[str, torch.Tensor]: Always includes:\n",
    "            - ``rgb_map`` [num_rays, 3]: Rendered color from the last pass (fine if enabled).\n",
    "            - ``disp_map`` [num_rays]: Disparity (1/depth) from the last pass.\n",
    "            - ``acc_map`` [num_rays]: Accumulated opacity from the last pass.\n",
    "        Optionally includes:\n",
    "            - ``raw`` [num_rays, num_samples, 4]: Raw outputs of the last pass if ``retraw``.\n",
    "            - ``rgb0``, ``disp0``, ``acc0``: Coarse pass results when ``N_importance > 0``.\n",
    "            - ``z_std`` [num_rays]: Std. dev. of fine samples (measures sampling concentration).\n",
    "    \"\"\"\n",
    "    N_rays = ray_batch.shape[0]\n",
    "    # Unpack packed ray data: origins, directions, near/far bounds, and optional viewdirs.\n",
    "    rays_o, rays_d = ray_batch[:,0:3], ray_batch[:,3:6] # [N_rays, 3] each\n",
    "    viewdirs = ray_batch[:,-3:] if ray_batch.shape[-1] > 8 else None\n",
    "    bounds = torch.reshape(ray_batch[...,6:8], [-1,1,2])\n",
    "    near, far = bounds[...,0], bounds[...,1] # [-1,1]\n",
    "\n",
    "    # Step 1: Choose parametric sample positions t in [0, 1] and map to depths z in [near, far].\n",
    "    t_vals = torch.linspace(0., 1., steps=N_samples, device=ray_batch.device)\n",
    "    if not lindisp:\n",
    "        # Uniform samples in depth\n",
    "        z_vals = near * (1.-t_vals) + far * (t_vals)\n",
    "    else:\n",
    "        # Uniform samples in inverse depth (places more samples closer to the camera)\n",
    "        z_vals = 1./(1./near * (1.-t_vals) + 1./far * (t_vals))\n",
    "\n",
    "    z_vals = z_vals.expand([N_rays, N_samples])\n",
    "\n",
    "    if perturb > 0.:\n",
    "        # During training, jitter samples within each interval for stratified sampling.\n",
    "        # This reduces aliasing and improves robustness.\n",
    "        # Get intervals between samples\n",
    "        mids = .5 * (z_vals[...,1:] + z_vals[...,:-1])\n",
    "        upper = torch.cat([mids, z_vals[...,-1:]], -1)\n",
    "        lower = torch.cat([z_vals[...,:1], mids], -1)\n",
    "        # Draw stratified samples inside those intervals\n",
    "        t_rand = torch.rand(z_vals.shape, device=z_vals.device)\n",
    "\n",
    "        # Pytest, overwrite u with numpy's fixed random numbers\n",
    "        if pytest:\n",
    "            np.random.seed(0)\n",
    "            t_rand = np.random.rand(*list(z_vals.shape))\n",
    "            t_rand = torch.tensor(t_rand, device=z_vals.device, dtype=z_vals.dtype)\n",
    "\n",
    "        z_vals = lower + (upper - lower) * t_rand\n",
    "\n",
    "    # Compute 3D sample locations along each ray: o + t*d for each sampled depth t (z_vals).\n",
    "    pts = rays_o[...,None,:] + rays_d[...,None,:] * z_vals[...,:,None] # [N_rays, N_samples, 3]\n",
    "\n",
    "    # raw = run_network(pts)\n",
    "    # Query the (coarse) network at all sample points. ``viewdirs`` enables view-dependent effects.\n",
    "    raw = network_query_fn(pts, viewdirs, network_fn)\n",
    "    rgb_map, disp_map, acc_map, weights, depth_map = raw2outputs(raw, z_vals, rays_d, raw_noise_std, white_bkgd, pytest=pytest)\n",
    "\n",
    "    if N_importance > 0:\n",
    "\n",
    "        rgb_map_0, disp_map_0, acc_map_0 = rgb_map, disp_map, acc_map\n",
    "\n",
    "        # Hierarchical sampling (importance sampling):\n",
    "        # Build a PDF from coarse weights and draw additional samples where the scene is likely.\n",
    "        z_vals_mid = .5 * (z_vals[...,1:] + z_vals[...,:-1])\n",
    "        # Exclude the first and last weights to avoid boundary artifacts when forming the PDF.\n",
    "        z_samples = sample_pdf(z_vals_mid, weights[...,1:-1], N_importance, det=(perturb==0.), pytest=pytest)\n",
    "        # Detach so gradients do not flow through the sampling operation.\n",
    "        z_samples = z_samples.detach()\n",
    "\n",
    "        # Merge coarse and fine samples, then sort along the ray.\n",
    "        z_vals, _ = torch.sort(torch.cat([z_vals, z_samples], -1), -1)\n",
    "        pts = rays_o[...,None,:] + rays_d[...,None,:] * z_vals[...,:,None] # [N_rays, N_samples + N_importance, 3]\n",
    "\n",
    "        # Use dedicated fine network if provided, else reuse the coarse network.\n",
    "        run_fn = network_fn if network_fine is None else network_fine\n",
    "        # raw = run_network(pts, fn=run_fn)\n",
    "        raw = network_query_fn(pts, viewdirs, run_fn)\n",
    "\n",
    "        rgb_map, disp_map, acc_map, weights, depth_map = raw2outputs(raw, z_vals, rays_d, raw_noise_std, white_bkgd, pytest=pytest)\n",
    "\n",
    "    ret = {'rgb_map' : rgb_map, 'disp_map' : disp_map, 'acc_map' : acc_map}\n",
    "    if retraw:\n",
    "        ret['raw'] = raw\n",
    "    if N_importance > 0:\n",
    "        # Include coarse pass results for potential losses or visualization.\n",
    "        ret['rgb0'] = rgb_map_0\n",
    "        ret['disp0'] = disp_map_0\n",
    "        ret['acc0'] = acc_map_0\n",
    "        # Standard deviation of fine samples: indicates how concentrated sampling is per ray.\n",
    "        ret['z_std'] = torch.std(z_samples, dim=-1, unbiased=False)  # [N_rays]\n",
    "\n",
    "    for k in ret:\n",
    "        if (torch.isnan(ret[k]).any() or torch.isinf(ret[k]).any()) and DEBUG:\n",
    "            print(f\"! [Numerical Error] {k} contains nan or inf.\")\n",
    "\n",
    "    return ret"
   ]
  },
  {
   "cell_type": "code",
   "execution_count": 50,
   "id": "30896c3d",
   "metadata": {},
   "outputs": [],
   "source": [
    "\"\"\"\n",
    "Render a large set of rays by splitting them into manageable minibatches to avoid\n",
    "out-of-memory (OOM) issues, then stitch the per-batch results back together.\n",
    "\n",
    "High-level intuition:\n",
    "- Rendering involves evaluating many rays (often millions). Each ray requires sampling\n",
    "  points, running an MLP, and compositing colors/densities, which can be memory-heavy.\n",
    "- Instead of rendering all rays at once, we process them in chunks (minibatches), which\n",
    "  keeps peak memory usage bounded.\n",
    "- We collect and concatenate the results for each output quantity (e.g., rgb, depth, acc).\n",
    "\"\"\"\n",
    "\n",
    "def batchify_rays(rays_flat, chunk=1024*32, **kwargs):\n",
    "    \"\"\"\n",
    "    Render rays in smaller minibatches to avoid OOM.\n",
    "\n",
    "    Args:\n",
    "        rays_flat (torch.Tensor): Rays flattened along the batch dimension, shape [N, Cray].\n",
    "            Each row encodes a single ray's data (e.g., origin, direction, near/far, etc.).\n",
    "        chunk (int): Number of rays to render per minibatch.\n",
    "        **kwargs: Additional keyword arguments forwarded to `render_rays` (e.g., models,\n",
    "            sampling counts, noise parameters).\n",
    "\n",
    "    Returns:\n",
    "        Dict[str, torch.Tensor]: A dictionary where each key corresponds to a rendered\n",
    "        quantity (e.g., 'rgb_map', 'disp_map', 'acc_map', etc.), and each tensor has\n",
    "        shape [N, ...], formed by concatenating per-chunk outputs along the first dimension.\n",
    "    \"\"\"\n",
    "    # Accumulate lists of per-chunk outputs in a dictionary keyed by output name.\n",
    "    all_ret = {}\n",
    "\n",
    "    # Iterate over rays in chunks: [0:chunk], [chunk:2*chunk], ...\n",
    "    for i in range(0, rays_flat.shape[0], chunk):\n",
    "        # Render a minibatch of rays using the provided rendering function and settings.\n",
    "        ret = render_rays(rays_flat[i:i+chunk], **kwargs)\n",
    "\n",
    "        # For each output field produced by the renderer, append the minibatch result\n",
    "        # to a growing list so we can concatenate later.\n",
    "        for k in ret:\n",
    "            if k not in all_ret:\n",
    "                all_ret[k] = []\n",
    "            all_ret[k].append(ret[k])\n",
    "\n",
    "    # Concatenate lists of chunk results into full [N, ...] tensors for each field.\n",
    "    all_ret = {k: torch.cat(all_ret[k], dim=0) for k in all_ret}\n",
    "\n",
    "    return all_ret"
   ]
  },
  {
   "cell_type": "code",
   "execution_count": 51,
   "id": "7e728037",
   "metadata": {},
   "outputs": [],
   "source": [
    "def render(H, W, K, chunk=1024*32, rays=None, c2w=None, ndc=True,\n",
    "                  near=0., far=1.,\n",
    "                  use_viewdirs=False, c2w_staticcam=None,\n",
    "                  **kwargs):\n",
    "    \"\"\"Render a full image or a provided set of rays using NeRF.\n",
    "\n",
    "    There are two common ways to call this function:\n",
    "    - Full image: pass a camera-to-world matrix ``c2w`` and camera intrinsics ``K``.\n",
    "      The function will generate one ray per pixel and render all of them.\n",
    "    - Custom rays: pass ``rays=(rays_o, rays_d)`` to render only those rays.\n",
    "\n",
    "    Args:\n",
    "        H (int): Image height in pixels.\n",
    "        W (int): Image width in pixels.\n",
    "        K (torch.Tensor or np.ndarray): 3x3 camera intrinsics matrix. We use ``K[0,0]``\n",
    "            (focal length in pixels) when converting to NDC for forward-facing scenes.\n",
    "        chunk (int): Max number of rays to process per minibatch to control memory usage.\n",
    "        rays (tuple[Tensor, Tensor], optional): Tuple ``(rays_o, rays_d)`` with shapes\n",
    "            [..., 3] each, giving ray origins and directions. If provided, ``c2w`` is ignored.\n",
    "        c2w (torch.Tensor or np.ndarray, optional): [3,4] camera-to-world matrix. If provided,\n",
    "            rays for the full image are generated via ``get_rays``.\n",
    "        ndc (bool): If True, convert rays to normalized device coordinates (recommended for\n",
    "            forward-facing scenes as in the original NeRF paper).\n",
    "        near (float): Near plane distance used to initialize per-ray near bounds.\n",
    "        far (float): Far plane distance used to initialize per-ray far bounds.\n",
    "        use_viewdirs (bool): If True, pass unit viewing directions to the network to enable\n",
    "            view-dependent appearance (specularities).\n",
    "        c2w_staticcam (torch.Tensor or np.ndarray, optional): If provided with ``use_viewdirs``\n",
    "            enabled, generate rays from ``c2w_staticcam`` but keep view directions from ``c2w``.\n",
    "            This is useful to visualize how view-dependent effects change with direction.\n",
    "        **kwargs: Forwarded to ``render_rays`` (e.g., networks, sample counts, noise settings).\n",
    "\n",
    "    Returns:\n",
    "        list: ``[rgb_map, disp_map, acc_map, extras]``\n",
    "            - rgb_map: [H, W, 3] rendered colors\n",
    "            - disp_map: [H, W] disparity (1/depth)\n",
    "            - acc_map: [H, W] accumulated opacity\n",
    "            - extras: dict with any additional outputs from ``render_rays``\n",
    "    \"\"\"\n",
    "    # Infer rendering device from the model to keep all tensors consistent\n",
    "    model_device = next(kwargs['network_fn'].parameters()).device\n",
    "\n",
    "    if c2w is not None:\n",
    "        # Special case: render a full image by generating one ray per pixel.\n",
    "        rays_o, rays_d = get_rays(H, W, K, c2w)\n",
    "    else:\n",
    "        # Use the provided custom ray batch.\n",
    "        rays_o, rays_d = rays\n",
    "\n",
    "    if use_viewdirs:\n",
    "        # Provide normalized ray directions to the network for view-dependent effects.\n",
    "        viewdirs = rays_d\n",
    "        if c2w_staticcam is not None:\n",
    "            # Visualize only the effect of changing view direction while keeping camera fixed.\n",
    "            rays_o, rays_d = get_rays(H, W, K, c2w_staticcam)\n",
    "        viewdirs = viewdirs / torch.norm(viewdirs, dim=-1, keepdim=True)\n",
    "        viewdirs = torch.reshape(viewdirs, [-1,3]).float().to(model_device)\n",
    "\n",
    "    sh = rays_d.shape # [..., 3]\n",
    "    if ndc:\n",
    "        # Convert to NDC (assumes a pinhole camera model), commonly used for LLFF/forward-facing scenes.\n",
    "        rays_o, rays_d = ndc_rays(H, W, K[0][0], 1., rays_o, rays_d)\n",
    "\n",
    "    # Create ray batch\n",
    "    rays_o = torch.reshape(rays_o, [-1,3]).float().to(model_device)\n",
    "    rays_d = torch.reshape(rays_d, [-1,3]).float().to(model_device)\n",
    "\n",
    "    # Initialize per-ray near/far bounds and pack rays into a single tensor expected by render_rays.\n",
    "    near, far = near * torch.ones_like(rays_d[...,:1]), far * torch.ones_like(rays_d[...,:1])\n",
    "    rays = torch.cat([rays_o, rays_d, near, far], -1)\n",
    "    if use_viewdirs:\n",
    "        rays = torch.cat([rays, viewdirs], -1)\n",
    "\n",
    "    # Render all rays in memory-friendly chunks, then reshape results back to image grids.\n",
    "    all_ret = batchify_rays(rays, chunk, **kwargs)\n",
    "    for k in all_ret:\n",
    "        k_sh = list(sh[:-1]) + list(all_ret[k].shape[1:])\n",
    "        all_ret[k] = torch.reshape(all_ret[k], k_sh)\n",
    "\n",
    "    k_extract = ['rgb_map', 'disp_map', 'acc_map']\n",
    "    ret_list = [all_ret[k] for k in k_extract]\n",
    "    ret_dict = {k : all_ret[k] for k in all_ret if k not in k_extract}\n",
    "    return ret_list + [ret_dict]\n"
   ]
  },
  {
   "cell_type": "code",
   "execution_count": 52,
   "id": "57f0ce9e",
   "metadata": {},
   "outputs": [],
   "source": [
    "def render_path(render_poses, hwf, K, chunk, render_kwargs, gt_imgs=None, savedir=None, render_factor=0, \n",
    "                calculate_metrics=False, metrics_include_lpips=True, metrics_device='cuda'):\n",
    "    \"\"\"Render a sequence of camera poses to produce a video or trajectory.\n",
    "\n",
    "    This convenience function loops over a list/array of camera-to-world matrices and calls\n",
    "    ``render`` for each pose. Optionally writes frames to ``savedir`` and/or renders at a\n",
    "    lower resolution for speed.\n",
    "\n",
    "    Args:\n",
    "        render_poses (Iterable[Tensor or np.ndarray]): Sequence of [3,4] camera-to-world matrices.\n",
    "        hwf (tuple): ``(H, W, focal)`` from dataset metadata. Only ``H`` and ``W`` are used here.\n",
    "        K (Tensor or np.ndarray): 3x3 intrinsics matrix passed through to ``render``.\n",
    "        chunk (int): Chunk size forwarded to ``render``.\n",
    "        render_kwargs (dict): Keyword args forwarded to ``render`` (e.g., networks and settings).\n",
    "        gt_imgs (optional): Ground-truth images; if provided, you can compute metrics.\n",
    "        savedir (str, optional): If provided, write each rendered RGB frame as a PNG to this folder.\n",
    "        render_factor (int): If > 0, downsample H and W by this factor to render faster.\n",
    "        calculate_metrics (bool): If True and gt_imgs is provided, calculate image quality metrics.\n",
    "        metrics_include_lpips (bool): Whether to include LPIPS in metrics calculation.\n",
    "        metrics_device (str): Device to use for LPIPS calculation.\n",
    "\n",
    "    Returns:\n",
    "        If calculate_metrics=False: Tuple[np.ndarray, np.ndarray]: ``(rgbs, disps)``\n",
    "        If calculate_metrics=True: Tuple[np.ndarray, np.ndarray, dict]: ``(rgbs, disps, metrics)``\n",
    "        where metrics contains averaged PSNR, SSIM, and optionally LPIPS values.\n",
    "    \"\"\"\n",
    "\n",
    "    H, W, focal = hwf\n",
    "\n",
    "    if render_factor!=0:\n",
    "        # Render downsampled for speed by reducing both resolution and focal length proportionally.\n",
    "        H = H//render_factor\n",
    "        W = W//render_factor\n",
    "        focal = focal/render_factor\n",
    "\n",
    "    rgbs = []\n",
    "    disps = []\n",
    "    \n",
    "    # Initialize metrics collection if requested\n",
    "    if calculate_metrics and gt_imgs is not None:\n",
    "        from nerf_helpers import calculate_metrics as calc_metrics\n",
    "        all_metrics = {'psnr': [], 'ssim': [], 'mse': []}\n",
    "        if metrics_include_lpips:\n",
    "            all_metrics['lpips'] = []\n",
    "\n",
    "    t = time.time()\n",
    "    for i, c2w in enumerate(tqdm(render_poses)):\n",
    "        # Simple timing print to monitor rendering speed\n",
    "        print(i, time.time() - t)\n",
    "        t = time.time()\n",
    "\n",
    "        # Render the current pose; we discard the accumulated opacity and extras here\n",
    "        rgb, disp, acc, _ = render(H, W, K, chunk=chunk, c2w=c2w[:3,:4], **render_kwargs)\n",
    "        rgbs.append(rgb.cpu().numpy())\n",
    "        disps.append(disp.cpu().numpy())\n",
    "        if i==0:\n",
    "            print(rgb.shape, disp.shape)\n",
    "\n",
    "        # Calculate metrics vs. ground truth if requested\n",
    "        if calculate_metrics and gt_imgs is not None and render_factor==0 and i < len(gt_imgs):\n",
    "            gt_img = gt_imgs[i]\n",
    "            rendered_img = rgb.cpu().numpy()\n",
    "            \n",
    "            # Calculate comprehensive metrics\n",
    "            metrics = calc_metrics(rendered_img, gt_img, \n",
    "                                 include_lpips=metrics_include_lpips, \n",
    "                                 device=metrics_device)\n",
    "            \n",
    "            # Store metrics\n",
    "            for key in all_metrics:\n",
    "                if key in metrics and metrics[key] is not None:\n",
    "                    all_metrics[key].append(metrics[key])\n",
    "            \n",
    "            # Print metrics for this frame\n",
    "            print(f\"Frame {i} - PSNR: {metrics.get('psnr', 'N/A'):.2f}, \"\n",
    "                  f\"SSIM: {metrics.get('ssim', 'N/A'):.4f}\", end=\"\")\n",
    "            if metrics_include_lpips and 'lpips' in metrics:\n",
    "                print(f\", LPIPS: {metrics.get('lpips', 'N/A'):.4f}\")\n",
    "            else:\n",
    "                print()\n",
    "\n",
    "        # Optionally write the frame to disk as an 8-bit PNG.\n",
    "        if savedir is not None:\n",
    "            rgb8 = to8b(rgbs[-1])\n",
    "            filename = os.path.join(savedir, '{:03d}.png'.format(i))\n",
    "            imageio.imwrite(filename, rgb8)\n",
    "\n",
    "    # Stack lists into contiguous arrays with a time dimension.\n",
    "    rgbs = np.stack(rgbs, 0)\n",
    "    disps = np.stack(disps, 0)\n",
    "\n",
    "    # Calculate average metrics if requested\n",
    "    if calculate_metrics and gt_imgs is not None:\n",
    "        avg_metrics = {}\n",
    "        for key, values in all_metrics.items():\n",
    "            if values:  # Only average if we have values\n",
    "                avg_metrics[f'avg_{key}'] = np.mean(values)\n",
    "                avg_metrics[f'std_{key}'] = np.std(values)\n",
    "        \n",
    "        # Print summary\n",
    "        print(\"\\n=== METRICS SUMMARY ===\")\n",
    "        for key in ['psnr', 'ssim', 'lpips']:\n",
    "            if f'avg_{key}' in avg_metrics:\n",
    "                print(f\"Average {key.upper()}: {avg_metrics[f'avg_{key}']:.4f} ± {avg_metrics[f'std_{key}']:.4f}\")\n",
    "        print(\"=======================\")\n",
    "        \n",
    "        return rgbs, disps, avg_metrics\n",
    "\n",
    "    return rgbs, disps\n"
   ]
  },
  {
   "cell_type": "code",
   "execution_count": null,
   "id": "2e46feb0",
   "metadata": {},
   "outputs": [],
   "source": []
  },
  {
   "cell_type": "code",
   "execution_count": 53,
   "id": "c0111889",
   "metadata": {},
   "outputs": [],
   "source": [
    "\"\"\"\n",
    "Prepare 3D sample points for a NeRF-style network by applying positional encodings,\n",
    "run the network on these encodings in memory-safe chunks, and then reshape the results\n",
    "back to the original sampling layout.\n",
    "\n",
    "High-level intuition:\n",
    "- We often sample many 3D points (xyz) per ray and, optionally, use a per-ray viewing\n",
    "  direction. Raw coordinates are hard for small MLPs to learn high-frequency detail,\n",
    "  so we first apply a positional encoding that maps them to a higher-dimensional space.\n",
    "- We flatten everything to a big batch so the network can process all samples uniformly.\n",
    "- To avoid running out of memory, we split this big batch into chunks and process them\n",
    "  sequentially, then stitch the outputs back together and restore the original shape.\n",
    "\"\"\"\n",
    "\n",
    "def run_network(inputs, viewdirs, fn, embed_fn, embeddirs_fn, netchunk=1024*64):\n",
    "    \"\"\"\n",
    "    Prepare inputs for a NeRF-style MLP and apply the network in chunks.\n",
    "\n",
    "    Conceptual overview:\n",
    "    - Positions (xyz) and, optionally, viewing directions are first positional-encoded\n",
    "      (a deterministic mapping to a higher-dimensional space using sin/cos at multiple\n",
    "      frequencies). This helps the MLP represent fine details and sharp changes.\n",
    "    - We flatten leading dimensions so all samples are processed as a single batch.\n",
    "    - To keep memory usage in check, we process this batch in chunks (netchunk).\n",
    "    - Finally, we reshape outputs to match the original sampling layout.\n",
    "\n",
    "    Args:\n",
    "        inputs (torch.Tensor): Sample positions with shape [..., Cpos], typically Cpos = 3.\n",
    "            Example: [N_rays, N_samples, 3]. The leading dimensions can be any shape.\n",
    "        viewdirs (Optional[torch.Tensor]): Per-ray viewing directions with shape\n",
    "            [N_rays, Cdir] (typically Cdir = 3), or None if not using view-dependent effects.\n",
    "            When provided, each ray direction is broadcast to all samples along that ray.\n",
    "        fn (Callable[[torch.Tensor], torch.Tensor]): Neural network (e.g., NeRF MLP) that\n",
    "            consumes encoded features and returns outputs per sample.\n",
    "        embed_fn (Callable[[torch.Tensor], torch.Tensor]): Positional encoder for positions;\n",
    "            maps [*, Cpos] -> [*, Cpos_enc].\n",
    "        embeddirs_fn (Optional[Callable[[torch.Tensor], torch.Tensor]]): Positional encoder\n",
    "            for directions; maps [*, Cdir] -> [*, Cdir_enc]. Only used if viewdirs is not None.\n",
    "        netchunk (int): Maximum number of samples to process per chunk to limit peak memory.\n",
    "\n",
    "    Returns:\n",
    "        torch.Tensor: Network outputs with shape [..., Cout], where the leading dimensions\n",
    "        match those of `inputs` (excluding its last channel), and Cout is determined by `fn`.\n",
    "    \"\"\"\n",
    "    # Flatten all leading dimensions so we have a simple [N, Cpos] batch of positions.\n",
    "    # N is the total number of samples across rays and per-ray samples.\n",
    "    inputs_flat = torch.reshape(inputs, [-1, inputs.shape[-1]])\n",
    "\n",
    "    # Positional-encode the flattened positions (e.g., apply sin/cos at multiple frequencies).\n",
    "    # This expands each 3D input into a richer, higher-dimensional representation\n",
    "    # that makes it easier for the MLP to model fine spatial detail.\n",
    "    embedded = embed_fn(inputs_flat)\n",
    "\n",
    "    # If using view-dependent appearance (e.g., specular highlights that vary with direction),\n",
    "    # we also encode per-ray viewing directions and concatenate them with position encodings.\n",
    "    if viewdirs is not None:\n",
    "        # Insert a length-1 axis, then broadcast each ray direction across all samples on that ray\n",
    "        # so that every sample point along a ray shares the same view direction.\n",
    "        input_dirs = viewdirs[:, None].expand(inputs.shape)\n",
    "\n",
    "        # Flatten directions to align with the flattened positions: [N, Cdir].\n",
    "        input_dirs_flat = torch.reshape(input_dirs, [-1, input_dirs.shape[-1]])\n",
    "\n",
    "        # Positional-encode viewing directions in the same spirit as positions.\n",
    "        embedded_dirs = embeddirs_fn(input_dirs_flat)\n",
    "\n",
    "        # Concatenate encoded positions and encoded directions along the feature/channel axis.\n",
    "        embedded = torch.cat([embedded, embedded_dirs], -1)\n",
    "\n",
    "    # Apply the network to the encoded features in memory-safe chunks along the batch dimension.\n",
    "    # This prevents out-of-memory errors when the total number of samples is very large.\n",
    "    # Ensure inputs are on the same device as the model parameters.\n",
    "    model_device = next(fn.parameters()).device\n",
    "    embedded = embedded.to(model_device)\n",
    "    outputs_flat = batchify(fn, netchunk)(embedded)\n",
    "\n",
    "    # Restore the original leading shape (e.g., [N_rays, N_samples]) and append the output channels.\n",
    "    outputs = torch.reshape(outputs_flat, list(inputs.shape[:-1]) + [outputs_flat.shape[-1]])\n",
    "\n",
    "    return outputs"
   ]
  },
  {
   "cell_type": "markdown",
   "id": "fbf79950",
   "metadata": {},
   "source": [
    "## Instantiate NeRF\n",
    "This section creates a function to instantiate NeRF."
   ]
  },
  {
   "cell_type": "code",
   "execution_count": 54,
   "id": "cab3b233",
   "metadata": {},
   "outputs": [],
   "source": [
    "from nerf import NeRF\n",
    "\n",
    "def create_nerf(args):\n",
    "    \"\"\"Instantiate NeRF's MLP model.\n",
    "    \"\"\"\n",
    "    embed_fn, input_ch = get_embedder(args.multires, args.i_embed)\n",
    "\n",
    "    input_ch_views = 0\n",
    "    embeddirs_fn = None\n",
    "    if args.use_viewdirs:\n",
    "        embeddirs_fn, input_ch_views = get_embedder(args.multires_views, args.i_embed)\n",
    "    output_ch = 5 if args.N_importance > 0 else 4\n",
    "    skips = [4]\n",
    "    model = NeRF(D=args.netdepth, W=args.netwidth,\n",
    "                 input_ch=input_ch, output_ch=output_ch, skips=skips,\n",
    "                 input_ch_views=input_ch_views, use_viewdirs=args.use_viewdirs).to(device)\n",
    "    grad_vars = list(model.parameters())\n",
    "\n",
    "    model_fine = None\n",
    "    if args.N_importance > 0:\n",
    "        model_fine = NeRF(D=args.netdepth_fine, W=args.netwidth_fine,\n",
    "                          input_ch=input_ch, output_ch=output_ch, skips=skips,\n",
    "                          input_ch_views=input_ch_views, use_viewdirs=args.use_viewdirs).to(device)\n",
    "        grad_vars += list(model_fine.parameters())\n",
    "\n",
    "    network_query_fn = lambda inputs, viewdirs, network_fn : run_network(inputs, viewdirs, network_fn,\n",
    "                                                                embed_fn=embed_fn,\n",
    "                                                                embeddirs_fn=embeddirs_fn,\n",
    "                                                                netchunk=args.netchunk)\n",
    "\n",
    "    # Create optimizer\n",
    "    optimizer = torch.optim.Adam(params=grad_vars, lr=args.lrate, betas=(0.9, 0.999))\n",
    "\n",
    "    start = 0\n",
    "    basedir = args.basedir\n",
    "    expname = args.expname\n",
    "\n",
    "    ##########################\n",
    "\n",
    "    # Load checkpoints\n",
    "    # Make checkpt dirs\n",
    "    checkpoint_dir = os.path.join(basedir, expname, \"checkpoints\")\n",
    "    os.makedirs(checkpoint_dir, exist_ok=True)\n",
    "\n",
    "    if args.ft_path is not None and args.ft_path!='None':\n",
    "        ckpts = [args.ft_path]\n",
    "    else:\n",
    "        ckpts = [os.path.join(basedir, expname, \"checkpoints\", f) for f in sorted(os.listdir(os.path.join(basedir, expname, \"checkpoints\"))) if 'tar' in f]\n",
    "\n",
    "    print('Found ckpts', ckpts)\n",
    "    if len(ckpts) > 0 and not args.no_reload:\n",
    "        ckpt_path = ckpts[-1]\n",
    "        print('Reloading from', ckpt_path)\n",
    "        ckpt = torch.load(ckpt_path)\n",
    "\n",
    "        start = ckpt['global_step']\n",
    "        optimizer.load_state_dict(ckpt['optimizer_state_dict'])\n",
    "\n",
    "        # Load model\n",
    "        model.load_state_dict(ckpt['network_fn_state_dict'])\n",
    "        if model_fine is not None:\n",
    "            model_fine.load_state_dict(ckpt['network_fine_state_dict'])\n",
    "\n",
    "    ##########################\n",
    "\n",
    "    render_kwargs_train = {\n",
    "        'network_query_fn' : network_query_fn,\n",
    "        'perturb' : args.perturb,\n",
    "        'N_importance' : args.N_importance,\n",
    "        'network_fine' : model_fine,\n",
    "        'N_samples' : args.N_samples,\n",
    "        'network_fn' : model,\n",
    "        'use_viewdirs' : args.use_viewdirs,\n",
    "        'white_bkgd' : args.white_bkgd,\n",
    "        'raw_noise_std' : args.raw_noise_std,\n",
    "    }\n",
    "\n",
    "    # NDC only good for LLFF-style forward facing data\n",
    "    if args.dataset_type != 'llff' or args.no_ndc:\n",
    "        print('Not ndc!')\n",
    "        render_kwargs_train['ndc'] = False\n",
    "        render_kwargs_train['lindisp'] = args.lindisp\n",
    "\n",
    "    render_kwargs_test = {k : render_kwargs_train[k] for k in render_kwargs_train}\n",
    "    render_kwargs_test['perturb'] = False\n",
    "    render_kwargs_test['raw_noise_std'] = 0.\n",
    "\n",
    "    return render_kwargs_train, render_kwargs_test, start, grad_vars, optimizer"
   ]
  },
  {
   "cell_type": "markdown",
   "id": "0ce81b35",
   "metadata": {},
   "source": [
    "## Training Loop"
   ]
  },
  {
   "cell_type": "code",
   "execution_count": 55,
   "id": "7f36d9e8",
   "metadata": {},
   "outputs": [],
   "source": [
    "\n",
    "def train():\n",
    "    import os\n",
    "    import skimage\n",
    "    \"\"\"\n",
    "    End-to-end NeRF training loop.\n",
    "\n",
    "    High-level overview for newcomers:\n",
    "    - Load a dataset of posed images (e.g., LLFF/Blender/LINEMOD). Each image comes with a camera pose.\n",
    "    - Create a NeRF model (coarse and optionally fine MLPs) and a renderer.\n",
    "    - On each iteration, sample camera rays and their target RGB values from the dataset.\n",
    "    - Render rays with the NeRF model via volumetric rendering (accumulate colors along the ray).\n",
    "    - Compute a reconstruction loss (e.g., MSE) against ground-truth pixels and optimize the networks.\n",
    "    - Periodically render validation trajectories and/or save snapshots.\n",
    "\n",
    "    Key concepts:\n",
    "    - Rays: For each pixel, we cast a ray into the scene with origin/direction computed from intrinsics and pose.\n",
    "    - Sampling: We sample multiple points along each ray (coarse). Optionally resample (fine) where the scene is likely.\n",
    "    - Volume rendering: Convert per-point density+color to opacity weights and composite to a final pixel color.\n",
    "    - Hierarchical sampling: A second pass focuses samples where the coarse pass is confident the scene exists.\n",
    "    \"\"\"\n",
    "\n",
    "    # ----------------------\n",
    "    # 1) Load data and choose near/far bounds depending on dataset\n",
    "    # ----------------------\n",
    "    K = None\n",
    "    if args.dataset_type == 'llff':\n",
    "        images, poses, bds, render_poses, i_test = load_llff_data(\n",
    "            args.datadir, args.factor, recenter=True, bd_factor=.75, spherify=args.spherify\n",
    "        )\n",
    "        hwf = poses[0,:3,-1]           # (H, W, focal)\n",
    "        poses = poses[:,:3,:4]         # Only keep rotation+translation (3x4) per pose\n",
    "        print('Loaded llff', images.shape, render_poses.shape, hwf, args.datadir)\n",
    "        if not isinstance(i_test, list):\n",
    "            i_test = [i_test]\n",
    "\n",
    "        # Optional LLFF holdout: use every N-th image as test\n",
    "        if args.llffhold > 0:\n",
    "            print('Auto LLFF holdout,', args.llffhold)\n",
    "            i_test = np.arange(images.shape[0])[::args.llffhold]\n",
    "\n",
    "        i_val = i_test\n",
    "        i_train = np.array([i for i in np.arange(int(images.shape[0]))\n",
    "                            if (i not in i_test and i not in i_val)])\n",
    "\n",
    "        print('DEFINING BOUNDS')\n",
    "        if args.no_ndc:\n",
    "            # If not using NDC (e.g., inward-facing/360 scenes), near/far from bounds\n",
    "            near = np.ndarray.min(bds) * .9\n",
    "            far = np.ndarray.max(bds) * 1.\n",
    "        else:\n",
    "            # Forward-facing (LLFF) uses NDC, so near/far are normalized\n",
    "            near = 0.\n",
    "            far = 1.\n",
    "        print('NEAR FAR', near, far)\n",
    "\n",
    "    elif args.dataset_type == 'blender':\n",
    "        images, poses, render_poses, hwf, i_split = load_blender_data(\n",
    "            args.datadir, args.half_res, args.testskip\n",
    "        )\n",
    "        print('Loaded blender', images.shape, render_poses.shape, hwf, args.datadir)\n",
    "        i_train, i_val, i_test = i_split\n",
    "\n",
    "        # Standard near/far for Blender synthetic scenes\n",
    "        near = 2.\n",
    "        far = 6.\n",
    "\n",
    "        # Composite over white if requested (makes background white instead of black)\n",
    "        if args.white_bkgd:\n",
    "            images = images[...,:3]*images[...,-1:] + (1.-images[...,-1:])\n",
    "        else:\n",
    "            images = images[...,:3]\n",
    "\n",
    "    elif args.dataset_type == 'LINEMOD':\n",
    "        images, poses, render_poses, hwf, K, i_split, near, far = load_LINEMOD_data(\n",
    "            args.datadir, args.half_res, args.testskip\n",
    "        )\n",
    "        print(f'Loaded LINEMOD, images shape: {images.shape}, hwf: {hwf}, K: {K}')\n",
    "        print(f'[CHECK HERE] near: {near}, far: {far}.')\n",
    "        i_train, i_val, i_test = i_split\n",
    "\n",
    "        if args.white_bkgd:\n",
    "            images = images[...,:3]*images[...,-1:] + (1.-images[...,-1:])\n",
    "        else:\n",
    "            images = images[...,:3]\n",
    "\n",
    "    elif args.dataset_type == 'deepvoxels':\n",
    "        images, poses, render_poses, hwf, i_split = load_dv_data(\n",
    "            scene=args.shape, basedir=args.datadir, testskip=args.testskip\n",
    "        )\n",
    "        print('Loaded deepvoxels', images.shape, render_poses.shape, hwf, args.datadir)\n",
    "        i_train, i_val, i_test = i_split\n",
    "\n",
    "        # DeepVoxels scenes define a hemisphere radius; near/far around it\n",
    "        hemi_R = np.mean(np.linalg.norm(poses[:,:3,-1], axis=-1))\n",
    "        near = hemi_R-1.\n",
    "        far = hemi_R+1.\n",
    "\n",
    "    else:\n",
    "        print('Unknown dataset type', args.dataset_type, 'exiting')\n",
    "        return\n",
    "\n",
    "    # ----------------------\n",
    "    # 2) Prepare intrinsics (H, W, focal) and default K if not provided\n",
    "    # ----------------------\n",
    "    H, W, focal = hwf\n",
    "    H, W = int(H), int(W)\n",
    "    hwf = [H, W, focal]\n",
    "\n",
    "    if K is None:\n",
    "        # Construct a pinhole intrinsics matrix assuming principal point at image center\n",
    "        K = np.array([\n",
    "            [focal, 0, 0.5*W],\n",
    "            [0, focal, 0.5*H],\n",
    "            [0, 0, 1]\n",
    "        ])\n",
    "\n",
    "    # If we are evaluating on the test set, use the corresponding subset of poses\n",
    "    if args.render_test:\n",
    "        render_poses = np.array(poses[i_test])\n",
    "\n",
    "    # ----------------------\n",
    "    # 3) Logging setup and persistence of configs\n",
    "    # ----------------------\n",
    "    basedir = args.basedir\n",
    "    expname = args.expname\n",
    "    os.makedirs(os.path.join(basedir, expname), exist_ok=True)\n",
    "\n",
    "    # Save the parsed args for reproducibility\n",
    "    f = os.path.join(basedir, expname, 'args.txt')\n",
    "    with open(f, 'w') as file:\n",
    "        for arg, attr in sorted(args.items()):\n",
    "            attr = getattr(args, arg)\n",
    "            file.write('{} = {}\\n'.format(arg, attr))\n",
    "    # Save the YAML configuration that produced these args\n",
    "    f_yaml = os.path.join(basedir, expname, 'config.yaml')\n",
    "    try:\n",
    "        utils.save_yaml(dict(args), f_yaml)\n",
    "    except Exception:\n",
    "        # Fallback: write a simple YAML dump directly\n",
    "        with open(f_yaml, 'w', encoding='utf-8') as yf:\n",
    "            import yaml as _yaml\n",
    "            _yaml.dump(dict(args), yf, default_flow_style=False, indent=2)\n",
    "\n",
    "    # ----------------------\n",
    "    # 4) Create NeRF models and optimizer\n",
    "    # ----------------------\n",
    "    render_kwargs_train, render_kwargs_test, start, grad_vars, optimizer = create_nerf(args)\n",
    "    global_step = start\n",
    "\n",
    "    # Near/far bounds are used by the renderer; update both train and test configs\n",
    "    bds_dict = { 'near' : near, 'far' : far }\n",
    "    render_kwargs_train.update(bds_dict)\n",
    "    render_kwargs_test.update(bds_dict)\n",
    "\n",
    "    # Move the camera trajectory used for rendering validation videos to the GPU\n",
    "    render_poses = torch.Tensor(render_poses).to(device)\n",
    "\n",
    "    # ----------------------\n",
    "    # 5) Short-circuit: render only mode\n",
    "    # ----------------------\n",
    "    if args.render_only:\n",
    "        print('RENDER ONLY')\n",
    "        with torch.no_grad():\n",
    "            if args.render_test:\n",
    "                # Switch to test poses\n",
    "                images = images[i_test]\n",
    "            else:\n",
    "                # Default is smoother render_poses path\n",
    "                images = None\n",
    "\n",
    "            testsavedir = os.path.join(\n",
    "                basedir, expname, 'renderonly_{}_{:06d}'.format('test' if args.render_test else 'path', start)\n",
    "            )\n",
    "            os.makedirs(testsavedir, exist_ok=True)\n",
    "            print('test poses shape', render_poses.shape)\n",
    "\n",
    "            # Render a path and save to video\n",
    "            rgbs, _ = render_path(render_poses, hwf, K, args.chunk, render_kwargs_test,\n",
    "                                   gt_imgs=images, savedir=testsavedir, render_factor=args.render_factor)\n",
    "            print('Done rendering', testsavedir)\n",
    "            imageio.mimwrite(os.path.join(testsavedir, 'video.mp4'), to8b(rgbs), fps=30, quality=8)\n",
    "\n",
    "            return\n",
    "\n",
    "    # ----------------------\n",
    "    # 6) Prepare random-ray batching (optional) and move data to GPU\n",
    "    # ----------------------\n",
    "    N_rand = args.N_rand\n",
    "    use_batching = not args.no_batching\n",
    "    if use_batching:\n",
    "        # Precompute all rays for all training images, then shuffle mini-batches each step\n",
    "        print('get rays')\n",
    "        rays = np.stack([get_rays_np(H, W, K, p) for p in poses[:,:3,:4]], 0)  # [N, ro+rd, H, W, 3]\n",
    "        print('done, concats')\n",
    "        rays_rgb = np.concatenate([rays, images[:,None]], 1)                   # [N, ro+rd+rgb, H, W, 3]\n",
    "        rays_rgb = np.transpose(rays_rgb, [0,2,3,1,4])                         # [N, H, W, ro+rd+rgb, 3]\n",
    "        rays_rgb = np.stack([rays_rgb[i] for i in i_train], 0)                 # train images only\n",
    "        rays_rgb = np.reshape(rays_rgb, [-1,3,3])                              # [(N-1)*H*W, ro+rd+rgb, 3]\n",
    "        rays_rgb = rays_rgb.astype(np.float32)\n",
    "        print('shuffle rays')\n",
    "        np.random.shuffle(rays_rgb)\n",
    "        print('done')\n",
    "        i_batch = 0\n",
    "\n",
    "    # Move arrays/tensors to GPU for training\n",
    "    if use_batching:\n",
    "        images = torch.Tensor(images).to(device)\n",
    "    poses = torch.Tensor(poses).to(device)\n",
    "    if use_batching:\n",
    "        rays_rgb = torch.Tensor(rays_rgb).to(device)\n",
    "\n",
    "    print('Begin')\n",
    "    print('TRAIN views are', i_train)\n",
    "    print('TEST views are', i_test)\n",
    "    print('VAL views are', i_val)\n",
    "\n",
    "    # ----------------------\n",
    "    # 7) Main optimization loop\n",
    "    # ----------------------\n",
    "    # writer = SummaryWriter(os.path.join(basedir, 'summaries', expname))  # Optional TB logging\n",
    "\n",
    "    start = start + 1\n",
    "    for i in trange(start, N_iters):\n",
    "        time0 = time.time()\n",
    "\n",
    "        # Ensure global step and loop iteration i are synced for checkpoint resume\n",
    "        global_step = i\n",
    "\n",
    "        # Sample a batch of rays and target colors\n",
    "        if use_batching:\n",
    "            # Random over all images (global batching)\n",
    "            batch = rays_rgb[i_batch:i_batch+N_rand]  # [B, 2+1, 3*?]\n",
    "            batch = torch.transpose(batch, 0, 1)\n",
    "            batch_rays, target_s = batch[:2], batch[2]\n",
    "\n",
    "            # Move sliding window; reshuffle at epoch end\n",
    "            i_batch += N_rand\n",
    "            if i_batch >= rays_rgb.shape[0]:\n",
    "                print(\"Shuffle data after an epoch!\")\n",
    "                rand_idx = torch.randperm(rays_rgb.shape[0])\n",
    "                rays_rgb = rays_rgb[rand_idx]\n",
    "                i_batch = 0\n",
    "        else:\n",
    "            # Random rays from a randomly chosen training image (per-image batching)\n",
    "            img_i = np.random.choice(i_train)\n",
    "            target = images[img_i]\n",
    "            target = torch.Tensor(target).to(device)\n",
    "            pose = poses[img_i, :3,:4]\n",
    "\n",
    "            if N_rand is not None:\n",
    "                # Compute per-pixel rays for this image, then sample N_rand of them\n",
    "                rays_o, rays_d = get_rays(H, W, K, torch.Tensor(pose))  # (H, W, 3), (H, W, 3)\n",
    "\n",
    "                if i < args.precrop_iters:\n",
    "                    # Optional: focus early training on the image center (stabilizes training)\n",
    "                    dH = int(H//2 * args.precrop_frac)\n",
    "                    dW = int(W//2 * args.precrop_frac)\n",
    "                    coords = torch.stack(\n",
    "                        torch.meshgrid(\n",
    "                            torch.linspace(H//2 - dH, H//2 + dH - 1, 2*dH), \n",
    "                            torch.linspace(W//2 - dW, W//2 + dW - 1, 2*dW)\n",
    "                        ), -1)\n",
    "                    if i == start:\n",
    "                        print(f\"[Config] Center cropping of size {2*dH} x {2*dW} is enabled until iter {args.precrop_iters}\")                \n",
    "                else:\n",
    "                    coords = torch.stack(\n",
    "                        torch.meshgrid(torch.linspace(0, H-1, H), torch.linspace(0, W-1, W)), -1\n",
    "                    )  # (H, W, 2)\n",
    "\n",
    "                coords = torch.reshape(coords, [-1,2])                         # (H*W, 2)\n",
    "                select_inds = np.random.choice(coords.shape[0], size=[N_rand], replace=False)  # (N_rand,)\n",
    "                select_coords = coords[select_inds].long()                     # (N_rand, 2)\n",
    "                rays_o = rays_o[select_coords[:, 0], select_coords[:, 1]]      # (N_rand, 3)\n",
    "                rays_d = rays_d[select_coords[:, 0], select_coords[:, 1]]      # (N_rand, 3)\n",
    "                batch_rays = torch.stack([rays_o, rays_d], 0)\n",
    "                target_s = target[select_coords[:, 0], select_coords[:, 1]]    # (N_rand, 3)\n",
    "\n",
    "        # ---- Core rendering + loss ----\n",
    "        rgb, disp, acc, extras = render(\n",
    "            H, W, K, chunk=args.chunk, rays=batch_rays, verbose=i < 10, retraw=True, **render_kwargs_train\n",
    "        )\n",
    "\n",
    "        optimizer.zero_grad()\n",
    "        img_loss = img2mse(rgb, target_s)\n",
    "        trans = extras['raw'][...,-1]\n",
    "        loss = img_loss\n",
    "        psnr = mse2psnr(img_loss)\n",
    "\n",
    "        # If hierarchical sampling is enabled, include the coarse-pass loss\n",
    "        if 'rgb0' in extras:\n",
    "            img_loss0 = img2mse(extras['rgb0'], target_s)\n",
    "            loss = loss + img_loss0\n",
    "            psnr0 = mse2psnr(img_loss0)\n",
    "\n",
    "        loss.backward()\n",
    "        optimizer.step()\n",
    "\n",
    "        # --- Learning rate decay (exponential) ---\n",
    "        decay_rate = 0.1\n",
    "        decay_steps = args.lrate_decay * 1000\n",
    "        new_lrate = args.lrate * (decay_rate ** (global_step / decay_steps))\n",
    "        for param_group in optimizer.param_groups:\n",
    "            param_group['lr'] = new_lrate\n",
    "\n",
    "        dt = time.time()-time0\n",
    "        # print(f\"Step: {global_step}, Loss: {loss}, Time: {dt}\")\n",
    "\n",
    "        # ----------------------\n",
    "        # 8) Periodic logging, checkpointing, and visualization\n",
    "        # ----------------------\n",
    "        if i%args.i_weights==0:\n",
    "            # Save model checkpoints for resuming or analysis\n",
    "            path = os.path.join(basedir, expname, \"checkpoints\" ,'{:06d}.tar'.format(i))\n",
    "            torch.save({\n",
    "                'global_step': global_step,\n",
    "                'network_fn_state_dict': render_kwargs_train['network_fn'].state_dict(),\n",
    "                'network_fine_state_dict': render_kwargs_train['network_fine'].state_dict(),\n",
    "                'optimizer_state_dict': optimizer.state_dict(),\n",
    "            }, path)\n",
    "            print('Saved checkpoints at', path)\n",
    "\n",
    "        if i%args.i_video==0 and i > 0:\n",
    "            # Render a validation trajectory and write MP4 previews\n",
    "            with torch.no_grad():\n",
    "                rgbs, disps = render_path(render_poses, hwf, K, args.chunk, render_kwargs_test)\n",
    "            print('Done, saving', rgbs.shape, disps.shape)\n",
    "            moviebase = os.path.join(basedir, expname, '{}_spiral_{:06d}_'.format(expname, i))\n",
    "            imageio.mimwrite(moviebase + 'rgb.mp4', to8b(rgbs), fps=30, quality=8)\n",
    "            imageio.mimwrite(moviebase + 'disp.mp4', to8b(disps / np.max(disps)), fps=30, quality=8)\n",
    "\n",
    "            # If you want to visualize view-dependent effects, you can fix the camera position\n",
    "            # and vary only the view direction (see commented example in original code).\n",
    "\n",
    "        if i%args.i_testset==0 and i > 0:\n",
    "            # Render the held-out test set and save frames with comprehensive metrics\n",
    "            testsavedir = os.path.join(basedir, expname, 'testset_{:06d}'.format(i))\n",
    "            os.makedirs(testsavedir, exist_ok=True)\n",
    "\n",
    "            # Make metrics dir to store our metrics\n",
    "            metricsdir = os.path.join(basedir, expname, \"metrics\")\n",
    "            os.makedirs(metricsdir, exist_ok=True)\n",
    "            print('test poses shape', poses[i_test].shape)\n",
    "            \n",
    "            # Calculate whether to include LPIPS (slower, so maybe every 3rd evaluation)\n",
    "            # Count how many test evaluations we've done\n",
    "            test_eval_count = i // args.i_testset\n",
    "            # include_lpips = (test_eval_count % 3 == 0)  # Every 3rd test evaluation\n",
    "            include_lpips = True  # use true for now as its not that bad = the computation\n",
    "                        \n",
    "\n",
    "            # Alternative: Always include LPIPS (comment out above and uncomment below)\n",
    "            # include_lpips = True\n",
    "            \n",
    "            with torch.no_grad():\n",
    "                try:\n",
    "                    # Enhanced render with metrics calculation\n",
    "                    rgbs, disps, metrics = render_path(\n",
    "                        torch.Tensor(poses[i_test]).to(device), hwf, K, args.chunk,\n",
    "                        render_kwargs_test, \n",
    "                        gt_imgs=images[i_test], \n",
    "                        savedir=testsavedir,\n",
    "                        calculate_metrics=True,\n",
    "                        metrics_include_lpips=include_lpips,\n",
    "                        metrics_device=device\n",
    "                    )\n",
    "                    \n",
    "                    # Log metrics to both TXT and JSON formats\n",
    "                    import json\n",
    "                    import time as time_module\n",
    "                    \n",
    "                    # Text format (human readable)\n",
    "                    metrics_file_txt = os.path.join(basedir, expname, \"metrics\", f'metrics_{i:06d}.txt')\n",
    "                    with open(metrics_file_txt, 'w') as f:\n",
    "                        f.write(f\"Iteration: {i}\\n\")\n",
    "                        f.write(f\"Timestamp: {time_module.strftime('%Y-%m-%d %H:%M:%S')}\\n\")\n",
    "                        f.write(f\"LPIPS_included: {include_lpips}\\n\")\n",
    "                        f.write(\"-\" * 40 + \"\\n\")\n",
    "                        for key, value in metrics.items():\n",
    "                            f.write(f\"{key}: {value:.6f}\\n\")\n",
    "                    \n",
    "                    # JSON format (machine readable)\n",
    "                    metrics_file_json = os.path.join(basedir, expname, \"metrics\", f'metrics_{i:06d}.json')\n",
    "                    json_data = {\n",
    "                        'iteration': i,\n",
    "                        'timestamp': time_module.strftime('%Y-%m-%d %H:%M:%S'),\n",
    "                        'lpips_included': include_lpips,\n",
    "                        'metrics': {k: float(v) for k, v in metrics.items()}\n",
    "                    }\n",
    "                    with open(metrics_file_json, 'w') as f:\n",
    "                        json.dump(json_data, f, indent=2)\n",
    "                    \n",
    "                    # Append to consolidated training log\n",
    "                    training_log_file = os.path.join(basedir, expname, \"metrics\", 'training_metrics.json')\n",
    "                    if os.path.exists(training_log_file):\n",
    "                        with open(training_log_file, 'r') as f:\n",
    "                            training_log = json.load(f)\n",
    "                    else:\n",
    "                        training_log = {'experiment': expname, 'metrics_history': []}\n",
    "                    \n",
    "                    training_log['metrics_history'].append(json_data)\n",
    "                    with open(training_log_file, 'w') as f:\n",
    "                        json.dump(training_log, f, indent=2)\n",
    "                    \n",
    "                    print(f\"Metrics logged to: {metrics_file_txt} and {metrics_file_json}\")\n",
    "                    print(f\"Training history updated: {training_log_file}\")\n",
    "                    \n",
    "                except Exception as e:\n",
    "                    print(f\"Enhanced evaluation failed, using basic render: {e}\")\n",
    "                    # Fallback to basic rendering\n",
    "                    render_path(torch.Tensor(poses[i_test]).to(device), hwf, K, args.chunk,\n",
    "                               render_kwargs_test, gt_imgs=images[i_test], savedir=testsavedir)\n",
    "            \n",
    "            print('Saved test set with metrics')\n",
    "\n",
    "        if i%args.i_print==0:\n",
    "            tqdm.write(f\"[TRAIN] Iter: {i} Loss: {loss.item()}  PSNR: {psnr.item()}\")\n",
    "            \n",
    "            import json\n",
    "            import time as time_module\n",
    "            \n",
    "            # Save detailed training log\n",
    "            training_data = {\n",
    "                'iteration': i,\n",
    "                'timestamp': time_module.strftime('%Y-%m-%d %H:%M:%S'),\n",
    "                'loss': float(loss.item()),\n",
    "                'psnr': float(psnr.item()),\n",
    "                'learning_rate': optimizer.param_groups[0]['lr']\n",
    "            }\n",
    "            \n",
    "            # Add coarse loss if available\n",
    "            if 'rgb0' in extras:\n",
    "                training_data['loss_coarse'] = float(img_loss0.item())\n",
    "                training_data['psnr_coarse'] = float(psnr0.item())\n",
    "            \n",
    "            # Append to training log file\n",
    "            training_log_file = os.path.join(basedir, expname, 'training_log.jsonl')\n",
    "            with open(training_log_file, 'a') as f:\n",
    "                f.write(json.dumps(training_data) + '\\n')\n",
    "            \n",
    "            # Also save as CSV for easy analysis\n",
    "            csv_log_file = os.path.join(basedir, expname, 'training_log.csv')\n",
    "            import os\n",
    "            if not os.path.exists(csv_log_file):\n",
    "                # Create header\n",
    "                with open(csv_log_file, 'w') as f:\n",
    "                    headers = ['iteration', 'timestamp', 'loss', 'psnr', 'learning_rate']\n",
    "                    if 'rgb0' in extras:\n",
    "                        headers.extend(['loss_coarse', 'psnr_coarse'])\n",
    "                    f.write(','.join(headers) + '\\n')\n",
    "            \n",
    "            # Append data\n",
    "            with open(csv_log_file, 'a') as f:\n",
    "                row_data = [str(training_data[key]) for key in ['iteration', 'timestamp', 'loss', 'psnr', 'learning_rate']]\n",
    "                if 'rgb0' in extras:\n",
    "                    row_data.extend([str(training_data['loss_coarse']), str(training_data['psnr_coarse'])])\n",
    "                f.write(','.join(row_data) + '\\n')\n",
    "\n",
    "        global_step += 1"
   ]
  },
  {
   "cell_type": "markdown",
   "id": "b9ac403e",
   "metadata": {},
   "source": [
    "## Start Training"
   ]
  },
  {
   "cell_type": "code",
   "execution_count": 56,
   "id": "3c482509",
   "metadata": {},
   "outputs": [
    {
     "name": "stdout",
     "output_type": "stream",
     "text": [
      "Loaded blender (138, 800, 800, 4) torch.Size([40, 4, 4]) [800, 800, np.float64(1111.1110311937682)] ./data/nerf_synthetic/mic\n",
      "Found ckpts []\n",
      "Not ndc!\n",
      "Begin\n",
      "TRAIN views are [ 0  1  2  3  4  5  6  7  8  9 10 11 12 13 14 15 16 17 18 19 20 21 22 23\n",
      " 24 25 26 27 28 29 30 31 32 33 34 35 36 37 38 39 40 41 42 43 44 45 46 47\n",
      " 48 49 50 51 52 53 54 55 56 57 58 59 60 61 62 63 64 65 66 67 68 69 70 71\n",
      " 72 73 74 75 76 77 78 79 80 81 82 83 84 85 86 87 88 89 90 91 92 93 94 95\n",
      " 96 97 98 99]\n",
      "TEST views are [113 114 115 116 117 118 119 120 121 122 123 124 125 126 127 128 129 130\n",
      " 131 132 133 134 135 136 137]\n",
      "VAL views are [100 101 102 103 104 105 106 107 108 109 110 111 112]\n"
     ]
    },
    {
     "name": "stderr",
     "output_type": "stream",
     "text": [
      "  0%|          | 1/200000 [00:00<6:34:20,  8.45it/s]"
     ]
    },
    {
     "name": "stdout",
     "output_type": "stream",
     "text": [
      "[Config] Center cropping of size 400 x 400 is enabled until iter 500\n"
     ]
    },
    {
     "name": "stderr",
     "output_type": "stream",
     "text": [
      "  1%|          | 1001/200000 [02:00<6:53:44,  8.02it/s]"
     ]
    },
    {
     "name": "stdout",
     "output_type": "stream",
     "text": [
      "[TRAIN] Iter: 1000 Loss: 0.014120770618319511  PSNR: 21.608949661254883\n"
     ]
    },
    {
     "name": "stderr",
     "output_type": "stream",
     "text": [
      "  1%|          | 2001/200000 [04:08<6:58:44,  7.88it/s]"
     ]
    },
    {
     "name": "stdout",
     "output_type": "stream",
     "text": [
      "[TRAIN] Iter: 2000 Loss: 0.01866339147090912  PSNR: 21.204692840576172\n"
     ]
    },
    {
     "name": "stderr",
     "output_type": "stream",
     "text": [
      "  2%|▏         | 3001/200000 [06:23<9:00:53,  6.07it/s] "
     ]
    },
    {
     "name": "stdout",
     "output_type": "stream",
     "text": [
      "[TRAIN] Iter: 3000 Loss: 0.015380208380520344  PSNR: 22.684385299682617\n"
     ]
    },
    {
     "name": "stderr",
     "output_type": "stream",
     "text": [
      "  2%|▏         | 4001/200000 [08:59<7:48:48,  6.97it/s] "
     ]
    },
    {
     "name": "stdout",
     "output_type": "stream",
     "text": [
      "[TRAIN] Iter: 4000 Loss: 0.009721323847770691  PSNR: 25.399372100830078\n"
     ]
    },
    {
     "name": "stderr",
     "output_type": "stream",
     "text": [
      "  3%|▎         | 5001/200000 [11:36<8:33:42,  6.33it/s] "
     ]
    },
    {
     "name": "stdout",
     "output_type": "stream",
     "text": [
      "[TRAIN] Iter: 5000 Loss: 0.011432401835918427  PSNR: 24.361953735351562\n"
     ]
    },
    {
     "name": "stderr",
     "output_type": "stream",
     "text": [
      "  3%|▎         | 6001/200000 [14:16<8:20:35,  6.46it/s] "
     ]
    },
    {
     "name": "stdout",
     "output_type": "stream",
     "text": [
      "[TRAIN] Iter: 6000 Loss: 0.009449479170143604  PSNR: 24.662527084350586\n"
     ]
    },
    {
     "name": "stderr",
     "output_type": "stream",
     "text": [
      "  4%|▎         | 7001/200000 [16:56<8:19:37,  6.44it/s] "
     ]
    },
    {
     "name": "stdout",
     "output_type": "stream",
     "text": [
      "[TRAIN] Iter: 7000 Loss: 0.010929619893431664  PSNR: 25.018522262573242\n"
     ]
    },
    {
     "name": "stderr",
     "output_type": "stream",
     "text": [
      "  4%|▍         | 8001/200000 [19:37<8:30:58,  6.26it/s] "
     ]
    },
    {
     "name": "stdout",
     "output_type": "stream",
     "text": [
      "[TRAIN] Iter: 8000 Loss: 0.007743421941995621  PSNR: 27.285402297973633\n"
     ]
    },
    {
     "name": "stderr",
     "output_type": "stream",
     "text": [
      "  5%|▍         | 9001/200000 [22:18<8:18:37,  6.38it/s] "
     ]
    },
    {
     "name": "stdout",
     "output_type": "stream",
     "text": [
      "[TRAIN] Iter: 9000 Loss: 0.007525053806602955  PSNR: 27.256160736083984\n"
     ]
    },
    {
     "name": "stderr",
     "output_type": "stream",
     "text": [
      "  5%|▍         | 9999/200000 [24:56<6:34:12,  8.03it/s] "
     ]
    },
    {
     "name": "stdout",
     "output_type": "stream",
     "text": [
      "Saved checkpoints at ./logs\\mic_blender200k_fullres\\checkpoints\\010000.tar\n",
      "test poses shape torch.Size([25, 4, 4])\n"
     ]
    },
    {
     "name": "stderr",
     "output_type": "stream",
     "text": []
    },
    {
     "name": "stdout",
     "output_type": "stream",
     "text": [
      "0 0.002022266387939453\n"
     ]
    },
    {
     "name": "stderr",
     "output_type": "stream",
     "text": []
    },
    {
     "name": "stdout",
     "output_type": "stream",
     "text": [
      "torch.Size([800, 800, 3]) torch.Size([800, 800])\n",
      "Frame 0 - PSNR: 26.28, SSIM: 0.9361, LPIPS: 0.1056\n",
      "1 28.479068279266357\n"
     ]
    },
    {
     "name": "stderr",
     "output_type": "stream",
     "text": []
    },
    {
     "name": "stdout",
     "output_type": "stream",
     "text": [
      "Frame 1 - PSNR: 26.02, SSIM: 0.9339, LPIPS: 0.1145\n",
      "2 27.787234783172607\n"
     ]
    },
    {
     "name": "stderr",
     "output_type": "stream",
     "text": []
    },
    {
     "name": "stdout",
     "output_type": "stream",
     "text": [
      "Frame 2 - PSNR: 25.85, SSIM: 0.9321, LPIPS: 0.1149\n",
      "3 26.65183734893799\n"
     ]
    },
    {
     "name": "stderr",
     "output_type": "stream",
     "text": []
    },
    {
     "name": "stdout",
     "output_type": "stream",
     "text": [
      "Frame 3 - PSNR: 25.98, SSIM: 0.9323, LPIPS: 0.1194\n",
      "4 27.19745373725891\n"
     ]
    },
    {
     "name": "stderr",
     "output_type": "stream",
     "text": []
    },
    {
     "name": "stdout",
     "output_type": "stream",
     "text": [
      "Frame 4 - PSNR: 26.00, SSIM: 0.9328, LPIPS: 0.1180\n",
      "5 27.560157775878906\n"
     ]
    },
    {
     "name": "stderr",
     "output_type": "stream",
     "text": []
    },
    {
     "name": "stdout",
     "output_type": "stream",
     "text": [
      "Frame 5 - PSNR: 26.44, SSIM: 0.9383, LPIPS: 0.1065\n",
      "6 27.09868884086609\n"
     ]
    },
    {
     "name": "stderr",
     "output_type": "stream",
     "text": []
    },
    {
     "name": "stdout",
     "output_type": "stream",
     "text": [
      "Frame 6 - PSNR: 26.44, SSIM: 0.9499, LPIPS: 0.0824\n",
      "7 27.91694140434265\n"
     ]
    },
    {
     "name": "stderr",
     "output_type": "stream",
     "text": []
    },
    {
     "name": "stdout",
     "output_type": "stream",
     "text": [
      "Frame 7 - PSNR: 26.23, SSIM: 0.9401, LPIPS: 0.0867\n",
      "8 27.42408323287964\n"
     ]
    },
    {
     "name": "stderr",
     "output_type": "stream",
     "text": []
    },
    {
     "name": "stdout",
     "output_type": "stream",
     "text": [
      "Frame 8 - PSNR: 25.90, SSIM: 0.9317, LPIPS: 0.1071\n",
      "9 27.629317045211792\n"
     ]
    },
    {
     "name": "stderr",
     "output_type": "stream",
     "text": []
    },
    {
     "name": "stdout",
     "output_type": "stream",
     "text": [
      "Frame 9 - PSNR: 26.29, SSIM: 0.9368, LPIPS: 0.1065\n",
      "10 25.98964238166809\n"
     ]
    },
    {
     "name": "stderr",
     "output_type": "stream",
     "text": []
    },
    {
     "name": "stdout",
     "output_type": "stream",
     "text": [
      "Frame 10 - PSNR: 26.27, SSIM: 0.9384, LPIPS: 0.1086\n",
      "11 26.412996768951416\n"
     ]
    },
    {
     "name": "stderr",
     "output_type": "stream",
     "text": []
    },
    {
     "name": "stdout",
     "output_type": "stream",
     "text": [
      "Frame 11 - PSNR: 26.00, SSIM: 0.9398, LPIPS: 0.1103\n",
      "12 26.433642864227295\n"
     ]
    },
    {
     "name": "stderr",
     "output_type": "stream",
     "text": []
    },
    {
     "name": "stdout",
     "output_type": "stream",
     "text": [
      "Frame 12 - PSNR: 25.94, SSIM: 0.9477, LPIPS: 0.0908\n",
      "13 26.904956102371216\n"
     ]
    },
    {
     "name": "stderr",
     "output_type": "stream",
     "text": []
    },
    {
     "name": "stdout",
     "output_type": "stream",
     "text": [
      "Frame 13 - PSNR: 25.91, SSIM: 0.9450, LPIPS: 0.1012\n",
      "14 26.09230351448059\n"
     ]
    },
    {
     "name": "stderr",
     "output_type": "stream",
     "text": []
    },
    {
     "name": "stdout",
     "output_type": "stream",
     "text": [
      "Frame 14 - PSNR: 25.56, SSIM: 0.9367, LPIPS: 0.1120\n",
      "15 26.289759159088135\n"
     ]
    },
    {
     "name": "stderr",
     "output_type": "stream",
     "text": []
    },
    {
     "name": "stdout",
     "output_type": "stream",
     "text": [
      "Frame 15 - PSNR: 25.74, SSIM: 0.9348, LPIPS: 0.1199\n",
      "16 26.042672634124756\n"
     ]
    },
    {
     "name": "stderr",
     "output_type": "stream",
     "text": []
    },
    {
     "name": "stdout",
     "output_type": "stream",
     "text": [
      "Frame 16 - PSNR: 25.71, SSIM: 0.9365, LPIPS: 0.1163\n",
      "17 25.76688003540039\n"
     ]
    },
    {
     "name": "stderr",
     "output_type": "stream",
     "text": []
    },
    {
     "name": "stdout",
     "output_type": "stream",
     "text": [
      "Frame 17 - PSNR: 26.40, SSIM: 0.9382, LPIPS: 0.1098\n",
      "18 25.703426122665405\n"
     ]
    },
    {
     "name": "stderr",
     "output_type": "stream",
     "text": []
    },
    {
     "name": "stdout",
     "output_type": "stream",
     "text": [
      "Frame 18 - PSNR: 26.82, SSIM: 0.9435, LPIPS: 0.0980\n",
      "19 25.455296993255615\n"
     ]
    },
    {
     "name": "stderr",
     "output_type": "stream",
     "text": []
    },
    {
     "name": "stdout",
     "output_type": "stream",
     "text": [
      "Frame 19 - PSNR: 26.24, SSIM: 0.9510, LPIPS: 0.0741\n",
      "20 25.340555667877197\n"
     ]
    },
    {
     "name": "stderr",
     "output_type": "stream",
     "text": []
    },
    {
     "name": "stdout",
     "output_type": "stream",
     "text": [
      "Frame 20 - PSNR: 26.43, SSIM: 0.9345, LPIPS: 0.1026\n",
      "21 25.389419078826904\n"
     ]
    },
    {
     "name": "stderr",
     "output_type": "stream",
     "text": []
    },
    {
     "name": "stdout",
     "output_type": "stream",
     "text": [
      "Frame 21 - PSNR: 25.81, SSIM: 0.9298, LPIPS: 0.1145\n",
      "22 25.365171909332275\n"
     ]
    },
    {
     "name": "stderr",
     "output_type": "stream",
     "text": []
    },
    {
     "name": "stdout",
     "output_type": "stream",
     "text": [
      "Frame 22 - PSNR: 25.96, SSIM: 0.9325, LPIPS: 0.1177\n",
      "23 25.49853777885437\n"
     ]
    },
    {
     "name": "stderr",
     "output_type": "stream",
     "text": []
    },
    {
     "name": "stdout",
     "output_type": "stream",
     "text": [
      "Frame 23 - PSNR: 25.62, SSIM: 0.9315, LPIPS: 0.1167\n",
      "24 25.448636531829834\n"
     ]
    },
    {
     "name": "stderr",
     "output_type": "stream",
     "text": [
      "100%|██████████| 25/25 [11:02<00:00, 26.48s/it]\n",
      "  5%|▌         | 10000/200000 [35:58<10490:46:36, 198.77s/it]"
     ]
    },
    {
     "name": "stdout",
     "output_type": "stream",
     "text": [
      "Frame 24 - PSNR: 26.07, SSIM: 0.9334, LPIPS: 0.1076\n",
      "\n",
      "=== METRICS SUMMARY ===\n",
      "Average PSNR: 26.0760 ± 0.2950\n",
      "Average SSIM: 0.9375 ± 0.0057\n",
      "Average LPIPS: 0.1065 ± 0.0117\n",
      "=======================\n",
      "Metrics logged to: ./logs\\mic_blender200k_fullres\\metrics\\metrics_010000.txt and ./logs\\mic_blender200k_fullres\\metrics\\metrics_010000.json\n",
      "Training history updated: ./logs\\mic_blender200k_fullres\\metrics\\training_metrics.json\n",
      "Saved test set with metrics\n",
      "[TRAIN] Iter: 10000 Loss: 0.008979851379990578  PSNR: 25.159481048583984\n"
     ]
    },
    {
     "name": "stderr",
     "output_type": "stream",
     "text": [
      "  6%|▌         | 11001/200000 [37:56<6:09:17,  8.53it/s]     "
     ]
    },
    {
     "name": "stdout",
     "output_type": "stream",
     "text": [
      "[TRAIN] Iter: 11000 Loss: 0.007579518482089043  PSNR: 26.09090805053711\n"
     ]
    },
    {
     "name": "stderr",
     "output_type": "stream",
     "text": [
      "  6%|▌         | 12001/200000 [39:53<6:05:11,  8.58it/s]"
     ]
    },
    {
     "name": "stdout",
     "output_type": "stream",
     "text": [
      "[TRAIN] Iter: 12000 Loss: 0.009725118055939674  PSNR: 26.54831314086914\n"
     ]
    },
    {
     "name": "stderr",
     "output_type": "stream",
     "text": [
      "  7%|▋         | 13001/200000 [41:52<6:26:38,  8.06it/s]"
     ]
    },
    {
     "name": "stdout",
     "output_type": "stream",
     "text": [
      "[TRAIN] Iter: 13000 Loss: 0.00806364230811596  PSNR: 25.553430557250977\n"
     ]
    },
    {
     "name": "stderr",
     "output_type": "stream",
     "text": [
      "  7%|▋         | 14001/200000 [44:23<10:13:06,  5.06it/s]"
     ]
    },
    {
     "name": "stdout",
     "output_type": "stream",
     "text": [
      "[TRAIN] Iter: 14000 Loss: 0.006606599316000938  PSNR: 27.59564781188965\n"
     ]
    },
    {
     "name": "stderr",
     "output_type": "stream",
     "text": [
      "  8%|▊         | 15001/200000 [47:14<8:31:46,  6.02it/s] "
     ]
    },
    {
     "name": "stdout",
     "output_type": "stream",
     "text": [
      "[TRAIN] Iter: 15000 Loss: 0.007438824977725744  PSNR: 25.35590362548828\n"
     ]
    },
    {
     "name": "stderr",
     "output_type": "stream",
     "text": [
      "  8%|▊         | 16001/200000 [50:01<9:23:50,  5.44it/s] "
     ]
    },
    {
     "name": "stdout",
     "output_type": "stream",
     "text": [
      "[TRAIN] Iter: 16000 Loss: 0.006708204280585051  PSNR: 27.221569061279297\n"
     ]
    },
    {
     "name": "stderr",
     "output_type": "stream",
     "text": [
      "  9%|▊         | 17001/200000 [52:56<8:09:23,  6.23it/s] "
     ]
    },
    {
     "name": "stdout",
     "output_type": "stream",
     "text": [
      "[TRAIN] Iter: 17000 Loss: 0.005730061791837215  PSNR: 27.267749786376953\n"
     ]
    },
    {
     "name": "stderr",
     "output_type": "stream",
     "text": [
      "  9%|▉         | 18001/200000 [55:43<8:47:16,  5.75it/s] "
     ]
    },
    {
     "name": "stdout",
     "output_type": "stream",
     "text": [
      "[TRAIN] Iter: 18000 Loss: 0.005257812328636646  PSNR: 26.603309631347656\n"
     ]
    },
    {
     "name": "stderr",
     "output_type": "stream",
     "text": [
      " 10%|▉         | 19001/200000 [58:33<8:45:34,  5.74it/s] "
     ]
    },
    {
     "name": "stdout",
     "output_type": "stream",
     "text": [
      "[TRAIN] Iter: 19000 Loss: 0.007089315913617611  PSNR: 25.201574325561523\n"
     ]
    },
    {
     "name": "stderr",
     "output_type": "stream",
     "text": [
      " 10%|▉         | 19999/200000 [1:01:29<10:01:13,  4.99it/s]"
     ]
    },
    {
     "name": "stdout",
     "output_type": "stream",
     "text": [
      "Saved checkpoints at ./logs\\mic_blender200k_fullres\\checkpoints\\020000.tar\n",
      "test poses shape torch.Size([25, 4, 4])\n"
     ]
    },
    {
     "name": "stderr",
     "output_type": "stream",
     "text": []
    },
    {
     "name": "stdout",
     "output_type": "stream",
     "text": [
      "0 0.0024237632751464844\n"
     ]
    },
    {
     "name": "stderr",
     "output_type": "stream",
     "text": []
    },
    {
     "name": "stdout",
     "output_type": "stream",
     "text": [
      "torch.Size([800, 800, 3]) torch.Size([800, 800])\n",
      "Frame 0 - PSNR: 27.47, SSIM: 0.9470, LPIPS: 0.0846\n",
      "1 29.539083003997803\n"
     ]
    },
    {
     "name": "stderr",
     "output_type": "stream",
     "text": []
    },
    {
     "name": "stdout",
     "output_type": "stream",
     "text": [
      "Frame 1 - PSNR: 27.52, SSIM: 0.9462, LPIPS: 0.0873\n",
      "2 26.903545379638672\n"
     ]
    },
    {
     "name": "stderr",
     "output_type": "stream",
     "text": []
    },
    {
     "name": "stdout",
     "output_type": "stream",
     "text": [
      "Frame 2 - PSNR: 26.79, SSIM: 0.9419, LPIPS: 0.0934\n",
      "3 26.54109215736389\n"
     ]
    },
    {
     "name": "stderr",
     "output_type": "stream",
     "text": []
    },
    {
     "name": "stdout",
     "output_type": "stream",
     "text": [
      "Frame 3 - PSNR: 26.91, SSIM: 0.9416, LPIPS: 0.1023\n",
      "4 27.41155767440796\n"
     ]
    },
    {
     "name": "stderr",
     "output_type": "stream",
     "text": []
    },
    {
     "name": "stdout",
     "output_type": "stream",
     "text": [
      "Frame 4 - PSNR: 27.19, SSIM: 0.9419, LPIPS: 0.0994\n",
      "5 28.283894538879395\n"
     ]
    },
    {
     "name": "stderr",
     "output_type": "stream",
     "text": []
    },
    {
     "name": "stdout",
     "output_type": "stream",
     "text": [
      "Frame 5 - PSNR: 27.52, SSIM: 0.9473, LPIPS: 0.0842\n",
      "6 28.585628271102905\n"
     ]
    },
    {
     "name": "stderr",
     "output_type": "stream",
     "text": []
    },
    {
     "name": "stdout",
     "output_type": "stream",
     "text": [
      "Frame 6 - PSNR: 27.35, SSIM: 0.9570, LPIPS: 0.0618\n",
      "7 32.57823634147644\n"
     ]
    },
    {
     "name": "stderr",
     "output_type": "stream",
     "text": []
    },
    {
     "name": "stdout",
     "output_type": "stream",
     "text": [
      "Frame 7 - PSNR: 27.34, SSIM: 0.9481, LPIPS: 0.0660\n",
      "8 38.51948928833008\n"
     ]
    },
    {
     "name": "stderr",
     "output_type": "stream",
     "text": []
    },
    {
     "name": "stdout",
     "output_type": "stream",
     "text": [
      "Frame 8 - PSNR: 26.74, SSIM: 0.9394, LPIPS: 0.0829\n",
      "9 38.77778625488281\n"
     ]
    },
    {
     "name": "stderr",
     "output_type": "stream",
     "text": []
    },
    {
     "name": "stdout",
     "output_type": "stream",
     "text": [
      "Frame 9 - PSNR: 27.14, SSIM: 0.9452, LPIPS: 0.0901\n",
      "10 38.5838189125061\n"
     ]
    },
    {
     "name": "stderr",
     "output_type": "stream",
     "text": []
    },
    {
     "name": "stdout",
     "output_type": "stream",
     "text": [
      "Frame 10 - PSNR: 27.31, SSIM: 0.9485, LPIPS: 0.0895\n",
      "11 38.07701921463013\n"
     ]
    },
    {
     "name": "stderr",
     "output_type": "stream",
     "text": []
    },
    {
     "name": "stdout",
     "output_type": "stream",
     "text": [
      "Frame 11 - PSNR: 27.33, SSIM: 0.9501, LPIPS: 0.0836\n",
      "12 38.0674512386322\n"
     ]
    },
    {
     "name": "stderr",
     "output_type": "stream",
     "text": []
    },
    {
     "name": "stdout",
     "output_type": "stream",
     "text": [
      "Frame 12 - PSNR: 26.99, SSIM: 0.9562, LPIPS: 0.0716\n",
      "13 38.77861714363098\n"
     ]
    },
    {
     "name": "stderr",
     "output_type": "stream",
     "text": []
    },
    {
     "name": "stdout",
     "output_type": "stream",
     "text": [
      "Frame 13 - PSNR: 27.15, SSIM: 0.9536, LPIPS: 0.0760\n",
      "14 37.60349440574646\n"
     ]
    },
    {
     "name": "stderr",
     "output_type": "stream",
     "text": []
    },
    {
     "name": "stdout",
     "output_type": "stream",
     "text": [
      "Frame 14 - PSNR: 27.10, SSIM: 0.9467, LPIPS: 0.0942\n",
      "15 38.77348875999451\n"
     ]
    },
    {
     "name": "stderr",
     "output_type": "stream",
     "text": []
    },
    {
     "name": "stdout",
     "output_type": "stream",
     "text": [
      "Frame 15 - PSNR: 27.39, SSIM: 0.9446, LPIPS: 0.0976\n",
      "16 38.605456829071045\n"
     ]
    },
    {
     "name": "stderr",
     "output_type": "stream",
     "text": []
    },
    {
     "name": "stdout",
     "output_type": "stream",
     "text": [
      "Frame 16 - PSNR: 27.09, SSIM: 0.9441, LPIPS: 0.0978\n",
      "17 38.755532026290894\n"
     ]
    },
    {
     "name": "stderr",
     "output_type": "stream",
     "text": []
    },
    {
     "name": "stdout",
     "output_type": "stream",
     "text": [
      "Frame 17 - PSNR: 27.42, SSIM: 0.9459, LPIPS: 0.0895\n",
      "18 39.190402030944824\n"
     ]
    },
    {
     "name": "stderr",
     "output_type": "stream",
     "text": []
    },
    {
     "name": "stdout",
     "output_type": "stream",
     "text": [
      "Frame 18 - PSNR: 27.95, SSIM: 0.9521, LPIPS: 0.0744\n",
      "19 39.49002456665039\n"
     ]
    },
    {
     "name": "stderr",
     "output_type": "stream",
     "text": []
    },
    {
     "name": "stdout",
     "output_type": "stream",
     "text": [
      "Frame 19 - PSNR: 27.17, SSIM: 0.9586, LPIPS: 0.0560\n",
      "20 39.09514307975769\n"
     ]
    },
    {
     "name": "stderr",
     "output_type": "stream",
     "text": []
    },
    {
     "name": "stdout",
     "output_type": "stream",
     "text": [
      "Frame 20 - PSNR: 27.13, SSIM: 0.9423, LPIPS: 0.0757\n",
      "21 38.700960874557495\n"
     ]
    },
    {
     "name": "stderr",
     "output_type": "stream",
     "text": []
    },
    {
     "name": "stdout",
     "output_type": "stream",
     "text": [
      "Frame 21 - PSNR: 26.83, SSIM: 0.9396, LPIPS: 0.0897\n",
      "22 38.2653694152832\n"
     ]
    },
    {
     "name": "stderr",
     "output_type": "stream",
     "text": []
    },
    {
     "name": "stdout",
     "output_type": "stream",
     "text": [
      "Frame 22 - PSNR: 26.87, SSIM: 0.9417, LPIPS: 0.0946\n",
      "23 38.52231812477112\n"
     ]
    },
    {
     "name": "stderr",
     "output_type": "stream",
     "text": []
    },
    {
     "name": "stdout",
     "output_type": "stream",
     "text": [
      "Frame 23 - PSNR: 26.86, SSIM: 0.9429, LPIPS: 0.0897\n",
      "24 37.6927444934845\n"
     ]
    },
    {
     "name": "stderr",
     "output_type": "stream",
     "text": [
      "100%|██████████| 25/25 [14:54<00:00, 35.78s/it]\n",
      " 10%|█         | 20000/200000 [1:16:24<13430:59:05, 268.62s/it]"
     ]
    },
    {
     "name": "stdout",
     "output_type": "stream",
     "text": [
      "Frame 24 - PSNR: 27.45, SSIM: 0.9455, LPIPS: 0.0826\n",
      "\n",
      "=== METRICS SUMMARY ===\n",
      "Average PSNR: 27.2001 ± 0.2799\n",
      "Average SSIM: 0.9467 ± 0.0052\n",
      "Average LPIPS: 0.0846 ± 0.0117\n",
      "=======================\n",
      "Metrics logged to: ./logs\\mic_blender200k_fullres\\metrics\\metrics_020000.txt and ./logs\\mic_blender200k_fullres\\metrics\\metrics_020000.json\n",
      "Training history updated: ./logs\\mic_blender200k_fullres\\metrics\\training_metrics.json\n",
      "Saved test set with metrics\n",
      "[TRAIN] Iter: 20000 Loss: 0.006969064939767122  PSNR: 27.836267471313477\n"
     ]
    },
    {
     "name": "stderr",
     "output_type": "stream",
     "text": [
      " 11%|█         | 21001/200000 [1:19:16<8:47:01,  5.66it/s]     "
     ]
    },
    {
     "name": "stdout",
     "output_type": "stream",
     "text": [
      "[TRAIN] Iter: 21000 Loss: 0.006988056004047394  PSNR: 28.499296188354492\n"
     ]
    },
    {
     "name": "stderr",
     "output_type": "stream",
     "text": [
      " 11%|█         | 22001/200000 [1:22:04<7:54:56,  6.25it/s] "
     ]
    },
    {
     "name": "stdout",
     "output_type": "stream",
     "text": [
      "[TRAIN] Iter: 22000 Loss: 0.006506063975393772  PSNR: 26.136821746826172\n"
     ]
    },
    {
     "name": "stderr",
     "output_type": "stream",
     "text": [
      " 12%|█▏        | 23001/200000 [1:24:53<8:58:00,  5.48it/s] "
     ]
    },
    {
     "name": "stdout",
     "output_type": "stream",
     "text": [
      "[TRAIN] Iter: 23000 Loss: 0.00513084139674902  PSNR: 28.3203067779541\n"
     ]
    },
    {
     "name": "stderr",
     "output_type": "stream",
     "text": [
      " 12%|█▏        | 24001/200000 [1:27:18<6:12:52,  7.87it/s] "
     ]
    },
    {
     "name": "stdout",
     "output_type": "stream",
     "text": [
      "[TRAIN] Iter: 24000 Loss: 0.005242771003395319  PSNR: 27.474512100219727\n"
     ]
    },
    {
     "name": "stderr",
     "output_type": "stream",
     "text": [
      " 13%|█▎        | 25001/200000 [1:29:28<7:51:53,  6.18it/s]"
     ]
    },
    {
     "name": "stdout",
     "output_type": "stream",
     "text": [
      "[TRAIN] Iter: 25000 Loss: 0.004990731831640005  PSNR: 29.273731231689453\n"
     ]
    },
    {
     "name": "stderr",
     "output_type": "stream",
     "text": [
      " 13%|█▎        | 26001/200000 [1:32:00<8:11:57,  5.89it/s] "
     ]
    },
    {
     "name": "stdout",
     "output_type": "stream",
     "text": [
      "[TRAIN] Iter: 26000 Loss: 0.006240389309823513  PSNR: 26.79677391052246\n"
     ]
    },
    {
     "name": "stderr",
     "output_type": "stream",
     "text": [
      " 14%|█▎        | 27001/200000 [1:34:34<7:01:00,  6.85it/s]"
     ]
    },
    {
     "name": "stdout",
     "output_type": "stream",
     "text": [
      "[TRAIN] Iter: 27000 Loss: 0.0030009974725544453  PSNR: 31.85622215270996\n"
     ]
    },
    {
     "name": "stderr",
     "output_type": "stream",
     "text": [
      " 14%|█▍        | 28001/200000 [1:37:11<7:58:34,  5.99it/s] "
     ]
    },
    {
     "name": "stdout",
     "output_type": "stream",
     "text": [
      "[TRAIN] Iter: 28000 Loss: 0.004141216166317463  PSNR: 28.616846084594727\n"
     ]
    },
    {
     "name": "stderr",
     "output_type": "stream",
     "text": [
      " 15%|█▍        | 29001/200000 [1:39:47<7:02:29,  6.75it/s]"
     ]
    },
    {
     "name": "stdout",
     "output_type": "stream",
     "text": [
      "[TRAIN] Iter: 29000 Loss: 0.005316806957125664  PSNR: 26.67434310913086\n"
     ]
    },
    {
     "name": "stderr",
     "output_type": "stream",
     "text": [
      " 15%|█▍        | 29999/200000 [1:42:20<7:34:27,  6.23it/s]"
     ]
    },
    {
     "name": "stdout",
     "output_type": "stream",
     "text": [
      "Saved checkpoints at ./logs\\mic_blender200k_fullres\\checkpoints\\030000.tar\n",
      "test poses shape torch.Size([25, 4, 4])\n"
     ]
    },
    {
     "name": "stderr",
     "output_type": "stream",
     "text": []
    },
    {
     "name": "stdout",
     "output_type": "stream",
     "text": [
      "0 0.0017611980438232422\n"
     ]
    },
    {
     "name": "stderr",
     "output_type": "stream",
     "text": []
    },
    {
     "name": "stdout",
     "output_type": "stream",
     "text": [
      "torch.Size([800, 800, 3]) torch.Size([800, 800])\n",
      "Frame 0 - PSNR: 28.70, SSIM: 0.9537, LPIPS: 0.0761\n",
      "1 33.75546193122864\n"
     ]
    },
    {
     "name": "stderr",
     "output_type": "stream",
     "text": []
    },
    {
     "name": "stdout",
     "output_type": "stream",
     "text": [
      "Frame 1 - PSNR: 28.52, SSIM: 0.9522, LPIPS: 0.0775\n",
      "2 34.88658666610718\n"
     ]
    },
    {
     "name": "stderr",
     "output_type": "stream",
     "text": []
    },
    {
     "name": "stdout",
     "output_type": "stream",
     "text": [
      "Frame 2 - PSNR: 27.78, SSIM: 0.9480, LPIPS: 0.0833\n",
      "3 34.88892674446106\n"
     ]
    },
    {
     "name": "stderr",
     "output_type": "stream",
     "text": []
    },
    {
     "name": "stdout",
     "output_type": "stream",
     "text": [
      "Frame 3 - PSNR: 28.00, SSIM: 0.9485, LPIPS: 0.0910\n",
      "4 34.34740495681763\n"
     ]
    },
    {
     "name": "stderr",
     "output_type": "stream",
     "text": []
    },
    {
     "name": "stdout",
     "output_type": "stream",
     "text": [
      "Frame 4 - PSNR: 27.84, SSIM: 0.9474, LPIPS: 0.0909\n",
      "5 37.20509934425354\n"
     ]
    },
    {
     "name": "stderr",
     "output_type": "stream",
     "text": []
    },
    {
     "name": "stdout",
     "output_type": "stream",
     "text": [
      "Frame 5 - PSNR: 28.00, SSIM: 0.9507, LPIPS: 0.0804\n",
      "6 37.25758171081543\n"
     ]
    },
    {
     "name": "stderr",
     "output_type": "stream",
     "text": []
    },
    {
     "name": "stdout",
     "output_type": "stream",
     "text": [
      "Frame 6 - PSNR: 27.92, SSIM: 0.9606, LPIPS: 0.0606\n",
      "7 33.735254526138306\n"
     ]
    },
    {
     "name": "stderr",
     "output_type": "stream",
     "text": []
    },
    {
     "name": "stdout",
     "output_type": "stream",
     "text": [
      "Frame 7 - PSNR: 27.90, SSIM: 0.9521, LPIPS: 0.0647\n",
      "8 34.38577842712402\n"
     ]
    },
    {
     "name": "stderr",
     "output_type": "stream",
     "text": []
    },
    {
     "name": "stdout",
     "output_type": "stream",
     "text": [
      "Frame 8 - PSNR: 27.70, SSIM: 0.9446, LPIPS: 0.0824\n",
      "9 36.905182123184204\n"
     ]
    },
    {
     "name": "stderr",
     "output_type": "stream",
     "text": []
    },
    {
     "name": "stdout",
     "output_type": "stream",
     "text": [
      "Frame 9 - PSNR: 28.16, SSIM: 0.9506, LPIPS: 0.0838\n",
      "10 34.92266631126404\n"
     ]
    },
    {
     "name": "stderr",
     "output_type": "stream",
     "text": []
    },
    {
     "name": "stdout",
     "output_type": "stream",
     "text": [
      "Frame 10 - PSNR: 28.73, SSIM: 0.9550, LPIPS: 0.0818\n",
      "11 35.48806715011597\n"
     ]
    },
    {
     "name": "stderr",
     "output_type": "stream",
     "text": []
    },
    {
     "name": "stdout",
     "output_type": "stream",
     "text": [
      "Frame 11 - PSNR: 28.87, SSIM: 0.9582, LPIPS: 0.0767\n",
      "12 34.303855895996094\n"
     ]
    },
    {
     "name": "stderr",
     "output_type": "stream",
     "text": []
    },
    {
     "name": "stdout",
     "output_type": "stream",
     "text": [
      "Frame 12 - PSNR: 28.63, SSIM: 0.9643, LPIPS: 0.0650\n",
      "13 34.77609610557556\n"
     ]
    },
    {
     "name": "stderr",
     "output_type": "stream",
     "text": []
    },
    {
     "name": "stdout",
     "output_type": "stream",
     "text": [
      "Frame 13 - PSNR: 28.95, SSIM: 0.9632, LPIPS: 0.0688\n",
      "14 35.21035099029541\n"
     ]
    },
    {
     "name": "stderr",
     "output_type": "stream",
     "text": []
    },
    {
     "name": "stdout",
     "output_type": "stream",
     "text": [
      "Frame 14 - PSNR: 28.65, SSIM: 0.9549, LPIPS: 0.0844\n",
      "15 34.69439435005188\n"
     ]
    },
    {
     "name": "stderr",
     "output_type": "stream",
     "text": []
    },
    {
     "name": "stdout",
     "output_type": "stream",
     "text": [
      "Frame 15 - PSNR: 28.52, SSIM: 0.9505, LPIPS: 0.0898\n",
      "16 35.58843374252319\n"
     ]
    },
    {
     "name": "stderr",
     "output_type": "stream",
     "text": []
    },
    {
     "name": "stdout",
     "output_type": "stream",
     "text": [
      "Frame 16 - PSNR: 28.19, SSIM: 0.9514, LPIPS: 0.0892\n",
      "17 37.1631920337677\n"
     ]
    },
    {
     "name": "stderr",
     "output_type": "stream",
     "text": []
    },
    {
     "name": "stdout",
     "output_type": "stream",
     "text": [
      "Frame 17 - PSNR: 28.03, SSIM: 0.9503, LPIPS: 0.0829\n",
      "18 33.87943172454834\n"
     ]
    },
    {
     "name": "stderr",
     "output_type": "stream",
     "text": []
    },
    {
     "name": "stdout",
     "output_type": "stream",
     "text": [
      "Frame 18 - PSNR: 28.39, SSIM: 0.9557, LPIPS: 0.0682\n",
      "19 34.1157648563385\n"
     ]
    },
    {
     "name": "stderr",
     "output_type": "stream",
     "text": []
    },
    {
     "name": "stdout",
     "output_type": "stream",
     "text": [
      "Frame 19 - PSNR: 27.60, SSIM: 0.9611, LPIPS: 0.0545\n",
      "20 37.52097153663635\n"
     ]
    },
    {
     "name": "stderr",
     "output_type": "stream",
     "text": []
    },
    {
     "name": "stdout",
     "output_type": "stream",
     "text": [
      "Frame 20 - PSNR: 27.71, SSIM: 0.9459, LPIPS: 0.0740\n",
      "21 26.882075786590576\n"
     ]
    },
    {
     "name": "stderr",
     "output_type": "stream",
     "text": []
    },
    {
     "name": "stdout",
     "output_type": "stream",
     "text": [
      "Frame 21 - PSNR: 27.35, SSIM: 0.9435, LPIPS: 0.0880\n",
      "22 27.174662113189697\n"
     ]
    },
    {
     "name": "stderr",
     "output_type": "stream",
     "text": []
    },
    {
     "name": "stdout",
     "output_type": "stream",
     "text": [
      "Frame 22 - PSNR: 27.54, SSIM: 0.9463, LPIPS: 0.0864\n",
      "23 27.001729011535645\n"
     ]
    },
    {
     "name": "stderr",
     "output_type": "stream",
     "text": []
    },
    {
     "name": "stdout",
     "output_type": "stream",
     "text": [
      "Frame 23 - PSNR: 27.62, SSIM: 0.9474, LPIPS: 0.0851\n",
      "24 25.47343873977661\n"
     ]
    },
    {
     "name": "stderr",
     "output_type": "stream",
     "text": [
      "100%|██████████| 25/25 [13:57<00:00, 33.49s/it]\n",
      " 15%|█▌        | 30001/200000 [1:56:18<8310:31:02, 175.99s/it] "
     ]
    },
    {
     "name": "stdout",
     "output_type": "stream",
     "text": [
      "Frame 24 - PSNR: 28.40, SSIM: 0.9508, LPIPS: 0.0747\n",
      "\n",
      "=== METRICS SUMMARY ===\n",
      "Average PSNR: 28.1481 ± 0.4508\n",
      "Average SSIM: 0.9523 ± 0.0056\n",
      "Average LPIPS: 0.0784 ± 0.0098\n",
      "=======================\n",
      "Metrics logged to: ./logs\\mic_blender200k_fullres\\metrics\\metrics_030000.txt and ./logs\\mic_blender200k_fullres\\metrics\\metrics_030000.json\n",
      "Training history updated: ./logs\\mic_blender200k_fullres\\metrics\\training_metrics.json\n",
      "Saved test set with metrics\n",
      "[TRAIN] Iter: 30000 Loss: 0.005673351231962442  PSNR: 27.435699462890625\n"
     ]
    },
    {
     "name": "stderr",
     "output_type": "stream",
     "text": [
      " 16%|█▌        | 31001/200000 [1:58:15<5:28:15,  8.58it/s]    "
     ]
    },
    {
     "name": "stdout",
     "output_type": "stream",
     "text": [
      "[TRAIN] Iter: 31000 Loss: 0.0048591215163469315  PSNR: 28.18191146850586\n"
     ]
    },
    {
     "name": "stderr",
     "output_type": "stream",
     "text": [
      " 16%|█▌        | 32000/200000 [2:00:12<5:30:37,  8.47it/s]"
     ]
    },
    {
     "name": "stdout",
     "output_type": "stream",
     "text": [
      "[TRAIN] Iter: 32000 Loss: 0.004773203283548355  PSNR: 28.245407104492188\n"
     ]
    },
    {
     "name": "stderr",
     "output_type": "stream",
     "text": [
      " 17%|█▋        | 33001/200000 [2:02:05<5:13:20,  8.88it/s]"
     ]
    },
    {
     "name": "stdout",
     "output_type": "stream",
     "text": [
      "[TRAIN] Iter: 33000 Loss: 0.003800929756835103  PSNR: 28.90276336669922\n"
     ]
    },
    {
     "name": "stderr",
     "output_type": "stream",
     "text": [
      " 17%|█▋        | 34000/200000 [2:03:58<5:24:03,  8.54it/s]"
     ]
    },
    {
     "name": "stdout",
     "output_type": "stream",
     "text": [
      "[TRAIN] Iter: 34000 Loss: 0.004158653784543276  PSNR: 30.314252853393555\n"
     ]
    },
    {
     "name": "stderr",
     "output_type": "stream",
     "text": [
      " 18%|█▊        | 35001/200000 [2:05:51<5:10:26,  8.86it/s]"
     ]
    },
    {
     "name": "stdout",
     "output_type": "stream",
     "text": [
      "[TRAIN] Iter: 35000 Loss: 0.004959671292454004  PSNR: 28.76893424987793\n"
     ]
    },
    {
     "name": "stderr",
     "output_type": "stream",
     "text": [
      " 18%|█▊        | 36000/200000 [2:07:43<5:18:31,  8.58it/s]"
     ]
    },
    {
     "name": "stdout",
     "output_type": "stream",
     "text": [
      "[TRAIN] Iter: 36000 Loss: 0.002410902874544263  PSNR: 30.264041900634766\n"
     ]
    },
    {
     "name": "stderr",
     "output_type": "stream",
     "text": [
      " 19%|█▊        | 37001/200000 [2:09:35<5:06:10,  8.87it/s]"
     ]
    },
    {
     "name": "stdout",
     "output_type": "stream",
     "text": [
      "[TRAIN] Iter: 37000 Loss: 0.003315350040793419  PSNR: 29.729381561279297\n"
     ]
    },
    {
     "name": "stderr",
     "output_type": "stream",
     "text": [
      " 19%|█▉        | 38002/200000 [2:11:24<4:49:07,  9.34it/s]"
     ]
    },
    {
     "name": "stdout",
     "output_type": "stream",
     "text": [
      "[TRAIN] Iter: 38000 Loss: 0.004645367152988911  PSNR: 29.06282615661621\n"
     ]
    },
    {
     "name": "stderr",
     "output_type": "stream",
     "text": [
      " 20%|█▉        | 39000/200000 [2:13:11<4:56:19,  9.06it/s]"
     ]
    },
    {
     "name": "stdout",
     "output_type": "stream",
     "text": [
      "[TRAIN] Iter: 39000 Loss: 0.003498620120808482  PSNR: 28.95012855529785\n"
     ]
    },
    {
     "name": "stderr",
     "output_type": "stream",
     "text": [
      " 20%|█▉        | 39999/200000 [2:14:58<4:47:41,  9.27it/s]"
     ]
    },
    {
     "name": "stdout",
     "output_type": "stream",
     "text": [
      "Saved checkpoints at ./logs\\mic_blender200k_fullres\\checkpoints\\040000.tar\n",
      "test poses shape torch.Size([25, 4, 4])\n"
     ]
    },
    {
     "name": "stderr",
     "output_type": "stream",
     "text": []
    },
    {
     "name": "stdout",
     "output_type": "stream",
     "text": [
      "0 0.0017554759979248047\n"
     ]
    },
    {
     "name": "stderr",
     "output_type": "stream",
     "text": []
    },
    {
     "name": "stdout",
     "output_type": "stream",
     "text": [
      "torch.Size([800, 800, 3]) torch.Size([800, 800])\n",
      "Frame 0 - PSNR: 29.00, SSIM: 0.9567, LPIPS: 0.0711\n",
      "1 23.975412845611572\n"
     ]
    },
    {
     "name": "stderr",
     "output_type": "stream",
     "text": []
    },
    {
     "name": "stdout",
     "output_type": "stream",
     "text": [
      "Frame 1 - PSNR: 28.88, SSIM: 0.9554, LPIPS: 0.0710\n",
      "2 23.977059602737427\n"
     ]
    },
    {
     "name": "stderr",
     "output_type": "stream",
     "text": []
    },
    {
     "name": "stdout",
     "output_type": "stream",
     "text": [
      "Frame 2 - PSNR: 27.93, SSIM: 0.9500, LPIPS: 0.0779\n",
      "3 23.88030433654785\n"
     ]
    },
    {
     "name": "stderr",
     "output_type": "stream",
     "text": []
    },
    {
     "name": "stdout",
     "output_type": "stream",
     "text": [
      "Frame 3 - PSNR: 28.23, SSIM: 0.9503, LPIPS: 0.0851\n",
      "4 23.914874792099\n"
     ]
    },
    {
     "name": "stderr",
     "output_type": "stream",
     "text": []
    },
    {
     "name": "stdout",
     "output_type": "stream",
     "text": [
      "Frame 4 - PSNR: 28.39, SSIM: 0.9497, LPIPS: 0.0835\n",
      "5 23.96693706512451\n"
     ]
    },
    {
     "name": "stderr",
     "output_type": "stream",
     "text": []
    },
    {
     "name": "stdout",
     "output_type": "stream",
     "text": [
      "Frame 5 - PSNR: 28.64, SSIM: 0.9531, LPIPS: 0.0720\n",
      "6 23.979567527770996\n"
     ]
    },
    {
     "name": "stderr",
     "output_type": "stream",
     "text": []
    },
    {
     "name": "stdout",
     "output_type": "stream",
     "text": [
      "Frame 6 - PSNR: 28.12, SSIM: 0.9616, LPIPS: 0.0569\n",
      "7 23.836644887924194\n"
     ]
    },
    {
     "name": "stderr",
     "output_type": "stream",
     "text": []
    },
    {
     "name": "stdout",
     "output_type": "stream",
     "text": [
      "Frame 7 - PSNR: 28.38, SSIM: 0.9549, LPIPS: 0.0596\n",
      "8 24.011974573135376\n"
     ]
    },
    {
     "name": "stderr",
     "output_type": "stream",
     "text": []
    },
    {
     "name": "stdout",
     "output_type": "stream",
     "text": [
      "Frame 8 - PSNR: 28.02, SSIM: 0.9473, LPIPS: 0.0790\n",
      "9 24.006872415542603\n"
     ]
    },
    {
     "name": "stderr",
     "output_type": "stream",
     "text": []
    },
    {
     "name": "stdout",
     "output_type": "stream",
     "text": [
      "Frame 9 - PSNR: 28.49, SSIM: 0.9529, LPIPS: 0.0815\n",
      "10 23.850977659225464\n"
     ]
    },
    {
     "name": "stderr",
     "output_type": "stream",
     "text": []
    },
    {
     "name": "stdout",
     "output_type": "stream",
     "text": [
      "Frame 10 - PSNR: 29.19, SSIM: 0.9576, LPIPS: 0.0759\n",
      "11 23.85428500175476\n"
     ]
    },
    {
     "name": "stderr",
     "output_type": "stream",
     "text": []
    },
    {
     "name": "stdout",
     "output_type": "stream",
     "text": [
      "Frame 11 - PSNR: 29.50, SSIM: 0.9614, LPIPS: 0.0733\n",
      "12 23.940839767456055\n"
     ]
    },
    {
     "name": "stderr",
     "output_type": "stream",
     "text": []
    },
    {
     "name": "stdout",
     "output_type": "stream",
     "text": [
      "Frame 12 - PSNR: 28.55, SSIM: 0.9658, LPIPS: 0.0613\n",
      "13 23.83904480934143\n"
     ]
    },
    {
     "name": "stderr",
     "output_type": "stream",
     "text": []
    },
    {
     "name": "stdout",
     "output_type": "stream",
     "text": [
      "Frame 13 - PSNR: 29.36, SSIM: 0.9658, LPIPS: 0.0650\n",
      "14 23.90115261077881\n"
     ]
    },
    {
     "name": "stderr",
     "output_type": "stream",
     "text": []
    },
    {
     "name": "stdout",
     "output_type": "stream",
     "text": [
      "Frame 14 - PSNR: 28.96, SSIM: 0.9573, LPIPS: 0.0776\n",
      "15 24.008440732955933\n"
     ]
    },
    {
     "name": "stderr",
     "output_type": "stream",
     "text": []
    },
    {
     "name": "stdout",
     "output_type": "stream",
     "text": [
      "Frame 15 - PSNR: 28.84, SSIM: 0.9537, LPIPS: 0.0831\n",
      "16 24.00204110145569\n"
     ]
    },
    {
     "name": "stderr",
     "output_type": "stream",
     "text": []
    },
    {
     "name": "stdout",
     "output_type": "stream",
     "text": [
      "Frame 16 - PSNR: 28.47, SSIM: 0.9525, LPIPS: 0.0840\n",
      "17 23.94059443473816\n"
     ]
    },
    {
     "name": "stderr",
     "output_type": "stream",
     "text": []
    },
    {
     "name": "stdout",
     "output_type": "stream",
     "text": [
      "Frame 17 - PSNR: 28.51, SSIM: 0.9525, LPIPS: 0.0767\n",
      "18 23.93739628791809\n"
     ]
    },
    {
     "name": "stderr",
     "output_type": "stream",
     "text": []
    },
    {
     "name": "stdout",
     "output_type": "stream",
     "text": [
      "Frame 18 - PSNR: 28.78, SSIM: 0.9574, LPIPS: 0.0631\n",
      "19 24.005634307861328\n"
     ]
    },
    {
     "name": "stderr",
     "output_type": "stream",
     "text": []
    },
    {
     "name": "stdout",
     "output_type": "stream",
     "text": [
      "Frame 19 - PSNR: 27.92, SSIM: 0.9628, LPIPS: 0.0497\n",
      "20 23.973289966583252\n"
     ]
    },
    {
     "name": "stderr",
     "output_type": "stream",
     "text": []
    },
    {
     "name": "stdout",
     "output_type": "stream",
     "text": [
      "Frame 20 - PSNR: 28.27, SSIM: 0.9494, LPIPS: 0.0682\n",
      "21 23.845924854278564\n"
     ]
    },
    {
     "name": "stderr",
     "output_type": "stream",
     "text": []
    },
    {
     "name": "stdout",
     "output_type": "stream",
     "text": [
      "Frame 21 - PSNR: 27.73, SSIM: 0.9460, LPIPS: 0.0824\n",
      "22 23.99334740638733\n"
     ]
    },
    {
     "name": "stderr",
     "output_type": "stream",
     "text": []
    },
    {
     "name": "stdout",
     "output_type": "stream",
     "text": [
      "Frame 22 - PSNR: 27.65, SSIM: 0.9478, LPIPS: 0.0837\n",
      "23 23.95043706893921\n"
     ]
    },
    {
     "name": "stderr",
     "output_type": "stream",
     "text": []
    },
    {
     "name": "stdout",
     "output_type": "stream",
     "text": [
      "Frame 23 - PSNR: 27.96, SSIM: 0.9495, LPIPS: 0.0826\n",
      "24 23.89633321762085\n"
     ]
    },
    {
     "name": "stderr",
     "output_type": "stream",
     "text": [
      "100%|██████████| 25/25 [09:58<00:00, 23.93s/it]\n",
      " 20%|██        | 40000/200000 [2:24:57<7984:12:39, 179.64s/it]"
     ]
    },
    {
     "name": "stdout",
     "output_type": "stream",
     "text": [
      "Frame 24 - PSNR: 28.70, SSIM: 0.9534, LPIPS: 0.0704\n",
      "\n",
      "=== METRICS SUMMARY ===\n",
      "Average PSNR: 28.4985 ± 0.4854\n",
      "Average SSIM: 0.9546 ± 0.0055\n",
      "Average LPIPS: 0.0734 ± 0.0095\n",
      "=======================\n",
      "Metrics logged to: ./logs\\mic_blender200k_fullres\\metrics\\metrics_040000.txt and ./logs\\mic_blender200k_fullres\\metrics\\metrics_040000.json\n",
      "Training history updated: ./logs\\mic_blender200k_fullres\\metrics\\training_metrics.json\n",
      "Saved test set with metrics\n",
      "[TRAIN] Iter: 40000 Loss: 0.004879458341747522  PSNR: 27.881757736206055\n"
     ]
    },
    {
     "name": "stderr",
     "output_type": "stream",
     "text": [
      " 20%|██        | 41000/200000 [2:26:44<4:57:06,  8.92it/s]    "
     ]
    },
    {
     "name": "stdout",
     "output_type": "stream",
     "text": [
      "[TRAIN] Iter: 41000 Loss: 0.003574558300897479  PSNR: 28.644479751586914\n"
     ]
    },
    {
     "name": "stderr",
     "output_type": "stream",
     "text": [
      " 21%|██        | 42002/200000 [2:28:31<4:41:08,  9.37it/s]"
     ]
    },
    {
     "name": "stdout",
     "output_type": "stream",
     "text": [
      "[TRAIN] Iter: 42000 Loss: 0.005193463526666164  PSNR: 28.264671325683594\n"
     ]
    },
    {
     "name": "stderr",
     "output_type": "stream",
     "text": [
      " 22%|██▏       | 43000/200000 [2:30:19<4:52:49,  8.94it/s]"
     ]
    },
    {
     "name": "stdout",
     "output_type": "stream",
     "text": [
      "[TRAIN] Iter: 43000 Loss: 0.0032051661983132362  PSNR: 30.611591339111328\n"
     ]
    },
    {
     "name": "stderr",
     "output_type": "stream",
     "text": [
      " 22%|██▏       | 44002/200000 [2:32:06<4:37:50,  9.36it/s]"
     ]
    },
    {
     "name": "stdout",
     "output_type": "stream",
     "text": [
      "[TRAIN] Iter: 44000 Loss: 0.0031185909174382687  PSNR: 29.02808952331543\n"
     ]
    },
    {
     "name": "stderr",
     "output_type": "stream",
     "text": [
      " 23%|██▎       | 45002/200000 [2:33:53<4:37:26,  9.31it/s]"
     ]
    },
    {
     "name": "stdout",
     "output_type": "stream",
     "text": [
      "[TRAIN] Iter: 45000 Loss: 0.003316774731501937  PSNR: 30.61737632751465\n"
     ]
    },
    {
     "name": "stderr",
     "output_type": "stream",
     "text": [
      " 23%|██▎       | 46002/200000 [2:35:41<4:35:47,  9.31it/s]"
     ]
    },
    {
     "name": "stdout",
     "output_type": "stream",
     "text": [
      "[TRAIN] Iter: 46000 Loss: 0.004057088866829872  PSNR: 28.242752075195312\n"
     ]
    },
    {
     "name": "stderr",
     "output_type": "stream",
     "text": [
      " 24%|██▎       | 47002/200000 [2:37:28<4:38:03,  9.17it/s]"
     ]
    },
    {
     "name": "stdout",
     "output_type": "stream",
     "text": [
      "[TRAIN] Iter: 47000 Loss: 0.003490978851914406  PSNR: 31.824342727661133\n"
     ]
    },
    {
     "name": "stderr",
     "output_type": "stream",
     "text": [
      " 24%|██▍       | 48002/200000 [2:39:15<4:31:34,  9.33it/s]"
     ]
    },
    {
     "name": "stdout",
     "output_type": "stream",
     "text": [
      "[TRAIN] Iter: 48000 Loss: 0.004097475670278072  PSNR: 29.356931686401367\n"
     ]
    },
    {
     "name": "stderr",
     "output_type": "stream",
     "text": [
      " 25%|██▍       | 49002/200000 [2:41:03<4:31:58,  9.25it/s]"
     ]
    },
    {
     "name": "stdout",
     "output_type": "stream",
     "text": [
      "[TRAIN] Iter: 49000 Loss: 0.004774237982928753  PSNR: 27.43390464782715\n"
     ]
    },
    {
     "name": "stderr",
     "output_type": "stream",
     "text": [
      " 25%|██▍       | 49999/200000 [2:42:50<4:27:42,  9.34it/s]"
     ]
    },
    {
     "name": "stdout",
     "output_type": "stream",
     "text": [
      "Saved checkpoints at ./logs\\mic_blender200k_fullres\\checkpoints\\050000.tar\n"
     ]
    },
    {
     "name": "stderr",
     "output_type": "stream",
     "text": []
    },
    {
     "name": "stdout",
     "output_type": "stream",
     "text": [
      "0 0.0018074512481689453\n"
     ]
    },
    {
     "name": "stderr",
     "output_type": "stream",
     "text": []
    },
    {
     "name": "stdout",
     "output_type": "stream",
     "text": [
      "torch.Size([800, 800, 3]) torch.Size([800, 800])\n",
      "1 23.882054328918457\n"
     ]
    },
    {
     "name": "stderr",
     "output_type": "stream",
     "text": []
    },
    {
     "name": "stdout",
     "output_type": "stream",
     "text": [
      "2 23.807573318481445\n"
     ]
    },
    {
     "name": "stderr",
     "output_type": "stream",
     "text": []
    },
    {
     "name": "stdout",
     "output_type": "stream",
     "text": [
      "3 23.899229049682617\n"
     ]
    },
    {
     "name": "stderr",
     "output_type": "stream",
     "text": []
    },
    {
     "name": "stdout",
     "output_type": "stream",
     "text": [
      "4 23.900041341781616\n"
     ]
    },
    {
     "name": "stderr",
     "output_type": "stream",
     "text": []
    },
    {
     "name": "stdout",
     "output_type": "stream",
     "text": [
      "5 23.871103525161743\n"
     ]
    },
    {
     "name": "stderr",
     "output_type": "stream",
     "text": []
    },
    {
     "name": "stdout",
     "output_type": "stream",
     "text": [
      "6 23.872708320617676\n"
     ]
    },
    {
     "name": "stderr",
     "output_type": "stream",
     "text": []
    },
    {
     "name": "stdout",
     "output_type": "stream",
     "text": [
      "7 23.898595333099365\n"
     ]
    },
    {
     "name": "stderr",
     "output_type": "stream",
     "text": []
    },
    {
     "name": "stdout",
     "output_type": "stream",
     "text": [
      "8 23.884812593460083\n"
     ]
    },
    {
     "name": "stderr",
     "output_type": "stream",
     "text": []
    },
    {
     "name": "stdout",
     "output_type": "stream",
     "text": [
      "9 23.88081932067871\n"
     ]
    },
    {
     "name": "stderr",
     "output_type": "stream",
     "text": []
    },
    {
     "name": "stdout",
     "output_type": "stream",
     "text": [
      "10 23.867077827453613\n"
     ]
    },
    {
     "name": "stderr",
     "output_type": "stream",
     "text": []
    },
    {
     "name": "stdout",
     "output_type": "stream",
     "text": [
      "11 23.906073093414307\n"
     ]
    },
    {
     "name": "stderr",
     "output_type": "stream",
     "text": []
    },
    {
     "name": "stdout",
     "output_type": "stream",
     "text": [
      "12 23.919001817703247\n"
     ]
    },
    {
     "name": "stderr",
     "output_type": "stream",
     "text": []
    },
    {
     "name": "stdout",
     "output_type": "stream",
     "text": [
      "13 23.86883807182312\n"
     ]
    },
    {
     "name": "stderr",
     "output_type": "stream",
     "text": []
    },
    {
     "name": "stdout",
     "output_type": "stream",
     "text": [
      "14 23.909300804138184\n"
     ]
    },
    {
     "name": "stderr",
     "output_type": "stream",
     "text": []
    },
    {
     "name": "stdout",
     "output_type": "stream",
     "text": [
      "15 23.907072067260742\n"
     ]
    },
    {
     "name": "stderr",
     "output_type": "stream",
     "text": []
    },
    {
     "name": "stdout",
     "output_type": "stream",
     "text": [
      "16 23.839430570602417\n"
     ]
    },
    {
     "name": "stderr",
     "output_type": "stream",
     "text": []
    },
    {
     "name": "stdout",
     "output_type": "stream",
     "text": [
      "17 23.873878955841064\n"
     ]
    },
    {
     "name": "stderr",
     "output_type": "stream",
     "text": []
    },
    {
     "name": "stdout",
     "output_type": "stream",
     "text": [
      "18 23.883241653442383\n"
     ]
    },
    {
     "name": "stderr",
     "output_type": "stream",
     "text": []
    },
    {
     "name": "stdout",
     "output_type": "stream",
     "text": [
      "19 23.867592573165894\n"
     ]
    },
    {
     "name": "stderr",
     "output_type": "stream",
     "text": []
    },
    {
     "name": "stdout",
     "output_type": "stream",
     "text": [
      "20 23.908539056777954\n"
     ]
    },
    {
     "name": "stderr",
     "output_type": "stream",
     "text": []
    },
    {
     "name": "stdout",
     "output_type": "stream",
     "text": [
      "21 23.891551971435547\n"
     ]
    },
    {
     "name": "stderr",
     "output_type": "stream",
     "text": []
    },
    {
     "name": "stdout",
     "output_type": "stream",
     "text": [
      "22 23.810492753982544\n"
     ]
    },
    {
     "name": "stderr",
     "output_type": "stream",
     "text": []
    },
    {
     "name": "stdout",
     "output_type": "stream",
     "text": [
      "23 23.854230403900146\n"
     ]
    },
    {
     "name": "stderr",
     "output_type": "stream",
     "text": []
    },
    {
     "name": "stdout",
     "output_type": "stream",
     "text": [
      "24 23.901668071746826\n"
     ]
    },
    {
     "name": "stderr",
     "output_type": "stream",
     "text": []
    },
    {
     "name": "stdout",
     "output_type": "stream",
     "text": [
      "25 23.907840251922607\n"
     ]
    },
    {
     "name": "stderr",
     "output_type": "stream",
     "text": []
    },
    {
     "name": "stdout",
     "output_type": "stream",
     "text": [
      "26 23.879474878311157\n"
     ]
    },
    {
     "name": "stderr",
     "output_type": "stream",
     "text": []
    },
    {
     "name": "stdout",
     "output_type": "stream",
     "text": [
      "27 23.839967250823975\n"
     ]
    },
    {
     "name": "stderr",
     "output_type": "stream",
     "text": []
    },
    {
     "name": "stdout",
     "output_type": "stream",
     "text": [
      "28 23.87471318244934\n"
     ]
    },
    {
     "name": "stderr",
     "output_type": "stream",
     "text": []
    },
    {
     "name": "stdout",
     "output_type": "stream",
     "text": [
      "29 23.86121416091919\n"
     ]
    },
    {
     "name": "stderr",
     "output_type": "stream",
     "text": []
    },
    {
     "name": "stdout",
     "output_type": "stream",
     "text": [
      "30 23.895122289657593\n"
     ]
    },
    {
     "name": "stderr",
     "output_type": "stream",
     "text": []
    },
    {
     "name": "stdout",
     "output_type": "stream",
     "text": [
      "31 23.905082941055298\n"
     ]
    },
    {
     "name": "stderr",
     "output_type": "stream",
     "text": []
    },
    {
     "name": "stdout",
     "output_type": "stream",
     "text": [
      "32 23.8791561126709\n"
     ]
    },
    {
     "name": "stderr",
     "output_type": "stream",
     "text": []
    },
    {
     "name": "stdout",
     "output_type": "stream",
     "text": [
      "33 23.90569281578064\n"
     ]
    },
    {
     "name": "stderr",
     "output_type": "stream",
     "text": []
    },
    {
     "name": "stdout",
     "output_type": "stream",
     "text": [
      "34 23.89464497566223\n"
     ]
    },
    {
     "name": "stderr",
     "output_type": "stream",
     "text": []
    },
    {
     "name": "stdout",
     "output_type": "stream",
     "text": [
      "35 23.90311098098755\n"
     ]
    },
    {
     "name": "stderr",
     "output_type": "stream",
     "text": []
    },
    {
     "name": "stdout",
     "output_type": "stream",
     "text": [
      "36 23.896255016326904\n"
     ]
    },
    {
     "name": "stderr",
     "output_type": "stream",
     "text": []
    },
    {
     "name": "stdout",
     "output_type": "stream",
     "text": [
      "37 23.920922994613647\n"
     ]
    },
    {
     "name": "stderr",
     "output_type": "stream",
     "text": []
    },
    {
     "name": "stdout",
     "output_type": "stream",
     "text": [
      "38 23.863170623779297\n"
     ]
    },
    {
     "name": "stderr",
     "output_type": "stream",
     "text": []
    },
    {
     "name": "stdout",
     "output_type": "stream",
     "text": [
      "39 23.790698051452637\n"
     ]
    },
    {
     "name": "stderr",
     "output_type": "stream",
     "text": [
      "100%|██████████| 40/40 [15:55<00:00, 23.88s/it]\n"
     ]
    },
    {
     "name": "stdout",
     "output_type": "stream",
     "text": [
      "Done, saving (40, 800, 800, 3) (40, 800, 800)\n",
      "test poses shape torch.Size([25, 4, 4])\n"
     ]
    },
    {
     "name": "stderr",
     "output_type": "stream",
     "text": []
    },
    {
     "name": "stdout",
     "output_type": "stream",
     "text": [
      "0 0.001878499984741211\n"
     ]
    },
    {
     "name": "stderr",
     "output_type": "stream",
     "text": []
    },
    {
     "name": "stdout",
     "output_type": "stream",
     "text": [
      "torch.Size([800, 800, 3]) torch.Size([800, 800])\n",
      "Frame 0 - PSNR: 29.52, SSIM: 0.9604, LPIPS: 0.0662\n",
      "1 24.002601385116577\n"
     ]
    },
    {
     "name": "stderr",
     "output_type": "stream",
     "text": []
    },
    {
     "name": "stdout",
     "output_type": "stream",
     "text": [
      "Frame 1 - PSNR: 29.30, SSIM: 0.9581, LPIPS: 0.0644\n",
      "2 23.997275352478027\n"
     ]
    },
    {
     "name": "stderr",
     "output_type": "stream",
     "text": []
    },
    {
     "name": "stdout",
     "output_type": "stream",
     "text": [
      "Frame 2 - PSNR: 28.44, SSIM: 0.9529, LPIPS: 0.0716\n",
      "3 23.987042903900146\n"
     ]
    },
    {
     "name": "stderr",
     "output_type": "stream",
     "text": []
    },
    {
     "name": "stdout",
     "output_type": "stream",
     "text": [
      "Frame 3 - PSNR: 28.65, SSIM: 0.9530, LPIPS: 0.0767\n",
      "4 24.001556873321533\n"
     ]
    },
    {
     "name": "stderr",
     "output_type": "stream",
     "text": []
    },
    {
     "name": "stdout",
     "output_type": "stream",
     "text": [
      "Frame 4 - PSNR: 28.77, SSIM: 0.9523, LPIPS: 0.0773\n",
      "5 23.959352016448975\n"
     ]
    },
    {
     "name": "stderr",
     "output_type": "stream",
     "text": []
    },
    {
     "name": "stdout",
     "output_type": "stream",
     "text": [
      "Frame 5 - PSNR: 28.88, SSIM: 0.9551, LPIPS: 0.0648\n",
      "6 23.936683177947998\n"
     ]
    },
    {
     "name": "stderr",
     "output_type": "stream",
     "text": []
    },
    {
     "name": "stdout",
     "output_type": "stream",
     "text": [
      "Frame 6 - PSNR: 28.59, SSIM: 0.9646, LPIPS: 0.0485\n",
      "7 23.987566471099854\n"
     ]
    },
    {
     "name": "stderr",
     "output_type": "stream",
     "text": []
    },
    {
     "name": "stdout",
     "output_type": "stream",
     "text": [
      "Frame 7 - PSNR: 28.91, SSIM: 0.9582, LPIPS: 0.0546\n",
      "8 23.969035148620605\n"
     ]
    },
    {
     "name": "stderr",
     "output_type": "stream",
     "text": []
    },
    {
     "name": "stdout",
     "output_type": "stream",
     "text": [
      "Frame 8 - PSNR: 28.61, SSIM: 0.9507, LPIPS: 0.0696\n",
      "9 23.98853373527527\n"
     ]
    },
    {
     "name": "stderr",
     "output_type": "stream",
     "text": []
    },
    {
     "name": "stdout",
     "output_type": "stream",
     "text": [
      "Frame 9 - PSNR: 28.92, SSIM: 0.9556, LPIPS: 0.0732\n",
      "10 23.969463109970093\n"
     ]
    },
    {
     "name": "stderr",
     "output_type": "stream",
     "text": []
    },
    {
     "name": "stdout",
     "output_type": "stream",
     "text": [
      "Frame 10 - PSNR: 29.49, SSIM: 0.9602, LPIPS: 0.0696\n",
      "11 23.948105573654175\n"
     ]
    },
    {
     "name": "stderr",
     "output_type": "stream",
     "text": []
    },
    {
     "name": "stdout",
     "output_type": "stream",
     "text": [
      "Frame 11 - PSNR: 29.80, SSIM: 0.9646, LPIPS: 0.0661\n",
      "12 23.979494094848633\n"
     ]
    },
    {
     "name": "stderr",
     "output_type": "stream",
     "text": []
    },
    {
     "name": "stdout",
     "output_type": "stream",
     "text": [
      "Frame 12 - PSNR: 29.23, SSIM: 0.9691, LPIPS: 0.0546\n",
      "13 23.8893461227417\n"
     ]
    },
    {
     "name": "stderr",
     "output_type": "stream",
     "text": []
    },
    {
     "name": "stdout",
     "output_type": "stream",
     "text": [
      "Frame 13 - PSNR: 29.68, SSIM: 0.9682, LPIPS: 0.0627\n",
      "14 23.941076517105103\n"
     ]
    },
    {
     "name": "stderr",
     "output_type": "stream",
     "text": []
    },
    {
     "name": "stdout",
     "output_type": "stream",
     "text": [
      "Frame 14 - PSNR: 29.23, SSIM: 0.9601, LPIPS: 0.0719\n",
      "15 23.975737810134888\n"
     ]
    },
    {
     "name": "stderr",
     "output_type": "stream",
     "text": []
    },
    {
     "name": "stdout",
     "output_type": "stream",
     "text": [
      "Frame 15 - PSNR: 29.29, SSIM: 0.9568, LPIPS: 0.0763\n",
      "16 23.991711378097534\n"
     ]
    },
    {
     "name": "stderr",
     "output_type": "stream",
     "text": []
    },
    {
     "name": "stdout",
     "output_type": "stream",
     "text": [
      "Frame 16 - PSNR: 29.04, SSIM: 0.9555, LPIPS: 0.0769\n",
      "17 23.979140996932983\n"
     ]
    },
    {
     "name": "stderr",
     "output_type": "stream",
     "text": []
    },
    {
     "name": "stdout",
     "output_type": "stream",
     "text": [
      "Frame 17 - PSNR: 29.16, SSIM: 0.9557, LPIPS: 0.0688\n",
      "18 23.97528052330017\n"
     ]
    },
    {
     "name": "stderr",
     "output_type": "stream",
     "text": []
    },
    {
     "name": "stdout",
     "output_type": "stream",
     "text": [
      "Frame 18 - PSNR: 29.16, SSIM: 0.9596, LPIPS: 0.0584\n",
      "19 23.979201078414917\n"
     ]
    },
    {
     "name": "stderr",
     "output_type": "stream",
     "text": []
    },
    {
     "name": "stdout",
     "output_type": "stream",
     "text": [
      "Frame 19 - PSNR: 28.32, SSIM: 0.9658, LPIPS: 0.0437\n",
      "20 23.909934043884277\n"
     ]
    },
    {
     "name": "stderr",
     "output_type": "stream",
     "text": []
    },
    {
     "name": "stdout",
     "output_type": "stream",
     "text": [
      "Frame 20 - PSNR: 28.66, SSIM: 0.9517, LPIPS: 0.0658\n",
      "21 23.99134397506714\n"
     ]
    },
    {
     "name": "stderr",
     "output_type": "stream",
     "text": []
    },
    {
     "name": "stdout",
     "output_type": "stream",
     "text": [
      "Frame 21 - PSNR: 28.19, SSIM: 0.9491, LPIPS: 0.0762\n",
      "22 23.960142612457275\n"
     ]
    },
    {
     "name": "stderr",
     "output_type": "stream",
     "text": []
    },
    {
     "name": "stdout",
     "output_type": "stream",
     "text": [
      "Frame 22 - PSNR: 28.25, SSIM: 0.9517, LPIPS: 0.0748\n",
      "23 23.985372066497803\n"
     ]
    },
    {
     "name": "stderr",
     "output_type": "stream",
     "text": []
    },
    {
     "name": "stdout",
     "output_type": "stream",
     "text": [
      "Frame 23 - PSNR: 28.45, SSIM: 0.9536, LPIPS: 0.0717\n",
      "24 23.96215534210205\n"
     ]
    },
    {
     "name": "stderr",
     "output_type": "stream",
     "text": [
      "100%|██████████| 25/25 [09:59<00:00, 23.97s/it]\n",
      " 25%|██▌       | 50000/200000 [3:08:45<19441:38:45, 466.60s/it]"
     ]
    },
    {
     "name": "stdout",
     "output_type": "stream",
     "text": [
      "Frame 24 - PSNR: 29.24, SSIM: 0.9572, LPIPS: 0.0611\n",
      "\n",
      "=== METRICS SUMMARY ===\n",
      "Average PSNR: 28.9514 ± 0.4414\n",
      "Average SSIM: 0.9576 ± 0.0054\n",
      "Average LPIPS: 0.0666 ± 0.0089\n",
      "=======================\n",
      "Metrics logged to: ./logs\\mic_blender200k_fullres\\metrics\\metrics_050000.txt and ./logs\\mic_blender200k_fullres\\metrics\\metrics_050000.json\n",
      "Training history updated: ./logs\\mic_blender200k_fullres\\metrics\\training_metrics.json\n",
      "Saved test set with metrics\n",
      "[TRAIN] Iter: 50000 Loss: 0.004854000639170408  PSNR: 26.987152099609375\n"
     ]
    },
    {
     "name": "stderr",
     "output_type": "stream",
     "text": [
      " 26%|██▌       | 51002/200000 [3:10:33<4:25:50,  9.34it/s]     "
     ]
    },
    {
     "name": "stdout",
     "output_type": "stream",
     "text": [
      "[TRAIN] Iter: 51000 Loss: 0.0022933497093617916  PSNR: 30.329647064208984\n"
     ]
    },
    {
     "name": "stderr",
     "output_type": "stream",
     "text": [
      " 26%|██▌       | 52002/200000 [3:12:20<4:23:38,  9.36it/s]"
     ]
    },
    {
     "name": "stdout",
     "output_type": "stream",
     "text": [
      "[TRAIN] Iter: 52000 Loss: 0.004225937183946371  PSNR: 28.67486000061035\n"
     ]
    },
    {
     "name": "stderr",
     "output_type": "stream",
     "text": [
      " 26%|██▋       | 53000/200000 [3:14:07<4:34:08,  8.94it/s]"
     ]
    },
    {
     "name": "stdout",
     "output_type": "stream",
     "text": [
      "[TRAIN] Iter: 53000 Loss: 0.004328882787376642  PSNR: 27.272111892700195\n"
     ]
    },
    {
     "name": "stderr",
     "output_type": "stream",
     "text": [
      " 27%|██▋       | 54002/200000 [3:15:55<4:18:44,  9.40it/s]"
     ]
    },
    {
     "name": "stdout",
     "output_type": "stream",
     "text": [
      "[TRAIN] Iter: 54000 Loss: 0.002577564213424921  PSNR: 31.42936134338379\n"
     ]
    },
    {
     "name": "stderr",
     "output_type": "stream",
     "text": [
      " 28%|██▊       | 55002/200000 [3:17:42<4:18:46,  9.34it/s]"
     ]
    },
    {
     "name": "stdout",
     "output_type": "stream",
     "text": [
      "[TRAIN] Iter: 55000 Loss: 0.004274736158549786  PSNR: 27.548974990844727\n"
     ]
    },
    {
     "name": "stderr",
     "output_type": "stream",
     "text": [
      " 28%|██▊       | 56000/200000 [3:19:30<4:29:09,  8.92it/s]"
     ]
    },
    {
     "name": "stdout",
     "output_type": "stream",
     "text": [
      "[TRAIN] Iter: 56000 Loss: 0.0049090636894106865  PSNR: 27.39467430114746\n"
     ]
    },
    {
     "name": "stderr",
     "output_type": "stream",
     "text": [
      " 29%|██▊       | 57002/200000 [3:21:17<4:14:13,  9.37it/s]"
     ]
    },
    {
     "name": "stdout",
     "output_type": "stream",
     "text": [
      "[TRAIN] Iter: 57000 Loss: 0.0034248533193022013  PSNR: 30.371110916137695\n"
     ]
    },
    {
     "name": "stderr",
     "output_type": "stream",
     "text": [
      " 29%|██▉       | 58002/200000 [3:23:04<4:14:15,  9.31it/s]"
     ]
    },
    {
     "name": "stdout",
     "output_type": "stream",
     "text": [
      "[TRAIN] Iter: 58000 Loss: 0.003285848069936037  PSNR: 30.234830856323242\n"
     ]
    },
    {
     "name": "stderr",
     "output_type": "stream",
     "text": [
      " 30%|██▉       | 59002/200000 [3:24:52<4:13:15,  9.28it/s]"
     ]
    },
    {
     "name": "stdout",
     "output_type": "stream",
     "text": [
      "[TRAIN] Iter: 59000 Loss: 0.002394531387835741  PSNR: 31.86821174621582\n"
     ]
    },
    {
     "name": "stderr",
     "output_type": "stream",
     "text": [
      " 30%|██▉       | 59999/200000 [3:26:39<4:11:44,  9.27it/s]"
     ]
    },
    {
     "name": "stdout",
     "output_type": "stream",
     "text": [
      "Saved checkpoints at ./logs\\mic_blender200k_fullres\\checkpoints\\060000.tar\n",
      "test poses shape torch.Size([25, 4, 4])\n"
     ]
    },
    {
     "name": "stderr",
     "output_type": "stream",
     "text": []
    },
    {
     "name": "stdout",
     "output_type": "stream",
     "text": [
      "0 0.0018591880798339844\n"
     ]
    },
    {
     "name": "stderr",
     "output_type": "stream",
     "text": []
    },
    {
     "name": "stdout",
     "output_type": "stream",
     "text": [
      "torch.Size([800, 800, 3]) torch.Size([800, 800])\n",
      "Frame 0 - PSNR: 29.56, SSIM: 0.9621, LPIPS: 0.0632\n",
      "1 24.01042914390564\n"
     ]
    },
    {
     "name": "stderr",
     "output_type": "stream",
     "text": []
    },
    {
     "name": "stdout",
     "output_type": "stream",
     "text": [
      "Frame 1 - PSNR: 29.49, SSIM: 0.9604, LPIPS: 0.0626\n",
      "2 23.9942626953125\n"
     ]
    },
    {
     "name": "stderr",
     "output_type": "stream",
     "text": []
    },
    {
     "name": "stdout",
     "output_type": "stream",
     "text": [
      "Frame 2 - PSNR: 28.41, SSIM: 0.9546, LPIPS: 0.0712\n",
      "3 23.966216325759888\n"
     ]
    },
    {
     "name": "stderr",
     "output_type": "stream",
     "text": []
    },
    {
     "name": "stdout",
     "output_type": "stream",
     "text": [
      "Frame 3 - PSNR: 28.93, SSIM: 0.9555, LPIPS: 0.0778\n",
      "4 23.990031242370605\n"
     ]
    },
    {
     "name": "stderr",
     "output_type": "stream",
     "text": []
    },
    {
     "name": "stdout",
     "output_type": "stream",
     "text": [
      "Frame 4 - PSNR: 29.14, SSIM: 0.9541, LPIPS: 0.0773\n",
      "5 23.974371433258057\n"
     ]
    },
    {
     "name": "stderr",
     "output_type": "stream",
     "text": []
    },
    {
     "name": "stdout",
     "output_type": "stream",
     "text": [
      "Frame 5 - PSNR: 29.25, SSIM: 0.9571, LPIPS: 0.0656\n",
      "6 23.973280668258667\n"
     ]
    },
    {
     "name": "stderr",
     "output_type": "stream",
     "text": []
    },
    {
     "name": "stdout",
     "output_type": "stream",
     "text": [
      "Frame 6 - PSNR: 28.98, SSIM: 0.9682, LPIPS: 0.0451\n",
      "7 23.895763397216797\n"
     ]
    },
    {
     "name": "stderr",
     "output_type": "stream",
     "text": []
    },
    {
     "name": "stdout",
     "output_type": "stream",
     "text": [
      "Frame 7 - PSNR: 29.02, SSIM: 0.9604, LPIPS: 0.0487\n",
      "8 25.79357624053955\n"
     ]
    },
    {
     "name": "stderr",
     "output_type": "stream",
     "text": []
    },
    {
     "name": "stdout",
     "output_type": "stream",
     "text": [
      "Frame 8 - PSNR: 28.69, SSIM: 0.9520, LPIPS: 0.0663\n",
      "9 24.036182641983032\n"
     ]
    },
    {
     "name": "stderr",
     "output_type": "stream",
     "text": []
    },
    {
     "name": "stdout",
     "output_type": "stream",
     "text": [
      "Frame 9 - PSNR: 29.17, SSIM: 0.9565, LPIPS: 0.0723\n",
      "10 23.575840711593628\n"
     ]
    },
    {
     "name": "stderr",
     "output_type": "stream",
     "text": []
    },
    {
     "name": "stdout",
     "output_type": "stream",
     "text": [
      "Frame 10 - PSNR: 30.07, SSIM: 0.9622, LPIPS: 0.0706\n",
      "11 23.58984875679016\n"
     ]
    },
    {
     "name": "stderr",
     "output_type": "stream",
     "text": []
    },
    {
     "name": "stdout",
     "output_type": "stream",
     "text": [
      "Frame 11 - PSNR: 30.50, SSIM: 0.9663, LPIPS: 0.0661\n",
      "12 23.584182500839233\n"
     ]
    },
    {
     "name": "stderr",
     "output_type": "stream",
     "text": []
    },
    {
     "name": "stdout",
     "output_type": "stream",
     "text": [
      "Frame 12 - PSNR: 28.73, SSIM: 0.9668, LPIPS: 0.0563\n",
      "13 23.569183349609375\n"
     ]
    },
    {
     "name": "stderr",
     "output_type": "stream",
     "text": []
    },
    {
     "name": "stdout",
     "output_type": "stream",
     "text": [
      "Frame 13 - PSNR: 29.96, SSIM: 0.9694, LPIPS: 0.0595\n",
      "14 23.58233880996704\n"
     ]
    },
    {
     "name": "stderr",
     "output_type": "stream",
     "text": []
    },
    {
     "name": "stdout",
     "output_type": "stream",
     "text": [
      "Frame 14 - PSNR: 29.75, SSIM: 0.9622, LPIPS: 0.0705\n",
      "15 23.584967374801636\n"
     ]
    },
    {
     "name": "stderr",
     "output_type": "stream",
     "text": []
    },
    {
     "name": "stdout",
     "output_type": "stream",
     "text": [
      "Frame 15 - PSNR: 29.90, SSIM: 0.9594, LPIPS: 0.0765\n",
      "16 23.577459573745728\n"
     ]
    },
    {
     "name": "stderr",
     "output_type": "stream",
     "text": []
    },
    {
     "name": "stdout",
     "output_type": "stream",
     "text": [
      "Frame 16 - PSNR: 29.31, SSIM: 0.9571, LPIPS: 0.0776\n",
      "17 23.565032243728638\n"
     ]
    },
    {
     "name": "stderr",
     "output_type": "stream",
     "text": []
    },
    {
     "name": "stdout",
     "output_type": "stream",
     "text": [
      "Frame 17 - PSNR: 29.01, SSIM: 0.9556, LPIPS: 0.0698\n",
      "18 23.584677934646606\n"
     ]
    },
    {
     "name": "stderr",
     "output_type": "stream",
     "text": []
    },
    {
     "name": "stdout",
     "output_type": "stream",
     "text": [
      "Frame 18 - PSNR: 29.31, SSIM: 0.9616, LPIPS: 0.0542\n",
      "19 23.56525206565857\n"
     ]
    },
    {
     "name": "stderr",
     "output_type": "stream",
     "text": []
    },
    {
     "name": "stdout",
     "output_type": "stream",
     "text": [
      "Frame 19 - PSNR: 28.74, SSIM: 0.9698, LPIPS: 0.0378\n",
      "20 23.59799098968506\n"
     ]
    },
    {
     "name": "stderr",
     "output_type": "stream",
     "text": []
    },
    {
     "name": "stdout",
     "output_type": "stream",
     "text": [
      "Frame 20 - PSNR: 28.79, SSIM: 0.9540, LPIPS: 0.0563\n",
      "21 23.599740982055664\n"
     ]
    },
    {
     "name": "stderr",
     "output_type": "stream",
     "text": []
    },
    {
     "name": "stdout",
     "output_type": "stream",
     "text": [
      "Frame 21 - PSNR: 28.37, SSIM: 0.9510, LPIPS: 0.0723\n",
      "22 23.32738995552063\n"
     ]
    },
    {
     "name": "stderr",
     "output_type": "stream",
     "text": []
    },
    {
     "name": "stdout",
     "output_type": "stream",
     "text": [
      "Frame 22 - PSNR: 28.31, SSIM: 0.9528, LPIPS: 0.0734\n",
      "23 23.074896097183228\n"
     ]
    },
    {
     "name": "stderr",
     "output_type": "stream",
     "text": []
    },
    {
     "name": "stdout",
     "output_type": "stream",
     "text": [
      "Frame 23 - PSNR: 28.29, SSIM: 0.9536, LPIPS: 0.0741\n",
      "24 23.072369813919067\n"
     ]
    },
    {
     "name": "stderr",
     "output_type": "stream",
     "text": [
      "100%|██████████| 25/25 [09:53<00:00, 23.73s/it]\n",
      " 30%|███       | 60000/200000 [3:36:33<6925:40:21, 178.09s/it]"
     ]
    },
    {
     "name": "stdout",
     "output_type": "stream",
     "text": [
      "Frame 24 - PSNR: 29.39, SSIM: 0.9587, LPIPS: 0.0640\n",
      "\n",
      "=== METRICS SUMMARY ===\n",
      "Average PSNR: 29.1625 ± 0.5667\n",
      "Average SSIM: 0.9593 ± 0.0055\n",
      "Average LPIPS: 0.0652 ± 0.0104\n",
      "=======================\n",
      "Metrics logged to: ./logs\\mic_blender200k_fullres\\metrics\\metrics_060000.txt and ./logs\\mic_blender200k_fullres\\metrics\\metrics_060000.json\n",
      "Training history updated: ./logs\\mic_blender200k_fullres\\metrics\\training_metrics.json\n",
      "Saved test set with metrics\n",
      "[TRAIN] Iter: 60000 Loss: 0.004569645039737225  PSNR: 27.626144409179688\n"
     ]
    },
    {
     "name": "stderr",
     "output_type": "stream",
     "text": [
      " 30%|███       | 61000/200000 [3:38:16<4:08:16,  9.33it/s]    "
     ]
    },
    {
     "name": "stdout",
     "output_type": "stream",
     "text": [
      "[TRAIN] Iter: 61000 Loss: 0.0038591413758695126  PSNR: 28.75460433959961\n"
     ]
    },
    {
     "name": "stderr",
     "output_type": "stream",
     "text": [
      " 31%|███       | 62000/200000 [3:40:00<4:08:30,  9.25it/s]"
     ]
    },
    {
     "name": "stdout",
     "output_type": "stream",
     "text": [
      "[TRAIN] Iter: 62000 Loss: 0.004287919960916042  PSNR: 28.94475746154785\n"
     ]
    },
    {
     "name": "stderr",
     "output_type": "stream",
     "text": [
      " 32%|███▏      | 63002/200000 [3:41:43<3:57:33,  9.61it/s]"
     ]
    },
    {
     "name": "stdout",
     "output_type": "stream",
     "text": [
      "[TRAIN] Iter: 63000 Loss: 0.0030836518853902817  PSNR: 29.354816436767578\n"
     ]
    },
    {
     "name": "stderr",
     "output_type": "stream",
     "text": [
      " 32%|███▏      | 64002/200000 [3:43:27<3:56:21,  9.59it/s]"
     ]
    },
    {
     "name": "stdout",
     "output_type": "stream",
     "text": [
      "[TRAIN] Iter: 64000 Loss: 0.0029390347190201283  PSNR: 32.12374496459961\n"
     ]
    },
    {
     "name": "stderr",
     "output_type": "stream",
     "text": [
      " 33%|███▎      | 65002/200000 [3:45:11<3:55:05,  9.57it/s]"
     ]
    },
    {
     "name": "stdout",
     "output_type": "stream",
     "text": [
      "[TRAIN] Iter: 65000 Loss: 0.003127902513369918  PSNR: 30.9415225982666\n"
     ]
    },
    {
     "name": "stderr",
     "output_type": "stream",
     "text": [
      " 33%|███▎      | 66002/200000 [3:46:55<3:54:04,  9.54it/s]"
     ]
    },
    {
     "name": "stdout",
     "output_type": "stream",
     "text": [
      "[TRAIN] Iter: 66000 Loss: 0.004197756294161081  PSNR: 27.660327911376953\n"
     ]
    },
    {
     "name": "stderr",
     "output_type": "stream",
     "text": [
      " 34%|███▎      | 67002/200000 [3:48:38<3:52:21,  9.54it/s]"
     ]
    },
    {
     "name": "stdout",
     "output_type": "stream",
     "text": [
      "[TRAIN] Iter: 67000 Loss: 0.005242249928414822  PSNR: 26.617664337158203\n"
     ]
    },
    {
     "name": "stderr",
     "output_type": "stream",
     "text": [
      " 34%|███▍      | 68002/200000 [3:50:22<3:48:54,  9.61it/s]"
     ]
    },
    {
     "name": "stdout",
     "output_type": "stream",
     "text": [
      "[TRAIN] Iter: 68000 Loss: 0.0030056750401854515  PSNR: 30.00023078918457\n"
     ]
    },
    {
     "name": "stderr",
     "output_type": "stream",
     "text": [
      " 35%|███▍      | 69002/200000 [3:52:05<3:48:40,  9.55it/s]"
     ]
    },
    {
     "name": "stdout",
     "output_type": "stream",
     "text": [
      "[TRAIN] Iter: 69000 Loss: 0.0027935346588492393  PSNR: 30.448253631591797\n"
     ]
    },
    {
     "name": "stderr",
     "output_type": "stream",
     "text": [
      " 35%|███▍      | 69999/200000 [3:53:49<3:45:29,  9.61it/s]"
     ]
    },
    {
     "name": "stdout",
     "output_type": "stream",
     "text": [
      "Saved checkpoints at ./logs\\mic_blender200k_fullres\\checkpoints\\070000.tar\n",
      "test poses shape torch.Size([25, 4, 4])\n"
     ]
    },
    {
     "name": "stderr",
     "output_type": "stream",
     "text": []
    },
    {
     "name": "stdout",
     "output_type": "stream",
     "text": [
      "0 0.001705169677734375\n"
     ]
    },
    {
     "name": "stderr",
     "output_type": "stream",
     "text": []
    },
    {
     "name": "stdout",
     "output_type": "stream",
     "text": [
      "torch.Size([800, 800, 3]) torch.Size([800, 800])\n",
      "Frame 0 - PSNR: 30.00, SSIM: 0.9647, LPIPS: 0.0568\n",
      "1 23.08845353126526\n"
     ]
    },
    {
     "name": "stderr",
     "output_type": "stream",
     "text": []
    },
    {
     "name": "stdout",
     "output_type": "stream",
     "text": [
      "Frame 1 - PSNR: 30.30, SSIM: 0.9644, LPIPS: 0.0552\n",
      "2 23.0730562210083\n"
     ]
    },
    {
     "name": "stderr",
     "output_type": "stream",
     "text": []
    },
    {
     "name": "stdout",
     "output_type": "stream",
     "text": [
      "Frame 2 - PSNR: 29.09, SSIM: 0.9588, LPIPS: 0.0626\n",
      "3 23.073639154434204\n"
     ]
    },
    {
     "name": "stderr",
     "output_type": "stream",
     "text": []
    },
    {
     "name": "stdout",
     "output_type": "stream",
     "text": [
      "Frame 3 - PSNR: 29.41, SSIM: 0.9581, LPIPS: 0.0697\n",
      "4 23.079646825790405\n"
     ]
    },
    {
     "name": "stderr",
     "output_type": "stream",
     "text": []
    },
    {
     "name": "stdout",
     "output_type": "stream",
     "text": [
      "Frame 4 - PSNR: 29.34, SSIM: 0.9562, LPIPS: 0.0686\n",
      "5 23.080560207366943\n"
     ]
    },
    {
     "name": "stderr",
     "output_type": "stream",
     "text": []
    },
    {
     "name": "stdout",
     "output_type": "stream",
     "text": [
      "Frame 5 - PSNR: 29.34, SSIM: 0.9588, LPIPS: 0.0619\n",
      "6 23.073800325393677\n"
     ]
    },
    {
     "name": "stderr",
     "output_type": "stream",
     "text": []
    },
    {
     "name": "stdout",
     "output_type": "stream",
     "text": [
      "Frame 6 - PSNR: 29.45, SSIM: 0.9720, LPIPS: 0.0401\n",
      "7 23.079379558563232\n"
     ]
    },
    {
     "name": "stderr",
     "output_type": "stream",
     "text": []
    },
    {
     "name": "stdout",
     "output_type": "stream",
     "text": [
      "Frame 7 - PSNR: 29.07, SSIM: 0.9625, LPIPS: 0.0470\n",
      "8 23.082134008407593\n"
     ]
    },
    {
     "name": "stderr",
     "output_type": "stream",
     "text": []
    },
    {
     "name": "stdout",
     "output_type": "stream",
     "text": [
      "Frame 8 - PSNR: 28.73, SSIM: 0.9532, LPIPS: 0.0655\n",
      "9 23.072630882263184\n"
     ]
    },
    {
     "name": "stderr",
     "output_type": "stream",
     "text": []
    },
    {
     "name": "stdout",
     "output_type": "stream",
     "text": [
      "Frame 9 - PSNR: 29.15, SSIM: 0.9580, LPIPS: 0.0693\n",
      "10 23.068811893463135\n"
     ]
    },
    {
     "name": "stderr",
     "output_type": "stream",
     "text": []
    },
    {
     "name": "stdout",
     "output_type": "stream",
     "text": [
      "Frame 10 - PSNR: 30.39, SSIM: 0.9641, LPIPS: 0.0637\n",
      "11 23.072039365768433\n"
     ]
    },
    {
     "name": "stderr",
     "output_type": "stream",
     "text": []
    },
    {
     "name": "stdout",
     "output_type": "stream",
     "text": [
      "Frame 11 - PSNR: 30.99, SSIM: 0.9687, LPIPS: 0.0586\n",
      "12 23.078853607177734\n"
     ]
    },
    {
     "name": "stderr",
     "output_type": "stream",
     "text": []
    },
    {
     "name": "stdout",
     "output_type": "stream",
     "text": [
      "Frame 12 - PSNR: 29.31, SSIM: 0.9699, LPIPS: 0.0527\n",
      "13 23.070310831069946\n"
     ]
    },
    {
     "name": "stderr",
     "output_type": "stream",
     "text": []
    },
    {
     "name": "stdout",
     "output_type": "stream",
     "text": [
      "Frame 13 - PSNR: 30.39, SSIM: 0.9719, LPIPS: 0.0549\n",
      "14 23.066935777664185\n"
     ]
    },
    {
     "name": "stderr",
     "output_type": "stream",
     "text": []
    },
    {
     "name": "stdout",
     "output_type": "stream",
     "text": [
      "Frame 14 - PSNR: 30.43, SSIM: 0.9659, LPIPS: 0.0616\n",
      "15 23.07447910308838\n"
     ]
    },
    {
     "name": "stderr",
     "output_type": "stream",
     "text": []
    },
    {
     "name": "stdout",
     "output_type": "stream",
     "text": [
      "Frame 15 - PSNR: 30.42, SSIM: 0.9627, LPIPS: 0.0699\n",
      "16 23.06309485435486\n"
     ]
    },
    {
     "name": "stderr",
     "output_type": "stream",
     "text": []
    },
    {
     "name": "stdout",
     "output_type": "stream",
     "text": [
      "Frame 16 - PSNR: 30.03, SSIM: 0.9611, LPIPS: 0.0678\n",
      "17 23.07637310028076\n"
     ]
    },
    {
     "name": "stderr",
     "output_type": "stream",
     "text": []
    },
    {
     "name": "stdout",
     "output_type": "stream",
     "text": [
      "Frame 17 - PSNR: 29.46, SSIM: 0.9592, LPIPS: 0.0619\n",
      "18 23.078076362609863\n"
     ]
    },
    {
     "name": "stderr",
     "output_type": "stream",
     "text": []
    },
    {
     "name": "stdout",
     "output_type": "stream",
     "text": [
      "Frame 18 - PSNR: 29.82, SSIM: 0.9651, LPIPS: 0.0490\n",
      "19 23.07510471343994\n"
     ]
    },
    {
     "name": "stderr",
     "output_type": "stream",
     "text": []
    },
    {
     "name": "stdout",
     "output_type": "stream",
     "text": [
      "Frame 19 - PSNR: 28.97, SSIM: 0.9726, LPIPS: 0.0349\n",
      "20 23.07176685333252\n"
     ]
    },
    {
     "name": "stderr",
     "output_type": "stream",
     "text": []
    },
    {
     "name": "stdout",
     "output_type": "stream",
     "text": [
      "Frame 20 - PSNR: 28.80, SSIM: 0.9546, LPIPS: 0.0566\n",
      "21 23.073812246322632\n"
     ]
    },
    {
     "name": "stderr",
     "output_type": "stream",
     "text": []
    },
    {
     "name": "stdout",
     "output_type": "stream",
     "text": [
      "Frame 21 - PSNR: 28.39, SSIM: 0.9521, LPIPS: 0.0691\n",
      "22 23.066444873809814\n"
     ]
    },
    {
     "name": "stderr",
     "output_type": "stream",
     "text": []
    },
    {
     "name": "stdout",
     "output_type": "stream",
     "text": [
      "Frame 22 - PSNR: 28.59, SSIM: 0.9547, LPIPS: 0.0679\n",
      "23 23.052923679351807\n"
     ]
    },
    {
     "name": "stderr",
     "output_type": "stream",
     "text": []
    },
    {
     "name": "stdout",
     "output_type": "stream",
     "text": [
      "Frame 23 - PSNR: 29.04, SSIM: 0.9579, LPIPS: 0.0642\n",
      "24 23.06906485557556\n"
     ]
    },
    {
     "name": "stderr",
     "output_type": "stream",
     "text": [
      "100%|██████████| 25/25 [09:36<00:00, 23.07s/it]\n",
      " 35%|███▌      | 70000/200000 [4:03:26<6253:51:52, 173.18s/it]"
     ]
    },
    {
     "name": "stdout",
     "output_type": "stream",
     "text": [
      "Frame 24 - PSNR: 29.77, SSIM: 0.9617, LPIPS: 0.0542\n",
      "\n",
      "=== METRICS SUMMARY ===\n",
      "Average PSNR: 29.5475 ± 0.6640\n",
      "Average SSIM: 0.9620 ± 0.0059\n",
      "Average LPIPS: 0.0594 ± 0.0092\n",
      "=======================\n",
      "Metrics logged to: ./logs\\mic_blender200k_fullres\\metrics\\metrics_070000.txt and ./logs\\mic_blender200k_fullres\\metrics\\metrics_070000.json\n",
      "Training history updated: ./logs\\mic_blender200k_fullres\\metrics\\training_metrics.json\n",
      "Saved test set with metrics\n",
      "[TRAIN] Iter: 70000 Loss: 0.0020233304239809513  PSNR: 31.80396270751953\n"
     ]
    },
    {
     "name": "stderr",
     "output_type": "stream",
     "text": [
      " 36%|███▌      | 71002/200000 [4:05:10<3:46:06,  9.51it/s]    "
     ]
    },
    {
     "name": "stdout",
     "output_type": "stream",
     "text": [
      "[TRAIN] Iter: 71000 Loss: 0.002876831218600273  PSNR: 29.170326232910156\n"
     ]
    },
    {
     "name": "stderr",
     "output_type": "stream",
     "text": [
      " 36%|███▌      | 72002/200000 [4:06:53<3:44:10,  9.52it/s]"
     ]
    },
    {
     "name": "stdout",
     "output_type": "stream",
     "text": [
      "[TRAIN] Iter: 72000 Loss: 0.004092872142791748  PSNR: 28.4499454498291\n"
     ]
    },
    {
     "name": "stderr",
     "output_type": "stream",
     "text": [
      " 37%|███▋      | 73002/200000 [4:08:37<3:43:24,  9.47it/s]"
     ]
    },
    {
     "name": "stdout",
     "output_type": "stream",
     "text": [
      "[TRAIN] Iter: 73000 Loss: 0.002678830409422517  PSNR: 30.700956344604492\n"
     ]
    },
    {
     "name": "stderr",
     "output_type": "stream",
     "text": [
      " 37%|███▋      | 74000/200000 [4:10:20<4:00:35,  8.73it/s]"
     ]
    },
    {
     "name": "stdout",
     "output_type": "stream",
     "text": [
      "[TRAIN] Iter: 74000 Loss: 0.004461286589503288  PSNR: 27.482885360717773\n"
     ]
    },
    {
     "name": "stderr",
     "output_type": "stream",
     "text": [
      " 38%|███▊      | 75000/200000 [4:12:11<3:59:33,  8.70it/s]"
     ]
    },
    {
     "name": "stdout",
     "output_type": "stream",
     "text": [
      "[TRAIN] Iter: 75000 Loss: 0.0026093325577676296  PSNR: 31.91278839111328\n"
     ]
    },
    {
     "name": "stderr",
     "output_type": "stream",
     "text": [
      " 38%|███▊      | 76000/200000 [4:14:01<3:55:22,  8.78it/s]"
     ]
    },
    {
     "name": "stdout",
     "output_type": "stream",
     "text": [
      "[TRAIN] Iter: 76000 Loss: 0.0029787071980535984  PSNR: 29.750755310058594\n"
     ]
    },
    {
     "name": "stderr",
     "output_type": "stream",
     "text": [
      " 38%|███▊      | 77000/200000 [4:15:50<3:51:04,  8.87it/s]"
     ]
    },
    {
     "name": "stdout",
     "output_type": "stream",
     "text": [
      "[TRAIN] Iter: 77000 Loss: 0.003830154426395893  PSNR: 28.31700897216797\n"
     ]
    },
    {
     "name": "stderr",
     "output_type": "stream",
     "text": [
      " 39%|███▉      | 78000/200000 [4:17:39<3:50:46,  8.81it/s]"
     ]
    },
    {
     "name": "stdout",
     "output_type": "stream",
     "text": [
      "[TRAIN] Iter: 78000 Loss: 0.003321089781820774  PSNR: 29.62551498413086\n"
     ]
    },
    {
     "name": "stderr",
     "output_type": "stream",
     "text": [
      " 40%|███▉      | 79001/200000 [4:19:28<3:41:33,  9.10it/s]"
     ]
    },
    {
     "name": "stdout",
     "output_type": "stream",
     "text": [
      "[TRAIN] Iter: 79000 Loss: 0.0029903126414865255  PSNR: 30.860837936401367\n"
     ]
    },
    {
     "name": "stderr",
     "output_type": "stream",
     "text": [
      " 40%|███▉      | 79999/200000 [4:21:17<3:37:54,  9.18it/s]"
     ]
    },
    {
     "name": "stdout",
     "output_type": "stream",
     "text": [
      "Saved checkpoints at ./logs\\mic_blender200k_fullres\\checkpoints\\080000.tar\n",
      "test poses shape torch.Size([25, 4, 4])\n"
     ]
    },
    {
     "name": "stderr",
     "output_type": "stream",
     "text": []
    },
    {
     "name": "stdout",
     "output_type": "stream",
     "text": [
      "0 0.0020411014556884766\n"
     ]
    },
    {
     "name": "stderr",
     "output_type": "stream",
     "text": []
    },
    {
     "name": "stdout",
     "output_type": "stream",
     "text": [
      "torch.Size([800, 800, 3]) torch.Size([800, 800])\n",
      "Frame 0 - PSNR: 30.30, SSIM: 0.9664, LPIPS: 0.0550\n",
      "1 24.394073009490967\n"
     ]
    },
    {
     "name": "stderr",
     "output_type": "stream",
     "text": []
    },
    {
     "name": "stdout",
     "output_type": "stream",
     "text": [
      "Frame 1 - PSNR: 30.52, SSIM: 0.9662, LPIPS: 0.0557\n",
      "2 24.392239809036255\n"
     ]
    },
    {
     "name": "stderr",
     "output_type": "stream",
     "text": []
    },
    {
     "name": "stdout",
     "output_type": "stream",
     "text": [
      "Frame 2 - PSNR: 29.36, SSIM: 0.9600, LPIPS: 0.0612\n",
      "3 24.389775276184082\n"
     ]
    },
    {
     "name": "stderr",
     "output_type": "stream",
     "text": []
    },
    {
     "name": "stdout",
     "output_type": "stream",
     "text": [
      "Frame 3 - PSNR: 29.48, SSIM: 0.9588, LPIPS: 0.0656\n",
      "4 24.372531175613403\n"
     ]
    },
    {
     "name": "stderr",
     "output_type": "stream",
     "text": []
    },
    {
     "name": "stdout",
     "output_type": "stream",
     "text": [
      "Frame 4 - PSNR: 29.28, SSIM: 0.9568, LPIPS: 0.0646\n",
      "5 24.37763738632202\n"
     ]
    },
    {
     "name": "stderr",
     "output_type": "stream",
     "text": []
    },
    {
     "name": "stdout",
     "output_type": "stream",
     "text": [
      "Frame 5 - PSNR: 29.72, SSIM: 0.9610, LPIPS: 0.0535\n",
      "6 24.368510723114014\n"
     ]
    },
    {
     "name": "stderr",
     "output_type": "stream",
     "text": []
    },
    {
     "name": "stdout",
     "output_type": "stream",
     "text": [
      "Frame 6 - PSNR: 29.74, SSIM: 0.9734, LPIPS: 0.0356\n",
      "7 24.371320724487305\n"
     ]
    },
    {
     "name": "stderr",
     "output_type": "stream",
     "text": []
    },
    {
     "name": "stdout",
     "output_type": "stream",
     "text": [
      "Frame 7 - PSNR: 29.36, SSIM: 0.9637, LPIPS: 0.0444\n",
      "8 24.38408851623535\n"
     ]
    },
    {
     "name": "stderr",
     "output_type": "stream",
     "text": []
    },
    {
     "name": "stdout",
     "output_type": "stream",
     "text": [
      "Frame 8 - PSNR: 28.93, SSIM: 0.9547, LPIPS: 0.0586\n",
      "9 24.379173517227173\n"
     ]
    },
    {
     "name": "stderr",
     "output_type": "stream",
     "text": []
    },
    {
     "name": "stdout",
     "output_type": "stream",
     "text": [
      "Frame 9 - PSNR: 29.56, SSIM: 0.9598, LPIPS: 0.0633\n",
      "10 24.37497353553772\n"
     ]
    },
    {
     "name": "stderr",
     "output_type": "stream",
     "text": []
    },
    {
     "name": "stdout",
     "output_type": "stream",
     "text": [
      "Frame 10 - PSNR: 30.48, SSIM: 0.9648, LPIPS: 0.0599\n",
      "11 24.37243413925171\n"
     ]
    },
    {
     "name": "stderr",
     "output_type": "stream",
     "text": []
    },
    {
     "name": "stdout",
     "output_type": "stream",
     "text": [
      "Frame 11 - PSNR: 31.03, SSIM: 0.9689, LPIPS: 0.0570\n",
      "12 24.37368631362915\n"
     ]
    },
    {
     "name": "stderr",
     "output_type": "stream",
     "text": []
    },
    {
     "name": "stdout",
     "output_type": "stream",
     "text": [
      "Frame 12 - PSNR: 29.06, SSIM: 0.9700, LPIPS: 0.0505\n",
      "13 24.3845317363739\n"
     ]
    },
    {
     "name": "stderr",
     "output_type": "stream",
     "text": []
    },
    {
     "name": "stdout",
     "output_type": "stream",
     "text": [
      "Frame 13 - PSNR: 30.38, SSIM: 0.9718, LPIPS: 0.0515\n",
      "14 24.36912488937378\n"
     ]
    },
    {
     "name": "stderr",
     "output_type": "stream",
     "text": []
    },
    {
     "name": "stdout",
     "output_type": "stream",
     "text": [
      "Frame 14 - PSNR: 30.25, SSIM: 0.9657, LPIPS: 0.0603\n",
      "15 24.375327110290527\n"
     ]
    },
    {
     "name": "stderr",
     "output_type": "stream",
     "text": []
    },
    {
     "name": "stdout",
     "output_type": "stream",
     "text": [
      "Frame 15 - PSNR: 29.95, SSIM: 0.9623, LPIPS: 0.0676\n",
      "16 24.37442708015442\n"
     ]
    },
    {
     "name": "stderr",
     "output_type": "stream",
     "text": []
    },
    {
     "name": "stdout",
     "output_type": "stream",
     "text": [
      "Frame 16 - PSNR: 29.95, SSIM: 0.9614, LPIPS: 0.0654\n",
      "17 24.370604276657104\n"
     ]
    },
    {
     "name": "stderr",
     "output_type": "stream",
     "text": []
    },
    {
     "name": "stdout",
     "output_type": "stream",
     "text": [
      "Frame 17 - PSNR: 29.95, SSIM: 0.9609, LPIPS: 0.0592\n",
      "18 24.377891063690186\n"
     ]
    },
    {
     "name": "stderr",
     "output_type": "stream",
     "text": []
    },
    {
     "name": "stdout",
     "output_type": "stream",
     "text": [
      "Frame 18 - PSNR: 30.14, SSIM: 0.9663, LPIPS: 0.0468\n",
      "19 24.367404222488403\n"
     ]
    },
    {
     "name": "stderr",
     "output_type": "stream",
     "text": []
    },
    {
     "name": "stdout",
     "output_type": "stream",
     "text": [
      "Frame 19 - PSNR: 29.39, SSIM: 0.9739, LPIPS: 0.0345\n",
      "20 24.366942644119263\n"
     ]
    },
    {
     "name": "stderr",
     "output_type": "stream",
     "text": []
    },
    {
     "name": "stdout",
     "output_type": "stream",
     "text": [
      "Frame 20 - PSNR: 29.29, SSIM: 0.9569, LPIPS: 0.0511\n",
      "21 24.387370347976685\n"
     ]
    },
    {
     "name": "stderr",
     "output_type": "stream",
     "text": []
    },
    {
     "name": "stdout",
     "output_type": "stream",
     "text": [
      "Frame 21 - PSNR: 28.65, SSIM: 0.9537, LPIPS: 0.0642\n",
      "22 24.383285522460938\n"
     ]
    },
    {
     "name": "stderr",
     "output_type": "stream",
     "text": []
    },
    {
     "name": "stdout",
     "output_type": "stream",
     "text": [
      "Frame 22 - PSNR: 28.66, SSIM: 0.9556, LPIPS: 0.0640\n",
      "23 24.37142038345337\n"
     ]
    },
    {
     "name": "stderr",
     "output_type": "stream",
     "text": []
    },
    {
     "name": "stdout",
     "output_type": "stream",
     "text": [
      "Frame 23 - PSNR: 28.80, SSIM: 0.9571, LPIPS: 0.0625\n",
      "24 24.38883662223816\n"
     ]
    },
    {
     "name": "stderr",
     "output_type": "stream",
     "text": [
      "100%|██████████| 25/25 [10:09<00:00, 24.38s/it]\n",
      " 40%|████      | 80000/200000 [4:31:27<6099:14:42, 182.98s/it]"
     ]
    },
    {
     "name": "stdout",
     "output_type": "stream",
     "text": [
      "Frame 24 - PSNR: 30.02, SSIM: 0.9633, LPIPS: 0.0507\n",
      "\n",
      "=== METRICS SUMMARY ===\n",
      "Average PSNR: 29.6894 ± 0.6133\n",
      "Average SSIM: 0.9629 ± 0.0057\n",
      "Average LPIPS: 0.0561 ± 0.0087\n",
      "=======================\n",
      "Metrics logged to: ./logs\\mic_blender200k_fullres\\metrics\\metrics_080000.txt and ./logs\\mic_blender200k_fullres\\metrics\\metrics_080000.json\n",
      "Training history updated: ./logs\\mic_blender200k_fullres\\metrics\\training_metrics.json\n",
      "Saved test set with metrics\n",
      "[TRAIN] Iter: 80000 Loss: 0.003269987180829048  PSNR: 30.736082077026367\n"
     ]
    },
    {
     "name": "stderr",
     "output_type": "stream",
     "text": [
      " 40%|████      | 81000/200000 [4:33:16<3:43:50,  8.86it/s]    "
     ]
    },
    {
     "name": "stdout",
     "output_type": "stream",
     "text": [
      "[TRAIN] Iter: 81000 Loss: 0.0043153357692062855  PSNR: 26.99506187438965\n"
     ]
    },
    {
     "name": "stderr",
     "output_type": "stream",
     "text": [
      " 41%|████      | 82000/200000 [4:35:05<3:44:56,  8.74it/s]"
     ]
    },
    {
     "name": "stdout",
     "output_type": "stream",
     "text": [
      "[TRAIN] Iter: 82000 Loss: 0.002672470174729824  PSNR: 29.989482879638672\n"
     ]
    },
    {
     "name": "stderr",
     "output_type": "stream",
     "text": [
      " 42%|████▏     | 83000/200000 [4:36:50<3:31:02,  9.24it/s]"
     ]
    },
    {
     "name": "stdout",
     "output_type": "stream",
     "text": [
      "[TRAIN] Iter: 83000 Loss: 0.004492220468819141  PSNR: 28.76222801208496\n"
     ]
    },
    {
     "name": "stderr",
     "output_type": "stream",
     "text": [
      " 42%|████▏     | 84002/200000 [4:38:34<3:23:25,  9.50it/s]"
     ]
    },
    {
     "name": "stdout",
     "output_type": "stream",
     "text": [
      "[TRAIN] Iter: 84000 Loss: 0.0041135381907224655  PSNR: 28.60772705078125\n"
     ]
    },
    {
     "name": "stderr",
     "output_type": "stream",
     "text": [
      " 43%|████▎     | 85002/200000 [4:40:18<3:18:33,  9.65it/s]"
     ]
    },
    {
     "name": "stdout",
     "output_type": "stream",
     "text": [
      "[TRAIN] Iter: 85000 Loss: 0.0028292802162468433  PSNR: 30.672260284423828\n"
     ]
    },
    {
     "name": "stderr",
     "output_type": "stream",
     "text": [
      " 43%|████▎     | 86000/200000 [4:42:01<3:25:16,  9.26it/s]"
     ]
    },
    {
     "name": "stdout",
     "output_type": "stream",
     "text": [
      "[TRAIN] Iter: 86000 Loss: 0.002959105186164379  PSNR: 29.087888717651367\n"
     ]
    },
    {
     "name": "stderr",
     "output_type": "stream",
     "text": [
      " 44%|████▎     | 87002/200000 [4:43:45<3:17:23,  9.54it/s]"
     ]
    },
    {
     "name": "stdout",
     "output_type": "stream",
     "text": [
      "[TRAIN] Iter: 87000 Loss: 0.0035260231234133244  PSNR: 28.499723434448242\n"
     ]
    },
    {
     "name": "stderr",
     "output_type": "stream",
     "text": [
      " 44%|████▍     | 88002/200000 [4:45:29<3:14:38,  9.59it/s]"
     ]
    },
    {
     "name": "stdout",
     "output_type": "stream",
     "text": [
      "[TRAIN] Iter: 88000 Loss: 0.0036105550825595856  PSNR: 28.988542556762695\n"
     ]
    },
    {
     "name": "stderr",
     "output_type": "stream",
     "text": [
      " 44%|████▍     | 89000/200000 [4:47:12<3:17:38,  9.36it/s]"
     ]
    },
    {
     "name": "stdout",
     "output_type": "stream",
     "text": [
      "[TRAIN] Iter: 89000 Loss: 0.0044226255267858505  PSNR: 27.49827766418457\n"
     ]
    },
    {
     "name": "stderr",
     "output_type": "stream",
     "text": [
      " 45%|████▍     | 89999/200000 [4:48:55<3:10:11,  9.64it/s]"
     ]
    },
    {
     "name": "stdout",
     "output_type": "stream",
     "text": [
      "Saved checkpoints at ./logs\\mic_blender200k_fullres\\checkpoints\\090000.tar\n",
      "test poses shape torch.Size([25, 4, 4])\n"
     ]
    },
    {
     "name": "stderr",
     "output_type": "stream",
     "text": []
    },
    {
     "name": "stdout",
     "output_type": "stream",
     "text": [
      "0 0.0016565322875976562\n"
     ]
    },
    {
     "name": "stderr",
     "output_type": "stream",
     "text": []
    },
    {
     "name": "stdout",
     "output_type": "stream",
     "text": [
      "torch.Size([800, 800, 3]) torch.Size([800, 800])\n",
      "Frame 0 - PSNR: 30.35, SSIM: 0.9669, LPIPS: 0.0538\n",
      "1 23.08792209625244\n"
     ]
    },
    {
     "name": "stderr",
     "output_type": "stream",
     "text": []
    },
    {
     "name": "stdout",
     "output_type": "stream",
     "text": [
      "Frame 1 - PSNR: 30.29, SSIM: 0.9662, LPIPS: 0.0544\n",
      "2 23.06982398033142\n"
     ]
    },
    {
     "name": "stderr",
     "output_type": "stream",
     "text": []
    },
    {
     "name": "stdout",
     "output_type": "stream",
     "text": [
      "Frame 2 - PSNR: 29.23, SSIM: 0.9603, LPIPS: 0.0593\n",
      "3 23.073716640472412\n"
     ]
    },
    {
     "name": "stderr",
     "output_type": "stream",
     "text": []
    },
    {
     "name": "stdout",
     "output_type": "stream",
     "text": [
      "Frame 3 - PSNR: 29.37, SSIM: 0.9591, LPIPS: 0.0621\n",
      "4 23.0764741897583\n"
     ]
    },
    {
     "name": "stderr",
     "output_type": "stream",
     "text": []
    },
    {
     "name": "stdout",
     "output_type": "stream",
     "text": [
      "Frame 4 - PSNR: 29.22, SSIM: 0.9568, LPIPS: 0.0625\n",
      "5 23.067339181900024\n"
     ]
    },
    {
     "name": "stderr",
     "output_type": "stream",
     "text": []
    },
    {
     "name": "stdout",
     "output_type": "stream",
     "text": [
      "Frame 5 - PSNR: 29.66, SSIM: 0.9615, LPIPS: 0.0527\n",
      "6 23.071537494659424\n"
     ]
    },
    {
     "name": "stderr",
     "output_type": "stream",
     "text": []
    },
    {
     "name": "stdout",
     "output_type": "stream",
     "text": [
      "Frame 6 - PSNR: 30.00, SSIM: 0.9757, LPIPS: 0.0356\n",
      "7 23.070685625076294\n"
     ]
    },
    {
     "name": "stderr",
     "output_type": "stream",
     "text": []
    },
    {
     "name": "stdout",
     "output_type": "stream",
     "text": [
      "Frame 7 - PSNR: 29.84, SSIM: 0.9656, LPIPS: 0.0442\n",
      "8 23.06890344619751\n"
     ]
    },
    {
     "name": "stderr",
     "output_type": "stream",
     "text": []
    },
    {
     "name": "stdout",
     "output_type": "stream",
     "text": [
      "Frame 8 - PSNR: 28.94, SSIM: 0.9548, LPIPS: 0.0595\n",
      "9 23.07244324684143\n"
     ]
    },
    {
     "name": "stderr",
     "output_type": "stream",
     "text": []
    },
    {
     "name": "stdout",
     "output_type": "stream",
     "text": [
      "Frame 9 - PSNR: 29.81, SSIM: 0.9604, LPIPS: 0.0623\n",
      "10 23.070295572280884\n"
     ]
    },
    {
     "name": "stderr",
     "output_type": "stream",
     "text": []
    },
    {
     "name": "stdout",
     "output_type": "stream",
     "text": [
      "Frame 10 - PSNR: 30.64, SSIM: 0.9655, LPIPS: 0.0597\n",
      "11 23.064461708068848\n"
     ]
    },
    {
     "name": "stderr",
     "output_type": "stream",
     "text": []
    },
    {
     "name": "stdout",
     "output_type": "stream",
     "text": [
      "Frame 11 - PSNR: 31.56, SSIM: 0.9708, LPIPS: 0.0566\n",
      "12 23.070051193237305\n"
     ]
    },
    {
     "name": "stderr",
     "output_type": "stream",
     "text": []
    },
    {
     "name": "stdout",
     "output_type": "stream",
     "text": [
      "Frame 12 - PSNR: 29.34, SSIM: 0.9712, LPIPS: 0.0497\n",
      "13 23.06182098388672\n"
     ]
    },
    {
     "name": "stderr",
     "output_type": "stream",
     "text": []
    },
    {
     "name": "stdout",
     "output_type": "stream",
     "text": [
      "Frame 13 - PSNR: 30.62, SSIM: 0.9731, LPIPS: 0.0486\n",
      "14 23.062761068344116\n"
     ]
    },
    {
     "name": "stderr",
     "output_type": "stream",
     "text": []
    },
    {
     "name": "stdout",
     "output_type": "stream",
     "text": [
      "Frame 14 - PSNR: 30.75, SSIM: 0.9676, LPIPS: 0.0597\n",
      "15 23.06776714324951\n"
     ]
    },
    {
     "name": "stderr",
     "output_type": "stream",
     "text": []
    },
    {
     "name": "stdout",
     "output_type": "stream",
     "text": [
      "Frame 15 - PSNR: 30.65, SSIM: 0.9645, LPIPS: 0.0628\n",
      "16 23.056382417678833\n"
     ]
    },
    {
     "name": "stderr",
     "output_type": "stream",
     "text": []
    },
    {
     "name": "stdout",
     "output_type": "stream",
     "text": [
      "Frame 16 - PSNR: 30.26, SSIM: 0.9629, LPIPS: 0.0627\n",
      "17 23.067856550216675\n"
     ]
    },
    {
     "name": "stderr",
     "output_type": "stream",
     "text": []
    },
    {
     "name": "stdout",
     "output_type": "stream",
     "text": [
      "Frame 17 - PSNR: 29.86, SSIM: 0.9613, LPIPS: 0.0589\n",
      "18 23.07596445083618\n"
     ]
    },
    {
     "name": "stderr",
     "output_type": "stream",
     "text": []
    },
    {
     "name": "stdout",
     "output_type": "stream",
     "text": [
      "Frame 18 - PSNR: 30.29, SSIM: 0.9683, LPIPS: 0.0448\n",
      "19 23.072790145874023\n"
     ]
    },
    {
     "name": "stderr",
     "output_type": "stream",
     "text": []
    },
    {
     "name": "stdout",
     "output_type": "stream",
     "text": [
      "Frame 19 - PSNR: 29.50, SSIM: 0.9757, LPIPS: 0.0334\n",
      "20 23.071529150009155\n"
     ]
    },
    {
     "name": "stderr",
     "output_type": "stream",
     "text": []
    },
    {
     "name": "stdout",
     "output_type": "stream",
     "text": [
      "Frame 20 - PSNR: 29.07, SSIM: 0.9570, LPIPS: 0.0511\n",
      "21 23.077718496322632\n"
     ]
    },
    {
     "name": "stderr",
     "output_type": "stream",
     "text": []
    },
    {
     "name": "stdout",
     "output_type": "stream",
     "text": [
      "Frame 21 - PSNR: 28.75, SSIM: 0.9543, LPIPS: 0.0627\n",
      "22 23.079514503479004\n"
     ]
    },
    {
     "name": "stderr",
     "output_type": "stream",
     "text": []
    },
    {
     "name": "stdout",
     "output_type": "stream",
     "text": [
      "Frame 22 - PSNR: 28.76, SSIM: 0.9565, LPIPS: 0.0632\n",
      "23 23.080928802490234\n"
     ]
    },
    {
     "name": "stderr",
     "output_type": "stream",
     "text": []
    },
    {
     "name": "stdout",
     "output_type": "stream",
     "text": [
      "Frame 23 - PSNR: 29.09, SSIM: 0.9590, LPIPS: 0.0597\n",
      "24 23.073609590530396\n"
     ]
    },
    {
     "name": "stderr",
     "output_type": "stream",
     "text": [
      "100%|██████████| 25/25 [09:36<00:00, 23.07s/it]\n",
      " 45%|████▌     | 90000/200000 [4:58:32<5291:17:25, 173.17s/it]"
     ]
    },
    {
     "name": "stdout",
     "output_type": "stream",
     "text": [
      "Frame 24 - PSNR: 30.21, SSIM: 0.9646, LPIPS: 0.0502\n",
      "\n",
      "=== METRICS SUMMARY ===\n",
      "Average PSNR: 29.8432 ± 0.7038\n",
      "Average SSIM: 0.9640 ± 0.0061\n",
      "Average LPIPS: 0.0548 ± 0.0083\n",
      "=======================\n",
      "Metrics logged to: ./logs\\mic_blender200k_fullres\\metrics\\metrics_090000.txt and ./logs\\mic_blender200k_fullres\\metrics\\metrics_090000.json\n",
      "Training history updated: ./logs\\mic_blender200k_fullres\\metrics\\training_metrics.json\n",
      "Saved test set with metrics\n",
      "[TRAIN] Iter: 90000 Loss: 0.003075258806347847  PSNR: 29.90850067138672\n"
     ]
    },
    {
     "name": "stderr",
     "output_type": "stream",
     "text": [
      " 46%|████▌     | 91002/200000 [5:00:16<3:11:14,  9.50it/s]    "
     ]
    },
    {
     "name": "stdout",
     "output_type": "stream",
     "text": [
      "[TRAIN] Iter: 91000 Loss: 0.002386599313467741  PSNR: 32.480201721191406\n"
     ]
    },
    {
     "name": "stderr",
     "output_type": "stream",
     "text": [
      " 46%|████▌     | 92002/200000 [5:02:00<3:09:29,  9.50it/s]"
     ]
    },
    {
     "name": "stdout",
     "output_type": "stream",
     "text": [
      "[TRAIN] Iter: 92000 Loss: 0.003911353647708893  PSNR: 27.97228240966797\n"
     ]
    },
    {
     "name": "stderr",
     "output_type": "stream",
     "text": [
      " 47%|████▋     | 93002/200000 [5:03:44<3:06:53,  9.54it/s]"
     ]
    },
    {
     "name": "stdout",
     "output_type": "stream",
     "text": [
      "[TRAIN] Iter: 93000 Loss: 0.003078827168792486  PSNR: 30.91545295715332\n"
     ]
    },
    {
     "name": "stderr",
     "output_type": "stream",
     "text": [
      " 47%|████▋     | 94002/200000 [5:05:27<3:05:07,  9.54it/s]"
     ]
    },
    {
     "name": "stdout",
     "output_type": "stream",
     "text": [
      "[TRAIN] Iter: 94000 Loss: 0.004140052478760481  PSNR: 29.120738983154297\n"
     ]
    },
    {
     "name": "stderr",
     "output_type": "stream",
     "text": [
      " 48%|████▊     | 95002/200000 [5:07:11<3:04:59,  9.46it/s]"
     ]
    },
    {
     "name": "stdout",
     "output_type": "stream",
     "text": [
      "[TRAIN] Iter: 95000 Loss: 0.00331760011613369  PSNR: 30.403274536132812\n"
     ]
    },
    {
     "name": "stderr",
     "output_type": "stream",
     "text": [
      " 48%|████▊     | 96000/200000 [5:08:55<3:07:14,  9.26it/s]"
     ]
    },
    {
     "name": "stdout",
     "output_type": "stream",
     "text": [
      "[TRAIN] Iter: 96000 Loss: 0.0034455701243132353  PSNR: 30.252845764160156\n"
     ]
    },
    {
     "name": "stderr",
     "output_type": "stream",
     "text": [
      " 49%|████▊     | 97002/200000 [5:10:39<3:00:45,  9.50it/s]"
     ]
    },
    {
     "name": "stdout",
     "output_type": "stream",
     "text": [
      "[TRAIN] Iter: 97000 Loss: 0.003168487688526511  PSNR: 30.070829391479492\n"
     ]
    },
    {
     "name": "stderr",
     "output_type": "stream",
     "text": [
      " 49%|████▉     | 98000/200000 [5:12:22<3:04:00,  9.24it/s]"
     ]
    },
    {
     "name": "stdout",
     "output_type": "stream",
     "text": [
      "[TRAIN] Iter: 98000 Loss: 0.004647903144359589  PSNR: 27.95571517944336\n"
     ]
    },
    {
     "name": "stderr",
     "output_type": "stream",
     "text": [
      " 50%|████▉     | 99002/200000 [5:14:06<2:55:59,  9.56it/s]"
     ]
    },
    {
     "name": "stdout",
     "output_type": "stream",
     "text": [
      "[TRAIN] Iter: 99000 Loss: 0.002146538347005844  PSNR: 32.79274368286133\n"
     ]
    },
    {
     "name": "stderr",
     "output_type": "stream",
     "text": [
      " 50%|████▉     | 99999/200000 [5:15:49<2:51:35,  9.71it/s]"
     ]
    },
    {
     "name": "stdout",
     "output_type": "stream",
     "text": [
      "Saved checkpoints at ./logs\\mic_blender200k_fullres\\checkpoints\\100000.tar\n"
     ]
    },
    {
     "name": "stderr",
     "output_type": "stream",
     "text": []
    },
    {
     "name": "stdout",
     "output_type": "stream",
     "text": [
      "0 0.0017399787902832031\n"
     ]
    },
    {
     "name": "stderr",
     "output_type": "stream",
     "text": []
    },
    {
     "name": "stdout",
     "output_type": "stream",
     "text": [
      "torch.Size([800, 800, 3]) torch.Size([800, 800])\n",
      "1 22.99730348587036\n"
     ]
    },
    {
     "name": "stderr",
     "output_type": "stream",
     "text": []
    },
    {
     "name": "stdout",
     "output_type": "stream",
     "text": [
      "2 22.972422122955322\n"
     ]
    },
    {
     "name": "stderr",
     "output_type": "stream",
     "text": []
    },
    {
     "name": "stdout",
     "output_type": "stream",
     "text": [
      "3 22.970651865005493\n"
     ]
    },
    {
     "name": "stderr",
     "output_type": "stream",
     "text": []
    },
    {
     "name": "stdout",
     "output_type": "stream",
     "text": [
      "4 22.973586797714233\n"
     ]
    },
    {
     "name": "stderr",
     "output_type": "stream",
     "text": []
    },
    {
     "name": "stdout",
     "output_type": "stream",
     "text": [
      "5 22.976321697235107\n"
     ]
    },
    {
     "name": "stderr",
     "output_type": "stream",
     "text": []
    },
    {
     "name": "stdout",
     "output_type": "stream",
     "text": [
      "6 22.976247310638428\n"
     ]
    },
    {
     "name": "stderr",
     "output_type": "stream",
     "text": []
    },
    {
     "name": "stdout",
     "output_type": "stream",
     "text": [
      "7 22.978339672088623\n"
     ]
    },
    {
     "name": "stderr",
     "output_type": "stream",
     "text": []
    },
    {
     "name": "stdout",
     "output_type": "stream",
     "text": [
      "8 22.974257469177246\n"
     ]
    },
    {
     "name": "stderr",
     "output_type": "stream",
     "text": []
    },
    {
     "name": "stdout",
     "output_type": "stream",
     "text": [
      "9 22.974974155426025\n"
     ]
    },
    {
     "name": "stderr",
     "output_type": "stream",
     "text": []
    },
    {
     "name": "stdout",
     "output_type": "stream",
     "text": [
      "10 22.97363781929016\n"
     ]
    },
    {
     "name": "stderr",
     "output_type": "stream",
     "text": []
    },
    {
     "name": "stdout",
     "output_type": "stream",
     "text": [
      "11 22.973989486694336\n"
     ]
    },
    {
     "name": "stderr",
     "output_type": "stream",
     "text": []
    },
    {
     "name": "stdout",
     "output_type": "stream",
     "text": [
      "12 22.97771191596985\n"
     ]
    },
    {
     "name": "stderr",
     "output_type": "stream",
     "text": []
    },
    {
     "name": "stdout",
     "output_type": "stream",
     "text": [
      "13 22.975331783294678\n"
     ]
    },
    {
     "name": "stderr",
     "output_type": "stream",
     "text": []
    },
    {
     "name": "stdout",
     "output_type": "stream",
     "text": [
      "14 22.976978302001953\n"
     ]
    },
    {
     "name": "stderr",
     "output_type": "stream",
     "text": []
    },
    {
     "name": "stdout",
     "output_type": "stream",
     "text": [
      "15 22.980653524398804\n"
     ]
    },
    {
     "name": "stderr",
     "output_type": "stream",
     "text": []
    },
    {
     "name": "stdout",
     "output_type": "stream",
     "text": [
      "16 22.976983547210693\n"
     ]
    },
    {
     "name": "stderr",
     "output_type": "stream",
     "text": []
    },
    {
     "name": "stdout",
     "output_type": "stream",
     "text": [
      "17 22.97907543182373\n"
     ]
    },
    {
     "name": "stderr",
     "output_type": "stream",
     "text": []
    },
    {
     "name": "stdout",
     "output_type": "stream",
     "text": [
      "18 22.979626178741455\n"
     ]
    },
    {
     "name": "stderr",
     "output_type": "stream",
     "text": []
    },
    {
     "name": "stdout",
     "output_type": "stream",
     "text": [
      "19 22.974870681762695\n"
     ]
    },
    {
     "name": "stderr",
     "output_type": "stream",
     "text": []
    },
    {
     "name": "stdout",
     "output_type": "stream",
     "text": [
      "20 22.975584745407104\n"
     ]
    },
    {
     "name": "stderr",
     "output_type": "stream",
     "text": []
    },
    {
     "name": "stdout",
     "output_type": "stream",
     "text": [
      "21 22.976588010787964\n"
     ]
    },
    {
     "name": "stderr",
     "output_type": "stream",
     "text": []
    },
    {
     "name": "stdout",
     "output_type": "stream",
     "text": [
      "22 22.97426700592041\n"
     ]
    },
    {
     "name": "stderr",
     "output_type": "stream",
     "text": []
    },
    {
     "name": "stdout",
     "output_type": "stream",
     "text": [
      "23 22.975120782852173\n"
     ]
    },
    {
     "name": "stderr",
     "output_type": "stream",
     "text": []
    },
    {
     "name": "stdout",
     "output_type": "stream",
     "text": [
      "24 22.97420597076416\n"
     ]
    },
    {
     "name": "stderr",
     "output_type": "stream",
     "text": []
    },
    {
     "name": "stdout",
     "output_type": "stream",
     "text": [
      "25 22.978758096694946\n"
     ]
    },
    {
     "name": "stderr",
     "output_type": "stream",
     "text": []
    },
    {
     "name": "stdout",
     "output_type": "stream",
     "text": [
      "26 22.976274967193604\n"
     ]
    },
    {
     "name": "stderr",
     "output_type": "stream",
     "text": []
    },
    {
     "name": "stdout",
     "output_type": "stream",
     "text": [
      "27 22.973644495010376\n"
     ]
    },
    {
     "name": "stderr",
     "output_type": "stream",
     "text": []
    },
    {
     "name": "stdout",
     "output_type": "stream",
     "text": [
      "28 22.974608421325684\n"
     ]
    },
    {
     "name": "stderr",
     "output_type": "stream",
     "text": []
    },
    {
     "name": "stdout",
     "output_type": "stream",
     "text": [
      "29 22.975528955459595\n"
     ]
    },
    {
     "name": "stderr",
     "output_type": "stream",
     "text": []
    },
    {
     "name": "stdout",
     "output_type": "stream",
     "text": [
      "30 22.9758780002594\n"
     ]
    },
    {
     "name": "stderr",
     "output_type": "stream",
     "text": []
    },
    {
     "name": "stdout",
     "output_type": "stream",
     "text": [
      "31 22.971125602722168\n"
     ]
    },
    {
     "name": "stderr",
     "output_type": "stream",
     "text": []
    },
    {
     "name": "stdout",
     "output_type": "stream",
     "text": [
      "32 22.97148299217224\n"
     ]
    },
    {
     "name": "stderr",
     "output_type": "stream",
     "text": []
    },
    {
     "name": "stdout",
     "output_type": "stream",
     "text": [
      "33 22.973446130752563\n"
     ]
    },
    {
     "name": "stderr",
     "output_type": "stream",
     "text": []
    },
    {
     "name": "stdout",
     "output_type": "stream",
     "text": [
      "34 22.974876642227173\n"
     ]
    },
    {
     "name": "stderr",
     "output_type": "stream",
     "text": []
    },
    {
     "name": "stdout",
     "output_type": "stream",
     "text": [
      "35 22.976322650909424\n"
     ]
    },
    {
     "name": "stderr",
     "output_type": "stream",
     "text": []
    },
    {
     "name": "stdout",
     "output_type": "stream",
     "text": [
      "36 22.977407932281494\n"
     ]
    },
    {
     "name": "stderr",
     "output_type": "stream",
     "text": []
    },
    {
     "name": "stdout",
     "output_type": "stream",
     "text": [
      "37 22.973508596420288\n"
     ]
    },
    {
     "name": "stderr",
     "output_type": "stream",
     "text": []
    },
    {
     "name": "stdout",
     "output_type": "stream",
     "text": [
      "38 22.971691608428955\n"
     ]
    },
    {
     "name": "stderr",
     "output_type": "stream",
     "text": []
    },
    {
     "name": "stdout",
     "output_type": "stream",
     "text": [
      "39 22.973666429519653\n"
     ]
    },
    {
     "name": "stderr",
     "output_type": "stream",
     "text": [
      "100%|██████████| 40/40 [15:19<00:00, 22.98s/it]\n"
     ]
    },
    {
     "name": "stdout",
     "output_type": "stream",
     "text": [
      "Done, saving (40, 800, 800, 3) (40, 800, 800)\n",
      "test poses shape torch.Size([25, 4, 4])\n"
     ]
    },
    {
     "name": "stderr",
     "output_type": "stream",
     "text": []
    },
    {
     "name": "stdout",
     "output_type": "stream",
     "text": [
      "0 0.0022745132446289062\n"
     ]
    },
    {
     "name": "stderr",
     "output_type": "stream",
     "text": []
    },
    {
     "name": "stdout",
     "output_type": "stream",
     "text": [
      "torch.Size([800, 800, 3]) torch.Size([800, 800])\n",
      "Frame 0 - PSNR: 30.80, SSIM: 0.9695, LPIPS: 0.0504\n",
      "1 23.08736300468445\n"
     ]
    },
    {
     "name": "stderr",
     "output_type": "stream",
     "text": []
    },
    {
     "name": "stdout",
     "output_type": "stream",
     "text": [
      "Frame 1 - PSNR: 30.82, SSIM: 0.9686, LPIPS: 0.0491\n",
      "2 23.058595418930054\n"
     ]
    },
    {
     "name": "stderr",
     "output_type": "stream",
     "text": []
    },
    {
     "name": "stdout",
     "output_type": "stream",
     "text": [
      "Frame 2 - PSNR: 29.68, SSIM: 0.9624, LPIPS: 0.0556\n",
      "3 23.05983281135559\n"
     ]
    },
    {
     "name": "stderr",
     "output_type": "stream",
     "text": []
    },
    {
     "name": "stdout",
     "output_type": "stream",
     "text": [
      "Frame 3 - PSNR: 29.63, SSIM: 0.9603, LPIPS: 0.0606\n",
      "4 23.059444189071655\n"
     ]
    },
    {
     "name": "stderr",
     "output_type": "stream",
     "text": []
    },
    {
     "name": "stdout",
     "output_type": "stream",
     "text": [
      "Frame 4 - PSNR: 29.70, SSIM: 0.9587, LPIPS: 0.0591\n",
      "5 23.063619136810303\n"
     ]
    },
    {
     "name": "stderr",
     "output_type": "stream",
     "text": []
    },
    {
     "name": "stdout",
     "output_type": "stream",
     "text": [
      "Frame 5 - PSNR: 30.04, SSIM: 0.9632, LPIPS: 0.0483\n",
      "6 23.06095790863037\n"
     ]
    },
    {
     "name": "stderr",
     "output_type": "stream",
     "text": []
    },
    {
     "name": "stdout",
     "output_type": "stream",
     "text": [
      "Frame 6 - PSNR: 30.31, SSIM: 0.9775, LPIPS: 0.0329\n",
      "7 23.057281255722046\n"
     ]
    },
    {
     "name": "stderr",
     "output_type": "stream",
     "text": []
    },
    {
     "name": "stdout",
     "output_type": "stream",
     "text": [
      "Frame 7 - PSNR: 29.92, SSIM: 0.9676, LPIPS: 0.0400\n",
      "8 23.06618857383728\n"
     ]
    },
    {
     "name": "stderr",
     "output_type": "stream",
     "text": []
    },
    {
     "name": "stdout",
     "output_type": "stream",
     "text": [
      "Frame 8 - PSNR: 29.28, SSIM: 0.9566, LPIPS: 0.0550\n",
      "9 23.068381309509277\n"
     ]
    },
    {
     "name": "stderr",
     "output_type": "stream",
     "text": []
    },
    {
     "name": "stdout",
     "output_type": "stream",
     "text": [
      "Frame 9 - PSNR: 29.71, SSIM: 0.9603, LPIPS: 0.0620\n",
      "10 23.07160782814026\n"
     ]
    },
    {
     "name": "stderr",
     "output_type": "stream",
     "text": []
    },
    {
     "name": "stdout",
     "output_type": "stream",
     "text": [
      "Frame 10 - PSNR: 30.93, SSIM: 0.9667, LPIPS: 0.0572\n",
      "11 23.06807827949524\n"
     ]
    },
    {
     "name": "stderr",
     "output_type": "stream",
     "text": []
    },
    {
     "name": "stdout",
     "output_type": "stream",
     "text": [
      "Frame 11 - PSNR: 31.72, SSIM: 0.9716, LPIPS: 0.0522\n",
      "12 23.069515705108643\n"
     ]
    },
    {
     "name": "stderr",
     "output_type": "stream",
     "text": []
    },
    {
     "name": "stdout",
     "output_type": "stream",
     "text": [
      "Frame 12 - PSNR: 29.32, SSIM: 0.9711, LPIPS: 0.0480\n",
      "13 23.06788444519043\n"
     ]
    },
    {
     "name": "stderr",
     "output_type": "stream",
     "text": []
    },
    {
     "name": "stdout",
     "output_type": "stream",
     "text": [
      "Frame 13 - PSNR: 30.78, SSIM: 0.9739, LPIPS: 0.0490\n",
      "14 23.06247091293335\n"
     ]
    },
    {
     "name": "stderr",
     "output_type": "stream",
     "text": []
    },
    {
     "name": "stdout",
     "output_type": "stream",
     "text": [
      "Frame 14 - PSNR: 30.66, SSIM: 0.9682, LPIPS: 0.0560\n",
      "15 23.067657232284546\n"
     ]
    },
    {
     "name": "stderr",
     "output_type": "stream",
     "text": []
    },
    {
     "name": "stdout",
     "output_type": "stream",
     "text": [
      "Frame 15 - PSNR: 30.74, SSIM: 0.9651, LPIPS: 0.0611\n",
      "16 23.047596216201782\n"
     ]
    },
    {
     "name": "stderr",
     "output_type": "stream",
     "text": []
    },
    {
     "name": "stdout",
     "output_type": "stream",
     "text": [
      "Frame 16 - PSNR: 30.62, SSIM: 0.9641, LPIPS: 0.0590\n",
      "17 23.046081066131592\n"
     ]
    },
    {
     "name": "stderr",
     "output_type": "stream",
     "text": []
    },
    {
     "name": "stdout",
     "output_type": "stream",
     "text": [
      "Frame 17 - PSNR: 30.11, SSIM: 0.9618, LPIPS: 0.0540\n",
      "18 23.051373958587646\n"
     ]
    },
    {
     "name": "stderr",
     "output_type": "stream",
     "text": []
    },
    {
     "name": "stdout",
     "output_type": "stream",
     "text": [
      "Frame 18 - PSNR: 30.41, SSIM: 0.9690, LPIPS: 0.0432\n",
      "19 23.058659553527832\n"
     ]
    },
    {
     "name": "stderr",
     "output_type": "stream",
     "text": []
    },
    {
     "name": "stdout",
     "output_type": "stream",
     "text": [
      "Frame 19 - PSNR: 29.78, SSIM: 0.9776, LPIPS: 0.0319\n",
      "20 23.051891088485718\n"
     ]
    },
    {
     "name": "stderr",
     "output_type": "stream",
     "text": []
    },
    {
     "name": "stdout",
     "output_type": "stream",
     "text": [
      "Frame 20 - PSNR: 29.29, SSIM: 0.9585, LPIPS: 0.0485\n",
      "21 23.060718059539795\n"
     ]
    },
    {
     "name": "stderr",
     "output_type": "stream",
     "text": []
    },
    {
     "name": "stdout",
     "output_type": "stream",
     "text": [
      "Frame 21 - PSNR: 28.85, SSIM: 0.9554, LPIPS: 0.0583\n",
      "22 23.06708788871765\n"
     ]
    },
    {
     "name": "stderr",
     "output_type": "stream",
     "text": []
    },
    {
     "name": "stdout",
     "output_type": "stream",
     "text": [
      "Frame 22 - PSNR: 28.97, SSIM: 0.9574, LPIPS: 0.0610\n",
      "23 23.064429759979248\n"
     ]
    },
    {
     "name": "stderr",
     "output_type": "stream",
     "text": []
    },
    {
     "name": "stdout",
     "output_type": "stream",
     "text": [
      "Frame 23 - PSNR: 29.31, SSIM: 0.9601, LPIPS: 0.0582\n",
      "24 23.068492889404297\n"
     ]
    },
    {
     "name": "stderr",
     "output_type": "stream",
     "text": [
      "100%|██████████| 25/25 [09:36<00:00, 23.06s/it]\n",
      " 50%|█████     | 100000/200000 [5:40:45<12471:34:01, 448.98s/it]"
     ]
    },
    {
     "name": "stdout",
     "output_type": "stream",
     "text": [
      "Frame 24 - PSNR: 30.29, SSIM: 0.9653, LPIPS: 0.0482\n",
      "\n",
      "=== METRICS SUMMARY ===\n",
      "Average PSNR: 30.0676 ± 0.6986\n",
      "Average SSIM: 0.9652 ± 0.0061\n",
      "Average LPIPS: 0.0520 ± 0.0081\n",
      "=======================\n",
      "Metrics logged to: ./logs\\mic_blender200k_fullres\\metrics\\metrics_100000.txt and ./logs\\mic_blender200k_fullres\\metrics\\metrics_100000.json\n",
      "Training history updated: ./logs\\mic_blender200k_fullres\\metrics\\training_metrics.json\n",
      "Saved test set with metrics\n",
      "[TRAIN] Iter: 100000 Loss: 0.003627355210483074  PSNR: 28.901582717895508\n"
     ]
    },
    {
     "name": "stderr",
     "output_type": "stream",
     "text": [
      " 51%|█████     | 101002/200000 [5:42:29<2:51:23,  9.63it/s]     "
     ]
    },
    {
     "name": "stdout",
     "output_type": "stream",
     "text": [
      "[TRAIN] Iter: 101000 Loss: 0.00386290205642581  PSNR: 29.670663833618164\n"
     ]
    },
    {
     "name": "stderr",
     "output_type": "stream",
     "text": [
      " 51%|█████     | 102002/200000 [5:44:13<2:52:04,  9.49it/s]"
     ]
    },
    {
     "name": "stdout",
     "output_type": "stream",
     "text": [
      "[TRAIN] Iter: 102000 Loss: 0.0029045497067272663  PSNR: 30.618450164794922\n"
     ]
    },
    {
     "name": "stderr",
     "output_type": "stream",
     "text": [
      " 52%|█████▏    | 103002/200000 [5:45:56<2:49:21,  9.55it/s]"
     ]
    },
    {
     "name": "stdout",
     "output_type": "stream",
     "text": [
      "[TRAIN] Iter: 103000 Loss: 0.003072391264140606  PSNR: 29.777767181396484\n"
     ]
    },
    {
     "name": "stderr",
     "output_type": "stream",
     "text": [
      " 52%|█████▏    | 104000/200000 [5:47:42<2:50:52,  9.36it/s]"
     ]
    },
    {
     "name": "stdout",
     "output_type": "stream",
     "text": [
      "[TRAIN] Iter: 104000 Loss: 0.002680439967662096  PSNR: 32.73574447631836\n"
     ]
    },
    {
     "name": "stderr",
     "output_type": "stream",
     "text": [
      " 52%|█████▎    | 105000/200000 [5:49:25<2:49:54,  9.32it/s]"
     ]
    },
    {
     "name": "stdout",
     "output_type": "stream",
     "text": [
      "[TRAIN] Iter: 105000 Loss: 0.002521313028410077  PSNR: 29.96405601501465\n"
     ]
    },
    {
     "name": "stderr",
     "output_type": "stream",
     "text": [
      " 53%|█████▎    | 106000/200000 [5:51:09<2:49:20,  9.25it/s]"
     ]
    },
    {
     "name": "stdout",
     "output_type": "stream",
     "text": [
      "[TRAIN] Iter: 106000 Loss: 0.0034687728621065617  PSNR: 29.73634910583496\n"
     ]
    },
    {
     "name": "stderr",
     "output_type": "stream",
     "text": [
      " 54%|█████▎    | 107000/200000 [5:52:54<2:48:13,  9.21it/s]"
     ]
    },
    {
     "name": "stdout",
     "output_type": "stream",
     "text": [
      "[TRAIN] Iter: 107000 Loss: 0.002217378467321396  PSNR: 31.10655403137207\n"
     ]
    },
    {
     "name": "stderr",
     "output_type": "stream",
     "text": [
      " 54%|█████▍    | 108000/200000 [5:54:38<2:45:20,  9.27it/s]"
     ]
    },
    {
     "name": "stdout",
     "output_type": "stream",
     "text": [
      "[TRAIN] Iter: 108000 Loss: 0.0021191539708524942  PSNR: 32.479671478271484\n"
     ]
    },
    {
     "name": "stderr",
     "output_type": "stream",
     "text": [
      " 55%|█████▍    | 109000/200000 [5:56:22<2:44:58,  9.19it/s]"
     ]
    },
    {
     "name": "stdout",
     "output_type": "stream",
     "text": [
      "[TRAIN] Iter: 109000 Loss: 0.0032026227563619614  PSNR: 29.085847854614258\n"
     ]
    },
    {
     "name": "stderr",
     "output_type": "stream",
     "text": [
      " 55%|█████▍    | 109999/200000 [5:58:05<2:35:39,  9.64it/s]"
     ]
    },
    {
     "name": "stdout",
     "output_type": "stream",
     "text": [
      "Saved checkpoints at ./logs\\mic_blender200k_fullres\\checkpoints\\110000.tar\n",
      "test poses shape torch.Size([25, 4, 4])\n"
     ]
    },
    {
     "name": "stderr",
     "output_type": "stream",
     "text": []
    },
    {
     "name": "stdout",
     "output_type": "stream",
     "text": [
      "0 0.0020079612731933594\n"
     ]
    },
    {
     "name": "stderr",
     "output_type": "stream",
     "text": []
    },
    {
     "name": "stdout",
     "output_type": "stream",
     "text": [
      "torch.Size([800, 800, 3]) torch.Size([800, 800])\n",
      "Frame 0 - PSNR: 30.72, SSIM: 0.9702, LPIPS: 0.0485\n",
      "1 22.973390102386475\n"
     ]
    },
    {
     "name": "stderr",
     "output_type": "stream",
     "text": []
    },
    {
     "name": "stdout",
     "output_type": "stream",
     "text": [
      "Frame 1 - PSNR: 30.92, SSIM: 0.9703, LPIPS: 0.0476\n",
      "2 22.94953227043152\n"
     ]
    },
    {
     "name": "stderr",
     "output_type": "stream",
     "text": []
    },
    {
     "name": "stdout",
     "output_type": "stream",
     "text": [
      "Frame 2 - PSNR: 29.47, SSIM: 0.9624, LPIPS: 0.0567\n",
      "3 22.957812070846558\n"
     ]
    },
    {
     "name": "stderr",
     "output_type": "stream",
     "text": []
    },
    {
     "name": "stdout",
     "output_type": "stream",
     "text": [
      "Frame 3 - PSNR: 29.67, SSIM: 0.9618, LPIPS: 0.0551\n",
      "4 22.95523238182068\n"
     ]
    },
    {
     "name": "stderr",
     "output_type": "stream",
     "text": []
    },
    {
     "name": "stdout",
     "output_type": "stream",
     "text": [
      "Frame 4 - PSNR: 29.67, SSIM: 0.9588, LPIPS: 0.0564\n",
      "5 22.947107791900635\n"
     ]
    },
    {
     "name": "stderr",
     "output_type": "stream",
     "text": []
    },
    {
     "name": "stdout",
     "output_type": "stream",
     "text": [
      "Frame 5 - PSNR: 30.09, SSIM: 0.9644, LPIPS: 0.0478\n",
      "6 22.955288887023926\n"
     ]
    },
    {
     "name": "stderr",
     "output_type": "stream",
     "text": []
    },
    {
     "name": "stdout",
     "output_type": "stream",
     "text": [
      "Frame 6 - PSNR: 30.59, SSIM: 0.9794, LPIPS: 0.0318\n",
      "7 22.94696021080017\n"
     ]
    },
    {
     "name": "stderr",
     "output_type": "stream",
     "text": []
    },
    {
     "name": "stdout",
     "output_type": "stream",
     "text": [
      "Frame 7 - PSNR: 30.04, SSIM: 0.9686, LPIPS: 0.0382\n",
      "8 22.946945667266846\n"
     ]
    },
    {
     "name": "stderr",
     "output_type": "stream",
     "text": []
    },
    {
     "name": "stdout",
     "output_type": "stream",
     "text": [
      "Frame 8 - PSNR: 29.06, SSIM: 0.9564, LPIPS: 0.0572\n",
      "9 22.96360158920288\n"
     ]
    },
    {
     "name": "stderr",
     "output_type": "stream",
     "text": []
    },
    {
     "name": "stdout",
     "output_type": "stream",
     "text": [
      "Frame 9 - PSNR: 29.66, SSIM: 0.9603, LPIPS: 0.0610\n",
      "10 22.956169605255127\n"
     ]
    },
    {
     "name": "stderr",
     "output_type": "stream",
     "text": []
    },
    {
     "name": "stdout",
     "output_type": "stream",
     "text": [
      "Frame 10 - PSNR: 31.01, SSIM: 0.9671, LPIPS: 0.0540\n",
      "11 22.954408884048462\n"
     ]
    },
    {
     "name": "stderr",
     "output_type": "stream",
     "text": []
    },
    {
     "name": "stdout",
     "output_type": "stream",
     "text": [
      "Frame 11 - PSNR: 31.97, SSIM: 0.9722, LPIPS: 0.0492\n",
      "12 22.954997062683105\n"
     ]
    },
    {
     "name": "stderr",
     "output_type": "stream",
     "text": []
    },
    {
     "name": "stdout",
     "output_type": "stream",
     "text": [
      "Frame 12 - PSNR: 30.16, SSIM: 0.9719, LPIPS: 0.0476\n",
      "13 22.95273494720459\n"
     ]
    },
    {
     "name": "stderr",
     "output_type": "stream",
     "text": []
    },
    {
     "name": "stdout",
     "output_type": "stream",
     "text": [
      "Frame 13 - PSNR: 31.09, SSIM: 0.9747, LPIPS: 0.0457\n",
      "14 22.956079959869385\n"
     ]
    },
    {
     "name": "stderr",
     "output_type": "stream",
     "text": []
    },
    {
     "name": "stdout",
     "output_type": "stream",
     "text": [
      "Frame 14 - PSNR: 31.24, SSIM: 0.9695, LPIPS: 0.0560\n",
      "15 22.94824981689453\n"
     ]
    },
    {
     "name": "stderr",
     "output_type": "stream",
     "text": []
    },
    {
     "name": "stdout",
     "output_type": "stream",
     "text": [
      "Frame 15 - PSNR: 30.91, SSIM: 0.9662, LPIPS: 0.0571\n",
      "16 22.94628643989563\n"
     ]
    },
    {
     "name": "stderr",
     "output_type": "stream",
     "text": []
    },
    {
     "name": "stdout",
     "output_type": "stream",
     "text": [
      "Frame 16 - PSNR: 30.40, SSIM: 0.9638, LPIPS: 0.0571\n",
      "17 22.946109533309937\n"
     ]
    },
    {
     "name": "stderr",
     "output_type": "stream",
     "text": []
    },
    {
     "name": "stdout",
     "output_type": "stream",
     "text": [
      "Frame 17 - PSNR: 29.87, SSIM: 0.9618, LPIPS: 0.0515\n",
      "18 22.955928087234497\n"
     ]
    },
    {
     "name": "stderr",
     "output_type": "stream",
     "text": []
    },
    {
     "name": "stdout",
     "output_type": "stream",
     "text": [
      "Frame 18 - PSNR: 30.57, SSIM: 0.9707, LPIPS: 0.0411\n",
      "19 24.51818299293518\n"
     ]
    },
    {
     "name": "stderr",
     "output_type": "stream",
     "text": []
    },
    {
     "name": "stdout",
     "output_type": "stream",
     "text": [
      "Frame 19 - PSNR: 29.88, SSIM: 0.9790, LPIPS: 0.0278\n",
      "20 25.21826672554016\n"
     ]
    },
    {
     "name": "stderr",
     "output_type": "stream",
     "text": []
    },
    {
     "name": "stdout",
     "output_type": "stream",
     "text": [
      "Frame 20 - PSNR: 29.31, SSIM: 0.9596, LPIPS: 0.0493\n",
      "21 25.205036163330078\n"
     ]
    },
    {
     "name": "stderr",
     "output_type": "stream",
     "text": []
    },
    {
     "name": "stdout",
     "output_type": "stream",
     "text": [
      "Frame 21 - PSNR: 28.80, SSIM: 0.9564, LPIPS: 0.0572\n",
      "22 25.228803157806396\n"
     ]
    },
    {
     "name": "stderr",
     "output_type": "stream",
     "text": []
    },
    {
     "name": "stdout",
     "output_type": "stream",
     "text": [
      "Frame 22 - PSNR: 29.02, SSIM: 0.9590, LPIPS: 0.0558\n",
      "23 25.245927095413208\n"
     ]
    },
    {
     "name": "stderr",
     "output_type": "stream",
     "text": []
    },
    {
     "name": "stdout",
     "output_type": "stream",
     "text": [
      "Frame 23 - PSNR: 29.43, SSIM: 0.9621, LPIPS: 0.0543\n",
      "24 25.214664459228516\n"
     ]
    },
    {
     "name": "stderr",
     "output_type": "stream",
     "text": [
      "100%|██████████| 25/25 [09:49<00:00, 23.56s/it]\n",
      " 55%|█████▌    | 110001/200000 [6:07:54<3043:03:35, 121.72s/it]"
     ]
    },
    {
     "name": "stdout",
     "output_type": "stream",
     "text": [
      "Frame 24 - PSNR: 30.56, SSIM: 0.9677, LPIPS: 0.0462\n",
      "\n",
      "=== METRICS SUMMARY ===\n",
      "Average PSNR: 30.1649 ± 0.7765\n",
      "Average SSIM: 0.9662 ± 0.0064\n",
      "Average LPIPS: 0.0500 ± 0.0081\n",
      "=======================\n",
      "Metrics logged to: ./logs\\mic_blender200k_fullres\\metrics\\metrics_110000.txt and ./logs\\mic_blender200k_fullres\\metrics\\metrics_110000.json\n",
      "Training history updated: ./logs\\mic_blender200k_fullres\\metrics\\training_metrics.json\n",
      "Saved test set with metrics\n",
      "[TRAIN] Iter: 110000 Loss: 0.0025228015147149563  PSNR: 30.03293228149414\n"
     ]
    },
    {
     "name": "stderr",
     "output_type": "stream",
     "text": [
      " 56%|█████▌    | 111000/200000 [6:09:48<2:56:15,  8.42it/s]    "
     ]
    },
    {
     "name": "stdout",
     "output_type": "stream",
     "text": [
      "[TRAIN] Iter: 111000 Loss: 0.004089818336069584  PSNR: 29.24854850769043\n"
     ]
    },
    {
     "name": "stderr",
     "output_type": "stream",
     "text": [
      " 56%|█████▌    | 112001/200000 [6:11:42<2:46:08,  8.83it/s]"
     ]
    },
    {
     "name": "stdout",
     "output_type": "stream",
     "text": [
      "[TRAIN] Iter: 112000 Loss: 0.00270276702940464  PSNR: 30.750892639160156\n"
     ]
    },
    {
     "name": "stderr",
     "output_type": "stream",
     "text": [
      " 57%|█████▋    | 113001/200000 [6:13:36<2:46:05,  8.73it/s]"
     ]
    },
    {
     "name": "stdout",
     "output_type": "stream",
     "text": [
      "[TRAIN] Iter: 113000 Loss: 0.0025866972282528877  PSNR: 30.065214157104492\n"
     ]
    },
    {
     "name": "stderr",
     "output_type": "stream",
     "text": [
      " 57%|█████▋    | 114000/200000 [6:15:30<2:51:08,  8.38it/s]"
     ]
    },
    {
     "name": "stdout",
     "output_type": "stream",
     "text": [
      "[TRAIN] Iter: 114000 Loss: 0.0028048320673406124  PSNR: 30.978103637695312\n"
     ]
    },
    {
     "name": "stderr",
     "output_type": "stream",
     "text": [
      " 57%|█████▊    | 115000/200000 [6:17:24<2:46:49,  8.49it/s]"
     ]
    },
    {
     "name": "stdout",
     "output_type": "stream",
     "text": [
      "[TRAIN] Iter: 115000 Loss: 0.0024020455311983824  PSNR: 31.30474853515625\n"
     ]
    },
    {
     "name": "stderr",
     "output_type": "stream",
     "text": [
      " 58%|█████▊    | 116001/200000 [6:19:18<2:38:01,  8.86it/s]"
     ]
    },
    {
     "name": "stdout",
     "output_type": "stream",
     "text": [
      "[TRAIN] Iter: 116000 Loss: 0.003805022221058607  PSNR: 29.79139518737793\n"
     ]
    },
    {
     "name": "stderr",
     "output_type": "stream",
     "text": [
      " 59%|█████▊    | 117001/200000 [6:21:14<2:41:48,  8.55it/s] "
     ]
    },
    {
     "name": "stdout",
     "output_type": "stream",
     "text": [
      "[TRAIN] Iter: 117000 Loss: 0.0031267753802239895  PSNR: 28.907249450683594\n"
     ]
    },
    {
     "name": "stderr",
     "output_type": "stream",
     "text": [
      " 59%|█████▉    | 118001/200000 [6:23:10<2:38:10,  8.64it/s]"
     ]
    },
    {
     "name": "stdout",
     "output_type": "stream",
     "text": [
      "[TRAIN] Iter: 118000 Loss: 0.002679090714082122  PSNR: 30.92488670349121\n"
     ]
    },
    {
     "name": "stderr",
     "output_type": "stream",
     "text": [
      " 60%|█████▉    | 119001/200000 [6:25:07<2:47:00,  8.08it/s]"
     ]
    },
    {
     "name": "stdout",
     "output_type": "stream",
     "text": [
      "[TRAIN] Iter: 119000 Loss: 0.0029265691991895437  PSNR: 28.46278190612793\n"
     ]
    },
    {
     "name": "stderr",
     "output_type": "stream",
     "text": [
      " 60%|█████▉    | 119999/200000 [6:26:53<2:19:38,  9.55it/s]"
     ]
    },
    {
     "name": "stdout",
     "output_type": "stream",
     "text": [
      "Saved checkpoints at ./logs\\mic_blender200k_fullres\\checkpoints\\120000.tar\n",
      "test poses shape torch.Size([25, 4, 4])\n"
     ]
    },
    {
     "name": "stderr",
     "output_type": "stream",
     "text": []
    },
    {
     "name": "stdout",
     "output_type": "stream",
     "text": [
      "0 0.0017299652099609375\n"
     ]
    },
    {
     "name": "stderr",
     "output_type": "stream",
     "text": []
    },
    {
     "name": "stdout",
     "output_type": "stream",
     "text": [
      "torch.Size([800, 800, 3]) torch.Size([800, 800])\n",
      "Frame 0 - PSNR: 30.63, SSIM: 0.9700, LPIPS: 0.0453\n",
      "1 23.464503288269043\n"
     ]
    },
    {
     "name": "stderr",
     "output_type": "stream",
     "text": []
    },
    {
     "name": "stdout",
     "output_type": "stream",
     "text": [
      "Frame 1 - PSNR: 31.05, SSIM: 0.9706, LPIPS: 0.0438\n",
      "2 23.44891858100891\n"
     ]
    },
    {
     "name": "stderr",
     "output_type": "stream",
     "text": []
    },
    {
     "name": "stdout",
     "output_type": "stream",
     "text": [
      "Frame 2 - PSNR: 30.04, SSIM: 0.9647, LPIPS: 0.0502\n",
      "3 23.441404819488525\n"
     ]
    },
    {
     "name": "stderr",
     "output_type": "stream",
     "text": []
    },
    {
     "name": "stdout",
     "output_type": "stream",
     "text": [
      "Frame 3 - PSNR: 29.99, SSIM: 0.9621, LPIPS: 0.0554\n",
      "4 23.452850818634033\n"
     ]
    },
    {
     "name": "stderr",
     "output_type": "stream",
     "text": []
    },
    {
     "name": "stdout",
     "output_type": "stream",
     "text": [
      "Frame 4 - PSNR: 29.75, SSIM: 0.9599, LPIPS: 0.0543\n",
      "5 23.426382541656494\n"
     ]
    },
    {
     "name": "stderr",
     "output_type": "stream",
     "text": []
    },
    {
     "name": "stdout",
     "output_type": "stream",
     "text": [
      "Frame 5 - PSNR: 30.27, SSIM: 0.9653, LPIPS: 0.0441\n",
      "6 23.437453985214233\n"
     ]
    },
    {
     "name": "stderr",
     "output_type": "stream",
     "text": []
    },
    {
     "name": "stdout",
     "output_type": "stream",
     "text": [
      "Frame 6 - PSNR: 30.66, SSIM: 0.9796, LPIPS: 0.0293\n",
      "7 23.43450617790222\n"
     ]
    },
    {
     "name": "stderr",
     "output_type": "stream",
     "text": []
    },
    {
     "name": "stdout",
     "output_type": "stream",
     "text": [
      "Frame 7 - PSNR: 30.06, SSIM: 0.9691, LPIPS: 0.0355\n",
      "8 23.449708938598633\n"
     ]
    },
    {
     "name": "stderr",
     "output_type": "stream",
     "text": []
    },
    {
     "name": "stdout",
     "output_type": "stream",
     "text": [
      "Frame 8 - PSNR: 29.22, SSIM: 0.9575, LPIPS: 0.0512\n",
      "9 23.428571701049805\n"
     ]
    },
    {
     "name": "stderr",
     "output_type": "stream",
     "text": []
    },
    {
     "name": "stdout",
     "output_type": "stream",
     "text": [
      "Frame 9 - PSNR: 30.10, SSIM: 0.9616, LPIPS: 0.0598\n",
      "10 23.474286317825317\n"
     ]
    },
    {
     "name": "stderr",
     "output_type": "stream",
     "text": []
    },
    {
     "name": "stdout",
     "output_type": "stream",
     "text": [
      "Frame 10 - PSNR: 31.27, SSIM: 0.9687, LPIPS: 0.0539\n",
      "11 23.539206504821777\n"
     ]
    },
    {
     "name": "stderr",
     "output_type": "stream",
     "text": []
    },
    {
     "name": "stdout",
     "output_type": "stream",
     "text": [
      "Frame 11 - PSNR: 32.37, SSIM: 0.9741, LPIPS: 0.0476\n",
      "12 23.423460721969604\n"
     ]
    },
    {
     "name": "stderr",
     "output_type": "stream",
     "text": []
    },
    {
     "name": "stdout",
     "output_type": "stream",
     "text": [
      "Frame 12 - PSNR: 30.38, SSIM: 0.9735, LPIPS: 0.0435\n",
      "13 23.434073448181152\n"
     ]
    },
    {
     "name": "stderr",
     "output_type": "stream",
     "text": []
    },
    {
     "name": "stdout",
     "output_type": "stream",
     "text": [
      "Frame 13 - PSNR: 31.39, SSIM: 0.9763, LPIPS: 0.0429\n",
      "14 23.436717987060547\n"
     ]
    },
    {
     "name": "stderr",
     "output_type": "stream",
     "text": []
    },
    {
     "name": "stdout",
     "output_type": "stream",
     "text": [
      "Frame 14 - PSNR: 30.99, SSIM: 0.9703, LPIPS: 0.0524\n",
      "15 23.44292688369751\n"
     ]
    },
    {
     "name": "stderr",
     "output_type": "stream",
     "text": []
    },
    {
     "name": "stdout",
     "output_type": "stream",
     "text": [
      "Frame 15 - PSNR: 30.93, SSIM: 0.9672, LPIPS: 0.0577\n",
      "16 23.43185043334961\n"
     ]
    },
    {
     "name": "stderr",
     "output_type": "stream",
     "text": []
    },
    {
     "name": "stdout",
     "output_type": "stream",
     "text": [
      "Frame 16 - PSNR: 30.73, SSIM: 0.9648, LPIPS: 0.0576\n",
      "17 23.43144917488098\n"
     ]
    },
    {
     "name": "stderr",
     "output_type": "stream",
     "text": []
    },
    {
     "name": "stdout",
     "output_type": "stream",
     "text": [
      "Frame 17 - PSNR: 30.17, SSIM: 0.9625, LPIPS: 0.0526\n",
      "18 23.42490005493164\n"
     ]
    },
    {
     "name": "stderr",
     "output_type": "stream",
     "text": []
    },
    {
     "name": "stdout",
     "output_type": "stream",
     "text": [
      "Frame 18 - PSNR: 30.53, SSIM: 0.9706, LPIPS: 0.0395\n",
      "19 23.4204421043396\n"
     ]
    },
    {
     "name": "stderr",
     "output_type": "stream",
     "text": []
    },
    {
     "name": "stdout",
     "output_type": "stream",
     "text": [
      "Frame 19 - PSNR: 30.12, SSIM: 0.9793, LPIPS: 0.0266\n",
      "20 23.43828797340393\n"
     ]
    },
    {
     "name": "stderr",
     "output_type": "stream",
     "text": []
    },
    {
     "name": "stdout",
     "output_type": "stream",
     "text": [
      "Frame 20 - PSNR: 29.45, SSIM: 0.9604, LPIPS: 0.0435\n",
      "21 23.426512956619263\n"
     ]
    },
    {
     "name": "stderr",
     "output_type": "stream",
     "text": []
    },
    {
     "name": "stdout",
     "output_type": "stream",
     "text": [
      "Frame 21 - PSNR: 28.93, SSIM: 0.9571, LPIPS: 0.0559\n",
      "22 23.43389892578125\n"
     ]
    },
    {
     "name": "stderr",
     "output_type": "stream",
     "text": []
    },
    {
     "name": "stdout",
     "output_type": "stream",
     "text": [
      "Frame 22 - PSNR: 29.03, SSIM: 0.9588, LPIPS: 0.0568\n",
      "23 23.439953804016113\n"
     ]
    },
    {
     "name": "stderr",
     "output_type": "stream",
     "text": []
    },
    {
     "name": "stdout",
     "output_type": "stream",
     "text": [
      "Frame 23 - PSNR: 29.40, SSIM: 0.9620, LPIPS: 0.0545\n",
      "24 23.012393712997437\n"
     ]
    },
    {
     "name": "stderr",
     "output_type": "stream",
     "text": [
      "100%|██████████| 25/25 [09:45<00:00, 23.41s/it]\n",
      " 60%|██████    | 120000/200000 [6:36:39<3904:23:36, 175.70s/it]"
     ]
    },
    {
     "name": "stdout",
     "output_type": "stream",
     "text": [
      "Frame 24 - PSNR: 30.45, SSIM: 0.9673, LPIPS: 0.0457\n",
      "\n",
      "=== METRICS SUMMARY ===\n",
      "Average PSNR: 30.3172 ± 0.7782\n",
      "Average SSIM: 0.9669 ± 0.0063\n",
      "Average LPIPS: 0.0480 ± 0.0086\n",
      "=======================\n",
      "Metrics logged to: ./logs\\mic_blender200k_fullres\\metrics\\metrics_120000.txt and ./logs\\mic_blender200k_fullres\\metrics\\metrics_120000.json\n",
      "Training history updated: ./logs\\mic_blender200k_fullres\\metrics\\training_metrics.json\n",
      "Saved test set with metrics\n",
      "[TRAIN] Iter: 120000 Loss: 0.00252397358417511  PSNR: 30.423555374145508\n"
     ]
    },
    {
     "name": "stderr",
     "output_type": "stream",
     "text": [
      " 61%|██████    | 121002/200000 [6:38:22<2:16:55,  9.62it/s]    "
     ]
    },
    {
     "name": "stdout",
     "output_type": "stream",
     "text": [
      "[TRAIN] Iter: 121000 Loss: 0.0029982817359268665  PSNR: 29.91086196899414\n"
     ]
    },
    {
     "name": "stderr",
     "output_type": "stream",
     "text": [
      " 61%|██████    | 122002/200000 [6:40:05<2:13:34,  9.73it/s]"
     ]
    },
    {
     "name": "stdout",
     "output_type": "stream",
     "text": [
      "[TRAIN] Iter: 122000 Loss: 0.0025989748537540436  PSNR: 31.603219985961914\n"
     ]
    },
    {
     "name": "stderr",
     "output_type": "stream",
     "text": [
      " 62%|██████▏   | 123002/200000 [6:41:48<2:12:28,  9.69it/s]"
     ]
    },
    {
     "name": "stdout",
     "output_type": "stream",
     "text": [
      "[TRAIN] Iter: 123000 Loss: 0.004586099646985531  PSNR: 28.221059799194336\n"
     ]
    },
    {
     "name": "stderr",
     "output_type": "stream",
     "text": [
      " 62%|██████▏   | 124002/200000 [6:43:31<2:10:28,  9.71it/s]"
     ]
    },
    {
     "name": "stdout",
     "output_type": "stream",
     "text": [
      "[TRAIN] Iter: 124000 Loss: 0.002471108455210924  PSNR: 30.838674545288086\n"
     ]
    },
    {
     "name": "stderr",
     "output_type": "stream",
     "text": [
      " 63%|██████▎   | 125002/200000 [6:45:15<2:09:32,  9.65it/s]"
     ]
    },
    {
     "name": "stdout",
     "output_type": "stream",
     "text": [
      "[TRAIN] Iter: 125000 Loss: 0.0033326882403343916  PSNR: 28.327287673950195\n"
     ]
    },
    {
     "name": "stderr",
     "output_type": "stream",
     "text": [
      " 63%|██████▎   | 126002/200000 [6:46:58<2:07:58,  9.64it/s]"
     ]
    },
    {
     "name": "stdout",
     "output_type": "stream",
     "text": [
      "[TRAIN] Iter: 126000 Loss: 0.0028894967399537563  PSNR: 30.30368995666504\n"
     ]
    },
    {
     "name": "stderr",
     "output_type": "stream",
     "text": [
      " 64%|██████▎   | 127002/200000 [6:48:41<2:06:13,  9.64it/s]"
     ]
    },
    {
     "name": "stdout",
     "output_type": "stream",
     "text": [
      "[TRAIN] Iter: 127000 Loss: 0.0030071933288127184  PSNR: 30.0048828125\n"
     ]
    },
    {
     "name": "stderr",
     "output_type": "stream",
     "text": [
      " 64%|██████▍   | 128002/200000 [6:50:24<2:03:45,  9.70it/s]"
     ]
    },
    {
     "name": "stdout",
     "output_type": "stream",
     "text": [
      "[TRAIN] Iter: 128000 Loss: 0.0029562683776021004  PSNR: 30.280597686767578\n"
     ]
    },
    {
     "name": "stderr",
     "output_type": "stream",
     "text": [
      " 65%|██████▍   | 129002/200000 [6:52:07<2:02:18,  9.67it/s]"
     ]
    },
    {
     "name": "stdout",
     "output_type": "stream",
     "text": [
      "[TRAIN] Iter: 129000 Loss: 0.0013644357677549124  PSNR: 34.6173095703125\n"
     ]
    },
    {
     "name": "stderr",
     "output_type": "stream",
     "text": [
      " 65%|██████▍   | 129999/200000 [6:53:50<1:59:56,  9.73it/s]"
     ]
    },
    {
     "name": "stdout",
     "output_type": "stream",
     "text": [
      "Saved checkpoints at ./logs\\mic_blender200k_fullres\\checkpoints\\130000.tar\n",
      "test poses shape torch.Size([25, 4, 4])\n"
     ]
    },
    {
     "name": "stderr",
     "output_type": "stream",
     "text": []
    },
    {
     "name": "stdout",
     "output_type": "stream",
     "text": [
      "0 0.0018596649169921875\n"
     ]
    },
    {
     "name": "stderr",
     "output_type": "stream",
     "text": []
    },
    {
     "name": "stdout",
     "output_type": "stream",
     "text": [
      "torch.Size([800, 800, 3]) torch.Size([800, 800])\n",
      "Frame 0 - PSNR: 31.03, SSIM: 0.9708, LPIPS: 0.0431\n",
      "1 23.01119065284729\n"
     ]
    },
    {
     "name": "stderr",
     "output_type": "stream",
     "text": []
    },
    {
     "name": "stdout",
     "output_type": "stream",
     "text": [
      "Frame 1 - PSNR: 31.44, SSIM: 0.9719, LPIPS: 0.0421\n",
      "2 22.989561557769775\n"
     ]
    },
    {
     "name": "stderr",
     "output_type": "stream",
     "text": []
    },
    {
     "name": "stdout",
     "output_type": "stream",
     "text": [
      "Frame 2 - PSNR: 30.23, SSIM: 0.9662, LPIPS: 0.0471\n",
      "3 22.99634552001953\n"
     ]
    },
    {
     "name": "stderr",
     "output_type": "stream",
     "text": []
    },
    {
     "name": "stdout",
     "output_type": "stream",
     "text": [
      "Frame 3 - PSNR: 30.07, SSIM: 0.9637, LPIPS: 0.0525\n",
      "4 22.98845410346985\n"
     ]
    },
    {
     "name": "stderr",
     "output_type": "stream",
     "text": []
    },
    {
     "name": "stdout",
     "output_type": "stream",
     "text": [
      "Frame 4 - PSNR: 30.10, SSIM: 0.9613, LPIPS: 0.0515\n",
      "5 22.98953080177307\n"
     ]
    },
    {
     "name": "stderr",
     "output_type": "stream",
     "text": []
    },
    {
     "name": "stdout",
     "output_type": "stream",
     "text": [
      "Frame 5 - PSNR: 30.62, SSIM: 0.9668, LPIPS: 0.0410\n",
      "6 22.985435724258423\n"
     ]
    },
    {
     "name": "stderr",
     "output_type": "stream",
     "text": []
    },
    {
     "name": "stdout",
     "output_type": "stream",
     "text": [
      "Frame 6 - PSNR: 31.01, SSIM: 0.9814, LPIPS: 0.0256\n",
      "7 22.984464406967163\n"
     ]
    },
    {
     "name": "stderr",
     "output_type": "stream",
     "text": []
    },
    {
     "name": "stdout",
     "output_type": "stream",
     "text": [
      "Frame 7 - PSNR: 30.42, SSIM: 0.9706, LPIPS: 0.0357\n",
      "8 22.988149881362915\n"
     ]
    },
    {
     "name": "stderr",
     "output_type": "stream",
     "text": []
    },
    {
     "name": "stdout",
     "output_type": "stream",
     "text": [
      "Frame 8 - PSNR: 29.67, SSIM: 0.9589, LPIPS: 0.0514\n",
      "9 22.983482599258423\n"
     ]
    },
    {
     "name": "stderr",
     "output_type": "stream",
     "text": []
    },
    {
     "name": "stdout",
     "output_type": "stream",
     "text": [
      "Frame 9 - PSNR: 30.24, SSIM: 0.9625, LPIPS: 0.0557\n",
      "10 22.99252152442932\n"
     ]
    },
    {
     "name": "stderr",
     "output_type": "stream",
     "text": []
    },
    {
     "name": "stdout",
     "output_type": "stream",
     "text": [
      "Frame 10 - PSNR: 31.47, SSIM: 0.9691, LPIPS: 0.0519\n",
      "11 22.99208664894104\n"
     ]
    },
    {
     "name": "stderr",
     "output_type": "stream",
     "text": []
    },
    {
     "name": "stdout",
     "output_type": "stream",
     "text": [
      "Frame 11 - PSNR: 32.33, SSIM: 0.9739, LPIPS: 0.0474\n",
      "12 22.994346141815186\n"
     ]
    },
    {
     "name": "stderr",
     "output_type": "stream",
     "text": []
    },
    {
     "name": "stdout",
     "output_type": "stream",
     "text": [
      "Frame 12 - PSNR: 29.71, SSIM: 0.9731, LPIPS: 0.0431\n",
      "13 22.97888994216919\n"
     ]
    },
    {
     "name": "stderr",
     "output_type": "stream",
     "text": []
    },
    {
     "name": "stdout",
     "output_type": "stream",
     "text": [
      "Frame 13 - PSNR: 31.68, SSIM: 0.9766, LPIPS: 0.0403\n",
      "14 22.98732280731201\n"
     ]
    },
    {
     "name": "stderr",
     "output_type": "stream",
     "text": []
    },
    {
     "name": "stdout",
     "output_type": "stream",
     "text": [
      "Frame 14 - PSNR: 31.45, SSIM: 0.9710, LPIPS: 0.0484\n",
      "15 22.98765540122986\n"
     ]
    },
    {
     "name": "stderr",
     "output_type": "stream",
     "text": []
    },
    {
     "name": "stdout",
     "output_type": "stream",
     "text": [
      "Frame 15 - PSNR: 31.36, SSIM: 0.9683, LPIPS: 0.0534\n",
      "16 22.989662885665894\n"
     ]
    },
    {
     "name": "stderr",
     "output_type": "stream",
     "text": []
    },
    {
     "name": "stdout",
     "output_type": "stream",
     "text": [
      "Frame 16 - PSNR: 31.11, SSIM: 0.9662, LPIPS: 0.0532\n",
      "17 22.9832284450531\n"
     ]
    },
    {
     "name": "stderr",
     "output_type": "stream",
     "text": []
    },
    {
     "name": "stdout",
     "output_type": "stream",
     "text": [
      "Frame 17 - PSNR: 30.54, SSIM: 0.9642, LPIPS: 0.0487\n",
      "18 22.990294218063354\n"
     ]
    },
    {
     "name": "stderr",
     "output_type": "stream",
     "text": []
    },
    {
     "name": "stdout",
     "output_type": "stream",
     "text": [
      "Frame 18 - PSNR: 30.95, SSIM: 0.9726, LPIPS: 0.0383\n",
      "19 22.986241817474365\n"
     ]
    },
    {
     "name": "stderr",
     "output_type": "stream",
     "text": []
    },
    {
     "name": "stdout",
     "output_type": "stream",
     "text": [
      "Frame 19 - PSNR: 30.16, SSIM: 0.9807, LPIPS: 0.0256\n",
      "20 22.97929286956787\n"
     ]
    },
    {
     "name": "stderr",
     "output_type": "stream",
     "text": []
    },
    {
     "name": "stdout",
     "output_type": "stream",
     "text": [
      "Frame 20 - PSNR: 29.57, SSIM: 0.9617, LPIPS: 0.0416\n",
      "21 22.98875641822815\n"
     ]
    },
    {
     "name": "stderr",
     "output_type": "stream",
     "text": []
    },
    {
     "name": "stdout",
     "output_type": "stream",
     "text": [
      "Frame 21 - PSNR: 29.08, SSIM: 0.9577, LPIPS: 0.0527\n",
      "22 22.981653213500977\n"
     ]
    },
    {
     "name": "stderr",
     "output_type": "stream",
     "text": []
    },
    {
     "name": "stdout",
     "output_type": "stream",
     "text": [
      "Frame 22 - PSNR: 29.19, SSIM: 0.9603, LPIPS: 0.0538\n",
      "23 22.978984594345093\n"
     ]
    },
    {
     "name": "stderr",
     "output_type": "stream",
     "text": []
    },
    {
     "name": "stdout",
     "output_type": "stream",
     "text": [
      "Frame 23 - PSNR: 29.72, SSIM: 0.9633, LPIPS: 0.0512\n",
      "24 22.9788818359375\n"
     ]
    },
    {
     "name": "stderr",
     "output_type": "stream",
     "text": [
      "100%|██████████| 25/25 [09:34<00:00, 22.99s/it]\n",
      " 65%|██████▌   | 130000/200000 [7:03:25<3354:56:43, 172.54s/it]"
     ]
    },
    {
     "name": "stdout",
     "output_type": "stream",
     "text": [
      "Frame 24 - PSNR: 30.86, SSIM: 0.9688, LPIPS: 0.0428\n",
      "\n",
      "=== METRICS SUMMARY ===\n",
      "Average PSNR: 30.5600 ± 0.8116\n",
      "Average SSIM: 0.9681 ± 0.0062\n",
      "Average LPIPS: 0.0455 ± 0.0080\n",
      "=======================\n",
      "Metrics logged to: ./logs\\mic_blender200k_fullres\\metrics\\metrics_130000.txt and ./logs\\mic_blender200k_fullres\\metrics\\metrics_130000.json\n",
      "Training history updated: ./logs\\mic_blender200k_fullres\\metrics\\training_metrics.json\n",
      "Saved test set with metrics\n",
      "[TRAIN] Iter: 130000 Loss: 0.002843918278813362  PSNR: 32.99396514892578\n"
     ]
    },
    {
     "name": "stderr",
     "output_type": "stream",
     "text": [
      " 66%|██████▌   | 131002/200000 [7:05:08<1:58:45,  9.68it/s]    "
     ]
    },
    {
     "name": "stdout",
     "output_type": "stream",
     "text": [
      "[TRAIN] Iter: 131000 Loss: 0.002296858699992299  PSNR: 31.802051544189453\n"
     ]
    },
    {
     "name": "stderr",
     "output_type": "stream",
     "text": [
      " 66%|██████▌   | 132002/200000 [7:06:51<1:57:26,  9.65it/s]"
     ]
    },
    {
     "name": "stdout",
     "output_type": "stream",
     "text": [
      "[TRAIN] Iter: 132000 Loss: 0.002450253115966916  PSNR: 30.235340118408203\n"
     ]
    },
    {
     "name": "stderr",
     "output_type": "stream",
     "text": [
      " 67%|██████▋   | 133002/200000 [7:08:34<1:56:06,  9.62it/s]"
     ]
    },
    {
     "name": "stdout",
     "output_type": "stream",
     "text": [
      "[TRAIN] Iter: 133000 Loss: 0.003850053995847702  PSNR: 28.17176628112793\n"
     ]
    },
    {
     "name": "stderr",
     "output_type": "stream",
     "text": [
      " 67%|██████▋   | 134002/200000 [7:10:17<1:53:52,  9.66it/s]"
     ]
    },
    {
     "name": "stdout",
     "output_type": "stream",
     "text": [
      "[TRAIN] Iter: 134000 Loss: 0.003954213112592697  PSNR: 27.912492752075195\n"
     ]
    },
    {
     "name": "stderr",
     "output_type": "stream",
     "text": [
      " 68%|██████▊   | 135000/200000 [7:12:00<1:56:13,  9.32it/s]"
     ]
    },
    {
     "name": "stdout",
     "output_type": "stream",
     "text": [
      "[TRAIN] Iter: 135000 Loss: 0.0029394510202109814  PSNR: 30.790246963500977\n"
     ]
    },
    {
     "name": "stderr",
     "output_type": "stream",
     "text": [
      " 68%|██████▊   | 136002/200000 [7:13:43<1:48:52,  9.80it/s]"
     ]
    },
    {
     "name": "stdout",
     "output_type": "stream",
     "text": [
      "[TRAIN] Iter: 136000 Loss: 0.002348561305552721  PSNR: 32.740196228027344\n"
     ]
    },
    {
     "name": "stderr",
     "output_type": "stream",
     "text": [
      " 69%|██████▊   | 137002/200000 [7:15:26<1:47:02,  9.81it/s]"
     ]
    },
    {
     "name": "stdout",
     "output_type": "stream",
     "text": [
      "[TRAIN] Iter: 137000 Loss: 0.0021691424772143364  PSNR: 32.815528869628906\n"
     ]
    },
    {
     "name": "stderr",
     "output_type": "stream",
     "text": [
      " 69%|██████▉   | 138002/200000 [7:17:09<1:44:51,  9.85it/s]"
     ]
    },
    {
     "name": "stdout",
     "output_type": "stream",
     "text": [
      "[TRAIN] Iter: 138000 Loss: 0.0033915014937520027  PSNR: 28.890201568603516\n"
     ]
    },
    {
     "name": "stderr",
     "output_type": "stream",
     "text": [
      " 70%|██████▉   | 139002/200000 [7:18:52<1:45:24,  9.64it/s]"
     ]
    },
    {
     "name": "stdout",
     "output_type": "stream",
     "text": [
      "[TRAIN] Iter: 139000 Loss: 0.002552403835579753  PSNR: 30.515239715576172\n"
     ]
    },
    {
     "name": "stderr",
     "output_type": "stream",
     "text": [
      " 70%|██████▉   | 139999/200000 [7:20:34<1:42:20,  9.77it/s]"
     ]
    },
    {
     "name": "stdout",
     "output_type": "stream",
     "text": [
      "Saved checkpoints at ./logs\\mic_blender200k_fullres\\checkpoints\\140000.tar\n",
      "test poses shape torch.Size([25, 4, 4])\n"
     ]
    },
    {
     "name": "stderr",
     "output_type": "stream",
     "text": []
    },
    {
     "name": "stdout",
     "output_type": "stream",
     "text": [
      "0 0.0016796588897705078\n"
     ]
    },
    {
     "name": "stderr",
     "output_type": "stream",
     "text": []
    },
    {
     "name": "stdout",
     "output_type": "stream",
     "text": [
      "torch.Size([800, 800, 3]) torch.Size([800, 800])\n",
      "Frame 0 - PSNR: 30.94, SSIM: 0.9706, LPIPS: 0.0430\n",
      "1 22.941221952438354\n"
     ]
    },
    {
     "name": "stderr",
     "output_type": "stream",
     "text": []
    },
    {
     "name": "stdout",
     "output_type": "stream",
     "text": [
      "Frame 1 - PSNR: 31.68, SSIM: 0.9731, LPIPS: 0.0405\n",
      "2 22.920140743255615\n"
     ]
    },
    {
     "name": "stderr",
     "output_type": "stream",
     "text": []
    },
    {
     "name": "stdout",
     "output_type": "stream",
     "text": [
      "Frame 2 - PSNR: 30.27, SSIM: 0.9664, LPIPS: 0.0470\n",
      "3 22.925777912139893\n"
     ]
    },
    {
     "name": "stderr",
     "output_type": "stream",
     "text": []
    },
    {
     "name": "stdout",
     "output_type": "stream",
     "text": [
      "Frame 3 - PSNR: 30.29, SSIM: 0.9645, LPIPS: 0.0521\n",
      "4 22.925262689590454\n"
     ]
    },
    {
     "name": "stderr",
     "output_type": "stream",
     "text": []
    },
    {
     "name": "stdout",
     "output_type": "stream",
     "text": [
      "Frame 4 - PSNR: 30.18, SSIM: 0.9615, LPIPS: 0.0495\n",
      "5 22.915730237960815\n"
     ]
    },
    {
     "name": "stderr",
     "output_type": "stream",
     "text": []
    },
    {
     "name": "stdout",
     "output_type": "stream",
     "text": [
      "Frame 5 - PSNR: 30.64, SSIM: 0.9674, LPIPS: 0.0406\n",
      "6 22.910573482513428\n"
     ]
    },
    {
     "name": "stderr",
     "output_type": "stream",
     "text": []
    },
    {
     "name": "stdout",
     "output_type": "stream",
     "text": [
      "Frame 6 - PSNR: 31.28, SSIM: 0.9820, LPIPS: 0.0243\n",
      "7 22.907546043395996\n"
     ]
    },
    {
     "name": "stderr",
     "output_type": "stream",
     "text": []
    },
    {
     "name": "stdout",
     "output_type": "stream",
     "text": [
      "Frame 7 - PSNR: 30.48, SSIM: 0.9709, LPIPS: 0.0331\n",
      "8 22.907689571380615\n"
     ]
    },
    {
     "name": "stderr",
     "output_type": "stream",
     "text": []
    },
    {
     "name": "stdout",
     "output_type": "stream",
     "text": [
      "Frame 8 - PSNR: 29.54, SSIM: 0.9592, LPIPS: 0.0506\n",
      "9 22.914940357208252\n"
     ]
    },
    {
     "name": "stderr",
     "output_type": "stream",
     "text": []
    },
    {
     "name": "stdout",
     "output_type": "stream",
     "text": [
      "Frame 9 - PSNR: 30.28, SSIM: 0.9624, LPIPS: 0.0541\n",
      "10 22.917703866958618\n"
     ]
    },
    {
     "name": "stderr",
     "output_type": "stream",
     "text": []
    },
    {
     "name": "stdout",
     "output_type": "stream",
     "text": [
      "Frame 10 - PSNR: 31.54, SSIM: 0.9697, LPIPS: 0.0485\n",
      "11 22.91664218902588\n"
     ]
    },
    {
     "name": "stderr",
     "output_type": "stream",
     "text": []
    },
    {
     "name": "stdout",
     "output_type": "stream",
     "text": [
      "Frame 11 - PSNR: 32.49, SSIM: 0.9741, LPIPS: 0.0453\n",
      "12 22.92340636253357\n"
     ]
    },
    {
     "name": "stderr",
     "output_type": "stream",
     "text": []
    },
    {
     "name": "stdout",
     "output_type": "stream",
     "text": [
      "Frame 12 - PSNR: 29.93, SSIM: 0.9737, LPIPS: 0.0416\n",
      "13 22.916776657104492\n"
     ]
    },
    {
     "name": "stderr",
     "output_type": "stream",
     "text": []
    },
    {
     "name": "stdout",
     "output_type": "stream",
     "text": [
      "Frame 13 - PSNR: 32.06, SSIM: 0.9784, LPIPS: 0.0392\n",
      "14 22.916975736618042\n"
     ]
    },
    {
     "name": "stderr",
     "output_type": "stream",
     "text": []
    },
    {
     "name": "stdout",
     "output_type": "stream",
     "text": [
      "Frame 14 - PSNR: 31.79, SSIM: 0.9724, LPIPS: 0.0484\n",
      "15 22.919579029083252\n"
     ]
    },
    {
     "name": "stderr",
     "output_type": "stream",
     "text": []
    },
    {
     "name": "stdout",
     "output_type": "stream",
     "text": [
      "Frame 15 - PSNR: 31.45, SSIM: 0.9687, LPIPS: 0.0521\n",
      "16 22.913727283477783\n"
     ]
    },
    {
     "name": "stderr",
     "output_type": "stream",
     "text": []
    },
    {
     "name": "stdout",
     "output_type": "stream",
     "text": [
      "Frame 16 - PSNR: 31.19, SSIM: 0.9664, LPIPS: 0.0532\n",
      "17 22.910760402679443\n"
     ]
    },
    {
     "name": "stderr",
     "output_type": "stream",
     "text": []
    },
    {
     "name": "stdout",
     "output_type": "stream",
     "text": [
      "Frame 17 - PSNR: 30.47, SSIM: 0.9640, LPIPS: 0.0466\n",
      "18 22.916510105133057\n"
     ]
    },
    {
     "name": "stderr",
     "output_type": "stream",
     "text": []
    },
    {
     "name": "stdout",
     "output_type": "stream",
     "text": [
      "Frame 18 - PSNR: 31.14, SSIM: 0.9733, LPIPS: 0.0350\n",
      "19 22.923506259918213\n"
     ]
    },
    {
     "name": "stderr",
     "output_type": "stream",
     "text": []
    },
    {
     "name": "stdout",
     "output_type": "stream",
     "text": [
      "Frame 19 - PSNR: 30.50, SSIM: 0.9813, LPIPS: 0.0223\n",
      "20 22.920958995819092\n"
     ]
    },
    {
     "name": "stderr",
     "output_type": "stream",
     "text": []
    },
    {
     "name": "stdout",
     "output_type": "stream",
     "text": [
      "Frame 20 - PSNR: 29.55, SSIM: 0.9623, LPIPS: 0.0434\n",
      "21 22.92485499382019\n"
     ]
    },
    {
     "name": "stderr",
     "output_type": "stream",
     "text": []
    },
    {
     "name": "stdout",
     "output_type": "stream",
     "text": [
      "Frame 21 - PSNR: 29.21, SSIM: 0.9592, LPIPS: 0.0507\n",
      "22 22.928348541259766\n"
     ]
    },
    {
     "name": "stderr",
     "output_type": "stream",
     "text": []
    },
    {
     "name": "stdout",
     "output_type": "stream",
     "text": [
      "Frame 22 - PSNR: 29.26, SSIM: 0.9612, LPIPS: 0.0505\n",
      "23 22.91591477394104\n"
     ]
    },
    {
     "name": "stderr",
     "output_type": "stream",
     "text": []
    },
    {
     "name": "stdout",
     "output_type": "stream",
     "text": [
      "Frame 23 - PSNR: 29.83, SSIM: 0.9644, LPIPS: 0.0485\n",
      "24 22.924240827560425\n"
     ]
    },
    {
     "name": "stderr",
     "output_type": "stream",
     "text": [
      "100%|██████████| 25/25 [09:32<00:00, 22.92s/it]\n",
      " 70%|███████   | 140000/200000 [7:30:07<2861:12:18, 171.67s/it]"
     ]
    },
    {
     "name": "stdout",
     "output_type": "stream",
     "text": [
      "Frame 24 - PSNR: 30.84, SSIM: 0.9692, LPIPS: 0.0409\n",
      "\n",
      "=== METRICS SUMMARY ===\n",
      "Average PSNR: 30.6737 ± 0.8612\n",
      "Average SSIM: 0.9687 ± 0.0063\n",
      "Average LPIPS: 0.0440 ± 0.0082\n",
      "=======================\n",
      "Metrics logged to: ./logs\\mic_blender200k_fullres\\metrics\\metrics_140000.txt and ./logs\\mic_blender200k_fullres\\metrics\\metrics_140000.json\n",
      "Training history updated: ./logs\\mic_blender200k_fullres\\metrics\\training_metrics.json\n",
      "Saved test set with metrics\n",
      "[TRAIN] Iter: 140000 Loss: 0.0022562535014003515  PSNR: 30.986438751220703\n"
     ]
    },
    {
     "name": "stderr",
     "output_type": "stream",
     "text": [
      " 71%|███████   | 141002/200000 [7:31:50<1:41:23,  9.70it/s]    "
     ]
    },
    {
     "name": "stdout",
     "output_type": "stream",
     "text": [
      "[TRAIN] Iter: 141000 Loss: 0.002434602240100503  PSNR: 32.18905258178711\n"
     ]
    },
    {
     "name": "stderr",
     "output_type": "stream",
     "text": [
      " 71%|███████   | 142002/200000 [7:33:32<1:39:53,  9.68it/s]"
     ]
    },
    {
     "name": "stdout",
     "output_type": "stream",
     "text": [
      "[TRAIN] Iter: 142000 Loss: 0.0027363114058971405  PSNR: 29.64815902709961\n"
     ]
    },
    {
     "name": "stderr",
     "output_type": "stream",
     "text": [
      " 72%|███████▏  | 143002/200000 [7:35:15<1:38:41,  9.63it/s]"
     ]
    },
    {
     "name": "stdout",
     "output_type": "stream",
     "text": [
      "[TRAIN] Iter: 143000 Loss: 0.0030969856306910515  PSNR: 29.028671264648438\n"
     ]
    },
    {
     "name": "stderr",
     "output_type": "stream",
     "text": [
      " 72%|███████▏  | 144002/200000 [7:36:58<1:36:05,  9.71it/s]"
     ]
    },
    {
     "name": "stdout",
     "output_type": "stream",
     "text": [
      "[TRAIN] Iter: 144000 Loss: 0.0032329424284398556  PSNR: 30.177640914916992\n"
     ]
    },
    {
     "name": "stderr",
     "output_type": "stream",
     "text": [
      " 73%|███████▎  | 145002/200000 [7:38:40<1:33:25,  9.81it/s]"
     ]
    },
    {
     "name": "stdout",
     "output_type": "stream",
     "text": [
      "[TRAIN] Iter: 145000 Loss: 0.002871671924367547  PSNR: 29.893295288085938\n"
     ]
    },
    {
     "name": "stderr",
     "output_type": "stream",
     "text": [
      " 73%|███████▎  | 146002/200000 [7:40:23<1:32:07,  9.77it/s]"
     ]
    },
    {
     "name": "stdout",
     "output_type": "stream",
     "text": [
      "[TRAIN] Iter: 146000 Loss: 0.0037950698751956224  PSNR: 28.199966430664062\n"
     ]
    },
    {
     "name": "stderr",
     "output_type": "stream",
     "text": [
      " 74%|███████▎  | 147002/200000 [7:42:05<1:31:01,  9.70it/s]"
     ]
    },
    {
     "name": "stdout",
     "output_type": "stream",
     "text": [
      "[TRAIN] Iter: 147000 Loss: 0.0036634663119912148  PSNR: 28.336795806884766\n"
     ]
    },
    {
     "name": "stderr",
     "output_type": "stream",
     "text": [
      " 74%|███████▍  | 148002/200000 [7:43:48<1:28:36,  9.78it/s]"
     ]
    },
    {
     "name": "stdout",
     "output_type": "stream",
     "text": [
      "[TRAIN] Iter: 148000 Loss: 0.00407034158706665  PSNR: 28.351070404052734\n"
     ]
    },
    {
     "name": "stderr",
     "output_type": "stream",
     "text": [
      " 75%|███████▍  | 149002/200000 [7:45:30<1:26:16,  9.85it/s]"
     ]
    },
    {
     "name": "stdout",
     "output_type": "stream",
     "text": [
      "[TRAIN] Iter: 149000 Loss: 0.0034397367853671312  PSNR: 28.38389015197754\n"
     ]
    },
    {
     "name": "stderr",
     "output_type": "stream",
     "text": [
      " 75%|███████▍  | 149999/200000 [7:47:13<1:25:01,  9.80it/s]"
     ]
    },
    {
     "name": "stdout",
     "output_type": "stream",
     "text": [
      "Saved checkpoints at ./logs\\mic_blender200k_fullres\\checkpoints\\150000.tar\n"
     ]
    },
    {
     "name": "stderr",
     "output_type": "stream",
     "text": []
    },
    {
     "name": "stdout",
     "output_type": "stream",
     "text": [
      "0 0.0015447139739990234\n"
     ]
    },
    {
     "name": "stderr",
     "output_type": "stream",
     "text": []
    },
    {
     "name": "stdout",
     "output_type": "stream",
     "text": [
      "torch.Size([800, 800, 3]) torch.Size([800, 800])\n",
      "1 22.851025581359863\n"
     ]
    },
    {
     "name": "stderr",
     "output_type": "stream",
     "text": []
    },
    {
     "name": "stdout",
     "output_type": "stream",
     "text": [
      "2 22.829699993133545\n"
     ]
    },
    {
     "name": "stderr",
     "output_type": "stream",
     "text": []
    },
    {
     "name": "stdout",
     "output_type": "stream",
     "text": [
      "3 22.838937997817993\n"
     ]
    },
    {
     "name": "stderr",
     "output_type": "stream",
     "text": []
    },
    {
     "name": "stdout",
     "output_type": "stream",
     "text": [
      "4 22.83969235420227\n"
     ]
    },
    {
     "name": "stderr",
     "output_type": "stream",
     "text": []
    },
    {
     "name": "stdout",
     "output_type": "stream",
     "text": [
      "5 22.835547924041748\n"
     ]
    },
    {
     "name": "stderr",
     "output_type": "stream",
     "text": []
    },
    {
     "name": "stdout",
     "output_type": "stream",
     "text": [
      "6 22.841848611831665\n"
     ]
    },
    {
     "name": "stderr",
     "output_type": "stream",
     "text": []
    },
    {
     "name": "stdout",
     "output_type": "stream",
     "text": [
      "7 22.839770317077637\n"
     ]
    },
    {
     "name": "stderr",
     "output_type": "stream",
     "text": []
    },
    {
     "name": "stdout",
     "output_type": "stream",
     "text": [
      "8 22.83809185028076\n"
     ]
    },
    {
     "name": "stderr",
     "output_type": "stream",
     "text": []
    },
    {
     "name": "stdout",
     "output_type": "stream",
     "text": [
      "9 22.834054708480835\n"
     ]
    },
    {
     "name": "stderr",
     "output_type": "stream",
     "text": []
    },
    {
     "name": "stdout",
     "output_type": "stream",
     "text": [
      "10 22.840598821640015\n"
     ]
    },
    {
     "name": "stderr",
     "output_type": "stream",
     "text": []
    },
    {
     "name": "stdout",
     "output_type": "stream",
     "text": [
      "11 22.83716654777527\n"
     ]
    },
    {
     "name": "stderr",
     "output_type": "stream",
     "text": []
    },
    {
     "name": "stdout",
     "output_type": "stream",
     "text": [
      "12 22.83930277824402\n"
     ]
    },
    {
     "name": "stderr",
     "output_type": "stream",
     "text": []
    },
    {
     "name": "stdout",
     "output_type": "stream",
     "text": [
      "13 22.837801218032837\n"
     ]
    },
    {
     "name": "stderr",
     "output_type": "stream",
     "text": []
    },
    {
     "name": "stdout",
     "output_type": "stream",
     "text": [
      "14 22.835398197174072\n"
     ]
    },
    {
     "name": "stderr",
     "output_type": "stream",
     "text": []
    },
    {
     "name": "stdout",
     "output_type": "stream",
     "text": [
      "15 22.837088346481323\n"
     ]
    },
    {
     "name": "stderr",
     "output_type": "stream",
     "text": []
    },
    {
     "name": "stdout",
     "output_type": "stream",
     "text": [
      "16 22.83183240890503\n"
     ]
    },
    {
     "name": "stderr",
     "output_type": "stream",
     "text": []
    },
    {
     "name": "stdout",
     "output_type": "stream",
     "text": [
      "17 22.830891847610474\n"
     ]
    },
    {
     "name": "stderr",
     "output_type": "stream",
     "text": []
    },
    {
     "name": "stdout",
     "output_type": "stream",
     "text": [
      "18 22.831502676010132\n"
     ]
    },
    {
     "name": "stderr",
     "output_type": "stream",
     "text": []
    },
    {
     "name": "stdout",
     "output_type": "stream",
     "text": [
      "19 22.82957911491394\n"
     ]
    },
    {
     "name": "stderr",
     "output_type": "stream",
     "text": []
    },
    {
     "name": "stdout",
     "output_type": "stream",
     "text": [
      "20 22.830608129501343\n"
     ]
    },
    {
     "name": "stderr",
     "output_type": "stream",
     "text": []
    },
    {
     "name": "stdout",
     "output_type": "stream",
     "text": [
      "21 22.829588651657104\n"
     ]
    },
    {
     "name": "stderr",
     "output_type": "stream",
     "text": []
    },
    {
     "name": "stdout",
     "output_type": "stream",
     "text": [
      "22 22.830896615982056\n"
     ]
    },
    {
     "name": "stderr",
     "output_type": "stream",
     "text": []
    },
    {
     "name": "stdout",
     "output_type": "stream",
     "text": [
      "23 22.833613634109497\n"
     ]
    },
    {
     "name": "stderr",
     "output_type": "stream",
     "text": []
    },
    {
     "name": "stdout",
     "output_type": "stream",
     "text": [
      "24 22.83321738243103\n"
     ]
    },
    {
     "name": "stderr",
     "output_type": "stream",
     "text": []
    },
    {
     "name": "stdout",
     "output_type": "stream",
     "text": [
      "25 22.834705114364624\n"
     ]
    },
    {
     "name": "stderr",
     "output_type": "stream",
     "text": []
    },
    {
     "name": "stdout",
     "output_type": "stream",
     "text": [
      "26 22.83540368080139\n"
     ]
    },
    {
     "name": "stderr",
     "output_type": "stream",
     "text": []
    },
    {
     "name": "stdout",
     "output_type": "stream",
     "text": [
      "27 22.834519386291504\n"
     ]
    },
    {
     "name": "stderr",
     "output_type": "stream",
     "text": []
    },
    {
     "name": "stdout",
     "output_type": "stream",
     "text": [
      "28 22.839203357696533\n"
     ]
    },
    {
     "name": "stderr",
     "output_type": "stream",
     "text": []
    },
    {
     "name": "stdout",
     "output_type": "stream",
     "text": [
      "29 22.835131645202637\n"
     ]
    },
    {
     "name": "stderr",
     "output_type": "stream",
     "text": []
    },
    {
     "name": "stdout",
     "output_type": "stream",
     "text": [
      "30 22.832173347473145\n"
     ]
    },
    {
     "name": "stderr",
     "output_type": "stream",
     "text": []
    },
    {
     "name": "stdout",
     "output_type": "stream",
     "text": [
      "31 22.835752964019775\n"
     ]
    },
    {
     "name": "stderr",
     "output_type": "stream",
     "text": []
    },
    {
     "name": "stdout",
     "output_type": "stream",
     "text": [
      "32 22.833316326141357\n"
     ]
    },
    {
     "name": "stderr",
     "output_type": "stream",
     "text": []
    },
    {
     "name": "stdout",
     "output_type": "stream",
     "text": [
      "33 22.83568549156189\n"
     ]
    },
    {
     "name": "stderr",
     "output_type": "stream",
     "text": []
    },
    {
     "name": "stdout",
     "output_type": "stream",
     "text": [
      "34 22.8364417552948\n"
     ]
    },
    {
     "name": "stderr",
     "output_type": "stream",
     "text": []
    },
    {
     "name": "stdout",
     "output_type": "stream",
     "text": [
      "35 22.836039066314697\n"
     ]
    },
    {
     "name": "stderr",
     "output_type": "stream",
     "text": []
    },
    {
     "name": "stdout",
     "output_type": "stream",
     "text": [
      "36 22.831649780273438\n"
     ]
    },
    {
     "name": "stderr",
     "output_type": "stream",
     "text": []
    },
    {
     "name": "stdout",
     "output_type": "stream",
     "text": [
      "37 22.835148811340332\n"
     ]
    },
    {
     "name": "stderr",
     "output_type": "stream",
     "text": []
    },
    {
     "name": "stdout",
     "output_type": "stream",
     "text": [
      "38 22.83593201637268\n"
     ]
    },
    {
     "name": "stderr",
     "output_type": "stream",
     "text": []
    },
    {
     "name": "stdout",
     "output_type": "stream",
     "text": [
      "39 22.834978103637695\n"
     ]
    },
    {
     "name": "stderr",
     "output_type": "stream",
     "text": [
      "100%|██████████| 40/40 [15:13<00:00, 22.84s/it]\n"
     ]
    },
    {
     "name": "stdout",
     "output_type": "stream",
     "text": [
      "Done, saving (40, 800, 800, 3) (40, 800, 800)\n",
      "test poses shape torch.Size([25, 4, 4])\n"
     ]
    },
    {
     "name": "stderr",
     "output_type": "stream",
     "text": []
    },
    {
     "name": "stdout",
     "output_type": "stream",
     "text": [
      "0 0.0016436576843261719\n"
     ]
    },
    {
     "name": "stderr",
     "output_type": "stream",
     "text": []
    },
    {
     "name": "stdout",
     "output_type": "stream",
     "text": [
      "torch.Size([800, 800, 3]) torch.Size([800, 800])\n",
      "Frame 0 - PSNR: 31.23, SSIM: 0.9726, LPIPS: 0.0450\n",
      "1 22.93976402282715\n"
     ]
    },
    {
     "name": "stderr",
     "output_type": "stream",
     "text": []
    },
    {
     "name": "stdout",
     "output_type": "stream",
     "text": [
      "Frame 1 - PSNR: 31.78, SSIM: 0.9741, LPIPS: 0.0406\n",
      "2 22.921837091445923\n"
     ]
    },
    {
     "name": "stderr",
     "output_type": "stream",
     "text": []
    },
    {
     "name": "stdout",
     "output_type": "stream",
     "text": [
      "Frame 2 - PSNR: 30.14, SSIM: 0.9665, LPIPS: 0.0460\n",
      "3 22.911770820617676\n"
     ]
    },
    {
     "name": "stderr",
     "output_type": "stream",
     "text": []
    },
    {
     "name": "stdout",
     "output_type": "stream",
     "text": [
      "Frame 3 - PSNR: 30.40, SSIM: 0.9652, LPIPS: 0.0499\n",
      "4 22.9255051612854\n"
     ]
    },
    {
     "name": "stderr",
     "output_type": "stream",
     "text": []
    },
    {
     "name": "stdout",
     "output_type": "stream",
     "text": [
      "Frame 4 - PSNR: 30.26, SSIM: 0.9622, LPIPS: 0.0510\n",
      "5 22.927732467651367\n"
     ]
    },
    {
     "name": "stderr",
     "output_type": "stream",
     "text": []
    },
    {
     "name": "stdout",
     "output_type": "stream",
     "text": [
      "Frame 5 - PSNR: 30.72, SSIM: 0.9678, LPIPS: 0.0452\n",
      "6 22.92441177368164\n"
     ]
    },
    {
     "name": "stderr",
     "output_type": "stream",
     "text": []
    },
    {
     "name": "stdout",
     "output_type": "stream",
     "text": [
      "Frame 6 - PSNR: 31.46, SSIM: 0.9835, LPIPS: 0.0241\n",
      "7 22.925899982452393\n"
     ]
    },
    {
     "name": "stderr",
     "output_type": "stream",
     "text": []
    },
    {
     "name": "stdout",
     "output_type": "stream",
     "text": [
      "Frame 7 - PSNR: 30.76, SSIM: 0.9728, LPIPS: 0.0317\n",
      "8 22.92512321472168\n"
     ]
    },
    {
     "name": "stderr",
     "output_type": "stream",
     "text": []
    },
    {
     "name": "stdout",
     "output_type": "stream",
     "text": [
      "Frame 8 - PSNR: 29.71, SSIM: 0.9602, LPIPS: 0.0498\n",
      "9 22.922184944152832\n"
     ]
    },
    {
     "name": "stderr",
     "output_type": "stream",
     "text": []
    },
    {
     "name": "stdout",
     "output_type": "stream",
     "text": [
      "Frame 9 - PSNR: 30.39, SSIM: 0.9634, LPIPS: 0.0525\n",
      "10 22.927807331085205\n"
     ]
    },
    {
     "name": "stderr",
     "output_type": "stream",
     "text": []
    },
    {
     "name": "stdout",
     "output_type": "stream",
     "text": [
      "Frame 10 - PSNR: 31.76, SSIM: 0.9711, LPIPS: 0.0476\n",
      "11 22.91979455947876\n"
     ]
    },
    {
     "name": "stderr",
     "output_type": "stream",
     "text": []
    },
    {
     "name": "stdout",
     "output_type": "stream",
     "text": [
      "Frame 11 - PSNR: 32.84, SSIM: 0.9757, LPIPS: 0.0459\n",
      "12 22.921370267868042\n"
     ]
    },
    {
     "name": "stderr",
     "output_type": "stream",
     "text": []
    },
    {
     "name": "stdout",
     "output_type": "stream",
     "text": [
      "Frame 12 - PSNR: 29.96, SSIM: 0.9736, LPIPS: 0.0425\n",
      "13 22.922001123428345\n"
     ]
    },
    {
     "name": "stderr",
     "output_type": "stream",
     "text": []
    },
    {
     "name": "stdout",
     "output_type": "stream",
     "text": [
      "Frame 13 - PSNR: 31.69, SSIM: 0.9771, LPIPS: 0.0428\n",
      "14 22.9149272441864\n"
     ]
    },
    {
     "name": "stderr",
     "output_type": "stream",
     "text": []
    },
    {
     "name": "stdout",
     "output_type": "stream",
     "text": [
      "Frame 14 - PSNR: 31.70, SSIM: 0.9723, LPIPS: 0.0492\n",
      "15 22.917952299118042\n"
     ]
    },
    {
     "name": "stderr",
     "output_type": "stream",
     "text": []
    },
    {
     "name": "stdout",
     "output_type": "stream",
     "text": [
      "Frame 15 - PSNR: 31.69, SSIM: 0.9693, LPIPS: 0.0541\n",
      "16 22.929235219955444\n"
     ]
    },
    {
     "name": "stderr",
     "output_type": "stream",
     "text": []
    },
    {
     "name": "stdout",
     "output_type": "stream",
     "text": [
      "Frame 16 - PSNR: 31.23, SSIM: 0.9668, LPIPS: 0.0525\n",
      "17 22.923085927963257\n"
     ]
    },
    {
     "name": "stderr",
     "output_type": "stream",
     "text": []
    },
    {
     "name": "stdout",
     "output_type": "stream",
     "text": [
      "Frame 17 - PSNR: 30.61, SSIM: 0.9648, LPIPS: 0.0458\n",
      "18 22.916931629180908\n"
     ]
    },
    {
     "name": "stderr",
     "output_type": "stream",
     "text": []
    },
    {
     "name": "stdout",
     "output_type": "stream",
     "text": [
      "Frame 18 - PSNR: 31.30, SSIM: 0.9742, LPIPS: 0.0347\n",
      "19 22.92802381515503\n"
     ]
    },
    {
     "name": "stderr",
     "output_type": "stream",
     "text": []
    },
    {
     "name": "stdout",
     "output_type": "stream",
     "text": [
      "Frame 19 - PSNR: 30.55, SSIM: 0.9826, LPIPS: 0.0260\n",
      "20 22.928858280181885\n"
     ]
    },
    {
     "name": "stderr",
     "output_type": "stream",
     "text": []
    },
    {
     "name": "stdout",
     "output_type": "stream",
     "text": [
      "Frame 20 - PSNR: 29.81, SSIM: 0.9643, LPIPS: 0.0391\n",
      "21 22.927945137023926\n"
     ]
    },
    {
     "name": "stderr",
     "output_type": "stream",
     "text": []
    },
    {
     "name": "stdout",
     "output_type": "stream",
     "text": [
      "Frame 21 - PSNR: 29.35, SSIM: 0.9604, LPIPS: 0.0481\n",
      "22 22.931928873062134\n"
     ]
    },
    {
     "name": "stderr",
     "output_type": "stream",
     "text": []
    },
    {
     "name": "stdout",
     "output_type": "stream",
     "text": [
      "Frame 22 - PSNR: 29.41, SSIM: 0.9624, LPIPS: 0.0489\n",
      "23 22.923741340637207\n"
     ]
    },
    {
     "name": "stderr",
     "output_type": "stream",
     "text": []
    },
    {
     "name": "stdout",
     "output_type": "stream",
     "text": [
      "Frame 23 - PSNR: 29.93, SSIM: 0.9655, LPIPS: 0.0480\n",
      "24 22.916259050369263\n"
     ]
    },
    {
     "name": "stderr",
     "output_type": "stream",
     "text": [
      "100%|██████████| 25/25 [09:33<00:00, 22.92s/it]\n",
      " 75%|███████▌  | 150000/200000 [8:12:00<5987:36:04, 431.11s/it]"
     ]
    },
    {
     "name": "stdout",
     "output_type": "stream",
     "text": [
      "Frame 24 - PSNR: 31.03, SSIM: 0.9705, LPIPS: 0.0418\n",
      "\n",
      "=== METRICS SUMMARY ===\n",
      "Average PSNR: 30.7882 ± 0.8572\n",
      "Average SSIM: 0.9696 ± 0.0062\n",
      "Average LPIPS: 0.0441 ± 0.0077\n",
      "=======================\n",
      "Metrics logged to: ./logs\\mic_blender200k_fullres\\metrics\\metrics_150000.txt and ./logs\\mic_blender200k_fullres\\metrics\\metrics_150000.json\n",
      "Training history updated: ./logs\\mic_blender200k_fullres\\metrics\\training_metrics.json\n",
      "Saved test set with metrics\n",
      "[TRAIN] Iter: 150000 Loss: 0.0012233846355229616  PSNR: 36.86044692993164\n"
     ]
    },
    {
     "name": "stderr",
     "output_type": "stream",
     "text": [
      " 76%|███████▌  | 151002/200000 [8:13:43<1:23:43,  9.75it/s]    "
     ]
    },
    {
     "name": "stdout",
     "output_type": "stream",
     "text": [
      "[TRAIN] Iter: 151000 Loss: 0.002465686993673444  PSNR: 30.50533103942871\n"
     ]
    },
    {
     "name": "stderr",
     "output_type": "stream",
     "text": [
      " 76%|███████▌  | 152002/200000 [8:15:25<1:22:16,  9.72it/s]"
     ]
    },
    {
     "name": "stdout",
     "output_type": "stream",
     "text": [
      "[TRAIN] Iter: 152000 Loss: 0.0018363350536674261  PSNR: 35.76725387573242\n"
     ]
    },
    {
     "name": "stderr",
     "output_type": "stream",
     "text": [
      " 77%|███████▋  | 153002/200000 [8:17:08<1:20:43,  9.70it/s]"
     ]
    },
    {
     "name": "stdout",
     "output_type": "stream",
     "text": [
      "[TRAIN] Iter: 153000 Loss: 0.004204399883747101  PSNR: 28.216712951660156\n"
     ]
    },
    {
     "name": "stderr",
     "output_type": "stream",
     "text": [
      " 77%|███████▋  | 154002/200000 [8:18:51<1:17:58,  9.83it/s]"
     ]
    },
    {
     "name": "stdout",
     "output_type": "stream",
     "text": [
      "[TRAIN] Iter: 154000 Loss: 0.0021803835406899452  PSNR: 33.70878982543945\n"
     ]
    },
    {
     "name": "stderr",
     "output_type": "stream",
     "text": [
      " 78%|███████▊  | 155002/200000 [8:20:33<1:17:10,  9.72it/s]"
     ]
    },
    {
     "name": "stdout",
     "output_type": "stream",
     "text": [
      "[TRAIN] Iter: 155000 Loss: 0.003223732579499483  PSNR: 29.329492568969727\n"
     ]
    },
    {
     "name": "stderr",
     "output_type": "stream",
     "text": [
      " 78%|███████▊  | 156000/200000 [8:22:16<1:18:17,  9.37it/s]"
     ]
    },
    {
     "name": "stdout",
     "output_type": "stream",
     "text": [
      "[TRAIN] Iter: 156000 Loss: 0.0032788021489977837  PSNR: 30.75388526916504\n"
     ]
    },
    {
     "name": "stderr",
     "output_type": "stream",
     "text": [
      " 79%|███████▊  | 157002/200000 [8:23:58<1:13:30,  9.75it/s]"
     ]
    },
    {
     "name": "stdout",
     "output_type": "stream",
     "text": [
      "[TRAIN] Iter: 157000 Loss: 0.002241218462586403  PSNR: 31.905773162841797\n"
     ]
    },
    {
     "name": "stderr",
     "output_type": "stream",
     "text": [
      " 79%|███████▉  | 158002/200000 [8:25:41<1:11:43,  9.76it/s]"
     ]
    },
    {
     "name": "stdout",
     "output_type": "stream",
     "text": [
      "[TRAIN] Iter: 158000 Loss: 0.003599475370720029  PSNR: 30.473302841186523\n"
     ]
    },
    {
     "name": "stderr",
     "output_type": "stream",
     "text": [
      " 80%|███████▉  | 159002/200000 [8:27:23<1:10:34,  9.68it/s]"
     ]
    },
    {
     "name": "stdout",
     "output_type": "stream",
     "text": [
      "[TRAIN] Iter: 159000 Loss: 0.0017125627491623163  PSNR: 32.02479934692383\n"
     ]
    },
    {
     "name": "stderr",
     "output_type": "stream",
     "text": [
      " 80%|███████▉  | 159999/200000 [8:29:06<1:09:09,  9.64it/s]"
     ]
    },
    {
     "name": "stdout",
     "output_type": "stream",
     "text": [
      "Saved checkpoints at ./logs\\mic_blender200k_fullres\\checkpoints\\160000.tar\n",
      "test poses shape torch.Size([25, 4, 4])\n"
     ]
    },
    {
     "name": "stderr",
     "output_type": "stream",
     "text": []
    },
    {
     "name": "stdout",
     "output_type": "stream",
     "text": [
      "0 0.002008199691772461\n"
     ]
    },
    {
     "name": "stderr",
     "output_type": "stream",
     "text": []
    },
    {
     "name": "stdout",
     "output_type": "stream",
     "text": [
      "torch.Size([800, 800, 3]) torch.Size([800, 800])\n",
      "Frame 0 - PSNR: 31.46, SSIM: 0.9734, LPIPS: 0.0391\n",
      "1 22.93958806991577\n"
     ]
    },
    {
     "name": "stderr",
     "output_type": "stream",
     "text": []
    },
    {
     "name": "stdout",
     "output_type": "stream",
     "text": [
      "Frame 1 - PSNR: 31.91, SSIM: 0.9744, LPIPS: 0.0386\n",
      "2 22.91537880897522\n"
     ]
    },
    {
     "name": "stderr",
     "output_type": "stream",
     "text": []
    },
    {
     "name": "stdout",
     "output_type": "stream",
     "text": [
      "Frame 2 - PSNR: 30.42, SSIM: 0.9678, LPIPS: 0.0435\n",
      "3 22.917937994003296\n"
     ]
    },
    {
     "name": "stderr",
     "output_type": "stream",
     "text": []
    },
    {
     "name": "stdout",
     "output_type": "stream",
     "text": [
      "Frame 3 - PSNR: 30.48, SSIM: 0.9659, LPIPS: 0.0464\n",
      "4 22.92027711868286\n"
     ]
    },
    {
     "name": "stderr",
     "output_type": "stream",
     "text": []
    },
    {
     "name": "stdout",
     "output_type": "stream",
     "text": [
      "Frame 4 - PSNR: 30.29, SSIM: 0.9632, LPIPS: 0.0472\n",
      "5 22.91675066947937\n"
     ]
    },
    {
     "name": "stderr",
     "output_type": "stream",
     "text": []
    },
    {
     "name": "stdout",
     "output_type": "stream",
     "text": [
      "Frame 5 - PSNR: 30.81, SSIM: 0.9691, LPIPS: 0.0401\n",
      "6 22.922519207000732\n"
     ]
    },
    {
     "name": "stderr",
     "output_type": "stream",
     "text": []
    },
    {
     "name": "stdout",
     "output_type": "stream",
     "text": [
      "Frame 6 - PSNR: 31.69, SSIM: 0.9841, LPIPS: 0.0217\n",
      "7 22.922354459762573\n"
     ]
    },
    {
     "name": "stderr",
     "output_type": "stream",
     "text": []
    },
    {
     "name": "stdout",
     "output_type": "stream",
     "text": [
      "Frame 7 - PSNR: 30.82, SSIM: 0.9732, LPIPS: 0.0309\n",
      "8 22.925405740737915\n"
     ]
    },
    {
     "name": "stderr",
     "output_type": "stream",
     "text": []
    },
    {
     "name": "stdout",
     "output_type": "stream",
     "text": [
      "Frame 8 - PSNR: 29.80, SSIM: 0.9604, LPIPS: 0.0456\n",
      "9 22.923637866973877\n"
     ]
    },
    {
     "name": "stderr",
     "output_type": "stream",
     "text": []
    },
    {
     "name": "stdout",
     "output_type": "stream",
     "text": [
      "Frame 9 - PSNR: 30.37, SSIM: 0.9637, LPIPS: 0.0507\n",
      "10 22.924075603485107\n"
     ]
    },
    {
     "name": "stderr",
     "output_type": "stream",
     "text": []
    },
    {
     "name": "stdout",
     "output_type": "stream",
     "text": [
      "Frame 10 - PSNR: 31.80, SSIM: 0.9708, LPIPS: 0.0464\n",
      "11 22.920053958892822\n"
     ]
    },
    {
     "name": "stderr",
     "output_type": "stream",
     "text": []
    },
    {
     "name": "stdout",
     "output_type": "stream",
     "text": [
      "Frame 11 - PSNR: 32.76, SSIM: 0.9758, LPIPS: 0.0422\n",
      "12 22.910661935806274\n"
     ]
    },
    {
     "name": "stderr",
     "output_type": "stream",
     "text": []
    },
    {
     "name": "stdout",
     "output_type": "stream",
     "text": [
      "Frame 12 - PSNR: 30.00, SSIM: 0.9740, LPIPS: 0.0403\n",
      "13 22.915655612945557\n"
     ]
    },
    {
     "name": "stderr",
     "output_type": "stream",
     "text": []
    },
    {
     "name": "stdout",
     "output_type": "stream",
     "text": [
      "Frame 13 - PSNR: 31.77, SSIM: 0.9779, LPIPS: 0.0393\n",
      "14 22.92063546180725\n"
     ]
    },
    {
     "name": "stderr",
     "output_type": "stream",
     "text": []
    },
    {
     "name": "stdout",
     "output_type": "stream",
     "text": [
      "Frame 14 - PSNR: 31.49, SSIM: 0.9722, LPIPS: 0.0454\n",
      "15 22.923207998275757\n"
     ]
    },
    {
     "name": "stderr",
     "output_type": "stream",
     "text": []
    },
    {
     "name": "stdout",
     "output_type": "stream",
     "text": [
      "Frame 15 - PSNR: 31.72, SSIM: 0.9699, LPIPS: 0.0504\n",
      "16 22.913779973983765\n"
     ]
    },
    {
     "name": "stderr",
     "output_type": "stream",
     "text": []
    },
    {
     "name": "stdout",
     "output_type": "stream",
     "text": [
      "Frame 16 - PSNR: 31.34, SSIM: 0.9673, LPIPS: 0.0503\n",
      "17 22.92386555671692\n"
     ]
    },
    {
     "name": "stderr",
     "output_type": "stream",
     "text": []
    },
    {
     "name": "stdout",
     "output_type": "stream",
     "text": [
      "Frame 17 - PSNR: 30.60, SSIM: 0.9651, LPIPS: 0.0460\n",
      "18 22.931443214416504\n"
     ]
    },
    {
     "name": "stderr",
     "output_type": "stream",
     "text": []
    },
    {
     "name": "stdout",
     "output_type": "stream",
     "text": [
      "Frame 18 - PSNR: 31.42, SSIM: 0.9748, LPIPS: 0.0322\n",
      "19 22.927114725112915\n"
     ]
    },
    {
     "name": "stderr",
     "output_type": "stream",
     "text": []
    },
    {
     "name": "stdout",
     "output_type": "stream",
     "text": [
      "Frame 19 - PSNR: 30.64, SSIM: 0.9833, LPIPS: 0.0214\n",
      "20 22.92811346054077\n"
     ]
    },
    {
     "name": "stderr",
     "output_type": "stream",
     "text": []
    },
    {
     "name": "stdout",
     "output_type": "stream",
     "text": [
      "Frame 20 - PSNR: 29.80, SSIM: 0.9640, LPIPS: 0.0374\n",
      "21 22.9211905002594\n"
     ]
    },
    {
     "name": "stderr",
     "output_type": "stream",
     "text": []
    },
    {
     "name": "stdout",
     "output_type": "stream",
     "text": [
      "Frame 21 - PSNR: 29.40, SSIM: 0.9605, LPIPS: 0.0467\n",
      "22 22.92557954788208\n"
     ]
    },
    {
     "name": "stderr",
     "output_type": "stream",
     "text": []
    },
    {
     "name": "stdout",
     "output_type": "stream",
     "text": [
      "Frame 22 - PSNR: 29.50, SSIM: 0.9629, LPIPS: 0.0485\n",
      "23 22.916717290878296\n"
     ]
    },
    {
     "name": "stderr",
     "output_type": "stream",
     "text": []
    },
    {
     "name": "stdout",
     "output_type": "stream",
     "text": [
      "Frame 23 - PSNR: 29.94, SSIM: 0.9656, LPIPS: 0.0463\n",
      "24 22.92151403427124\n"
     ]
    },
    {
     "name": "stderr",
     "output_type": "stream",
     "text": [
      "100%|██████████| 25/25 [09:33<00:00, 22.92s/it]\n",
      " 80%|████████  | 160000/200000 [8:38:39<1911:42:48, 172.05s/it]"
     ]
    },
    {
     "name": "stdout",
     "output_type": "stream",
     "text": [
      "Frame 24 - PSNR: 31.29, SSIM: 0.9716, LPIPS: 0.0378\n",
      "\n",
      "=== METRICS SUMMARY ===\n",
      "Average PSNR: 30.8611 ± 0.8522\n",
      "Average SSIM: 0.9700 ± 0.0063\n",
      "Average LPIPS: 0.0414 ± 0.0078\n",
      "=======================\n",
      "Metrics logged to: ./logs\\mic_blender200k_fullres\\metrics\\metrics_160000.txt and ./logs\\mic_blender200k_fullres\\metrics\\metrics_160000.json\n",
      "Training history updated: ./logs\\mic_blender200k_fullres\\metrics\\training_metrics.json\n",
      "Saved test set with metrics\n",
      "[TRAIN] Iter: 160000 Loss: 0.003153389086946845  PSNR: 30.09650230407715\n"
     ]
    },
    {
     "name": "stderr",
     "output_type": "stream",
     "text": [
      " 81%|████████  | 161002/200000 [8:40:22<1:06:47,  9.73it/s]    "
     ]
    },
    {
     "name": "stdout",
     "output_type": "stream",
     "text": [
      "[TRAIN] Iter: 161000 Loss: 0.004971751943230629  PSNR: 28.109209060668945\n"
     ]
    },
    {
     "name": "stderr",
     "output_type": "stream",
     "text": [
      " 81%|████████  | 162002/200000 [8:42:05<1:04:43,  9.78it/s]"
     ]
    },
    {
     "name": "stdout",
     "output_type": "stream",
     "text": [
      "[TRAIN] Iter: 162000 Loss: 0.0018714505713433027  PSNR: 31.65776824951172\n"
     ]
    },
    {
     "name": "stderr",
     "output_type": "stream",
     "text": [
      " 82%|████████▏ | 163002/200000 [8:43:47<1:03:18,  9.74it/s]"
     ]
    },
    {
     "name": "stdout",
     "output_type": "stream",
     "text": [
      "[TRAIN] Iter: 163000 Loss: 0.002010879572480917  PSNR: 31.593839645385742\n"
     ]
    },
    {
     "name": "stderr",
     "output_type": "stream",
     "text": [
      " 82%|████████▏ | 164002/200000 [8:45:30<1:01:34,  9.74it/s]"
     ]
    },
    {
     "name": "stdout",
     "output_type": "stream",
     "text": [
      "[TRAIN] Iter: 164000 Loss: 0.0015944980550557375  PSNR: 32.66780471801758\n"
     ]
    },
    {
     "name": "stderr",
     "output_type": "stream",
     "text": [
      " 83%|████████▎ | 165002/200000 [8:47:13<59:54,  9.74it/s]  "
     ]
    },
    {
     "name": "stdout",
     "output_type": "stream",
     "text": [
      "[TRAIN] Iter: 165000 Loss: 0.0023032352328300476  PSNR: 31.82042694091797\n"
     ]
    },
    {
     "name": "stderr",
     "output_type": "stream",
     "text": [
      " 83%|████████▎ | 166002/200000 [8:48:56<58:24,  9.70it/s]  "
     ]
    },
    {
     "name": "stdout",
     "output_type": "stream",
     "text": [
      "[TRAIN] Iter: 166000 Loss: 0.0030252127908170223  PSNR: 30.010393142700195\n"
     ]
    },
    {
     "name": "stderr",
     "output_type": "stream",
     "text": [
      " 84%|████████▎ | 167002/200000 [8:50:38<56:22,  9.76it/s]"
     ]
    },
    {
     "name": "stdout",
     "output_type": "stream",
     "text": [
      "[TRAIN] Iter: 167000 Loss: 0.0028770763892680407  PSNR: 29.59287452697754\n"
     ]
    },
    {
     "name": "stderr",
     "output_type": "stream",
     "text": [
      " 84%|████████▍ | 168002/200000 [8:52:21<54:03,  9.87it/s]"
     ]
    },
    {
     "name": "stdout",
     "output_type": "stream",
     "text": [
      "[TRAIN] Iter: 168000 Loss: 0.0022139353677630424  PSNR: 30.58213233947754\n"
     ]
    },
    {
     "name": "stderr",
     "output_type": "stream",
     "text": [
      " 85%|████████▍ | 169002/200000 [8:54:03<52:48,  9.78it/s]"
     ]
    },
    {
     "name": "stdout",
     "output_type": "stream",
     "text": [
      "[TRAIN] Iter: 169000 Loss: 0.003658498637378216  PSNR: 30.640830993652344\n"
     ]
    },
    {
     "name": "stderr",
     "output_type": "stream",
     "text": [
      " 85%|████████▍ | 169999/200000 [8:55:46<51:24,  9.73it/s]"
     ]
    },
    {
     "name": "stdout",
     "output_type": "stream",
     "text": [
      "Saved checkpoints at ./logs\\mic_blender200k_fullres\\checkpoints\\170000.tar\n",
      "test poses shape torch.Size([25, 4, 4])\n"
     ]
    },
    {
     "name": "stderr",
     "output_type": "stream",
     "text": []
    },
    {
     "name": "stdout",
     "output_type": "stream",
     "text": [
      "0 0.0017976760864257812\n"
     ]
    },
    {
     "name": "stderr",
     "output_type": "stream",
     "text": []
    },
    {
     "name": "stdout",
     "output_type": "stream",
     "text": [
      "torch.Size([800, 800, 3]) torch.Size([800, 800])\n",
      "Frame 0 - PSNR: 31.38, SSIM: 0.9734, LPIPS: 0.0382\n",
      "1 22.943135976791382\n"
     ]
    },
    {
     "name": "stderr",
     "output_type": "stream",
     "text": []
    },
    {
     "name": "stdout",
     "output_type": "stream",
     "text": [
      "Frame 1 - PSNR: 31.91, SSIM: 0.9747, LPIPS: 0.0361\n",
      "2 22.923155069351196\n"
     ]
    },
    {
     "name": "stderr",
     "output_type": "stream",
     "text": []
    },
    {
     "name": "stdout",
     "output_type": "stream",
     "text": [
      "Frame 2 - PSNR: 30.55, SSIM: 0.9684, LPIPS: 0.0414\n",
      "3 22.923189640045166\n"
     ]
    },
    {
     "name": "stderr",
     "output_type": "stream",
     "text": []
    },
    {
     "name": "stdout",
     "output_type": "stream",
     "text": [
      "Frame 3 - PSNR: 30.44, SSIM: 0.9662, LPIPS: 0.0454\n",
      "4 22.92264437675476\n"
     ]
    },
    {
     "name": "stderr",
     "output_type": "stream",
     "text": []
    },
    {
     "name": "stdout",
     "output_type": "stream",
     "text": [
      "Frame 4 - PSNR: 30.36, SSIM: 0.9635, LPIPS: 0.0454\n",
      "5 22.921558618545532\n"
     ]
    },
    {
     "name": "stderr",
     "output_type": "stream",
     "text": []
    },
    {
     "name": "stdout",
     "output_type": "stream",
     "text": [
      "Frame 5 - PSNR: 30.92, SSIM: 0.9687, LPIPS: 0.0367\n",
      "6 22.919169187545776\n"
     ]
    },
    {
     "name": "stderr",
     "output_type": "stream",
     "text": []
    },
    {
     "name": "stdout",
     "output_type": "stream",
     "text": [
      "Frame 6 - PSNR: 32.01, SSIM: 0.9849, LPIPS: 0.0205\n",
      "7 22.91201376914978\n"
     ]
    },
    {
     "name": "stderr",
     "output_type": "stream",
     "text": []
    },
    {
     "name": "stdout",
     "output_type": "stream",
     "text": [
      "Frame 7 - PSNR: 30.99, SSIM: 0.9740, LPIPS: 0.0292\n",
      "8 22.923362016677856\n"
     ]
    },
    {
     "name": "stderr",
     "output_type": "stream",
     "text": []
    },
    {
     "name": "stdout",
     "output_type": "stream",
     "text": [
      "Frame 8 - PSNR: 29.87, SSIM: 0.9616, LPIPS: 0.0445\n",
      "9 22.93280291557312\n"
     ]
    },
    {
     "name": "stderr",
     "output_type": "stream",
     "text": []
    },
    {
     "name": "stdout",
     "output_type": "stream",
     "text": [
      "Frame 9 - PSNR: 30.58, SSIM: 0.9649, LPIPS: 0.0495\n",
      "10 22.925153255462646\n"
     ]
    },
    {
     "name": "stderr",
     "output_type": "stream",
     "text": []
    },
    {
     "name": "stdout",
     "output_type": "stream",
     "text": [
      "Frame 10 - PSNR: 31.86, SSIM: 0.9715, LPIPS: 0.0454\n",
      "11 22.941204071044922\n"
     ]
    },
    {
     "name": "stderr",
     "output_type": "stream",
     "text": []
    },
    {
     "name": "stdout",
     "output_type": "stream",
     "text": [
      "Frame 11 - PSNR: 33.05, SSIM: 0.9768, LPIPS: 0.0413\n",
      "12 23.127779960632324\n"
     ]
    },
    {
     "name": "stderr",
     "output_type": "stream",
     "text": []
    },
    {
     "name": "stdout",
     "output_type": "stream",
     "text": [
      "Frame 12 - PSNR: 30.03, SSIM: 0.9747, LPIPS: 0.0391\n",
      "13 22.918888330459595\n"
     ]
    },
    {
     "name": "stderr",
     "output_type": "stream",
     "text": []
    },
    {
     "name": "stdout",
     "output_type": "stream",
     "text": [
      "Frame 13 - PSNR: 32.14, SSIM: 0.9786, LPIPS: 0.0373\n",
      "14 22.919645309448242\n"
     ]
    },
    {
     "name": "stderr",
     "output_type": "stream",
     "text": []
    },
    {
     "name": "stdout",
     "output_type": "stream",
     "text": [
      "Frame 14 - PSNR: 32.00, SSIM: 0.9731, LPIPS: 0.0451\n",
      "15 22.919316291809082\n"
     ]
    },
    {
     "name": "stderr",
     "output_type": "stream",
     "text": []
    },
    {
     "name": "stdout",
     "output_type": "stream",
     "text": [
      "Frame 15 - PSNR: 31.83, SSIM: 0.9703, LPIPS: 0.0481\n",
      "16 22.919806957244873\n"
     ]
    },
    {
     "name": "stderr",
     "output_type": "stream",
     "text": []
    },
    {
     "name": "stdout",
     "output_type": "stream",
     "text": [
      "Frame 16 - PSNR: 31.45, SSIM: 0.9680, LPIPS: 0.0480\n",
      "17 22.926045417785645\n"
     ]
    },
    {
     "name": "stderr",
     "output_type": "stream",
     "text": []
    },
    {
     "name": "stdout",
     "output_type": "stream",
     "text": [
      "Frame 17 - PSNR: 30.86, SSIM: 0.9661, LPIPS: 0.0431\n",
      "18 22.923521041870117\n"
     ]
    },
    {
     "name": "stderr",
     "output_type": "stream",
     "text": []
    },
    {
     "name": "stdout",
     "output_type": "stream",
     "text": [
      "Frame 18 - PSNR: 31.50, SSIM: 0.9750, LPIPS: 0.0311\n",
      "19 22.918614625930786\n"
     ]
    },
    {
     "name": "stderr",
     "output_type": "stream",
     "text": []
    },
    {
     "name": "stdout",
     "output_type": "stream",
     "text": [
      "Frame 19 - PSNR: 31.01, SSIM: 0.9841, LPIPS: 0.0198\n",
      "20 22.91711139678955\n"
     ]
    },
    {
     "name": "stderr",
     "output_type": "stream",
     "text": []
    },
    {
     "name": "stdout",
     "output_type": "stream",
     "text": [
      "Frame 20 - PSNR: 30.05, SSIM: 0.9653, LPIPS: 0.0354\n",
      "21 22.919694185256958\n"
     ]
    },
    {
     "name": "stderr",
     "output_type": "stream",
     "text": []
    },
    {
     "name": "stdout",
     "output_type": "stream",
     "text": [
      "Frame 21 - PSNR: 29.43, SSIM: 0.9617, LPIPS: 0.0463\n",
      "22 22.923561334609985\n"
     ]
    },
    {
     "name": "stderr",
     "output_type": "stream",
     "text": []
    },
    {
     "name": "stdout",
     "output_type": "stream",
     "text": [
      "Frame 22 - PSNR: 29.65, SSIM: 0.9641, LPIPS: 0.0458\n",
      "23 22.9251070022583\n"
     ]
    },
    {
     "name": "stderr",
     "output_type": "stream",
     "text": []
    },
    {
     "name": "stdout",
     "output_type": "stream",
     "text": [
      "Frame 23 - PSNR: 30.13, SSIM: 0.9670, LPIPS: 0.0440\n",
      "24 22.925699949264526\n"
     ]
    },
    {
     "name": "stderr",
     "output_type": "stream",
     "text": [
      "100%|██████████| 25/25 [09:33<00:00, 22.93s/it]\n",
      " 85%|████████▌ | 170000/200000 [9:05:19<1399:51:16, 167.98s/it]"
     ]
    },
    {
     "name": "stdout",
     "output_type": "stream",
     "text": [
      "Frame 24 - PSNR: 31.38, SSIM: 0.9724, LPIPS: 0.0361\n",
      "\n",
      "=== METRICS SUMMARY ===\n",
      "Average PSNR: 31.0151 ± 0.8893\n",
      "Average SSIM: 0.9708 ± 0.0062\n",
      "Average LPIPS: 0.0397 ± 0.0078\n",
      "=======================\n",
      "Metrics logged to: ./logs\\mic_blender200k_fullres\\metrics\\metrics_170000.txt and ./logs\\mic_blender200k_fullres\\metrics\\metrics_170000.json\n",
      "Training history updated: ./logs\\mic_blender200k_fullres\\metrics\\training_metrics.json\n",
      "Saved test set with metrics\n",
      "[TRAIN] Iter: 170000 Loss: 0.002197005320340395  PSNR: 35.361637115478516\n"
     ]
    },
    {
     "name": "stderr",
     "output_type": "stream",
     "text": [
      " 86%|████████▌ | 171002/200000 [9:07:02<49:45,  9.71it/s]      "
     ]
    },
    {
     "name": "stdout",
     "output_type": "stream",
     "text": [
      "[TRAIN] Iter: 171000 Loss: 0.0035132041666656733  PSNR: 28.891735076904297\n"
     ]
    },
    {
     "name": "stderr",
     "output_type": "stream",
     "text": [
      " 86%|████████▌ | 172002/200000 [9:08:45<47:54,  9.74it/s]"
     ]
    },
    {
     "name": "stdout",
     "output_type": "stream",
     "text": [
      "[TRAIN] Iter: 172000 Loss: 0.001774635398760438  PSNR: 33.17378616333008\n"
     ]
    },
    {
     "name": "stderr",
     "output_type": "stream",
     "text": [
      " 87%|████████▋ | 173002/200000 [9:10:27<45:48,  9.82it/s]"
     ]
    },
    {
     "name": "stdout",
     "output_type": "stream",
     "text": [
      "[TRAIN] Iter: 173000 Loss: 0.0032509223092347383  PSNR: 29.803226470947266\n"
     ]
    },
    {
     "name": "stderr",
     "output_type": "stream",
     "text": [
      " 87%|████████▋ | 174002/200000 [9:12:10<44:30,  9.74it/s]"
     ]
    },
    {
     "name": "stdout",
     "output_type": "stream",
     "text": [
      "[TRAIN] Iter: 174000 Loss: 0.004250623285770416  PSNR: 28.400407791137695\n"
     ]
    },
    {
     "name": "stderr",
     "output_type": "stream",
     "text": [
      " 88%|████████▊ | 175002/200000 [9:13:53<42:43,  9.75it/s]"
     ]
    },
    {
     "name": "stdout",
     "output_type": "stream",
     "text": [
      "[TRAIN] Iter: 175000 Loss: 0.0016548580024391413  PSNR: 33.7947998046875\n"
     ]
    },
    {
     "name": "stderr",
     "output_type": "stream",
     "text": [
      " 88%|████████▊ | 176002/200000 [9:15:36<41:06,  9.73it/s]"
     ]
    },
    {
     "name": "stdout",
     "output_type": "stream",
     "text": [
      "[TRAIN] Iter: 176000 Loss: 0.002315655816346407  PSNR: 31.33000373840332\n"
     ]
    },
    {
     "name": "stderr",
     "output_type": "stream",
     "text": [
      " 89%|████████▊ | 177002/200000 [9:17:18<39:36,  9.68it/s]"
     ]
    },
    {
     "name": "stdout",
     "output_type": "stream",
     "text": [
      "[TRAIN] Iter: 177000 Loss: 0.0017979178810492158  PSNR: 34.81647872924805\n"
     ]
    },
    {
     "name": "stderr",
     "output_type": "stream",
     "text": [
      " 89%|████████▉ | 178002/200000 [9:19:01<37:38,  9.74it/s]"
     ]
    },
    {
     "name": "stdout",
     "output_type": "stream",
     "text": [
      "[TRAIN] Iter: 178000 Loss: 0.0028615309856832027  PSNR: 32.21440887451172\n"
     ]
    },
    {
     "name": "stderr",
     "output_type": "stream",
     "text": [
      " 90%|████████▉ | 179002/200000 [9:20:44<35:33,  9.84it/s]"
     ]
    },
    {
     "name": "stdout",
     "output_type": "stream",
     "text": [
      "[TRAIN] Iter: 179000 Loss: 0.0024269663263112307  PSNR: 33.73701095581055\n"
     ]
    },
    {
     "name": "stderr",
     "output_type": "stream",
     "text": [
      " 90%|████████▉ | 179999/200000 [9:22:26<34:09,  9.76it/s]"
     ]
    },
    {
     "name": "stdout",
     "output_type": "stream",
     "text": [
      "Saved checkpoints at ./logs\\mic_blender200k_fullres\\checkpoints\\180000.tar\n",
      "test poses shape torch.Size([25, 4, 4])\n"
     ]
    },
    {
     "name": "stderr",
     "output_type": "stream",
     "text": []
    },
    {
     "name": "stdout",
     "output_type": "stream",
     "text": [
      "0 0.0019097328186035156\n"
     ]
    },
    {
     "name": "stderr",
     "output_type": "stream",
     "text": []
    },
    {
     "name": "stdout",
     "output_type": "stream",
     "text": [
      "torch.Size([800, 800, 3]) torch.Size([800, 800])\n",
      "Frame 0 - PSNR: 31.48, SSIM: 0.9736, LPIPS: 0.0393\n",
      "1 22.94229531288147\n"
     ]
    },
    {
     "name": "stderr",
     "output_type": "stream",
     "text": []
    },
    {
     "name": "stdout",
     "output_type": "stream",
     "text": [
      "Frame 1 - PSNR: 31.87, SSIM: 0.9749, LPIPS: 0.0376\n",
      "2 22.92098331451416\n"
     ]
    },
    {
     "name": "stderr",
     "output_type": "stream",
     "text": []
    },
    {
     "name": "stdout",
     "output_type": "stream",
     "text": [
      "Frame 2 - PSNR: 30.60, SSIM: 0.9688, LPIPS: 0.0425\n",
      "3 22.924928426742554\n"
     ]
    },
    {
     "name": "stderr",
     "output_type": "stream",
     "text": []
    },
    {
     "name": "stdout",
     "output_type": "stream",
     "text": [
      "Frame 3 - PSNR: 30.56, SSIM: 0.9666, LPIPS: 0.0463\n",
      "4 22.92768955230713\n"
     ]
    },
    {
     "name": "stderr",
     "output_type": "stream",
     "text": []
    },
    {
     "name": "stdout",
     "output_type": "stream",
     "text": [
      "Frame 4 - PSNR: 30.42, SSIM: 0.9639, LPIPS: 0.0451\n",
      "5 22.916016101837158\n"
     ]
    },
    {
     "name": "stderr",
     "output_type": "stream",
     "text": []
    },
    {
     "name": "stdout",
     "output_type": "stream",
     "text": [
      "Frame 5 - PSNR: 30.97, SSIM: 0.9698, LPIPS: 0.0363\n",
      "6 22.919151306152344\n"
     ]
    },
    {
     "name": "stderr",
     "output_type": "stream",
     "text": []
    },
    {
     "name": "stdout",
     "output_type": "stream",
     "text": [
      "Frame 6 - PSNR: 31.82, SSIM: 0.9850, LPIPS: 0.0204\n",
      "7 22.917768001556396\n"
     ]
    },
    {
     "name": "stderr",
     "output_type": "stream",
     "text": []
    },
    {
     "name": "stdout",
     "output_type": "stream",
     "text": [
      "Frame 7 - PSNR: 31.03, SSIM: 0.9745, LPIPS: 0.0299\n",
      "8 22.915375232696533\n"
     ]
    },
    {
     "name": "stderr",
     "output_type": "stream",
     "text": []
    },
    {
     "name": "stdout",
     "output_type": "stream",
     "text": [
      "Frame 8 - PSNR: 29.93, SSIM: 0.9614, LPIPS: 0.0448\n",
      "9 22.915503978729248\n"
     ]
    },
    {
     "name": "stderr",
     "output_type": "stream",
     "text": []
    },
    {
     "name": "stdout",
     "output_type": "stream",
     "text": [
      "Frame 9 - PSNR: 30.50, SSIM: 0.9642, LPIPS: 0.0499\n",
      "10 22.923839330673218\n"
     ]
    },
    {
     "name": "stderr",
     "output_type": "stream",
     "text": []
    },
    {
     "name": "stdout",
     "output_type": "stream",
     "text": [
      "Frame 10 - PSNR: 32.01, SSIM: 0.9721, LPIPS: 0.0458\n",
      "11 22.92043375968933\n"
     ]
    },
    {
     "name": "stderr",
     "output_type": "stream",
     "text": []
    },
    {
     "name": "stdout",
     "output_type": "stream",
     "text": [
      "Frame 11 - PSNR: 33.06, SSIM: 0.9772, LPIPS: 0.0428\n",
      "12 22.91057300567627\n"
     ]
    },
    {
     "name": "stderr",
     "output_type": "stream",
     "text": []
    },
    {
     "name": "stdout",
     "output_type": "stream",
     "text": [
      "Frame 12 - PSNR: 30.12, SSIM: 0.9747, LPIPS: 0.0394\n",
      "13 22.920259952545166\n"
     ]
    },
    {
     "name": "stderr",
     "output_type": "stream",
     "text": []
    },
    {
     "name": "stdout",
     "output_type": "stream",
     "text": [
      "Frame 13 - PSNR: 32.08, SSIM: 0.9788, LPIPS: 0.0381\n",
      "14 22.924471378326416\n"
     ]
    },
    {
     "name": "stderr",
     "output_type": "stream",
     "text": []
    },
    {
     "name": "stdout",
     "output_type": "stream",
     "text": [
      "Frame 14 - PSNR: 31.87, SSIM: 0.9735, LPIPS: 0.0464\n",
      "15 22.92705011367798\n"
     ]
    },
    {
     "name": "stderr",
     "output_type": "stream",
     "text": []
    },
    {
     "name": "stdout",
     "output_type": "stream",
     "text": [
      "Frame 15 - PSNR: 31.89, SSIM: 0.9710, LPIPS: 0.0482\n",
      "16 22.914265871047974\n"
     ]
    },
    {
     "name": "stderr",
     "output_type": "stream",
     "text": []
    },
    {
     "name": "stdout",
     "output_type": "stream",
     "text": [
      "Frame 16 - PSNR: 31.47, SSIM: 0.9681, LPIPS: 0.0494\n",
      "17 22.91980242729187\n"
     ]
    },
    {
     "name": "stderr",
     "output_type": "stream",
     "text": []
    },
    {
     "name": "stdout",
     "output_type": "stream",
     "text": [
      "Frame 17 - PSNR: 30.66, SSIM: 0.9655, LPIPS: 0.0432\n",
      "18 22.914074659347534\n"
     ]
    },
    {
     "name": "stderr",
     "output_type": "stream",
     "text": []
    },
    {
     "name": "stdout",
     "output_type": "stream",
     "text": [
      "Frame 18 - PSNR: 31.41, SSIM: 0.9753, LPIPS: 0.0320\n",
      "19 22.914144277572632\n"
     ]
    },
    {
     "name": "stderr",
     "output_type": "stream",
     "text": []
    },
    {
     "name": "stdout",
     "output_type": "stream",
     "text": [
      "Frame 19 - PSNR: 30.91, SSIM: 0.9842, LPIPS: 0.0197\n",
      "20 22.923582315444946\n"
     ]
    },
    {
     "name": "stderr",
     "output_type": "stream",
     "text": []
    },
    {
     "name": "stdout",
     "output_type": "stream",
     "text": [
      "Frame 20 - PSNR: 30.02, SSIM: 0.9656, LPIPS: 0.0373\n",
      "21 22.9247305393219\n"
     ]
    },
    {
     "name": "stderr",
     "output_type": "stream",
     "text": []
    },
    {
     "name": "stdout",
     "output_type": "stream",
     "text": [
      "Frame 21 - PSNR: 29.56, SSIM: 0.9624, LPIPS: 0.0459\n",
      "22 22.931535959243774\n"
     ]
    },
    {
     "name": "stderr",
     "output_type": "stream",
     "text": []
    },
    {
     "name": "stdout",
     "output_type": "stream",
     "text": [
      "Frame 22 - PSNR: 29.64, SSIM: 0.9641, LPIPS: 0.0475\n",
      "23 22.92133855819702\n"
     ]
    },
    {
     "name": "stderr",
     "output_type": "stream",
     "text": []
    },
    {
     "name": "stdout",
     "output_type": "stream",
     "text": [
      "Frame 23 - PSNR: 29.94, SSIM: 0.9667, LPIPS: 0.0459\n",
      "24 22.922940015792847\n"
     ]
    },
    {
     "name": "stderr",
     "output_type": "stream",
     "text": [
      "100%|██████████| 25/25 [09:33<00:00, 22.92s/it]\n",
      " 90%|█████████ | 180000/200000 [9:31:59<955:47:46, 172.04s/it]"
     ]
    },
    {
     "name": "stdout",
     "output_type": "stream",
     "text": [
      "Frame 24 - PSNR: 31.27, SSIM: 0.9719, LPIPS: 0.0377\n",
      "\n",
      "=== METRICS SUMMARY ===\n",
      "Average PSNR: 31.0039 ± 0.8736\n",
      "Average SSIM: 0.9710 ± 0.0062\n",
      "Average LPIPS: 0.0404 ± 0.0079\n",
      "=======================\n",
      "Metrics logged to: ./logs\\mic_blender200k_fullres\\metrics\\metrics_180000.txt and ./logs\\mic_blender200k_fullres\\metrics\\metrics_180000.json\n",
      "Training history updated: ./logs\\mic_blender200k_fullres\\metrics\\training_metrics.json\n",
      "Saved test set with metrics\n",
      "[TRAIN] Iter: 180000 Loss: 0.0026251119561493397  PSNR: 30.32196044921875\n"
     ]
    },
    {
     "name": "stderr",
     "output_type": "stream",
     "text": [
      " 91%|█████████ | 181002/200000 [9:33:42<32:19,  9.80it/s]     "
     ]
    },
    {
     "name": "stdout",
     "output_type": "stream",
     "text": [
      "[TRAIN] Iter: 181000 Loss: 0.0026172271464020014  PSNR: 29.926902770996094\n"
     ]
    },
    {
     "name": "stderr",
     "output_type": "stream",
     "text": [
      " 91%|█████████ | 182002/200000 [9:35:25<30:44,  9.76it/s]"
     ]
    },
    {
     "name": "stdout",
     "output_type": "stream",
     "text": [
      "[TRAIN] Iter: 182000 Loss: 0.0029403925873339176  PSNR: 29.430213928222656\n"
     ]
    },
    {
     "name": "stderr",
     "output_type": "stream",
     "text": [
      " 92%|█████████▏| 183002/200000 [9:37:07<28:55,  9.79it/s]"
     ]
    },
    {
     "name": "stdout",
     "output_type": "stream",
     "text": [
      "[TRAIN] Iter: 183000 Loss: 0.001741923624649644  PSNR: 32.88840866088867\n"
     ]
    },
    {
     "name": "stderr",
     "output_type": "stream",
     "text": [
      " 92%|█████████▏| 184002/200000 [9:38:50<27:15,  9.78it/s]"
     ]
    },
    {
     "name": "stdout",
     "output_type": "stream",
     "text": [
      "[TRAIN] Iter: 184000 Loss: 0.0014089582255110145  PSNR: 33.461246490478516\n"
     ]
    },
    {
     "name": "stderr",
     "output_type": "stream",
     "text": [
      " 93%|█████████▎| 185002/200000 [9:40:32<25:35,  9.77it/s]"
     ]
    },
    {
     "name": "stdout",
     "output_type": "stream",
     "text": [
      "[TRAIN] Iter: 185000 Loss: 0.0029734524432569742  PSNR: 29.212175369262695\n"
     ]
    },
    {
     "name": "stderr",
     "output_type": "stream",
     "text": [
      " 93%|█████████▎| 186002/200000 [9:42:15<23:50,  9.78it/s]"
     ]
    },
    {
     "name": "stdout",
     "output_type": "stream",
     "text": [
      "[TRAIN] Iter: 186000 Loss: 0.0026330212131142616  PSNR: 29.926790237426758\n"
     ]
    },
    {
     "name": "stderr",
     "output_type": "stream",
     "text": [
      " 94%|█████████▎| 187002/200000 [9:43:58<22:10,  9.77it/s]"
     ]
    },
    {
     "name": "stdout",
     "output_type": "stream",
     "text": [
      "[TRAIN] Iter: 187000 Loss: 0.0022402205504477024  PSNR: 31.137773513793945\n"
     ]
    },
    {
     "name": "stderr",
     "output_type": "stream",
     "text": [
      " 94%|█████████▍| 188002/200000 [9:45:40<20:37,  9.70it/s]"
     ]
    },
    {
     "name": "stdout",
     "output_type": "stream",
     "text": [
      "[TRAIN] Iter: 188000 Loss: 0.003374743741005659  PSNR: 29.087074279785156\n"
     ]
    },
    {
     "name": "stderr",
     "output_type": "stream",
     "text": [
      " 95%|█████████▍| 189002/200000 [9:47:23<18:52,  9.71it/s]"
     ]
    },
    {
     "name": "stdout",
     "output_type": "stream",
     "text": [
      "[TRAIN] Iter: 189000 Loss: 0.002362058497965336  PSNR: 31.86214828491211\n"
     ]
    },
    {
     "name": "stderr",
     "output_type": "stream",
     "text": [
      " 95%|█████████▍| 189999/200000 [9:49:05<16:57,  9.83it/s]"
     ]
    },
    {
     "name": "stdout",
     "output_type": "stream",
     "text": [
      "Saved checkpoints at ./logs\\mic_blender200k_fullres\\checkpoints\\190000.tar\n",
      "test poses shape torch.Size([25, 4, 4])\n"
     ]
    },
    {
     "name": "stderr",
     "output_type": "stream",
     "text": []
    },
    {
     "name": "stdout",
     "output_type": "stream",
     "text": [
      "0 0.0017719268798828125\n"
     ]
    },
    {
     "name": "stderr",
     "output_type": "stream",
     "text": []
    },
    {
     "name": "stdout",
     "output_type": "stream",
     "text": [
      "torch.Size([800, 800, 3]) torch.Size([800, 800])\n",
      "Frame 0 - PSNR: 31.58, SSIM: 0.9740, LPIPS: 0.0378\n",
      "1 22.9416344165802\n"
     ]
    },
    {
     "name": "stderr",
     "output_type": "stream",
     "text": []
    },
    {
     "name": "stdout",
     "output_type": "stream",
     "text": [
      "Frame 1 - PSNR: 32.11, SSIM: 0.9758, LPIPS: 0.0349\n",
      "2 22.918686389923096\n"
     ]
    },
    {
     "name": "stderr",
     "output_type": "stream",
     "text": []
    },
    {
     "name": "stdout",
     "output_type": "stream",
     "text": [
      "Frame 2 - PSNR: 30.30, SSIM: 0.9686, LPIPS: 0.0406\n",
      "3 22.912394046783447\n"
     ]
    },
    {
     "name": "stderr",
     "output_type": "stream",
     "text": []
    },
    {
     "name": "stdout",
     "output_type": "stream",
     "text": [
      "Frame 3 - PSNR: 30.61, SSIM: 0.9675, LPIPS: 0.0433\n",
      "4 22.925044298171997\n"
     ]
    },
    {
     "name": "stderr",
     "output_type": "stream",
     "text": []
    },
    {
     "name": "stdout",
     "output_type": "stream",
     "text": [
      "Frame 4 - PSNR: 30.38, SSIM: 0.9640, LPIPS: 0.0443\n",
      "5 22.921303749084473\n"
     ]
    },
    {
     "name": "stderr",
     "output_type": "stream",
     "text": []
    },
    {
     "name": "stdout",
     "output_type": "stream",
     "text": [
      "Frame 5 - PSNR: 30.96, SSIM: 0.9701, LPIPS: 0.0353\n",
      "6 22.91540551185608\n"
     ]
    },
    {
     "name": "stderr",
     "output_type": "stream",
     "text": []
    },
    {
     "name": "stdout",
     "output_type": "stream",
     "text": [
      "Frame 6 - PSNR: 32.07, SSIM: 0.9859, LPIPS: 0.0196\n",
      "7 22.91756510734558\n"
     ]
    },
    {
     "name": "stderr",
     "output_type": "stream",
     "text": []
    },
    {
     "name": "stdout",
     "output_type": "stream",
     "text": [
      "Frame 7 - PSNR: 31.10, SSIM: 0.9751, LPIPS: 0.0296\n",
      "8 22.916438102722168\n"
     ]
    },
    {
     "name": "stderr",
     "output_type": "stream",
     "text": []
    },
    {
     "name": "stdout",
     "output_type": "stream",
     "text": [
      "Frame 8 - PSNR: 30.06, SSIM: 0.9625, LPIPS: 0.0452\n",
      "9 22.905848741531372\n"
     ]
    },
    {
     "name": "stderr",
     "output_type": "stream",
     "text": []
    },
    {
     "name": "stdout",
     "output_type": "stream",
     "text": [
      "Frame 9 - PSNR: 30.50, SSIM: 0.9645, LPIPS: 0.0481\n",
      "10 22.91155481338501\n"
     ]
    },
    {
     "name": "stderr",
     "output_type": "stream",
     "text": []
    },
    {
     "name": "stdout",
     "output_type": "stream",
     "text": [
      "Frame 10 - PSNR: 31.95, SSIM: 0.9721, LPIPS: 0.0448\n",
      "11 22.92295742034912\n"
     ]
    },
    {
     "name": "stderr",
     "output_type": "stream",
     "text": []
    },
    {
     "name": "stdout",
     "output_type": "stream",
     "text": [
      "Frame 11 - PSNR: 33.21, SSIM: 0.9774, LPIPS: 0.0399\n",
      "12 22.924438953399658\n"
     ]
    },
    {
     "name": "stderr",
     "output_type": "stream",
     "text": []
    },
    {
     "name": "stdout",
     "output_type": "stream",
     "text": [
      "Frame 12 - PSNR: 30.36, SSIM: 0.9754, LPIPS: 0.0386\n",
      "13 22.914490699768066\n"
     ]
    },
    {
     "name": "stderr",
     "output_type": "stream",
     "text": []
    },
    {
     "name": "stdout",
     "output_type": "stream",
     "text": [
      "Frame 13 - PSNR: 32.00, SSIM: 0.9789, LPIPS: 0.0344\n",
      "14 22.91482949256897\n"
     ]
    },
    {
     "name": "stderr",
     "output_type": "stream",
     "text": []
    },
    {
     "name": "stdout",
     "output_type": "stream",
     "text": [
      "Frame 14 - PSNR: 31.97, SSIM: 0.9738, LPIPS: 0.0428\n",
      "15 22.921425580978394\n"
     ]
    },
    {
     "name": "stderr",
     "output_type": "stream",
     "text": []
    },
    {
     "name": "stdout",
     "output_type": "stream",
     "text": [
      "Frame 15 - PSNR: 31.64, SSIM: 0.9703, LPIPS: 0.0474\n",
      "16 22.90865921974182\n"
     ]
    },
    {
     "name": "stderr",
     "output_type": "stream",
     "text": []
    },
    {
     "name": "stdout",
     "output_type": "stream",
     "text": [
      "Frame 16 - PSNR: 31.35, SSIM: 0.9680, LPIPS: 0.0488\n",
      "17 22.916786670684814\n"
     ]
    },
    {
     "name": "stderr",
     "output_type": "stream",
     "text": []
    },
    {
     "name": "stdout",
     "output_type": "stream",
     "text": [
      "Frame 17 - PSNR: 30.64, SSIM: 0.9658, LPIPS: 0.0432\n",
      "18 22.912732124328613\n"
     ]
    },
    {
     "name": "stderr",
     "output_type": "stream",
     "text": []
    },
    {
     "name": "stdout",
     "output_type": "stream",
     "text": [
      "Frame 18 - PSNR: 31.67, SSIM: 0.9764, LPIPS: 0.0314\n",
      "19 22.908305406570435\n"
     ]
    },
    {
     "name": "stderr",
     "output_type": "stream",
     "text": []
    },
    {
     "name": "stdout",
     "output_type": "stream",
     "text": [
      "Frame 19 - PSNR: 31.01, SSIM: 0.9846, LPIPS: 0.0209\n",
      "20 22.907047510147095\n"
     ]
    },
    {
     "name": "stderr",
     "output_type": "stream",
     "text": []
    },
    {
     "name": "stdout",
     "output_type": "stream",
     "text": [
      "Frame 20 - PSNR: 30.05, SSIM: 0.9663, LPIPS: 0.0368\n",
      "21 22.912758350372314\n"
     ]
    },
    {
     "name": "stderr",
     "output_type": "stream",
     "text": []
    },
    {
     "name": "stdout",
     "output_type": "stream",
     "text": [
      "Frame 21 - PSNR: 29.54, SSIM: 0.9628, LPIPS: 0.0481\n",
      "22 22.91488289833069\n"
     ]
    },
    {
     "name": "stderr",
     "output_type": "stream",
     "text": []
    },
    {
     "name": "stdout",
     "output_type": "stream",
     "text": [
      "Frame 22 - PSNR: 29.68, SSIM: 0.9647, LPIPS: 0.0475\n",
      "23 22.920416355133057\n"
     ]
    },
    {
     "name": "stderr",
     "output_type": "stream",
     "text": []
    },
    {
     "name": "stdout",
     "output_type": "stream",
     "text": [
      "Frame 23 - PSNR: 30.10, SSIM: 0.9676, LPIPS: 0.0451\n",
      "24 22.92293691635132\n"
     ]
    },
    {
     "name": "stderr",
     "output_type": "stream",
     "text": [
      "100%|██████████| 25/25 [09:32<00:00, 22.92s/it]\n",
      " 95%|█████████▌| 190000/200000 [9:58:38<476:25:42, 171.51s/it]"
     ]
    },
    {
     "name": "stdout",
     "output_type": "stream",
     "text": [
      "Frame 24 - PSNR: 31.48, SSIM: 0.9729, LPIPS: 0.0361\n",
      "\n",
      "=== METRICS SUMMARY ===\n",
      "Average PSNR: 31.0534 ± 0.8918\n",
      "Average SSIM: 0.9714 ± 0.0063\n",
      "Average LPIPS: 0.0394 ± 0.0078\n",
      "=======================\n",
      "Metrics logged to: ./logs\\mic_blender200k_fullres\\metrics\\metrics_190000.txt and ./logs\\mic_blender200k_fullres\\metrics\\metrics_190000.json\n",
      "Training history updated: ./logs\\mic_blender200k_fullres\\metrics\\training_metrics.json\n",
      "Saved test set with metrics\n",
      "[TRAIN] Iter: 190000 Loss: 0.0025887300726026297  PSNR: 30.283878326416016\n"
     ]
    },
    {
     "name": "stderr",
     "output_type": "stream",
     "text": [
      " 96%|█████████▌| 191002/200000 [10:00:21<15:09,  9.89it/s]    "
     ]
    },
    {
     "name": "stdout",
     "output_type": "stream",
     "text": [
      "[TRAIN] Iter: 191000 Loss: 0.0017587178153917193  PSNR: 33.2619514465332\n"
     ]
    },
    {
     "name": "stderr",
     "output_type": "stream",
     "text": [
      " 96%|█████████▌| 192002/200000 [10:02:03<13:51,  9.62it/s]"
     ]
    },
    {
     "name": "stdout",
     "output_type": "stream",
     "text": [
      "[TRAIN] Iter: 192000 Loss: 0.0021103275939822197  PSNR: 32.2943115234375\n"
     ]
    },
    {
     "name": "stderr",
     "output_type": "stream",
     "text": [
      " 97%|█████████▋| 193002/200000 [10:03:46<11:57,  9.76it/s]"
     ]
    },
    {
     "name": "stdout",
     "output_type": "stream",
     "text": [
      "[TRAIN] Iter: 193000 Loss: 0.0035023277159780264  PSNR: 28.0998477935791\n"
     ]
    },
    {
     "name": "stderr",
     "output_type": "stream",
     "text": [
      " 97%|█████████▋| 194002/200000 [10:05:29<10:17,  9.72it/s]"
     ]
    },
    {
     "name": "stdout",
     "output_type": "stream",
     "text": [
      "[TRAIN] Iter: 194000 Loss: 0.002562792506068945  PSNR: 30.769878387451172\n"
     ]
    },
    {
     "name": "stderr",
     "output_type": "stream",
     "text": [
      " 98%|█████████▊| 195002/200000 [10:07:11<08:25,  9.88it/s]"
     ]
    },
    {
     "name": "stdout",
     "output_type": "stream",
     "text": [
      "[TRAIN] Iter: 195000 Loss: 0.002637089230120182  PSNR: 30.226449966430664\n"
     ]
    },
    {
     "name": "stderr",
     "output_type": "stream",
     "text": [
      " 98%|█████████▊| 196002/200000 [10:08:54<06:50,  9.73it/s]"
     ]
    },
    {
     "name": "stdout",
     "output_type": "stream",
     "text": [
      "[TRAIN] Iter: 196000 Loss: 0.003208876820281148  PSNR: 30.88278579711914\n"
     ]
    },
    {
     "name": "stderr",
     "output_type": "stream",
     "text": [
      " 99%|█████████▊| 197002/200000 [10:10:36<05:07,  9.74it/s]"
     ]
    },
    {
     "name": "stdout",
     "output_type": "stream",
     "text": [
      "[TRAIN] Iter: 197000 Loss: 0.004027100745588541  PSNR: 28.725582122802734\n"
     ]
    },
    {
     "name": "stderr",
     "output_type": "stream",
     "text": [
      " 99%|█████████▉| 198002/200000 [10:12:19<03:23,  9.82it/s]"
     ]
    },
    {
     "name": "stdout",
     "output_type": "stream",
     "text": [
      "[TRAIN] Iter: 198000 Loss: 0.0029898271895945072  PSNR: 30.53536605834961\n"
     ]
    },
    {
     "name": "stderr",
     "output_type": "stream",
     "text": [
      "100%|█████████▉| 199002/200000 [10:14:02<01:42,  9.78it/s]"
     ]
    },
    {
     "name": "stdout",
     "output_type": "stream",
     "text": [
      "[TRAIN] Iter: 199000 Loss: 0.0024008573964238167  PSNR: 31.3024959564209\n"
     ]
    },
    {
     "name": "stderr",
     "output_type": "stream",
     "text": [
      "100%|█████████▉| 199999/200000 [10:15:44<00:00,  9.75it/s]"
     ]
    },
    {
     "name": "stdout",
     "output_type": "stream",
     "text": [
      "Saved checkpoints at ./logs\\mic_blender200k_fullres\\checkpoints\\200000.tar\n"
     ]
    },
    {
     "name": "stderr",
     "output_type": "stream",
     "text": []
    },
    {
     "name": "stdout",
     "output_type": "stream",
     "text": [
      "0 0.0014476776123046875\n"
     ]
    },
    {
     "name": "stderr",
     "output_type": "stream",
     "text": []
    },
    {
     "name": "stdout",
     "output_type": "stream",
     "text": [
      "torch.Size([800, 800, 3]) torch.Size([800, 800])\n",
      "1 22.848467588424683\n"
     ]
    },
    {
     "name": "stderr",
     "output_type": "stream",
     "text": []
    },
    {
     "name": "stdout",
     "output_type": "stream",
     "text": [
      "2 22.82961344718933\n"
     ]
    },
    {
     "name": "stderr",
     "output_type": "stream",
     "text": []
    },
    {
     "name": "stdout",
     "output_type": "stream",
     "text": [
      "3 22.83125400543213\n"
     ]
    },
    {
     "name": "stderr",
     "output_type": "stream",
     "text": []
    },
    {
     "name": "stdout",
     "output_type": "stream",
     "text": [
      "4 22.83104109764099\n"
     ]
    },
    {
     "name": "stderr",
     "output_type": "stream",
     "text": []
    },
    {
     "name": "stdout",
     "output_type": "stream",
     "text": [
      "5 22.83427667617798\n"
     ]
    },
    {
     "name": "stderr",
     "output_type": "stream",
     "text": []
    },
    {
     "name": "stdout",
     "output_type": "stream",
     "text": [
      "6 22.839773416519165\n"
     ]
    },
    {
     "name": "stderr",
     "output_type": "stream",
     "text": []
    },
    {
     "name": "stdout",
     "output_type": "stream",
     "text": [
      "7 22.83679699897766\n"
     ]
    },
    {
     "name": "stderr",
     "output_type": "stream",
     "text": []
    },
    {
     "name": "stdout",
     "output_type": "stream",
     "text": [
      "8 22.830639600753784\n"
     ]
    },
    {
     "name": "stderr",
     "output_type": "stream",
     "text": []
    },
    {
     "name": "stdout",
     "output_type": "stream",
     "text": [
      "9 22.827932357788086\n"
     ]
    },
    {
     "name": "stderr",
     "output_type": "stream",
     "text": []
    },
    {
     "name": "stdout",
     "output_type": "stream",
     "text": [
      "10 22.83129096031189\n"
     ]
    },
    {
     "name": "stderr",
     "output_type": "stream",
     "text": []
    },
    {
     "name": "stdout",
     "output_type": "stream",
     "text": [
      "11 22.826600790023804\n"
     ]
    },
    {
     "name": "stderr",
     "output_type": "stream",
     "text": []
    },
    {
     "name": "stdout",
     "output_type": "stream",
     "text": [
      "12 22.8238046169281\n"
     ]
    },
    {
     "name": "stderr",
     "output_type": "stream",
     "text": []
    },
    {
     "name": "stdout",
     "output_type": "stream",
     "text": [
      "13 22.827229261398315\n"
     ]
    },
    {
     "name": "stderr",
     "output_type": "stream",
     "text": []
    },
    {
     "name": "stdout",
     "output_type": "stream",
     "text": [
      "14 22.83066177368164\n"
     ]
    },
    {
     "name": "stderr",
     "output_type": "stream",
     "text": []
    },
    {
     "name": "stdout",
     "output_type": "stream",
     "text": [
      "15 22.828391075134277\n"
     ]
    },
    {
     "name": "stderr",
     "output_type": "stream",
     "text": []
    },
    {
     "name": "stdout",
     "output_type": "stream",
     "text": [
      "16 22.83157181739807\n"
     ]
    },
    {
     "name": "stderr",
     "output_type": "stream",
     "text": []
    },
    {
     "name": "stdout",
     "output_type": "stream",
     "text": [
      "17 22.83124804496765\n"
     ]
    },
    {
     "name": "stderr",
     "output_type": "stream",
     "text": []
    },
    {
     "name": "stdout",
     "output_type": "stream",
     "text": [
      "18 22.828949689865112\n"
     ]
    },
    {
     "name": "stderr",
     "output_type": "stream",
     "text": []
    },
    {
     "name": "stdout",
     "output_type": "stream",
     "text": [
      "19 22.8288733959198\n"
     ]
    },
    {
     "name": "stderr",
     "output_type": "stream",
     "text": []
    },
    {
     "name": "stdout",
     "output_type": "stream",
     "text": [
      "20 22.828075885772705\n"
     ]
    },
    {
     "name": "stderr",
     "output_type": "stream",
     "text": []
    },
    {
     "name": "stdout",
     "output_type": "stream",
     "text": [
      "21 22.82583737373352\n"
     ]
    },
    {
     "name": "stderr",
     "output_type": "stream",
     "text": []
    },
    {
     "name": "stdout",
     "output_type": "stream",
     "text": [
      "22 22.82960557937622\n"
     ]
    },
    {
     "name": "stderr",
     "output_type": "stream",
     "text": []
    },
    {
     "name": "stdout",
     "output_type": "stream",
     "text": [
      "23 22.831535577774048\n"
     ]
    },
    {
     "name": "stderr",
     "output_type": "stream",
     "text": []
    },
    {
     "name": "stdout",
     "output_type": "stream",
     "text": [
      "24 22.831098556518555\n"
     ]
    },
    {
     "name": "stderr",
     "output_type": "stream",
     "text": []
    },
    {
     "name": "stdout",
     "output_type": "stream",
     "text": [
      "25 22.83554434776306\n"
     ]
    },
    {
     "name": "stderr",
     "output_type": "stream",
     "text": []
    },
    {
     "name": "stdout",
     "output_type": "stream",
     "text": [
      "26 22.83257555961609\n"
     ]
    },
    {
     "name": "stderr",
     "output_type": "stream",
     "text": []
    },
    {
     "name": "stdout",
     "output_type": "stream",
     "text": [
      "27 22.83381175994873\n"
     ]
    },
    {
     "name": "stderr",
     "output_type": "stream",
     "text": []
    },
    {
     "name": "stdout",
     "output_type": "stream",
     "text": [
      "28 22.834729433059692\n"
     ]
    },
    {
     "name": "stderr",
     "output_type": "stream",
     "text": []
    },
    {
     "name": "stdout",
     "output_type": "stream",
     "text": [
      "29 22.833807945251465\n"
     ]
    },
    {
     "name": "stderr",
     "output_type": "stream",
     "text": []
    },
    {
     "name": "stdout",
     "output_type": "stream",
     "text": [
      "30 22.83388876914978\n"
     ]
    },
    {
     "name": "stderr",
     "output_type": "stream",
     "text": []
    },
    {
     "name": "stdout",
     "output_type": "stream",
     "text": [
      "31 22.827337980270386\n"
     ]
    },
    {
     "name": "stderr",
     "output_type": "stream",
     "text": []
    },
    {
     "name": "stdout",
     "output_type": "stream",
     "text": [
      "32 22.827916860580444\n"
     ]
    },
    {
     "name": "stderr",
     "output_type": "stream",
     "text": []
    },
    {
     "name": "stdout",
     "output_type": "stream",
     "text": [
      "33 22.82808542251587\n"
     ]
    },
    {
     "name": "stderr",
     "output_type": "stream",
     "text": []
    },
    {
     "name": "stdout",
     "output_type": "stream",
     "text": [
      "34 22.832921028137207\n"
     ]
    },
    {
     "name": "stderr",
     "output_type": "stream",
     "text": []
    },
    {
     "name": "stdout",
     "output_type": "stream",
     "text": [
      "35 22.833685874938965\n"
     ]
    },
    {
     "name": "stderr",
     "output_type": "stream",
     "text": []
    },
    {
     "name": "stdout",
     "output_type": "stream",
     "text": [
      "36 22.832260131835938\n"
     ]
    },
    {
     "name": "stderr",
     "output_type": "stream",
     "text": []
    },
    {
     "name": "stdout",
     "output_type": "stream",
     "text": [
      "37 22.832101821899414\n"
     ]
    },
    {
     "name": "stderr",
     "output_type": "stream",
     "text": []
    },
    {
     "name": "stdout",
     "output_type": "stream",
     "text": [
      "38 22.828336477279663\n"
     ]
    },
    {
     "name": "stderr",
     "output_type": "stream",
     "text": []
    },
    {
     "name": "stdout",
     "output_type": "stream",
     "text": [
      "39 22.83139395713806\n"
     ]
    },
    {
     "name": "stderr",
     "output_type": "stream",
     "text": [
      "100%|██████████| 40/40 [15:13<00:00, 22.83s/it]\n"
     ]
    },
    {
     "name": "stdout",
     "output_type": "stream",
     "text": [
      "Done, saving (40, 800, 800, 3) (40, 800, 800)\n",
      "test poses shape torch.Size([25, 4, 4])\n"
     ]
    },
    {
     "name": "stderr",
     "output_type": "stream",
     "text": []
    },
    {
     "name": "stdout",
     "output_type": "stream",
     "text": [
      "0 0.0019497871398925781\n"
     ]
    },
    {
     "name": "stderr",
     "output_type": "stream",
     "text": []
    },
    {
     "name": "stdout",
     "output_type": "stream",
     "text": [
      "torch.Size([800, 800, 3]) torch.Size([800, 800])\n",
      "Frame 0 - PSNR: 31.69, SSIM: 0.9745, LPIPS: 0.0369\n",
      "1 22.941184759140015\n"
     ]
    },
    {
     "name": "stderr",
     "output_type": "stream",
     "text": []
    },
    {
     "name": "stdout",
     "output_type": "stream",
     "text": [
      "Frame 1 - PSNR: 32.27, SSIM: 0.9761, LPIPS: 0.0341\n",
      "2 22.916398286819458\n"
     ]
    },
    {
     "name": "stderr",
     "output_type": "stream",
     "text": []
    },
    {
     "name": "stdout",
     "output_type": "stream",
     "text": [
      "Frame 2 - PSNR: 30.69, SSIM: 0.9698, LPIPS: 0.0392\n",
      "3 22.912620067596436\n"
     ]
    },
    {
     "name": "stderr",
     "output_type": "stream",
     "text": []
    },
    {
     "name": "stdout",
     "output_type": "stream",
     "text": [
      "Frame 3 - PSNR: 30.72, SSIM: 0.9681, LPIPS: 0.0425\n",
      "4 22.907782316207886\n"
     ]
    },
    {
     "name": "stderr",
     "output_type": "stream",
     "text": []
    },
    {
     "name": "stdout",
     "output_type": "stream",
     "text": [
      "Frame 4 - PSNR: 30.63, SSIM: 0.9651, LPIPS: 0.0441\n",
      "5 22.924843788146973\n"
     ]
    },
    {
     "name": "stderr",
     "output_type": "stream",
     "text": []
    },
    {
     "name": "stdout",
     "output_type": "stream",
     "text": [
      "Frame 5 - PSNR: 31.23, SSIM: 0.9710, LPIPS: 0.0355\n",
      "6 22.919157028198242\n"
     ]
    },
    {
     "name": "stderr",
     "output_type": "stream",
     "text": []
    },
    {
     "name": "stdout",
     "output_type": "stream",
     "text": [
      "Frame 6 - PSNR: 32.31, SSIM: 0.9865, LPIPS: 0.0182\n",
      "7 22.909098863601685\n"
     ]
    },
    {
     "name": "stderr",
     "output_type": "stream",
     "text": []
    },
    {
     "name": "stdout",
     "output_type": "stream",
     "text": [
      "Frame 7 - PSNR: 31.13, SSIM: 0.9755, LPIPS: 0.0273\n",
      "8 22.92138695716858\n"
     ]
    },
    {
     "name": "stderr",
     "output_type": "stream",
     "text": []
    },
    {
     "name": "stdout",
     "output_type": "stream",
     "text": [
      "Frame 8 - PSNR: 30.00, SSIM: 0.9631, LPIPS: 0.0424\n",
      "9 22.924612283706665\n"
     ]
    },
    {
     "name": "stderr",
     "output_type": "stream",
     "text": []
    },
    {
     "name": "stdout",
     "output_type": "stream",
     "text": [
      "Frame 9 - PSNR: 30.69, SSIM: 0.9652, LPIPS: 0.0478\n",
      "10 22.918863534927368\n"
     ]
    },
    {
     "name": "stderr",
     "output_type": "stream",
     "text": []
    },
    {
     "name": "stdout",
     "output_type": "stream",
     "text": [
      "Frame 10 - PSNR: 32.09, SSIM: 0.9727, LPIPS: 0.0433\n",
      "11 22.91764211654663\n"
     ]
    },
    {
     "name": "stderr",
     "output_type": "stream",
     "text": []
    },
    {
     "name": "stdout",
     "output_type": "stream",
     "text": [
      "Frame 11 - PSNR: 33.28, SSIM: 0.9778, LPIPS: 0.0380\n",
      "12 22.91992211341858\n"
     ]
    },
    {
     "name": "stderr",
     "output_type": "stream",
     "text": []
    },
    {
     "name": "stdout",
     "output_type": "stream",
     "text": [
      "Frame 12 - PSNR: 30.34, SSIM: 0.9760, LPIPS: 0.0376\n",
      "13 22.916663646697998\n"
     ]
    },
    {
     "name": "stderr",
     "output_type": "stream",
     "text": []
    },
    {
     "name": "stdout",
     "output_type": "stream",
     "text": [
      "Frame 13 - PSNR: 32.48, SSIM: 0.9799, LPIPS: 0.0347\n",
      "14 22.914271354675293\n"
     ]
    },
    {
     "name": "stderr",
     "output_type": "stream",
     "text": []
    },
    {
     "name": "stdout",
     "output_type": "stream",
     "text": [
      "Frame 14 - PSNR: 32.31, SSIM: 0.9746, LPIPS: 0.0421\n",
      "15 22.92417860031128\n"
     ]
    },
    {
     "name": "stderr",
     "output_type": "stream",
     "text": []
    },
    {
     "name": "stdout",
     "output_type": "stream",
     "text": [
      "Frame 15 - PSNR: 32.09, SSIM: 0.9718, LPIPS: 0.0462\n",
      "16 22.925652265548706\n"
     ]
    },
    {
     "name": "stderr",
     "output_type": "stream",
     "text": []
    },
    {
     "name": "stdout",
     "output_type": "stream",
     "text": [
      "Frame 16 - PSNR: 31.56, SSIM: 0.9686, LPIPS: 0.0469\n",
      "17 22.92361831665039\n"
     ]
    },
    {
     "name": "stderr",
     "output_type": "stream",
     "text": []
    },
    {
     "name": "stdout",
     "output_type": "stream",
     "text": [
      "Frame 17 - PSNR: 30.76, SSIM: 0.9666, LPIPS: 0.0417\n",
      "18 22.919093370437622\n"
     ]
    },
    {
     "name": "stderr",
     "output_type": "stream",
     "text": []
    },
    {
     "name": "stdout",
     "output_type": "stream",
     "text": [
      "Frame 18 - PSNR: 31.70, SSIM: 0.9766, LPIPS: 0.0301\n",
      "19 22.924142360687256\n"
     ]
    },
    {
     "name": "stderr",
     "output_type": "stream",
     "text": []
    },
    {
     "name": "stdout",
     "output_type": "stream",
     "text": [
      "Frame 19 - PSNR: 31.28, SSIM: 0.9853, LPIPS: 0.0174\n",
      "20 22.924325466156006\n"
     ]
    },
    {
     "name": "stderr",
     "output_type": "stream",
     "text": []
    },
    {
     "name": "stdout",
     "output_type": "stream",
     "text": [
      "Frame 20 - PSNR: 30.18, SSIM: 0.9672, LPIPS: 0.0354\n",
      "21 22.924195051193237\n"
     ]
    },
    {
     "name": "stderr",
     "output_type": "stream",
     "text": []
    },
    {
     "name": "stdout",
     "output_type": "stream",
     "text": [
      "Frame 21 - PSNR: 29.61, SSIM: 0.9635, LPIPS: 0.0440\n",
      "22 22.923661708831787\n"
     ]
    },
    {
     "name": "stderr",
     "output_type": "stream",
     "text": []
    },
    {
     "name": "stdout",
     "output_type": "stream",
     "text": [
      "Frame 22 - PSNR: 29.63, SSIM: 0.9648, LPIPS: 0.0446\n",
      "23 22.914008855819702\n"
     ]
    },
    {
     "name": "stderr",
     "output_type": "stream",
     "text": []
    },
    {
     "name": "stdout",
     "output_type": "stream",
     "text": [
      "Frame 23 - PSNR: 30.00, SSIM: 0.9674, LPIPS: 0.0426\n",
      "24 22.916734218597412\n"
     ]
    },
    {
     "name": "stderr",
     "output_type": "stream",
     "text": [
      "100%|██████████| 25/25 [09:33<00:00, 22.92s/it]\n",
      "100%|██████████| 200000/200000 [10:40:31<00:00,  5.20it/s] "
     ]
    },
    {
     "name": "stdout",
     "output_type": "stream",
     "text": [
      "Frame 24 - PSNR: 31.59, SSIM: 0.9734, LPIPS: 0.0338\n",
      "\n",
      "=== METRICS SUMMARY ===\n",
      "Average PSNR: 31.2101 ± 0.9561\n",
      "Average SSIM: 0.9720 ± 0.0062\n",
      "Average LPIPS: 0.0379 ± 0.0078\n",
      "=======================\n",
      "Metrics logged to: ./logs\\mic_blender200k_fullres\\metrics\\metrics_200000.txt and ./logs\\mic_blender200k_fullres\\metrics\\metrics_200000.json\n",
      "Training history updated: ./logs\\mic_blender200k_fullres\\metrics\\training_metrics.json\n",
      "Saved test set with metrics\n",
      "[TRAIN] Iter: 200000 Loss: 0.0025318795815110207  PSNR: 31.11104393005371\n"
     ]
    },
    {
     "name": "stderr",
     "output_type": "stream",
     "text": [
      "\n"
     ]
    }
   ],
   "source": [
    "# Insert training parameters\n",
    "N_iters = 200000 + 1\n",
    "train()"
   ]
  }
 ],
 "metadata": {
  "kernelspec": {
   "display_name": ".venv",
   "language": "python",
   "name": "python3"
  },
  "language_info": {
   "codemirror_mode": {
    "name": "ipython",
    "version": 3
   },
   "file_extension": ".py",
   "mimetype": "text/x-python",
   "name": "python",
   "nbconvert_exporter": "python",
   "pygments_lexer": "ipython3",
   "version": "3.13.5"
  }
 },
 "nbformat": 4,
 "nbformat_minor": 5
}
