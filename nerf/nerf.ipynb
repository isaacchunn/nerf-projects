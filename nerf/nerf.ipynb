{
 "cells": [
  {
   "cell_type": "markdown",
   "id": "8d6135c0",
   "metadata": {},
   "source": [
    "# Neural Radiance Fields\n",
    "\n",
    "This notebook was written while referencing the original NeRF code so as to visualize step by step on how NeRF works. Some functions have been refactored for better understanding but as much as possible, none of the actual code was changed."
   ]
  },
  {
   "cell_type": "markdown",
   "id": "bedc70c7",
   "metadata": {},
   "source": [
    "## Attribution and Citation\n",
    "- Original paper: Mildenhall, Ben; Srinivasan, Pratul P.; Tancik, Matthew; Barron, Jonathan T.; Ramamoorthi, Ravi; Ng, Ren. “NeRF: Representing Scenes as Neural Radiance Fields for View Synthesis.” ECCV 2020. [arXiv:2003.08934](https://arxiv.org/abs/2003.08934)\n",
    "- Reference code: [bmild/nerf](https://github.com/bmild/nerf) (MIT License). Copyright © 2020 Ben Mildenhall.\n",
    "\n",
    "```bibtex\n",
    "@inproceedings{mildenhall2020nerf,\n",
    "  title     = {NeRF: Representing Scenes as Neural Radiance Fields for View Synthesis},\n",
    "  author    = {Mildenhall, Ben and Srinivasan, Pratul P. and Tancik, Matthew and Barron, Jonathan T. and Ramamoorthi, Ravi and Ng, Ren},\n",
    "  booktitle = {European Conference on Computer Vision (ECCV)},\n",
    "  year      = {2020}\n",
    "}\n",
    "```"
   ]
  },
  {
   "cell_type": "markdown",
   "id": "8dc42dfb",
   "metadata": {},
   "source": [
    "## Import Dependencies and Check CUDA"
   ]
  },
  {
   "cell_type": "code",
   "execution_count": 53,
   "id": "c328110f",
   "metadata": {},
   "outputs": [],
   "source": [
    "# Standard libraries\n",
    "import sys\n",
    "import os\n",
    "import time\n",
    "\n",
    "# Third party libraries\n",
    "import imageio\n",
    "import numpy as np\n",
    "import torch\n",
    "import torch.nn as nn\n",
    "import torch.nn.functional as F\n",
    "from tqdm import tqdm, trange\n",
    "\n",
    "import matplotlib.pyplot as plt\n",
    "\n",
    "# Helper libraries\n",
    "from embedder import *\n",
    "from nerf_helpers import *\n",
    "import utils\n",
    "\n",
    "# Loaders\n",
    "from load_llff import *\n",
    "from load_blender import *\n",
    "from load_deepvoxels import * \n",
    "from load_LINEMOD import *\n",
    "\n",
    "# Set seed\n",
    "np.random.seed(0)\n",
    "DEBUG = False\n",
    "torch.set_default_dtype(torch.float32)"
   ]
  },
  {
   "cell_type": "code",
   "execution_count": 54,
   "id": "82faedd4",
   "metadata": {},
   "outputs": [
    {
     "name": "stdout",
     "output_type": "stream",
     "text": [
      "Using device: cuda\n"
     ]
    }
   ],
   "source": [
    "# Check device \n",
    "device = torch.device(\"cuda\" if torch.cuda.is_available() else \"cpu\")\n",
    "print(f\"Using device: {device}\")"
   ]
  },
  {
   "cell_type": "code",
   "execution_count": 55,
   "id": "db3d9eff",
   "metadata": {},
   "outputs": [
    {
     "name": "stdout",
     "output_type": "stream",
     "text": [
      "Targeted yaml folder: yaml\\ship_blender200k_fullres\n",
      "Loading configuration from yaml\\ship_blender200k_fullres\n",
      "Configuration validation passed! Arguments are valid and correctly set.\n",
      "Experiment name: ship_blender200k_fullres\n"
     ]
    }
   ],
   "source": [
    "# Load experiment config from yaml\n",
    "EXPERIMENT_NAME = \"ship_blender200k_fullres\"\n",
    "folder_path = os.path.join(\"yaml\", EXPERIMENT_NAME)\n",
    "print(f\"Targeted yaml folder: {folder_path}\")\n",
    "\n",
    "# Load the yaml data for use later in terms of args.\n",
    "args = utils.load_or_create_config(folder_path)\n",
    "\n",
    "print(f\"Experiment name: {args[\"expname\"]}\")"
   ]
  },
  {
   "cell_type": "code",
   "execution_count": 56,
   "id": "acfcaacc",
   "metadata": {},
   "outputs": [
    {
     "name": "stdout",
     "output_type": "stream",
     "text": [
      "Converted args dict to AttrDict (dot-access enabled). Example: args.expname -> ship_blender200k_fullres\n"
     ]
    }
   ],
   "source": [
    "# Convert dict-style args to dot-access with recursive wrapping\n",
    "class AttrDict(dict):\n",
    "    \"\"\"Dictionary with attribute-style access that recursively wraps nested dicts/lists.\n",
    "\n",
    "    Example:\n",
    "        d = AttrDict.from_obj({\"a\": {\"b\": 1}, \"c\": [{\"d\": 2}]})\n",
    "        d.a.b == 1\n",
    "        d.c[0].d == 2\n",
    "        d.new_key = 3  # also writes to the underlying dict\n",
    "    \"\"\"\n",
    "    __slots__ = ()\n",
    "\n",
    "    def __getattr__(self, name):\n",
    "        try:\n",
    "            return self[name]\n",
    "        except KeyError as e:\n",
    "            raise AttributeError(f\"No such attribute: {name}\") from e\n",
    "\n",
    "    def __setattr__(self, name, value):\n",
    "        self[name] = value\n",
    "\n",
    "    @classmethod\n",
    "    def from_obj(cls, obj):\n",
    "        if isinstance(obj, dict):\n",
    "            return cls({k: cls.from_obj(v) for k, v in obj.items()})\n",
    "        if isinstance(obj, list):\n",
    "            return [cls.from_obj(v) for v in obj]\n",
    "        return obj\n",
    "\n",
    "# If args came from YAML as a plain dict, wrap it for dot access\n",
    "try:\n",
    "    if isinstance(args, dict):\n",
    "        args = AttrDict.from_obj(args)\n",
    "        print(\"Converted args dict to AttrDict (dot-access enabled). Example: args.expname ->\", args.expname)\n",
    "except NameError:\n",
    "    # If this cell runs before args is defined, it's a no-op\n",
    "    pass\n"
   ]
  },
  {
   "cell_type": "markdown",
   "id": "ea5538f3",
   "metadata": {},
   "source": [
    "## Render\n",
    "\n",
    "NeRF rendering utilities\n",
    "\n",
    "This part contains helper functions to render volumes using Neural Radiance Fields (NeRF).\n",
    "If you're new to NeRF, here's the high-level idea you'll see reflected in the code:\n",
    "\n",
    "- A NeRF model takes a 3D point (and often a viewing direction) and predicts color (RGB)\n",
    "  and density (sigma) at that point.\n",
    "- To render an image, we cast a ray through each pixel, sample many points along the ray,\n",
    "  evaluate the network at those points, and composite the colors using volume rendering.\n",
    "- We optionally do this in two passes: a coarse pass to find where the scene is, then a\n",
    "  fine pass that samples more densely in the important regions (importance sampling).\n",
    "\n",
    "The functions below help with:\n",
    "- Splitting big tensors/ray sets into smaller chunks to avoid out-of-memory issues.\n",
    "- Converting raw network outputs into rendered RGB/depth/opacity via volume rendering.\n",
    "- Orchestrating the full per-ray rendering with optional hierarchical sampling.\n"
   ]
  },
  {
   "cell_type": "code",
   "execution_count": 57,
   "id": "3d11a863",
   "metadata": {},
   "outputs": [],
   "source": [
    "\"\"\"\n",
    "The following function wraps a function fn so it processes a large input tensor in smaller chunks\n",
    "to reduce peak memory usage, then stitches the result together.\n",
    "\n",
    "This splits inputs along the first dimension into slices of size chunk and applies fn to each slice.\n",
    "Then it concatenates the results back together along the first dimension.\n",
    "\n",
    "This reduces gpu and cpu spikes when fn is heavy (i.e neural network forward pass) and preserves\n",
    "autograd, as gradients flow through torch.cat and slicing.\n",
    "\"\"\"\n",
    "def batchify(fn, chunk):\n",
    "    \"\"\"Wrap a function so it runs on smaller input chunks to reduce peak memory.\n",
    "\n",
    "    This is useful for heavy functions like neural network forward passes. Instead of\n",
    "    evaluating the entire input tensor in one go, we split it along the first dimension\n",
    "    into slices of size ``chunk`` and then concatenate the results.\n",
    "\n",
    "    Args:\n",
    "        fn (Callable[[Tensor], Tensor]): The function to run on chunks.\n",
    "        chunk (Optional[int]): Number of rows to process per call. If ``None``,\n",
    "            no chunking is performed.\n",
    "\n",
    "    Returns:\n",
    "        Callable[[Tensor], Tensor]: A wrapper that applies ``fn`` on input chunks and\n",
    "        stitches the outputs along the first dimension.\n",
    "    \"\"\"\n",
    "    if chunk is None:\n",
    "        return fn\n",
    "    def ret(inputs):\n",
    "        return torch.cat([fn(inputs[i:i+chunk]) for i in range(0, inputs.shape[0], chunk)], 0)\n",
    "    return ret\n"
   ]
  },
  {
   "cell_type": "code",
   "execution_count": 58,
   "id": "2c35c443",
   "metadata": {},
   "outputs": [],
   "source": [
    "def raw2outputs(raw, z_vals, rays_d, raw_noise_std=0, white_bkgd=False, pytest=False):\n",
    "    \"\"\"\n",
    "    Convert raw network predictions along rays into rendered outputs using\n",
    "    volumetric rendering (accumulation over samples).\n",
    "\n",
    "    High-level intuition (NeRF volume rendering):\n",
    "    - The network predicts, per sampled point along a ray, an RGB value and a density\n",
    "      (often called sigma). Density indicates how much light is absorbed/emitted there.\n",
    "    - We turn densities into per-sample opacities (alpha) based on the distance between\n",
    "      adjacent samples along the ray.\n",
    "    - We compute transmittance (how much light makes it to a sample without being blocked)\n",
    "      via a cumulative product, then form per-sample weights = transmittance * alpha.\n",
    "    - We composite colors, depths, and other quantities by weighted sums over samples.\n",
    "\n",
    "    Args:\n",
    "        raw (torch.Tensor): [N_rays, N_samples, 4] raw predictions per sample. The first\n",
    "            3 channels are RGB logits (before sigmoid), and the last channel is density (sigma).\n",
    "        z_vals (torch.Tensor): [N_rays, N_samples] sample depths or t-values along each ray.\n",
    "        rays_d (torch.Tensor): [N_rays, 3] direction vectors for each ray. Used to scale\n",
    "            step sizes from parametric units to metric distances.\n",
    "        raw_noise_std (float): Stddev of Gaussian noise added to sigma during training for\n",
    "            regularization. Set to 0.0 at eval time.\n",
    "        white_bkgd (bool): If True, composite the result over a white background (useful\n",
    "            for synthetic datasets rendered on white).\n",
    "        pytest (bool): If True, use deterministic numpy noise for reproducible tests.\n",
    "\n",
    "    Returns:\n",
    "        tuple:\n",
    "            - rgb_map (torch.Tensor): [N_rays, 3] rendered RGB color per ray.\n",
    "            - disp_map (torch.Tensor): [N_rays] disparity (inverse depth) per ray.\n",
    "            - acc_map (torch.Tensor): [N_rays] accumulated opacity per ray (sum of weights).\n",
    "            - weights (torch.Tensor): [N_rays, N_samples] per-sample contribution weights.\n",
    "            - depth_map (torch.Tensor): [N_rays] expected depth per ray.\n",
    "    \"\"\"\n",
    "    # Map density (sigma) and step size (distance between samples) to opacity (alpha):\n",
    "    #   alpha = 1 - exp(-relu(sigma) * delta)\n",
    "    # relu ensures sigma is non-negative, as negative density is not physical.\n",
    "    raw2alpha = lambda raw_sigma, dists, act_fn=F.relu: 1.0 - torch.exp(-act_fn(raw_sigma) * dists)\n",
    "\n",
    "    # Compute distances between adjacent samples along each ray in z (or t) space.\n",
    "    # Shape after diff: [N_rays, N_samples-1]\n",
    "    dists = z_vals[..., 1:] - z_vals[..., :-1]\n",
    "\n",
    "    # For the last sample on each ray, append a very large distance so that its\n",
    "    # contribution is properly modeled as the ray exiting the volume.\n",
    "    # Resulting shape: [N_rays, N_samples]\n",
    "    dists = torch.cat([dists, torch.tensor([1e10], device=z_vals.device, dtype=z_vals.dtype).expand(dists[..., :1].shape)], dim=-1)\n",
    "\n",
    "    # Convert parametric distances to metric distances by multiplying by the ray length.\n",
    "    # This accounts for non-unit ray directions. rays_d[..., None, :] has shape [N_rays, 1, 3]\n",
    "    # and we take its L2 norm to scale each sample distance.\n",
    "    dists = dists * torch.norm(rays_d[..., None, :], dim=-1)\n",
    "\n",
    "    # Convert raw RGB logits to [0,1] colors per sample.\n",
    "    rgb = torch.sigmoid(raw[..., :3])  # [N_rays, N_samples, 3]\n",
    "\n",
    "    # Optional noise added to densities during training for regularization.\n",
    "    # Ensure raw_noise_std is a float (configs may pass strings).\n",
    "    try:\n",
    "        noise_std = float(raw_noise_std)\n",
    "    except (TypeError, ValueError):\n",
    "        noise_std = 0.0\n",
    "\n",
    "    noise = 0.0\n",
    "    if noise_std > 0.0:\n",
    "        noise = torch.randn(raw[..., 3].shape, device=raw.device, dtype=raw.dtype) * noise_std\n",
    "\n",
    "        # Deterministic noise path for unit tests.\n",
    "        if pytest:\n",
    "            np.random.seed(0)\n",
    "            noise_np = np.random.rand(*list(raw[..., 3].shape)) * noise_std\n",
    "            noise = torch.tensor(noise_np, device=raw.device, dtype=raw.dtype)\n",
    "\n",
    "    # Opacity per sample from density and distance.\n",
    "    alpha = raw2alpha(raw[..., 3] + noise, dists)  # [N_rays, N_samples]\n",
    "    weights = alpha * torch.cumprod(torch.cat([torch.ones((alpha.shape[0], 1), device=alpha.device, dtype=alpha.dtype), 1.-alpha + 1e-10], -1), -1)[:, :-1]\n",
    "\n",
    "    # Rendered color is the weighted sum of per-sample colors along the ray.\n",
    "    rgb_map = torch.sum(weights[..., None] * rgb, dim=-2)  # [N_rays, 3]\n",
    "\n",
    "    # Expected depth is the weighted sum of sample depths.\n",
    "    depth_map = torch.sum(weights * z_vals, dim=-1)\n",
    "\n",
    "    # Disparity is inverse depth. We divide expected depth by total weight (visibility)\n",
    "    # and guard with epsilon to avoid divide-by-zero when the ray hits nothing.\n",
    "    denom = torch.max(1e-10 * torch.ones_like(depth_map), torch.sum(weights, dim=-1))\n",
    "    disp_map = 1.0 / torch.clamp(depth_map / denom, min=1e-10)\n",
    "\n",
    "    # Accumulated opacity along the ray (how much of the ray got \"stopped\").\n",
    "    acc_map = torch.sum(weights, dim=-1)\n",
    "\n",
    "    # If the scene assumes a white background, composite the missing transmittance as white.\n",
    "    if white_bkgd:\n",
    "        rgb_map = rgb_map + (1.0 - acc_map[..., None])\n",
    "\n",
    "    return rgb_map, disp_map, acc_map, weights, depth_map"
   ]
  },
  {
   "cell_type": "code",
   "execution_count": 59,
   "id": "6208cb16",
   "metadata": {},
   "outputs": [],
   "source": [
    "def render_rays(ray_batch,\n",
    "                network_fn,\n",
    "                network_query_fn,\n",
    "                N_samples,\n",
    "                retraw=False,\n",
    "                lindisp=False,\n",
    "                perturb=0.,\n",
    "                N_importance=0,\n",
    "                network_fine=None,\n",
    "                white_bkgd=False,\n",
    "                raw_noise_std=0.,\n",
    "                verbose=False,\n",
    "                pytest=False):\n",
    "    \"\"\"Render a bundle of rays using NeRF-style volume rendering.\n",
    "\n",
    "    High-level steps for each ray:\n",
    "    1) Sample N points between near and far along the ray (evenly in depth or inverse depth).\n",
    "    2) Query the network at those 3D points (and optionally view directions) to get raw RGB+sigma.\n",
    "    3) Convert raw predictions to colors via volume rendering (accumulate with alphas/weights).\n",
    "    4) If enabled, run hierarchical (importance) sampling: take a second set of samples drawn\n",
    "       from a PDF defined by the coarse weights, re-evaluate the network (fine), and re-render.\n",
    "\n",
    "    Args:\n",
    "        ray_batch (torch.Tensor): [num_rays, Cray]. Per-ray data packed together. The first\n",
    "            3 entries are ray origins, next 3 are ray directions, next 2 are near/far bounds,\n",
    "            and the last 3 (if present) are unit view directions for view-dependent effects.\n",
    "        network_fn (Callable): The coarse NeRF MLP. Given points (and viewdirs), predicts\n",
    "            raw RGB (logits) and density (sigma).\n",
    "        network_query_fn (Callable): A helper that formats inputs and calls the network.\n",
    "        N_samples (int): Number of stratified samples for the coarse pass.\n",
    "        retraw (bool): If True, also return the raw outputs from the last pass.\n",
    "        lindisp (bool): If True, sample uniformly in inverse depth (disparity) instead of depth.\n",
    "            This concentrates samples near the camera, helpful for scenes with large depth ranges.\n",
    "        perturb (float): If > 0, enable stratified sampling noise during training for anti-aliasing.\n",
    "        N_importance (int): Extra samples for the fine pass (hierarchical sampling). 0 disables it.\n",
    "        network_fine (Optional[Callable]): A separate fine MLP. If None, reuse ``network_fn``.\n",
    "        white_bkgd (bool): If True, composite the result over a white background.\n",
    "        raw_noise_std (float): Stddev of Gaussian noise added to density during training.\n",
    "        verbose (bool): If True, print additional debug information.\n",
    "        pytest (bool): If True, make randomness deterministic for unit tests.\n",
    "\n",
    "    Returns:\n",
    "        Dict[str, torch.Tensor]: Always includes:\n",
    "            - ``rgb_map`` [num_rays, 3]: Rendered color from the last pass (fine if enabled).\n",
    "            - ``disp_map`` [num_rays]: Disparity (1/depth) from the last pass.\n",
    "            - ``acc_map`` [num_rays]: Accumulated opacity from the last pass.\n",
    "        Optionally includes:\n",
    "            - ``raw`` [num_rays, num_samples, 4]: Raw outputs of the last pass if ``retraw``.\n",
    "            - ``rgb0``, ``disp0``, ``acc0``: Coarse pass results when ``N_importance > 0``.\n",
    "            - ``z_std`` [num_rays]: Std. dev. of fine samples (measures sampling concentration).\n",
    "    \"\"\"\n",
    "    N_rays = ray_batch.shape[0]\n",
    "    # Unpack packed ray data: origins, directions, near/far bounds, and optional viewdirs.\n",
    "    rays_o, rays_d = ray_batch[:,0:3], ray_batch[:,3:6] # [N_rays, 3] each\n",
    "    viewdirs = ray_batch[:,-3:] if ray_batch.shape[-1] > 8 else None\n",
    "    bounds = torch.reshape(ray_batch[...,6:8], [-1,1,2])\n",
    "    near, far = bounds[...,0], bounds[...,1] # [-1,1]\n",
    "\n",
    "    # Step 1: Choose parametric sample positions t in [0, 1] and map to depths z in [near, far].\n",
    "    t_vals = torch.linspace(0., 1., steps=N_samples, device=ray_batch.device)\n",
    "    if not lindisp:\n",
    "        # Uniform samples in depth\n",
    "        z_vals = near * (1.-t_vals) + far * (t_vals)\n",
    "    else:\n",
    "        # Uniform samples in inverse depth (places more samples closer to the camera)\n",
    "        z_vals = 1./(1./near * (1.-t_vals) + 1./far * (t_vals))\n",
    "\n",
    "    z_vals = z_vals.expand([N_rays, N_samples])\n",
    "\n",
    "    if perturb > 0.:\n",
    "        # During training, jitter samples within each interval for stratified sampling.\n",
    "        # This reduces aliasing and improves robustness.\n",
    "        # Get intervals between samples\n",
    "        mids = .5 * (z_vals[...,1:] + z_vals[...,:-1])\n",
    "        upper = torch.cat([mids, z_vals[...,-1:]], -1)\n",
    "        lower = torch.cat([z_vals[...,:1], mids], -1)\n",
    "        # Draw stratified samples inside those intervals\n",
    "        t_rand = torch.rand(z_vals.shape, device=z_vals.device)\n",
    "\n",
    "        # Pytest, overwrite u with numpy's fixed random numbers\n",
    "        if pytest:\n",
    "            np.random.seed(0)\n",
    "            t_rand = np.random.rand(*list(z_vals.shape))\n",
    "            t_rand = torch.tensor(t_rand, device=z_vals.device, dtype=z_vals.dtype)\n",
    "\n",
    "        z_vals = lower + (upper - lower) * t_rand\n",
    "\n",
    "    # Compute 3D sample locations along each ray: o + t*d for each sampled depth t (z_vals).\n",
    "    pts = rays_o[...,None,:] + rays_d[...,None,:] * z_vals[...,:,None] # [N_rays, N_samples, 3]\n",
    "\n",
    "    # raw = run_network(pts)\n",
    "    # Query the (coarse) network at all sample points. ``viewdirs`` enables view-dependent effects.\n",
    "    raw = network_query_fn(pts, viewdirs, network_fn)\n",
    "    rgb_map, disp_map, acc_map, weights, depth_map = raw2outputs(raw, z_vals, rays_d, raw_noise_std, white_bkgd, pytest=pytest)\n",
    "\n",
    "    if N_importance > 0:\n",
    "\n",
    "        rgb_map_0, disp_map_0, acc_map_0 = rgb_map, disp_map, acc_map\n",
    "\n",
    "        # Hierarchical sampling (importance sampling):\n",
    "        # Build a PDF from coarse weights and draw additional samples where the scene is likely.\n",
    "        z_vals_mid = .5 * (z_vals[...,1:] + z_vals[...,:-1])\n",
    "        # Exclude the first and last weights to avoid boundary artifacts when forming the PDF.\n",
    "        z_samples = sample_pdf(z_vals_mid, weights[...,1:-1], N_importance, det=(perturb==0.), pytest=pytest)\n",
    "        # Detach so gradients do not flow through the sampling operation.\n",
    "        z_samples = z_samples.detach()\n",
    "\n",
    "        # Merge coarse and fine samples, then sort along the ray.\n",
    "        z_vals, _ = torch.sort(torch.cat([z_vals, z_samples], -1), -1)\n",
    "        pts = rays_o[...,None,:] + rays_d[...,None,:] * z_vals[...,:,None] # [N_rays, N_samples + N_importance, 3]\n",
    "\n",
    "        # Use dedicated fine network if provided, else reuse the coarse network.\n",
    "        run_fn = network_fn if network_fine is None else network_fine\n",
    "        # raw = run_network(pts, fn=run_fn)\n",
    "        raw = network_query_fn(pts, viewdirs, run_fn)\n",
    "\n",
    "        rgb_map, disp_map, acc_map, weights, depth_map = raw2outputs(raw, z_vals, rays_d, raw_noise_std, white_bkgd, pytest=pytest)\n",
    "\n",
    "    ret = {'rgb_map' : rgb_map, 'disp_map' : disp_map, 'acc_map' : acc_map}\n",
    "    if retraw:\n",
    "        ret['raw'] = raw\n",
    "    if N_importance > 0:\n",
    "        # Include coarse pass results for potential losses or visualization.\n",
    "        ret['rgb0'] = rgb_map_0\n",
    "        ret['disp0'] = disp_map_0\n",
    "        ret['acc0'] = acc_map_0\n",
    "        # Standard deviation of fine samples: indicates how concentrated sampling is per ray.\n",
    "        ret['z_std'] = torch.std(z_samples, dim=-1, unbiased=False)  # [N_rays]\n",
    "\n",
    "    for k in ret:\n",
    "        if (torch.isnan(ret[k]).any() or torch.isinf(ret[k]).any()) and DEBUG:\n",
    "            print(f\"! [Numerical Error] {k} contains nan or inf.\")\n",
    "\n",
    "    return ret"
   ]
  },
  {
   "cell_type": "code",
   "execution_count": 60,
   "id": "30896c3d",
   "metadata": {},
   "outputs": [],
   "source": [
    "\"\"\"\n",
    "Render a large set of rays by splitting them into manageable minibatches to avoid\n",
    "out-of-memory (OOM) issues, then stitch the per-batch results back together.\n",
    "\n",
    "High-level intuition:\n",
    "- Rendering involves evaluating many rays (often millions). Each ray requires sampling\n",
    "  points, running an MLP, and compositing colors/densities, which can be memory-heavy.\n",
    "- Instead of rendering all rays at once, we process them in chunks (minibatches), which\n",
    "  keeps peak memory usage bounded.\n",
    "- We collect and concatenate the results for each output quantity (e.g., rgb, depth, acc).\n",
    "\"\"\"\n",
    "\n",
    "def batchify_rays(rays_flat, chunk=1024*32, **kwargs):\n",
    "    \"\"\"\n",
    "    Render rays in smaller minibatches to avoid OOM.\n",
    "\n",
    "    Args:\n",
    "        rays_flat (torch.Tensor): Rays flattened along the batch dimension, shape [N, Cray].\n",
    "            Each row encodes a single ray's data (e.g., origin, direction, near/far, etc.).\n",
    "        chunk (int): Number of rays to render per minibatch.\n",
    "        **kwargs: Additional keyword arguments forwarded to `render_rays` (e.g., models,\n",
    "            sampling counts, noise parameters).\n",
    "\n",
    "    Returns:\n",
    "        Dict[str, torch.Tensor]: A dictionary where each key corresponds to a rendered\n",
    "        quantity (e.g., 'rgb_map', 'disp_map', 'acc_map', etc.), and each tensor has\n",
    "        shape [N, ...], formed by concatenating per-chunk outputs along the first dimension.\n",
    "    \"\"\"\n",
    "    # Accumulate lists of per-chunk outputs in a dictionary keyed by output name.\n",
    "    all_ret = {}\n",
    "\n",
    "    # Iterate over rays in chunks: [0:chunk], [chunk:2*chunk], ...\n",
    "    for i in range(0, rays_flat.shape[0], chunk):\n",
    "        # Render a minibatch of rays using the provided rendering function and settings.\n",
    "        ret = render_rays(rays_flat[i:i+chunk], **kwargs)\n",
    "\n",
    "        # For each output field produced by the renderer, append the minibatch result\n",
    "        # to a growing list so we can concatenate later.\n",
    "        for k in ret:\n",
    "            if k not in all_ret:\n",
    "                all_ret[k] = []\n",
    "            all_ret[k].append(ret[k])\n",
    "\n",
    "    # Concatenate lists of chunk results into full [N, ...] tensors for each field.\n",
    "    all_ret = {k: torch.cat(all_ret[k], dim=0) for k in all_ret}\n",
    "\n",
    "    return all_ret"
   ]
  },
  {
   "cell_type": "code",
   "execution_count": 61,
   "id": "7e728037",
   "metadata": {},
   "outputs": [],
   "source": [
    "def render(H, W, K, chunk=1024*32, rays=None, c2w=None, ndc=True,\n",
    "                  near=0., far=1.,\n",
    "                  use_viewdirs=False, c2w_staticcam=None,\n",
    "                  **kwargs):\n",
    "    \"\"\"Render a full image or a provided set of rays using NeRF.\n",
    "\n",
    "    There are two common ways to call this function:\n",
    "    - Full image: pass a camera-to-world matrix ``c2w`` and camera intrinsics ``K``.\n",
    "      The function will generate one ray per pixel and render all of them.\n",
    "    - Custom rays: pass ``rays=(rays_o, rays_d)`` to render only those rays.\n",
    "\n",
    "    Args:\n",
    "        H (int): Image height in pixels.\n",
    "        W (int): Image width in pixels.\n",
    "        K (torch.Tensor or np.ndarray): 3x3 camera intrinsics matrix. We use ``K[0,0]``\n",
    "            (focal length in pixels) when converting to NDC for forward-facing scenes.\n",
    "        chunk (int): Max number of rays to process per minibatch to control memory usage.\n",
    "        rays (tuple[Tensor, Tensor], optional): Tuple ``(rays_o, rays_d)`` with shapes\n",
    "            [..., 3] each, giving ray origins and directions. If provided, ``c2w`` is ignored.\n",
    "        c2w (torch.Tensor or np.ndarray, optional): [3,4] camera-to-world matrix. If provided,\n",
    "            rays for the full image are generated via ``get_rays``.\n",
    "        ndc (bool): If True, convert rays to normalized device coordinates (recommended for\n",
    "            forward-facing scenes as in the original NeRF paper).\n",
    "        near (float): Near plane distance used to initialize per-ray near bounds.\n",
    "        far (float): Far plane distance used to initialize per-ray far bounds.\n",
    "        use_viewdirs (bool): If True, pass unit viewing directions to the network to enable\n",
    "            view-dependent appearance (specularities).\n",
    "        c2w_staticcam (torch.Tensor or np.ndarray, optional): If provided with ``use_viewdirs``\n",
    "            enabled, generate rays from ``c2w_staticcam`` but keep view directions from ``c2w``.\n",
    "            This is useful to visualize how view-dependent effects change with direction.\n",
    "        **kwargs: Forwarded to ``render_rays`` (e.g., networks, sample counts, noise settings).\n",
    "\n",
    "    Returns:\n",
    "        list: ``[rgb_map, disp_map, acc_map, extras]``\n",
    "            - rgb_map: [H, W, 3] rendered colors\n",
    "            - disp_map: [H, W] disparity (1/depth)\n",
    "            - acc_map: [H, W] accumulated opacity\n",
    "            - extras: dict with any additional outputs from ``render_rays``\n",
    "    \"\"\"\n",
    "    # Infer rendering device from the model to keep all tensors consistent\n",
    "    model_device = next(kwargs['network_fn'].parameters()).device\n",
    "\n",
    "    if c2w is not None:\n",
    "        # Special case: render a full image by generating one ray per pixel.\n",
    "        rays_o, rays_d = get_rays(H, W, K, c2w)\n",
    "    else:\n",
    "        # Use the provided custom ray batch.\n",
    "        rays_o, rays_d = rays\n",
    "\n",
    "    if use_viewdirs:\n",
    "        # Provide normalized ray directions to the network for view-dependent effects.\n",
    "        viewdirs = rays_d\n",
    "        if c2w_staticcam is not None:\n",
    "            # Visualize only the effect of changing view direction while keeping camera fixed.\n",
    "            rays_o, rays_d = get_rays(H, W, K, c2w_staticcam)\n",
    "        viewdirs = viewdirs / torch.norm(viewdirs, dim=-1, keepdim=True)\n",
    "        viewdirs = torch.reshape(viewdirs, [-1,3]).float().to(model_device)\n",
    "\n",
    "    sh = rays_d.shape # [..., 3]\n",
    "    if ndc:\n",
    "        # Convert to NDC (assumes a pinhole camera model), commonly used for LLFF/forward-facing scenes.\n",
    "        rays_o, rays_d = ndc_rays(H, W, K[0][0], 1., rays_o, rays_d)\n",
    "\n",
    "    # Create ray batch\n",
    "    rays_o = torch.reshape(rays_o, [-1,3]).float().to(model_device)\n",
    "    rays_d = torch.reshape(rays_d, [-1,3]).float().to(model_device)\n",
    "\n",
    "    # Initialize per-ray near/far bounds and pack rays into a single tensor expected by render_rays.\n",
    "    near, far = near * torch.ones_like(rays_d[...,:1]), far * torch.ones_like(rays_d[...,:1])\n",
    "    rays = torch.cat([rays_o, rays_d, near, far], -1)\n",
    "    if use_viewdirs:\n",
    "        rays = torch.cat([rays, viewdirs], -1)\n",
    "\n",
    "    # Render all rays in memory-friendly chunks, then reshape results back to image grids.\n",
    "    all_ret = batchify_rays(rays, chunk, **kwargs)\n",
    "    for k in all_ret:\n",
    "        k_sh = list(sh[:-1]) + list(all_ret[k].shape[1:])\n",
    "        all_ret[k] = torch.reshape(all_ret[k], k_sh)\n",
    "\n",
    "    k_extract = ['rgb_map', 'disp_map', 'acc_map']\n",
    "    ret_list = [all_ret[k] for k in k_extract]\n",
    "    ret_dict = {k : all_ret[k] for k in all_ret if k not in k_extract}\n",
    "    return ret_list + [ret_dict]\n"
   ]
  },
  {
   "cell_type": "code",
   "execution_count": 62,
   "id": "57f0ce9e",
   "metadata": {},
   "outputs": [],
   "source": [
    "def render_path(render_poses, hwf, K, chunk, render_kwargs, gt_imgs=None, savedir=None, render_factor=0, \n",
    "                calculate_metrics=False, metrics_include_lpips=True, metrics_device='cuda'):\n",
    "    \"\"\"Render a sequence of camera poses to produce a video or trajectory.\n",
    "\n",
    "    This convenience function loops over a list/array of camera-to-world matrices and calls\n",
    "    ``render`` for each pose. Optionally writes frames to ``savedir`` and/or renders at a\n",
    "    lower resolution for speed.\n",
    "\n",
    "    Args:\n",
    "        render_poses (Iterable[Tensor or np.ndarray]): Sequence of [3,4] camera-to-world matrices.\n",
    "        hwf (tuple): ``(H, W, focal)`` from dataset metadata. Only ``H`` and ``W`` are used here.\n",
    "        K (Tensor or np.ndarray): 3x3 intrinsics matrix passed through to ``render``.\n",
    "        chunk (int): Chunk size forwarded to ``render``.\n",
    "        render_kwargs (dict): Keyword args forwarded to ``render`` (e.g., networks and settings).\n",
    "        gt_imgs (optional): Ground-truth images; if provided, you can compute metrics.\n",
    "        savedir (str, optional): If provided, write each rendered RGB frame as a PNG to this folder.\n",
    "        render_factor (int): If > 0, downsample H and W by this factor to render faster.\n",
    "        calculate_metrics (bool): If True and gt_imgs is provided, calculate image quality metrics.\n",
    "        metrics_include_lpips (bool): Whether to include LPIPS in metrics calculation.\n",
    "        metrics_device (str): Device to use for LPIPS calculation.\n",
    "\n",
    "    Returns:\n",
    "        If calculate_metrics=False: Tuple[np.ndarray, np.ndarray]: ``(rgbs, disps)``\n",
    "        If calculate_metrics=True: Tuple[np.ndarray, np.ndarray, dict]: ``(rgbs, disps, metrics)``\n",
    "        where metrics contains averaged PSNR, SSIM, and optionally LPIPS values.\n",
    "    \"\"\"\n",
    "\n",
    "    H, W, focal = hwf\n",
    "\n",
    "    if render_factor!=0:\n",
    "        # Render downsampled for speed by reducing both resolution and focal length proportionally.\n",
    "        H = H//render_factor\n",
    "        W = W//render_factor\n",
    "        focal = focal/render_factor\n",
    "\n",
    "    rgbs = []\n",
    "    disps = []\n",
    "    \n",
    "    # Initialize metrics collection if requested\n",
    "    if calculate_metrics and gt_imgs is not None:\n",
    "        from nerf_helpers import calculate_metrics as calc_metrics\n",
    "        all_metrics = {'psnr': [], 'ssim': [], 'mse': []}\n",
    "        if metrics_include_lpips:\n",
    "            all_metrics['lpips'] = []\n",
    "\n",
    "    t = time.time()\n",
    "    for i, c2w in enumerate(tqdm(render_poses)):\n",
    "        # Simple timing print to monitor rendering speed\n",
    "        print(i, time.time() - t)\n",
    "        t = time.time()\n",
    "\n",
    "        # Render the current pose; we discard the accumulated opacity and extras here\n",
    "        rgb, disp, acc, _ = render(H, W, K, chunk=chunk, c2w=c2w[:3,:4], **render_kwargs)\n",
    "        rgbs.append(rgb.cpu().numpy())\n",
    "        disps.append(disp.cpu().numpy())\n",
    "        if i==0:\n",
    "            print(rgb.shape, disp.shape)\n",
    "\n",
    "        # Calculate metrics vs. ground truth if requested\n",
    "        if calculate_metrics and gt_imgs is not None and render_factor==0 and i < len(gt_imgs):\n",
    "            gt_img = gt_imgs[i]\n",
    "            rendered_img = rgb.cpu().numpy()\n",
    "            \n",
    "            # Calculate comprehensive metrics\n",
    "            metrics = calc_metrics(rendered_img, gt_img, \n",
    "                                 include_lpips=metrics_include_lpips, \n",
    "                                 device=metrics_device)\n",
    "            \n",
    "            # Store metrics\n",
    "            for key in all_metrics:\n",
    "                if key in metrics and metrics[key] is not None:\n",
    "                    all_metrics[key].append(metrics[key])\n",
    "            \n",
    "            # Print metrics for this frame\n",
    "            print(f\"Frame {i} - PSNR: {metrics.get('psnr', 'N/A'):.2f}, \"\n",
    "                  f\"SSIM: {metrics.get('ssim', 'N/A'):.4f}\", end=\"\")\n",
    "            if metrics_include_lpips and 'lpips' in metrics:\n",
    "                print(f\", LPIPS: {metrics.get('lpips', 'N/A'):.4f}\")\n",
    "            else:\n",
    "                print()\n",
    "\n",
    "        # Optionally write the frame to disk as an 8-bit PNG.\n",
    "        if savedir is not None:\n",
    "            rgb8 = to8b(rgbs[-1])\n",
    "            filename = os.path.join(savedir, '{:03d}.png'.format(i))\n",
    "            imageio.imwrite(filename, rgb8)\n",
    "\n",
    "    # Stack lists into contiguous arrays with a time dimension.\n",
    "    rgbs = np.stack(rgbs, 0)\n",
    "    disps = np.stack(disps, 0)\n",
    "\n",
    "    # Calculate average metrics if requested\n",
    "    if calculate_metrics and gt_imgs is not None:\n",
    "        avg_metrics = {}\n",
    "        for key, values in all_metrics.items():\n",
    "            if values:  # Only average if we have values\n",
    "                avg_metrics[f'avg_{key}'] = np.mean(values)\n",
    "                avg_metrics[f'std_{key}'] = np.std(values)\n",
    "        \n",
    "        # Print summary\n",
    "        print(\"\\n=== METRICS SUMMARY ===\")\n",
    "        for key in ['psnr', 'ssim', 'lpips']:\n",
    "            if f'avg_{key}' in avg_metrics:\n",
    "                print(f\"Average {key.upper()}: {avg_metrics[f'avg_{key}']:.4f} ± {avg_metrics[f'std_{key}']:.4f}\")\n",
    "        print(\"=======================\")\n",
    "        \n",
    "        return rgbs, disps, avg_metrics\n",
    "\n",
    "    return rgbs, disps\n"
   ]
  },
  {
   "cell_type": "code",
   "execution_count": null,
   "id": "2e46feb0",
   "metadata": {},
   "outputs": [],
   "source": []
  },
  {
   "cell_type": "code",
   "execution_count": 63,
   "id": "c0111889",
   "metadata": {},
   "outputs": [],
   "source": [
    "\"\"\"\n",
    "Prepare 3D sample points for a NeRF-style network by applying positional encodings,\n",
    "run the network on these encodings in memory-safe chunks, and then reshape the results\n",
    "back to the original sampling layout.\n",
    "\n",
    "High-level intuition:\n",
    "- We often sample many 3D points (xyz) per ray and, optionally, use a per-ray viewing\n",
    "  direction. Raw coordinates are hard for small MLPs to learn high-frequency detail,\n",
    "  so we first apply a positional encoding that maps them to a higher-dimensional space.\n",
    "- We flatten everything to a big batch so the network can process all samples uniformly.\n",
    "- To avoid running out of memory, we split this big batch into chunks and process them\n",
    "  sequentially, then stitch the outputs back together and restore the original shape.\n",
    "\"\"\"\n",
    "\n",
    "def run_network(inputs, viewdirs, fn, embed_fn, embeddirs_fn, netchunk=1024*64):\n",
    "    \"\"\"\n",
    "    Prepare inputs for a NeRF-style MLP and apply the network in chunks.\n",
    "\n",
    "    Conceptual overview:\n",
    "    - Positions (xyz) and, optionally, viewing directions are first positional-encoded\n",
    "      (a deterministic mapping to a higher-dimensional space using sin/cos at multiple\n",
    "      frequencies). This helps the MLP represent fine details and sharp changes.\n",
    "    - We flatten leading dimensions so all samples are processed as a single batch.\n",
    "    - To keep memory usage in check, we process this batch in chunks (netchunk).\n",
    "    - Finally, we reshape outputs to match the original sampling layout.\n",
    "\n",
    "    Args:\n",
    "        inputs (torch.Tensor): Sample positions with shape [..., Cpos], typically Cpos = 3.\n",
    "            Example: [N_rays, N_samples, 3]. The leading dimensions can be any shape.\n",
    "        viewdirs (Optional[torch.Tensor]): Per-ray viewing directions with shape\n",
    "            [N_rays, Cdir] (typically Cdir = 3), or None if not using view-dependent effects.\n",
    "            When provided, each ray direction is broadcast to all samples along that ray.\n",
    "        fn (Callable[[torch.Tensor], torch.Tensor]): Neural network (e.g., NeRF MLP) that\n",
    "            consumes encoded features and returns outputs per sample.\n",
    "        embed_fn (Callable[[torch.Tensor], torch.Tensor]): Positional encoder for positions;\n",
    "            maps [*, Cpos] -> [*, Cpos_enc].\n",
    "        embeddirs_fn (Optional[Callable[[torch.Tensor], torch.Tensor]]): Positional encoder\n",
    "            for directions; maps [*, Cdir] -> [*, Cdir_enc]. Only used if viewdirs is not None.\n",
    "        netchunk (int): Maximum number of samples to process per chunk to limit peak memory.\n",
    "\n",
    "    Returns:\n",
    "        torch.Tensor: Network outputs with shape [..., Cout], where the leading dimensions\n",
    "        match those of `inputs` (excluding its last channel), and Cout is determined by `fn`.\n",
    "    \"\"\"\n",
    "    # Flatten all leading dimensions so we have a simple [N, Cpos] batch of positions.\n",
    "    # N is the total number of samples across rays and per-ray samples.\n",
    "    inputs_flat = torch.reshape(inputs, [-1, inputs.shape[-1]])\n",
    "\n",
    "    # Positional-encode the flattened positions (e.g., apply sin/cos at multiple frequencies).\n",
    "    # This expands each 3D input into a richer, higher-dimensional representation\n",
    "    # that makes it easier for the MLP to model fine spatial detail.\n",
    "    embedded = embed_fn(inputs_flat)\n",
    "\n",
    "    # If using view-dependent appearance (e.g., specular highlights that vary with direction),\n",
    "    # we also encode per-ray viewing directions and concatenate them with position encodings.\n",
    "    if viewdirs is not None:\n",
    "        # Insert a length-1 axis, then broadcast each ray direction across all samples on that ray\n",
    "        # so that every sample point along a ray shares the same view direction.\n",
    "        input_dirs = viewdirs[:, None].expand(inputs.shape)\n",
    "\n",
    "        # Flatten directions to align with the flattened positions: [N, Cdir].\n",
    "        input_dirs_flat = torch.reshape(input_dirs, [-1, input_dirs.shape[-1]])\n",
    "\n",
    "        # Positional-encode viewing directions in the same spirit as positions.\n",
    "        embedded_dirs = embeddirs_fn(input_dirs_flat)\n",
    "\n",
    "        # Concatenate encoded positions and encoded directions along the feature/channel axis.\n",
    "        embedded = torch.cat([embedded, embedded_dirs], -1)\n",
    "\n",
    "    # Apply the network to the encoded features in memory-safe chunks along the batch dimension.\n",
    "    # This prevents out-of-memory errors when the total number of samples is very large.\n",
    "    # Ensure inputs are on the same device as the model parameters.\n",
    "    model_device = next(fn.parameters()).device\n",
    "    embedded = embedded.to(model_device)\n",
    "    outputs_flat = batchify(fn, netchunk)(embedded)\n",
    "\n",
    "    # Restore the original leading shape (e.g., [N_rays, N_samples]) and append the output channels.\n",
    "    outputs = torch.reshape(outputs_flat, list(inputs.shape[:-1]) + [outputs_flat.shape[-1]])\n",
    "\n",
    "    return outputs"
   ]
  },
  {
   "cell_type": "markdown",
   "id": "fbf79950",
   "metadata": {},
   "source": [
    "## Instantiate NeRF\n",
    "This section creates a function to instantiate NeRF."
   ]
  },
  {
   "cell_type": "code",
   "execution_count": 64,
   "id": "cab3b233",
   "metadata": {},
   "outputs": [],
   "source": [
    "from nerf import NeRF\n",
    "\n",
    "def create_nerf(args):\n",
    "    \"\"\"Instantiate NeRF's MLP model.\n",
    "    \"\"\"\n",
    "    embed_fn, input_ch = get_embedder(args.multires, args.i_embed)\n",
    "\n",
    "    input_ch_views = 0\n",
    "    embeddirs_fn = None\n",
    "    if args.use_viewdirs:\n",
    "        embeddirs_fn, input_ch_views = get_embedder(args.multires_views, args.i_embed)\n",
    "    output_ch = 5 if args.N_importance > 0 else 4\n",
    "    skips = [4]\n",
    "    model = NeRF(D=args.netdepth, W=args.netwidth,\n",
    "                 input_ch=input_ch, output_ch=output_ch, skips=skips,\n",
    "                 input_ch_views=input_ch_views, use_viewdirs=args.use_viewdirs).to(device)\n",
    "    grad_vars = list(model.parameters())\n",
    "\n",
    "    model_fine = None\n",
    "    if args.N_importance > 0:\n",
    "        model_fine = NeRF(D=args.netdepth_fine, W=args.netwidth_fine,\n",
    "                          input_ch=input_ch, output_ch=output_ch, skips=skips,\n",
    "                          input_ch_views=input_ch_views, use_viewdirs=args.use_viewdirs).to(device)\n",
    "        grad_vars += list(model_fine.parameters())\n",
    "\n",
    "    network_query_fn = lambda inputs, viewdirs, network_fn : run_network(inputs, viewdirs, network_fn,\n",
    "                                                                embed_fn=embed_fn,\n",
    "                                                                embeddirs_fn=embeddirs_fn,\n",
    "                                                                netchunk=args.netchunk)\n",
    "\n",
    "    # Create optimizer\n",
    "    optimizer = torch.optim.Adam(params=grad_vars, lr=args.lrate, betas=(0.9, 0.999))\n",
    "\n",
    "    start = 0\n",
    "    basedir = args.basedir\n",
    "    expname = args.expname\n",
    "\n",
    "    ##########################\n",
    "\n",
    "    # Load checkpoints\n",
    "    # Make checkpt dirs\n",
    "    checkpoint_dir = os.path.join(basedir, expname, \"checkpoints\")\n",
    "    os.makedirs(checkpoint_dir, exist_ok=True)\n",
    "\n",
    "    if args.ft_path is not None and args.ft_path!='None':\n",
    "        ckpts = [args.ft_path]\n",
    "    else:\n",
    "        ckpts = [os.path.join(basedir, expname, \"checkpoints\", f) for f in sorted(os.listdir(os.path.join(basedir, expname, \"checkpoints\"))) if 'tar' in f]\n",
    "\n",
    "    print('Found ckpts', ckpts)\n",
    "    if len(ckpts) > 0 and not args.no_reload:\n",
    "        ckpt_path = ckpts[-1]\n",
    "        print('Reloading from', ckpt_path)\n",
    "        ckpt = torch.load(ckpt_path)\n",
    "\n",
    "        start = ckpt['global_step']\n",
    "        optimizer.load_state_dict(ckpt['optimizer_state_dict'])\n",
    "\n",
    "        # Load model\n",
    "        model.load_state_dict(ckpt['network_fn_state_dict'])\n",
    "        if model_fine is not None:\n",
    "            model_fine.load_state_dict(ckpt['network_fine_state_dict'])\n",
    "\n",
    "    ##########################\n",
    "\n",
    "    render_kwargs_train = {\n",
    "        'network_query_fn' : network_query_fn,\n",
    "        'perturb' : args.perturb,\n",
    "        'N_importance' : args.N_importance,\n",
    "        'network_fine' : model_fine,\n",
    "        'N_samples' : args.N_samples,\n",
    "        'network_fn' : model,\n",
    "        'use_viewdirs' : args.use_viewdirs,\n",
    "        'white_bkgd' : args.white_bkgd,\n",
    "        'raw_noise_std' : args.raw_noise_std,\n",
    "    }\n",
    "\n",
    "    # NDC only good for LLFF-style forward facing data\n",
    "    if args.dataset_type != 'llff' or args.no_ndc:\n",
    "        print('Not ndc!')\n",
    "        render_kwargs_train['ndc'] = False\n",
    "        render_kwargs_train['lindisp'] = args.lindisp\n",
    "\n",
    "    render_kwargs_test = {k : render_kwargs_train[k] for k in render_kwargs_train}\n",
    "    render_kwargs_test['perturb'] = False\n",
    "    render_kwargs_test['raw_noise_std'] = 0.\n",
    "\n",
    "    return render_kwargs_train, render_kwargs_test, start, grad_vars, optimizer"
   ]
  },
  {
   "cell_type": "markdown",
   "id": "0ce81b35",
   "metadata": {},
   "source": [
    "## Training Loop"
   ]
  },
  {
   "cell_type": "code",
   "execution_count": 65,
   "id": "7f36d9e8",
   "metadata": {},
   "outputs": [],
   "source": [
    "\n",
    "def train():\n",
    "    import os\n",
    "    import skimage\n",
    "    \"\"\"\n",
    "    End-to-end NeRF training loop.\n",
    "\n",
    "    High-level overview for newcomers:\n",
    "    - Load a dataset of posed images (e.g., LLFF/Blender/LINEMOD). Each image comes with a camera pose.\n",
    "    - Create a NeRF model (coarse and optionally fine MLPs) and a renderer.\n",
    "    - On each iteration, sample camera rays and their target RGB values from the dataset.\n",
    "    - Render rays with the NeRF model via volumetric rendering (accumulate colors along the ray).\n",
    "    - Compute a reconstruction loss (e.g., MSE) against ground-truth pixels and optimize the networks.\n",
    "    - Periodically render validation trajectories and/or save snapshots.\n",
    "\n",
    "    Key concepts:\n",
    "    - Rays: For each pixel, we cast a ray into the scene with origin/direction computed from intrinsics and pose.\n",
    "    - Sampling: We sample multiple points along each ray (coarse). Optionally resample (fine) where the scene is likely.\n",
    "    - Volume rendering: Convert per-point density+color to opacity weights and composite to a final pixel color.\n",
    "    - Hierarchical sampling: A second pass focuses samples where the coarse pass is confident the scene exists.\n",
    "    \"\"\"\n",
    "\n",
    "    # ----------------------\n",
    "    # 1) Load data and choose near/far bounds depending on dataset\n",
    "    # ----------------------\n",
    "    K = None\n",
    "    if args.dataset_type == 'llff':\n",
    "        images, poses, bds, render_poses, i_test = load_llff_data(\n",
    "            args.datadir, args.factor, recenter=True, bd_factor=.75, spherify=args.spherify\n",
    "        )\n",
    "        hwf = poses[0,:3,-1]           # (H, W, focal)\n",
    "        poses = poses[:,:3,:4]         # Only keep rotation+translation (3x4) per pose\n",
    "        print('Loaded llff', images.shape, render_poses.shape, hwf, args.datadir)\n",
    "        if not isinstance(i_test, list):\n",
    "            i_test = [i_test]\n",
    "\n",
    "        # Optional LLFF holdout: use every N-th image as test\n",
    "        if args.llffhold > 0:\n",
    "            print('Auto LLFF holdout,', args.llffhold)\n",
    "            i_test = np.arange(images.shape[0])[::args.llffhold]\n",
    "\n",
    "        i_val = i_test\n",
    "        i_train = np.array([i for i in np.arange(int(images.shape[0]))\n",
    "                            if (i not in i_test and i not in i_val)])\n",
    "\n",
    "        print('DEFINING BOUNDS')\n",
    "        if args.no_ndc:\n",
    "            # If not using NDC (e.g., inward-facing/360 scenes), near/far from bounds\n",
    "            near = np.ndarray.min(bds) * .9\n",
    "            far = np.ndarray.max(bds) * 1.\n",
    "        else:\n",
    "            # Forward-facing (LLFF) uses NDC, so near/far are normalized\n",
    "            near = 0.\n",
    "            far = 1.\n",
    "        print('NEAR FAR', near, far)\n",
    "\n",
    "    elif args.dataset_type == 'blender':\n",
    "        images, poses, render_poses, hwf, i_split = load_blender_data(\n",
    "            args.datadir, args.half_res, args.testskip\n",
    "        )\n",
    "        print('Loaded blender', images.shape, render_poses.shape, hwf, args.datadir)\n",
    "        i_train, i_val, i_test = i_split\n",
    "\n",
    "        # Standard near/far for Blender synthetic scenes\n",
    "        near = 2.\n",
    "        far = 6.\n",
    "\n",
    "        # Composite over white if requested (makes background white instead of black)\n",
    "        if args.white_bkgd:\n",
    "            images = images[...,:3]*images[...,-1:] + (1.-images[...,-1:])\n",
    "        else:\n",
    "            images = images[...,:3]\n",
    "\n",
    "    elif args.dataset_type == 'LINEMOD':\n",
    "        images, poses, render_poses, hwf, K, i_split, near, far = load_LINEMOD_data(\n",
    "            args.datadir, args.half_res, args.testskip\n",
    "        )\n",
    "        print(f'Loaded LINEMOD, images shape: {images.shape}, hwf: {hwf}, K: {K}')\n",
    "        print(f'[CHECK HERE] near: {near}, far: {far}.')\n",
    "        i_train, i_val, i_test = i_split\n",
    "\n",
    "        if args.white_bkgd:\n",
    "            images = images[...,:3]*images[...,-1:] + (1.-images[...,-1:])\n",
    "        else:\n",
    "            images = images[...,:3]\n",
    "\n",
    "    elif args.dataset_type == 'deepvoxels':\n",
    "        images, poses, render_poses, hwf, i_split = load_dv_data(\n",
    "            scene=args.shape, basedir=args.datadir, testskip=args.testskip\n",
    "        )\n",
    "        print('Loaded deepvoxels', images.shape, render_poses.shape, hwf, args.datadir)\n",
    "        i_train, i_val, i_test = i_split\n",
    "\n",
    "        # DeepVoxels scenes define a hemisphere radius; near/far around it\n",
    "        hemi_R = np.mean(np.linalg.norm(poses[:,:3,-1], axis=-1))\n",
    "        near = hemi_R-1.\n",
    "        far = hemi_R+1.\n",
    "\n",
    "    else:\n",
    "        print('Unknown dataset type', args.dataset_type, 'exiting')\n",
    "        return\n",
    "\n",
    "    # ----------------------\n",
    "    # 2) Prepare intrinsics (H, W, focal) and default K if not provided\n",
    "    # ----------------------\n",
    "    H, W, focal = hwf\n",
    "    H, W = int(H), int(W)\n",
    "    hwf = [H, W, focal]\n",
    "\n",
    "    if K is None:\n",
    "        # Construct a pinhole intrinsics matrix assuming principal point at image center\n",
    "        K = np.array([\n",
    "            [focal, 0, 0.5*W],\n",
    "            [0, focal, 0.5*H],\n",
    "            [0, 0, 1]\n",
    "        ])\n",
    "\n",
    "    # If we are evaluating on the test set, use the corresponding subset of poses\n",
    "    if args.render_test:\n",
    "        render_poses = np.array(poses[i_test])\n",
    "\n",
    "    # ----------------------\n",
    "    # 3) Logging setup and persistence of configs\n",
    "    # ----------------------\n",
    "    basedir = args.basedir\n",
    "    expname = args.expname\n",
    "    os.makedirs(os.path.join(basedir, expname), exist_ok=True)\n",
    "\n",
    "    # Save the parsed args for reproducibility\n",
    "    f = os.path.join(basedir, expname, 'args.txt')\n",
    "    with open(f, 'w') as file:\n",
    "        for arg, attr in sorted(args.items()):\n",
    "            attr = getattr(args, arg)\n",
    "            file.write('{} = {}\\n'.format(arg, attr))\n",
    "    # Save the YAML configuration that produced these args\n",
    "    f_yaml = os.path.join(basedir, expname, 'config.yaml')\n",
    "    try:\n",
    "        utils.save_yaml(dict(args), f_yaml)\n",
    "    except Exception:\n",
    "        # Fallback: write a simple YAML dump directly\n",
    "        with open(f_yaml, 'w', encoding='utf-8') as yf:\n",
    "            import yaml as _yaml\n",
    "            _yaml.dump(dict(args), yf, default_flow_style=False, indent=2)\n",
    "\n",
    "    # ----------------------\n",
    "    # 4) Create NeRF models and optimizer\n",
    "    # ----------------------\n",
    "    render_kwargs_train, render_kwargs_test, start, grad_vars, optimizer = create_nerf(args)\n",
    "    global_step = start\n",
    "\n",
    "    # Near/far bounds are used by the renderer; update both train and test configs\n",
    "    bds_dict = { 'near' : near, 'far' : far }\n",
    "    render_kwargs_train.update(bds_dict)\n",
    "    render_kwargs_test.update(bds_dict)\n",
    "\n",
    "    # Move the camera trajectory used for rendering validation videos to the GPU\n",
    "    render_poses = torch.Tensor(render_poses).to(device)\n",
    "\n",
    "    # ----------------------\n",
    "    # 5) Short-circuit: render only mode\n",
    "    # ----------------------\n",
    "    if args.render_only:\n",
    "        print('RENDER ONLY')\n",
    "        with torch.no_grad():\n",
    "            if args.render_test:\n",
    "                # Switch to test poses\n",
    "                images = images[i_test]\n",
    "            else:\n",
    "                # Default is smoother render_poses path\n",
    "                images = None\n",
    "\n",
    "            testsavedir = os.path.join(\n",
    "                basedir, expname, 'renderonly_{}_{:06d}'.format('test' if args.render_test else 'path', start)\n",
    "            )\n",
    "            os.makedirs(testsavedir, exist_ok=True)\n",
    "            print('test poses shape', render_poses.shape)\n",
    "\n",
    "            # Render a path and save to video\n",
    "            rgbs, _ = render_path(render_poses, hwf, K, args.chunk, render_kwargs_test,\n",
    "                                   gt_imgs=images, savedir=testsavedir, render_factor=args.render_factor)\n",
    "            print('Done rendering', testsavedir)\n",
    "            imageio.mimwrite(os.path.join(testsavedir, 'video.mp4'), to8b(rgbs), fps=30, quality=8)\n",
    "\n",
    "            return\n",
    "\n",
    "    # ----------------------\n",
    "    # 6) Prepare random-ray batching (optional) and move data to GPU\n",
    "    # ----------------------\n",
    "    N_rand = args.N_rand\n",
    "    use_batching = not args.no_batching\n",
    "    if use_batching:\n",
    "        # Precompute all rays for all training images, then shuffle mini-batches each step\n",
    "        print('get rays')\n",
    "        rays = np.stack([get_rays_np(H, W, K, p) for p in poses[:,:3,:4]], 0)  # [N, ro+rd, H, W, 3]\n",
    "        print('done, concats')\n",
    "        rays_rgb = np.concatenate([rays, images[:,None]], 1)                   # [N, ro+rd+rgb, H, W, 3]\n",
    "        rays_rgb = np.transpose(rays_rgb, [0,2,3,1,4])                         # [N, H, W, ro+rd+rgb, 3]\n",
    "        rays_rgb = np.stack([rays_rgb[i] for i in i_train], 0)                 # train images only\n",
    "        rays_rgb = np.reshape(rays_rgb, [-1,3,3])                              # [(N-1)*H*W, ro+rd+rgb, 3]\n",
    "        rays_rgb = rays_rgb.astype(np.float32)\n",
    "        print('shuffle rays')\n",
    "        np.random.shuffle(rays_rgb)\n",
    "        print('done')\n",
    "        i_batch = 0\n",
    "\n",
    "    # Move arrays/tensors to GPU for training\n",
    "    if use_batching:\n",
    "        images = torch.Tensor(images).to(device)\n",
    "    poses = torch.Tensor(poses).to(device)\n",
    "    if use_batching:\n",
    "        rays_rgb = torch.Tensor(rays_rgb).to(device)\n",
    "\n",
    "    print('Begin')\n",
    "    print('TRAIN views are', i_train)\n",
    "    print('TEST views are', i_test)\n",
    "    print('VAL views are', i_val)\n",
    "\n",
    "    # ----------------------\n",
    "    # 7) Main optimization loop\n",
    "    # ----------------------\n",
    "    # writer = SummaryWriter(os.path.join(basedir, 'summaries', expname))  # Optional TB logging\n",
    "\n",
    "    start = start + 1\n",
    "    for i in trange(start, N_iters):\n",
    "        time0 = time.time()\n",
    "\n",
    "        # Ensure global step and loop iteration i are synced for checkpoint resume\n",
    "        global_step = i\n",
    "\n",
    "        # Sample a batch of rays and target colors\n",
    "        if use_batching:\n",
    "            # Random over all images (global batching)\n",
    "            batch = rays_rgb[i_batch:i_batch+N_rand]  # [B, 2+1, 3*?]\n",
    "            batch = torch.transpose(batch, 0, 1)\n",
    "            batch_rays, target_s = batch[:2], batch[2]\n",
    "\n",
    "            # Move sliding window; reshuffle at epoch end\n",
    "            i_batch += N_rand\n",
    "            if i_batch >= rays_rgb.shape[0]:\n",
    "                print(\"Shuffle data after an epoch!\")\n",
    "                rand_idx = torch.randperm(rays_rgb.shape[0])\n",
    "                rays_rgb = rays_rgb[rand_idx]\n",
    "                i_batch = 0\n",
    "        else:\n",
    "            # Random rays from a randomly chosen training image (per-image batching)\n",
    "            img_i = np.random.choice(i_train)\n",
    "            target = images[img_i]\n",
    "            target = torch.Tensor(target).to(device)\n",
    "            pose = poses[img_i, :3,:4]\n",
    "\n",
    "            if N_rand is not None:\n",
    "                # Compute per-pixel rays for this image, then sample N_rand of them\n",
    "                rays_o, rays_d = get_rays(H, W, K, torch.Tensor(pose))  # (H, W, 3), (H, W, 3)\n",
    "\n",
    "                if i < args.precrop_iters:\n",
    "                    # Optional: focus early training on the image center (stabilizes training)\n",
    "                    dH = int(H//2 * args.precrop_frac)\n",
    "                    dW = int(W//2 * args.precrop_frac)\n",
    "                    coords = torch.stack(\n",
    "                        torch.meshgrid(\n",
    "                            torch.linspace(H//2 - dH, H//2 + dH - 1, 2*dH), \n",
    "                            torch.linspace(W//2 - dW, W//2 + dW - 1, 2*dW)\n",
    "                        ), -1)\n",
    "                    if i == start:\n",
    "                        print(f\"[Config] Center cropping of size {2*dH} x {2*dW} is enabled until iter {args.precrop_iters}\")                \n",
    "                else:\n",
    "                    coords = torch.stack(\n",
    "                        torch.meshgrid(torch.linspace(0, H-1, H), torch.linspace(0, W-1, W)), -1\n",
    "                    )  # (H, W, 2)\n",
    "\n",
    "                coords = torch.reshape(coords, [-1,2])                         # (H*W, 2)\n",
    "                select_inds = np.random.choice(coords.shape[0], size=[N_rand], replace=False)  # (N_rand,)\n",
    "                select_coords = coords[select_inds].long()                     # (N_rand, 2)\n",
    "                rays_o = rays_o[select_coords[:, 0], select_coords[:, 1]]      # (N_rand, 3)\n",
    "                rays_d = rays_d[select_coords[:, 0], select_coords[:, 1]]      # (N_rand, 3)\n",
    "                batch_rays = torch.stack([rays_o, rays_d], 0)\n",
    "                target_s = target[select_coords[:, 0], select_coords[:, 1]]    # (N_rand, 3)\n",
    "\n",
    "        # ---- Core rendering + loss ----\n",
    "        rgb, disp, acc, extras = render(\n",
    "            H, W, K, chunk=args.chunk, rays=batch_rays, verbose=i < 10, retraw=True, **render_kwargs_train\n",
    "        )\n",
    "\n",
    "        optimizer.zero_grad()\n",
    "        img_loss = img2mse(rgb, target_s)\n",
    "        trans = extras['raw'][...,-1]\n",
    "        loss = img_loss\n",
    "        psnr = mse2psnr(img_loss)\n",
    "\n",
    "        # If hierarchical sampling is enabled, include the coarse-pass loss\n",
    "        if 'rgb0' in extras:\n",
    "            img_loss0 = img2mse(extras['rgb0'], target_s)\n",
    "            loss = loss + img_loss0\n",
    "            psnr0 = mse2psnr(img_loss0)\n",
    "\n",
    "        loss.backward()\n",
    "        optimizer.step()\n",
    "\n",
    "        # --- Learning rate decay (exponential) ---\n",
    "        decay_rate = 0.1\n",
    "        decay_steps = args.lrate_decay * 1000\n",
    "        new_lrate = args.lrate * (decay_rate ** (global_step / decay_steps))\n",
    "        for param_group in optimizer.param_groups:\n",
    "            param_group['lr'] = new_lrate\n",
    "\n",
    "        dt = time.time()-time0\n",
    "        # print(f\"Step: {global_step}, Loss: {loss}, Time: {dt}\")\n",
    "\n",
    "        # ----------------------\n",
    "        # 8) Periodic logging, checkpointing, and visualization\n",
    "        # ----------------------\n",
    "        if i%args.i_weights==0:\n",
    "            # Save model checkpoints for resuming or analysis\n",
    "            path = os.path.join(basedir, expname, \"checkpoints\" ,'{:06d}.tar'.format(i))\n",
    "            torch.save({\n",
    "                'global_step': global_step,\n",
    "                'network_fn_state_dict': render_kwargs_train['network_fn'].state_dict(),\n",
    "                'network_fine_state_dict': render_kwargs_train['network_fine'].state_dict(),\n",
    "                'optimizer_state_dict': optimizer.state_dict(),\n",
    "            }, path)\n",
    "            print('Saved checkpoints at', path)\n",
    "\n",
    "        if i%args.i_video==0 and i > 0:\n",
    "            # Render a validation trajectory and write MP4 previews\n",
    "            with torch.no_grad():\n",
    "                rgbs, disps = render_path(render_poses, hwf, K, args.chunk, render_kwargs_test)\n",
    "            print('Done, saving', rgbs.shape, disps.shape)\n",
    "            moviebase = os.path.join(basedir, expname, '{}_spiral_{:06d}_'.format(expname, i))\n",
    "            imageio.mimwrite(moviebase + 'rgb.mp4', to8b(rgbs), fps=30, quality=8)\n",
    "            imageio.mimwrite(moviebase + 'disp.mp4', to8b(disps / np.max(disps)), fps=30, quality=8)\n",
    "\n",
    "            # If you want to visualize view-dependent effects, you can fix the camera position\n",
    "            # and vary only the view direction (see commented example in original code).\n",
    "\n",
    "        if i%args.i_testset==0 and i > 0:\n",
    "            # Render the held-out test set and save frames with comprehensive metrics\n",
    "            testsavedir = os.path.join(basedir, expname, 'testset_{:06d}'.format(i))\n",
    "            os.makedirs(testsavedir, exist_ok=True)\n",
    "\n",
    "            # Make metrics dir to store our metrics\n",
    "            metricsdir = os.path.join(basedir, expname, \"metrics\")\n",
    "            os.makedirs(metricsdir, exist_ok=True)\n",
    "            print('test poses shape', poses[i_test].shape)\n",
    "            \n",
    "            # Calculate whether to include LPIPS (slower, so maybe every 3rd evaluation)\n",
    "            # Count how many test evaluations we've done\n",
    "            test_eval_count = i // args.i_testset\n",
    "            # include_lpips = (test_eval_count % 3 == 0)  # Every 3rd test evaluation\n",
    "            include_lpips = True  # use true for now as its not that bad = the computation\n",
    "                        \n",
    "\n",
    "            # Alternative: Always include LPIPS (comment out above and uncomment below)\n",
    "            # include_lpips = True\n",
    "            \n",
    "            with torch.no_grad():\n",
    "                try:\n",
    "                    # Enhanced render with metrics calculation\n",
    "                    rgbs, disps, metrics = render_path(\n",
    "                        torch.Tensor(poses[i_test]).to(device), hwf, K, args.chunk,\n",
    "                        render_kwargs_test, \n",
    "                        gt_imgs=images[i_test], \n",
    "                        savedir=testsavedir,\n",
    "                        calculate_metrics=True,\n",
    "                        metrics_include_lpips=include_lpips,\n",
    "                        metrics_device=device\n",
    "                    )\n",
    "                    \n",
    "                    # Log metrics to both TXT and JSON formats\n",
    "                    import json\n",
    "                    import time as time_module\n",
    "                    \n",
    "                    # Text format (human readable)\n",
    "                    metrics_file_txt = os.path.join(basedir, expname, \"metrics\", f'metrics_{i:06d}.txt')\n",
    "                    with open(metrics_file_txt, 'w') as f:\n",
    "                        f.write(f\"Iteration: {i}\\n\")\n",
    "                        f.write(f\"Timestamp: {time_module.strftime('%Y-%m-%d %H:%M:%S')}\\n\")\n",
    "                        f.write(f\"LPIPS_included: {include_lpips}\\n\")\n",
    "                        f.write(\"-\" * 40 + \"\\n\")\n",
    "                        for key, value in metrics.items():\n",
    "                            f.write(f\"{key}: {value:.6f}\\n\")\n",
    "                    \n",
    "                    # JSON format (machine readable)\n",
    "                    metrics_file_json = os.path.join(basedir, expname, \"metrics\", f'metrics_{i:06d}.json')\n",
    "                    json_data = {\n",
    "                        'iteration': i,\n",
    "                        'timestamp': time_module.strftime('%Y-%m-%d %H:%M:%S'),\n",
    "                        'lpips_included': include_lpips,\n",
    "                        'metrics': {k: float(v) for k, v in metrics.items()}\n",
    "                    }\n",
    "                    with open(metrics_file_json, 'w') as f:\n",
    "                        json.dump(json_data, f, indent=2)\n",
    "                    \n",
    "                    # Append to consolidated training log\n",
    "                    training_log_file = os.path.join(basedir, expname, \"metrics\", 'training_metrics.json')\n",
    "                    if os.path.exists(training_log_file):\n",
    "                        with open(training_log_file, 'r') as f:\n",
    "                            training_log = json.load(f)\n",
    "                    else:\n",
    "                        training_log = {'experiment': expname, 'metrics_history': []}\n",
    "                    \n",
    "                    training_log['metrics_history'].append(json_data)\n",
    "                    with open(training_log_file, 'w') as f:\n",
    "                        json.dump(training_log, f, indent=2)\n",
    "                    \n",
    "                    print(f\"Metrics logged to: {metrics_file_txt} and {metrics_file_json}\")\n",
    "                    print(f\"Training history updated: {training_log_file}\")\n",
    "                    \n",
    "                except Exception as e:\n",
    "                    print(f\"Enhanced evaluation failed, using basic render: {e}\")\n",
    "                    # Fallback to basic rendering\n",
    "                    render_path(torch.Tensor(poses[i_test]).to(device), hwf, K, args.chunk,\n",
    "                               render_kwargs_test, gt_imgs=images[i_test], savedir=testsavedir)\n",
    "            \n",
    "            print('Saved test set with metrics')\n",
    "\n",
    "        if i%args.i_print==0:\n",
    "            tqdm.write(f\"[TRAIN] Iter: {i} Loss: {loss.item()}  PSNR: {psnr.item()}\")\n",
    "            \n",
    "            import json\n",
    "            import time as time_module\n",
    "            \n",
    "            # Save detailed training log\n",
    "            training_data = {\n",
    "                'iteration': i,\n",
    "                'timestamp': time_module.strftime('%Y-%m-%d %H:%M:%S'),\n",
    "                'loss': float(loss.item()),\n",
    "                'psnr': float(psnr.item()),\n",
    "                'learning_rate': optimizer.param_groups[0]['lr']\n",
    "            }\n",
    "            \n",
    "            # Add coarse loss if available\n",
    "            if 'rgb0' in extras:\n",
    "                training_data['loss_coarse'] = float(img_loss0.item())\n",
    "                training_data['psnr_coarse'] = float(psnr0.item())\n",
    "            \n",
    "            # Append to training log file\n",
    "            training_log_file = os.path.join(basedir, expname, 'training_log.jsonl')\n",
    "            with open(training_log_file, 'a') as f:\n",
    "                f.write(json.dumps(training_data) + '\\n')\n",
    "            \n",
    "            # Also save as CSV for easy analysis\n",
    "            csv_log_file = os.path.join(basedir, expname, 'training_log.csv')\n",
    "            import os\n",
    "            if not os.path.exists(csv_log_file):\n",
    "                # Create header\n",
    "                with open(csv_log_file, 'w') as f:\n",
    "                    headers = ['iteration', 'timestamp', 'loss', 'psnr', 'learning_rate']\n",
    "                    if 'rgb0' in extras:\n",
    "                        headers.extend(['loss_coarse', 'psnr_coarse'])\n",
    "                    f.write(','.join(headers) + '\\n')\n",
    "            \n",
    "            # Append data\n",
    "            with open(csv_log_file, 'a') as f:\n",
    "                row_data = [str(training_data[key]) for key in ['iteration', 'timestamp', 'loss', 'psnr', 'learning_rate']]\n",
    "                if 'rgb0' in extras:\n",
    "                    row_data.extend([str(training_data['loss_coarse']), str(training_data['psnr_coarse'])])\n",
    "                f.write(','.join(row_data) + '\\n')\n",
    "\n",
    "        global_step += 1"
   ]
  },
  {
   "cell_type": "markdown",
   "id": "b9ac403e",
   "metadata": {},
   "source": [
    "## Start Training"
   ]
  },
  {
   "cell_type": "code",
   "execution_count": 66,
   "id": "3c482509",
   "metadata": {},
   "outputs": [
    {
     "name": "stdout",
     "output_type": "stream",
     "text": [
      "Loaded blender (138, 800, 800, 4) torch.Size([40, 4, 4]) [800, 800, np.float64(1111.1110311937682)] ./data/nerf_synthetic/ship\n",
      "Found ckpts []\n",
      "Not ndc!\n",
      "Begin\n",
      "TRAIN views are [ 0  1  2  3  4  5  6  7  8  9 10 11 12 13 14 15 16 17 18 19 20 21 22 23\n",
      " 24 25 26 27 28 29 30 31 32 33 34 35 36 37 38 39 40 41 42 43 44 45 46 47\n",
      " 48 49 50 51 52 53 54 55 56 57 58 59 60 61 62 63 64 65 66 67 68 69 70 71\n",
      " 72 73 74 75 76 77 78 79 80 81 82 83 84 85 86 87 88 89 90 91 92 93 94 95\n",
      " 96 97 98 99]\n",
      "TEST views are [113 114 115 116 117 118 119 120 121 122 123 124 125 126 127 128 129 130\n",
      " 131 132 133 134 135 136 137]\n",
      "VAL views are [100 101 102 103 104 105 106 107 108 109 110 111 112]\n"
     ]
    },
    {
     "name": "stderr",
     "output_type": "stream",
     "text": [
      "  0%|          | 0/200000 [00:00<?, ?it/s]"
     ]
    },
    {
     "name": "stdout",
     "output_type": "stream",
     "text": [
      "[Config] Center cropping of size 400 x 400 is enabled until iter 500\n"
     ]
    },
    {
     "name": "stderr",
     "output_type": "stream",
     "text": [
      "d:\\GitHub\\nerf-projects\\nerf\\.venv\\Lib\\site-packages\\torch\\functional.py:554: UserWarning: torch.meshgrid: in an upcoming release, it will be required to pass the indexing argument. (Triggered internally at C:\\actions-runner\\_work\\pytorch\\pytorch\\pytorch\\aten\\src\\ATen\\native\\TensorShape.cpp:4324.)\n",
      "  return _VF.meshgrid(tensors, **kwargs)  # type: ignore[attr-defined]\n",
      "  1%|          | 1001/200000 [01:50<6:24:28,  8.63it/s]"
     ]
    },
    {
     "name": "stdout",
     "output_type": "stream",
     "text": [
      "[TRAIN] Iter: 1000 Loss: 0.024923350661993027  PSNR: 19.32725715637207\n"
     ]
    },
    {
     "name": "stderr",
     "output_type": "stream",
     "text": [
      "  1%|          | 2002/200000 [03:39<5:38:17,  9.75it/s]"
     ]
    },
    {
     "name": "stdout",
     "output_type": "stream",
     "text": [
      "[TRAIN] Iter: 2000 Loss: 0.015081485733389854  PSNR: 21.452693939208984\n"
     ]
    },
    {
     "name": "stderr",
     "output_type": "stream",
     "text": [
      "  2%|▏         | 3000/200000 [05:30<6:17:59,  8.69it/s]"
     ]
    },
    {
     "name": "stdout",
     "output_type": "stream",
     "text": [
      "[TRAIN] Iter: 3000 Loss: 0.013105610385537148  PSNR: 22.574567794799805\n"
     ]
    },
    {
     "name": "stderr",
     "output_type": "stream",
     "text": [
      "  2%|▏         | 4000/200000 [07:22<6:26:15,  8.46it/s]"
     ]
    },
    {
     "name": "stdout",
     "output_type": "stream",
     "text": [
      "[TRAIN] Iter: 4000 Loss: 0.012452570721507072  PSNR: 22.366670608520508\n"
     ]
    },
    {
     "name": "stderr",
     "output_type": "stream",
     "text": [
      "  2%|▎         | 5000/200000 [09:14<6:20:05,  8.55it/s]"
     ]
    },
    {
     "name": "stdout",
     "output_type": "stream",
     "text": [
      "[TRAIN] Iter: 5000 Loss: 0.010863808915019035  PSNR: 22.910015106201172\n"
     ]
    },
    {
     "name": "stderr",
     "output_type": "stream",
     "text": [
      "  3%|▎         | 6002/200000 [11:06<5:53:28,  9.15it/s]"
     ]
    },
    {
     "name": "stdout",
     "output_type": "stream",
     "text": [
      "[TRAIN] Iter: 6000 Loss: 0.011266080662608147  PSNR: 22.75569725036621\n"
     ]
    },
    {
     "name": "stderr",
     "output_type": "stream",
     "text": [
      "  4%|▎         | 7002/200000 [12:58<5:55:06,  9.06it/s]"
     ]
    },
    {
     "name": "stdout",
     "output_type": "stream",
     "text": [
      "[TRAIN] Iter: 7000 Loss: 0.009031369350850582  PSNR: 24.288665771484375\n"
     ]
    },
    {
     "name": "stderr",
     "output_type": "stream",
     "text": [
      "  4%|▍         | 8000/200000 [14:50<6:14:09,  8.55it/s]"
     ]
    },
    {
     "name": "stdout",
     "output_type": "stream",
     "text": [
      "[TRAIN] Iter: 8000 Loss: 0.015422246418893337  PSNR: 21.736270904541016\n"
     ]
    },
    {
     "name": "stderr",
     "output_type": "stream",
     "text": [
      "  5%|▍         | 9001/200000 [16:44<5:57:45,  8.90it/s]"
     ]
    },
    {
     "name": "stdout",
     "output_type": "stream",
     "text": [
      "[TRAIN] Iter: 9000 Loss: 0.008976000361144543  PSNR: 24.306045532226562\n"
     ]
    },
    {
     "name": "stderr",
     "output_type": "stream",
     "text": [
      "  5%|▍         | 9999/200000 [18:37<5:52:50,  8.97it/s]"
     ]
    },
    {
     "name": "stdout",
     "output_type": "stream",
     "text": [
      "Saved checkpoints at ./logs\\ship_blender200k_fullres\\checkpoints\\010000.tar\n",
      "test poses shape torch.Size([25, 4, 4])\n"
     ]
    },
    {
     "name": "stderr",
     "output_type": "stream",
     "text": []
    },
    {
     "name": "stdout",
     "output_type": "stream",
     "text": [
      "0 0.001772165298461914\n",
      "torch.Size([800, 800, 3]) torch.Size([800, 800])\n",
      "Setting up [LPIPS] perceptual loss: trunk [vgg], v[0.1], spatial [off]\n"
     ]
    },
    {
     "name": "stderr",
     "output_type": "stream",
     "text": [
      "d:\\GitHub\\nerf-projects\\nerf\\.venv\\Lib\\site-packages\\torchvision\\models\\_utils.py:208: UserWarning: The parameter 'pretrained' is deprecated since 0.13 and may be removed in the future, please use 'weights' instead.\n",
      "  warnings.warn(\n",
      "d:\\GitHub\\nerf-projects\\nerf\\.venv\\Lib\\site-packages\\torchvision\\models\\_utils.py:223: UserWarning: Arguments other than a weight enum or `None` for 'weights' are deprecated since 0.13 and may be removed in the future. The current behavior is equivalent to passing `weights=VGG16_Weights.IMAGENET1K_V1`. You can also use `weights=VGG16_Weights.DEFAULT` to get the most up-to-date weights.\n",
      "  warnings.warn(msg)\n"
     ]
    },
    {
     "name": "stdout",
     "output_type": "stream",
     "text": [
      "Loading model from: d:\\GitHub\\nerf-projects\\nerf\\.venv\\Lib\\site-packages\\lpips\\weights\\v0.1\\vgg.pth\n",
      "Frame 0 - PSNR: 24.16, SSIM: 0.7121, LPIPS: 0.3765\n"
     ]
    },
    {
     "name": "stderr",
     "output_type": "stream",
     "text": []
    },
    {
     "name": "stdout",
     "output_type": "stream",
     "text": [
      "1 28.125256776809692\n"
     ]
    },
    {
     "name": "stderr",
     "output_type": "stream",
     "text": []
    },
    {
     "name": "stdout",
     "output_type": "stream",
     "text": [
      "Frame 1 - PSNR: 23.42, SSIM: 0.6977, LPIPS: 0.3863\n",
      "2 26.85159420967102\n"
     ]
    },
    {
     "name": "stderr",
     "output_type": "stream",
     "text": []
    },
    {
     "name": "stdout",
     "output_type": "stream",
     "text": [
      "Frame 2 - PSNR: 23.46, SSIM: 0.7034, LPIPS: 0.3736\n",
      "3 25.0795419216156\n"
     ]
    },
    {
     "name": "stderr",
     "output_type": "stream",
     "text": []
    },
    {
     "name": "stdout",
     "output_type": "stream",
     "text": [
      "Frame 3 - PSNR: 24.04, SSIM: 0.7199, LPIPS: 0.3535\n",
      "4 25.043412446975708\n"
     ]
    },
    {
     "name": "stderr",
     "output_type": "stream",
     "text": []
    },
    {
     "name": "stdout",
     "output_type": "stream",
     "text": [
      "Frame 4 - PSNR: 23.89, SSIM: 0.7440, LPIPS: 0.3523\n",
      "5 24.705366849899292\n"
     ]
    },
    {
     "name": "stderr",
     "output_type": "stream",
     "text": []
    },
    {
     "name": "stdout",
     "output_type": "stream",
     "text": [
      "Frame 5 - PSNR: 23.21, SSIM: 0.7628, LPIPS: 0.3539\n",
      "6 24.868217945098877\n"
     ]
    },
    {
     "name": "stderr",
     "output_type": "stream",
     "text": []
    },
    {
     "name": "stdout",
     "output_type": "stream",
     "text": [
      "Frame 6 - PSNR: 22.73, SSIM: 0.7715, LPIPS: 0.3473\n",
      "7 25.1245436668396\n"
     ]
    },
    {
     "name": "stderr",
     "output_type": "stream",
     "text": []
    },
    {
     "name": "stdout",
     "output_type": "stream",
     "text": [
      "Frame 7 - PSNR: 22.81, SSIM: 0.7754, LPIPS: 0.3453\n",
      "8 24.209304332733154\n"
     ]
    },
    {
     "name": "stderr",
     "output_type": "stream",
     "text": []
    },
    {
     "name": "stdout",
     "output_type": "stream",
     "text": [
      "Frame 8 - PSNR: 23.19, SSIM: 0.7835, LPIPS: 0.3379\n",
      "9 24.20315718650818\n"
     ]
    },
    {
     "name": "stderr",
     "output_type": "stream",
     "text": []
    },
    {
     "name": "stdout",
     "output_type": "stream",
     "text": [
      "Frame 9 - PSNR: 23.80, SSIM: 0.8170, LPIPS: 0.2928\n",
      "10 24.18996572494507\n"
     ]
    },
    {
     "name": "stderr",
     "output_type": "stream",
     "text": []
    },
    {
     "name": "stdout",
     "output_type": "stream",
     "text": [
      "Frame 10 - PSNR: 23.94, SSIM: 0.8342, LPIPS: 0.2804\n",
      "11 24.36879801750183\n"
     ]
    },
    {
     "name": "stderr",
     "output_type": "stream",
     "text": []
    },
    {
     "name": "stdout",
     "output_type": "stream",
     "text": [
      "Frame 11 - PSNR: 22.41, SSIM: 0.8147, LPIPS: 0.2976\n",
      "12 24.19430112838745\n"
     ]
    },
    {
     "name": "stderr",
     "output_type": "stream",
     "text": []
    },
    {
     "name": "stdout",
     "output_type": "stream",
     "text": [
      "Frame 12 - PSNR: 21.52, SSIM: 0.8122, LPIPS: 0.2928\n",
      "13 24.185118436813354\n"
     ]
    },
    {
     "name": "stderr",
     "output_type": "stream",
     "text": []
    },
    {
     "name": "stdout",
     "output_type": "stream",
     "text": [
      "Frame 13 - PSNR: 21.35, SSIM: 0.8129, LPIPS: 0.2908\n",
      "14 24.242262601852417\n"
     ]
    },
    {
     "name": "stderr",
     "output_type": "stream",
     "text": []
    },
    {
     "name": "stdout",
     "output_type": "stream",
     "text": [
      "Frame 14 - PSNR: 21.12, SSIM: 0.8176, LPIPS: 0.2766\n",
      "15 24.192363262176514\n"
     ]
    },
    {
     "name": "stderr",
     "output_type": "stream",
     "text": []
    },
    {
     "name": "stdout",
     "output_type": "stream",
     "text": [
      "Frame 15 - PSNR: 22.73, SSIM: 0.8365, LPIPS: 0.2562\n",
      "16 24.179343938827515\n"
     ]
    },
    {
     "name": "stderr",
     "output_type": "stream",
     "text": []
    },
    {
     "name": "stdout",
     "output_type": "stream",
     "text": [
      "Frame 16 - PSNR: 23.57, SSIM: 0.8257, LPIPS: 0.2612\n",
      "17 24.181756258010864\n"
     ]
    },
    {
     "name": "stderr",
     "output_type": "stream",
     "text": []
    },
    {
     "name": "stdout",
     "output_type": "stream",
     "text": [
      "Frame 17 - PSNR: 22.36, SSIM: 0.7933, LPIPS: 0.3065\n",
      "18 24.185346126556396\n"
     ]
    },
    {
     "name": "stderr",
     "output_type": "stream",
     "text": []
    },
    {
     "name": "stdout",
     "output_type": "stream",
     "text": [
      "Frame 18 - PSNR: 22.40, SSIM: 0.7822, LPIPS: 0.3344\n",
      "19 24.185080528259277\n"
     ]
    },
    {
     "name": "stderr",
     "output_type": "stream",
     "text": []
    },
    {
     "name": "stdout",
     "output_type": "stream",
     "text": [
      "Frame 19 - PSNR: 22.70, SSIM: 0.7707, LPIPS: 0.3482\n",
      "20 24.185990571975708\n"
     ]
    },
    {
     "name": "stderr",
     "output_type": "stream",
     "text": []
    },
    {
     "name": "stdout",
     "output_type": "stream",
     "text": [
      "Frame 20 - PSNR: 23.21, SSIM: 0.7684, LPIPS: 0.3606\n",
      "21 24.20906662940979\n"
     ]
    },
    {
     "name": "stderr",
     "output_type": "stream",
     "text": []
    },
    {
     "name": "stdout",
     "output_type": "stream",
     "text": [
      "Frame 21 - PSNR: 23.84, SSIM: 0.7701, LPIPS: 0.3473\n",
      "22 24.2066547870636\n"
     ]
    },
    {
     "name": "stderr",
     "output_type": "stream",
     "text": []
    },
    {
     "name": "stdout",
     "output_type": "stream",
     "text": [
      "Frame 22 - PSNR: 24.65, SSIM: 0.7833, LPIPS: 0.3412\n",
      "23 24.306294918060303\n"
     ]
    },
    {
     "name": "stderr",
     "output_type": "stream",
     "text": []
    },
    {
     "name": "stdout",
     "output_type": "stream",
     "text": [
      "Frame 23 - PSNR: 24.80, SSIM: 0.7604, LPIPS: 0.3696\n",
      "24 24.183658599853516\n"
     ]
    },
    {
     "name": "stderr",
     "output_type": "stream",
     "text": [
      "100%|██████████| 25/25 [10:15<00:00, 24.62s/it]\n",
      "  5%|▌         | 10001/200000 [28:53<6829:42:30, 129.41s/it]"
     ]
    },
    {
     "name": "stdout",
     "output_type": "stream",
     "text": [
      "Frame 24 - PSNR: 24.47, SSIM: 0.7330, LPIPS: 0.3851\n",
      "\n",
      "=== METRICS SUMMARY ===\n",
      "Average PSNR: 23.1912 ± 0.9667\n",
      "Average SSIM: 0.7761 ± 0.0398\n",
      "Average LPIPS: 0.3307 ± 0.0385\n",
      "=======================\n",
      "Metrics logged to: ./logs\\ship_blender200k_fullres\\metrics\\metrics_010000.txt and ./logs\\ship_blender200k_fullres\\metrics\\metrics_010000.json\n",
      "Training history updated: ./logs\\ship_blender200k_fullres\\metrics\\training_metrics.json\n",
      "Saved test set with metrics\n",
      "[TRAIN] Iter: 10000 Loss: 0.013494143262505531  PSNR: 22.327770233154297\n"
     ]
    },
    {
     "name": "stderr",
     "output_type": "stream",
     "text": [
      "  6%|▌         | 11000/200000 [30:40<5:53:41,  8.91it/s]    "
     ]
    },
    {
     "name": "stdout",
     "output_type": "stream",
     "text": [
      "[TRAIN] Iter: 11000 Loss: 0.009408187121152878  PSNR: 24.253080368041992\n"
     ]
    },
    {
     "name": "stderr",
     "output_type": "stream",
     "text": [
      "  6%|▌         | 12002/200000 [32:28<5:36:19,  9.32it/s]"
     ]
    },
    {
     "name": "stdout",
     "output_type": "stream",
     "text": [
      "[TRAIN] Iter: 12000 Loss: 0.008452998474240303  PSNR: 24.69114112854004\n"
     ]
    },
    {
     "name": "stderr",
     "output_type": "stream",
     "text": [
      "  7%|▋         | 13002/200000 [34:14<5:26:36,  9.54it/s]"
     ]
    },
    {
     "name": "stdout",
     "output_type": "stream",
     "text": [
      "[TRAIN] Iter: 13000 Loss: 0.011511605232954025  PSNR: 23.137969970703125\n"
     ]
    },
    {
     "name": "stderr",
     "output_type": "stream",
     "text": [
      "  7%|▋         | 14002/200000 [35:59<5:24:12,  9.56it/s]"
     ]
    },
    {
     "name": "stdout",
     "output_type": "stream",
     "text": [
      "[TRAIN] Iter: 14000 Loss: 0.010453215800225735  PSNR: 24.01224708557129\n"
     ]
    },
    {
     "name": "stderr",
     "output_type": "stream",
     "text": [
      "  8%|▊         | 15002/200000 [37:44<5:23:31,  9.53it/s]"
     ]
    },
    {
     "name": "stdout",
     "output_type": "stream",
     "text": [
      "[TRAIN] Iter: 15000 Loss: 0.01000356487929821  PSNR: 23.946475982666016\n"
     ]
    },
    {
     "name": "stderr",
     "output_type": "stream",
     "text": [
      "  8%|▊         | 16002/200000 [39:29<5:22:23,  9.51it/s]"
     ]
    },
    {
     "name": "stdout",
     "output_type": "stream",
     "text": [
      "[TRAIN] Iter: 16000 Loss: 0.0070699225179851055  PSNR: 25.943992614746094\n"
     ]
    },
    {
     "name": "stderr",
     "output_type": "stream",
     "text": [
      "  9%|▊         | 17002/200000 [41:14<5:19:14,  9.55it/s]"
     ]
    },
    {
     "name": "stdout",
     "output_type": "stream",
     "text": [
      "[TRAIN] Iter: 17000 Loss: 0.0070666661486029625  PSNR: 25.188194274902344\n"
     ]
    },
    {
     "name": "stderr",
     "output_type": "stream",
     "text": [
      "  9%|▉         | 18002/200000 [42:59<5:17:02,  9.57it/s]"
     ]
    },
    {
     "name": "stdout",
     "output_type": "stream",
     "text": [
      "[TRAIN] Iter: 18000 Loss: 0.01156066358089447  PSNR: 23.237041473388672\n"
     ]
    },
    {
     "name": "stderr",
     "output_type": "stream",
     "text": [
      " 10%|▉         | 19002/200000 [44:44<5:14:48,  9.58it/s]"
     ]
    },
    {
     "name": "stdout",
     "output_type": "stream",
     "text": [
      "[TRAIN] Iter: 19000 Loss: 0.006701464299112558  PSNR: 25.988162994384766\n"
     ]
    },
    {
     "name": "stderr",
     "output_type": "stream",
     "text": [
      " 10%|▉         | 19999/200000 [46:29<5:15:04,  9.52it/s]"
     ]
    },
    {
     "name": "stdout",
     "output_type": "stream",
     "text": [
      "Saved checkpoints at ./logs\\ship_blender200k_fullres\\checkpoints\\020000.tar\n",
      "test poses shape torch.Size([25, 4, 4])\n"
     ]
    },
    {
     "name": "stderr",
     "output_type": "stream",
     "text": []
    },
    {
     "name": "stdout",
     "output_type": "stream",
     "text": [
      "0 0.0018231868743896484\n"
     ]
    },
    {
     "name": "stderr",
     "output_type": "stream",
     "text": []
    },
    {
     "name": "stdout",
     "output_type": "stream",
     "text": [
      "torch.Size([800, 800, 3]) torch.Size([800, 800])\n",
      "Frame 0 - PSNR: 25.08, SSIM: 0.7291, LPIPS: 0.3443\n",
      "1 23.543900966644287\n"
     ]
    },
    {
     "name": "stderr",
     "output_type": "stream",
     "text": []
    },
    {
     "name": "stdout",
     "output_type": "stream",
     "text": [
      "Frame 1 - PSNR: 24.39, SSIM: 0.7205, LPIPS: 0.3369\n",
      "2 23.522271394729614\n"
     ]
    },
    {
     "name": "stderr",
     "output_type": "stream",
     "text": []
    },
    {
     "name": "stdout",
     "output_type": "stream",
     "text": [
      "Frame 2 - PSNR: 24.46, SSIM: 0.7243, LPIPS: 0.3298\n",
      "3 23.534806728363037\n"
     ]
    },
    {
     "name": "stderr",
     "output_type": "stream",
     "text": []
    },
    {
     "name": "stdout",
     "output_type": "stream",
     "text": [
      "Frame 3 - PSNR: 25.04, SSIM: 0.7393, LPIPS: 0.3266\n",
      "4 23.524520874023438\n"
     ]
    },
    {
     "name": "stderr",
     "output_type": "stream",
     "text": []
    },
    {
     "name": "stdout",
     "output_type": "stream",
     "text": [
      "Frame 4 - PSNR: 25.12, SSIM: 0.7688, LPIPS: 0.3091\n",
      "5 23.52752709388733\n"
     ]
    },
    {
     "name": "stderr",
     "output_type": "stream",
     "text": []
    },
    {
     "name": "stdout",
     "output_type": "stream",
     "text": [
      "Frame 5 - PSNR: 24.50, SSIM: 0.7875, LPIPS: 0.3051\n",
      "6 23.522706508636475\n"
     ]
    },
    {
     "name": "stderr",
     "output_type": "stream",
     "text": []
    },
    {
     "name": "stdout",
     "output_type": "stream",
     "text": [
      "Frame 6 - PSNR: 23.64, SSIM: 0.7902, LPIPS: 0.3053\n",
      "7 23.52696418762207\n"
     ]
    },
    {
     "name": "stderr",
     "output_type": "stream",
     "text": []
    },
    {
     "name": "stdout",
     "output_type": "stream",
     "text": [
      "Frame 7 - PSNR: 23.85, SSIM: 0.7957, LPIPS: 0.3038\n",
      "8 23.522551774978638\n"
     ]
    },
    {
     "name": "stderr",
     "output_type": "stream",
     "text": []
    },
    {
     "name": "stdout",
     "output_type": "stream",
     "text": [
      "Frame 8 - PSNR: 24.29, SSIM: 0.8050, LPIPS: 0.2894\n",
      "9 23.53067421913147\n"
     ]
    },
    {
     "name": "stderr",
     "output_type": "stream",
     "text": []
    },
    {
     "name": "stdout",
     "output_type": "stream",
     "text": [
      "Frame 9 - PSNR: 25.08, SSIM: 0.8353, LPIPS: 0.2578\n",
      "10 23.507861852645874\n"
     ]
    },
    {
     "name": "stderr",
     "output_type": "stream",
     "text": []
    },
    {
     "name": "stdout",
     "output_type": "stream",
     "text": [
      "Frame 10 - PSNR: 25.35, SSIM: 0.8533, LPIPS: 0.2423\n",
      "11 23.521148443222046\n"
     ]
    },
    {
     "name": "stderr",
     "output_type": "stream",
     "text": []
    },
    {
     "name": "stdout",
     "output_type": "stream",
     "text": [
      "Frame 11 - PSNR: 23.70, SSIM: 0.8326, LPIPS: 0.2513\n",
      "12 23.525663375854492\n"
     ]
    },
    {
     "name": "stderr",
     "output_type": "stream",
     "text": []
    },
    {
     "name": "stdout",
     "output_type": "stream",
     "text": [
      "Frame 12 - PSNR: 23.01, SSIM: 0.8286, LPIPS: 0.2544\n",
      "13 23.51785659790039\n"
     ]
    },
    {
     "name": "stderr",
     "output_type": "stream",
     "text": []
    },
    {
     "name": "stdout",
     "output_type": "stream",
     "text": [
      "Frame 13 - PSNR: 22.90, SSIM: 0.8318, LPIPS: 0.2517\n",
      "14 23.52276301383972\n"
     ]
    },
    {
     "name": "stderr",
     "output_type": "stream",
     "text": []
    },
    {
     "name": "stdout",
     "output_type": "stream",
     "text": [
      "Frame 14 - PSNR: 23.03, SSIM: 0.8446, LPIPS: 0.2344\n",
      "15 23.521562099456787\n"
     ]
    },
    {
     "name": "stderr",
     "output_type": "stream",
     "text": []
    },
    {
     "name": "stdout",
     "output_type": "stream",
     "text": [
      "Frame 15 - PSNR: 24.28, SSIM: 0.8594, LPIPS: 0.2204\n",
      "16 23.519888639450073\n"
     ]
    },
    {
     "name": "stderr",
     "output_type": "stream",
     "text": []
    },
    {
     "name": "stdout",
     "output_type": "stream",
     "text": [
      "Frame 16 - PSNR: 25.05, SSIM: 0.8501, LPIPS: 0.2271\n",
      "17 23.518850326538086\n"
     ]
    },
    {
     "name": "stderr",
     "output_type": "stream",
     "text": []
    },
    {
     "name": "stdout",
     "output_type": "stream",
     "text": [
      "Frame 17 - PSNR: 23.97, SSIM: 0.8216, LPIPS: 0.2604\n",
      "18 23.52725648880005\n"
     ]
    },
    {
     "name": "stderr",
     "output_type": "stream",
     "text": []
    },
    {
     "name": "stdout",
     "output_type": "stream",
     "text": [
      "Frame 18 - PSNR: 23.45, SSIM: 0.8033, LPIPS: 0.2887\n",
      "19 23.52700662612915\n"
     ]
    },
    {
     "name": "stderr",
     "output_type": "stream",
     "text": []
    },
    {
     "name": "stdout",
     "output_type": "stream",
     "text": [
      "Frame 19 - PSNR: 23.76, SSIM: 0.7906, LPIPS: 0.3077\n",
      "20 23.530489683151245\n"
     ]
    },
    {
     "name": "stderr",
     "output_type": "stream",
     "text": []
    },
    {
     "name": "stdout",
     "output_type": "stream",
     "text": [
      "Frame 20 - PSNR: 24.23, SSIM: 0.7891, LPIPS: 0.3176\n",
      "21 23.51924705505371\n"
     ]
    },
    {
     "name": "stderr",
     "output_type": "stream",
     "text": []
    },
    {
     "name": "stdout",
     "output_type": "stream",
     "text": [
      "Frame 21 - PSNR: 24.81, SSIM: 0.7874, LPIPS: 0.3177\n",
      "22 23.536604642868042\n"
     ]
    },
    {
     "name": "stderr",
     "output_type": "stream",
     "text": []
    },
    {
     "name": "stdout",
     "output_type": "stream",
     "text": [
      "Frame 22 - PSNR: 25.72, SSIM: 0.7988, LPIPS: 0.3177\n",
      "23 23.521012544631958\n"
     ]
    },
    {
     "name": "stderr",
     "output_type": "stream",
     "text": []
    },
    {
     "name": "stdout",
     "output_type": "stream",
     "text": [
      "Frame 23 - PSNR: 25.74, SSIM: 0.7760, LPIPS: 0.3310\n",
      "24 23.527979373931885\n"
     ]
    },
    {
     "name": "stderr",
     "output_type": "stream",
     "text": [
      "100%|██████████| 25/25 [09:48<00:00, 23.52s/it]\n",
      " 10%|█         | 20000/200000 [56:18<8828:41:00, 176.57s/it]"
     ]
    },
    {
     "name": "stdout",
     "output_type": "stream",
     "text": [
      "Frame 24 - PSNR: 25.60, SSIM: 0.7511, LPIPS: 0.3364\n",
      "\n",
      "=== METRICS SUMMARY ===\n",
      "Average PSNR: 24.4011 ± 0.8331\n",
      "Average SSIM: 0.7966 ± 0.0403\n",
      "Average LPIPS: 0.2907 ± 0.0379\n",
      "=======================\n",
      "Metrics logged to: ./logs\\ship_blender200k_fullres\\metrics\\metrics_020000.txt and ./logs\\ship_blender200k_fullres\\metrics\\metrics_020000.json\n",
      "Training history updated: ./logs\\ship_blender200k_fullres\\metrics\\training_metrics.json\n",
      "Saved test set with metrics\n",
      "[TRAIN] Iter: 20000 Loss: 0.008598078042268753  PSNR: 24.587778091430664\n"
     ]
    },
    {
     "name": "stderr",
     "output_type": "stream",
     "text": [
      " 11%|█         | 21002/200000 [58:03<5:18:33,  9.36it/s]    "
     ]
    },
    {
     "name": "stdout",
     "output_type": "stream",
     "text": [
      "[TRAIN] Iter: 21000 Loss: 0.00927634909749031  PSNR: 23.752553939819336\n"
     ]
    },
    {
     "name": "stderr",
     "output_type": "stream",
     "text": [
      " 11%|█         | 22002/200000 [59:48<5:08:05,  9.63it/s]"
     ]
    },
    {
     "name": "stdout",
     "output_type": "stream",
     "text": [
      "[TRAIN] Iter: 22000 Loss: 0.008882720023393631  PSNR: 23.879552841186523\n"
     ]
    },
    {
     "name": "stderr",
     "output_type": "stream",
     "text": [
      " 12%|█▏        | 23002/200000 [1:01:33<5:07:47,  9.58it/s]"
     ]
    },
    {
     "name": "stdout",
     "output_type": "stream",
     "text": [
      "[TRAIN] Iter: 23000 Loss: 0.008455006405711174  PSNR: 25.352224349975586\n"
     ]
    },
    {
     "name": "stderr",
     "output_type": "stream",
     "text": [
      " 12%|█▏        | 24002/200000 [1:03:18<5:07:13,  9.55it/s]"
     ]
    },
    {
     "name": "stdout",
     "output_type": "stream",
     "text": [
      "[TRAIN] Iter: 24000 Loss: 0.007289278320968151  PSNR: 25.752099990844727\n"
     ]
    },
    {
     "name": "stderr",
     "output_type": "stream",
     "text": [
      " 13%|█▎        | 25002/200000 [1:05:03<5:07:18,  9.49it/s]"
     ]
    },
    {
     "name": "stdout",
     "output_type": "stream",
     "text": [
      "[TRAIN] Iter: 25000 Loss: 0.008706849068403244  PSNR: 24.311513900756836\n"
     ]
    },
    {
     "name": "stderr",
     "output_type": "stream",
     "text": [
      " 13%|█▎        | 26000/200000 [1:06:48<5:18:14,  9.11it/s]"
     ]
    },
    {
     "name": "stdout",
     "output_type": "stream",
     "text": [
      "[TRAIN] Iter: 26000 Loss: 0.007130092941224575  PSNR: 25.320932388305664\n"
     ]
    },
    {
     "name": "stderr",
     "output_type": "stream",
     "text": [
      " 14%|█▎        | 27002/200000 [1:08:33<5:00:26,  9.60it/s]"
     ]
    },
    {
     "name": "stdout",
     "output_type": "stream",
     "text": [
      "[TRAIN] Iter: 27000 Loss: 0.007510114461183548  PSNR: 24.965917587280273\n"
     ]
    },
    {
     "name": "stderr",
     "output_type": "stream",
     "text": [
      " 14%|█▍        | 28002/200000 [1:10:18<5:01:48,  9.50it/s]"
     ]
    },
    {
     "name": "stdout",
     "output_type": "stream",
     "text": [
      "[TRAIN] Iter: 28000 Loss: 0.006578848697245121  PSNR: 25.654380798339844\n"
     ]
    },
    {
     "name": "stderr",
     "output_type": "stream",
     "text": [
      " 15%|█▍        | 29002/200000 [1:12:04<4:58:22,  9.55it/s]"
     ]
    },
    {
     "name": "stdout",
     "output_type": "stream",
     "text": [
      "[TRAIN] Iter: 29000 Loss: 0.008075786754488945  PSNR: 24.428972244262695\n"
     ]
    },
    {
     "name": "stderr",
     "output_type": "stream",
     "text": [
      " 15%|█▍        | 29999/200000 [1:13:49<4:57:07,  9.54it/s]"
     ]
    },
    {
     "name": "stdout",
     "output_type": "stream",
     "text": [
      "Saved checkpoints at ./logs\\ship_blender200k_fullres\\checkpoints\\030000.tar\n",
      "test poses shape torch.Size([25, 4, 4])\n"
     ]
    },
    {
     "name": "stderr",
     "output_type": "stream",
     "text": []
    },
    {
     "name": "stdout",
     "output_type": "stream",
     "text": [
      "0 0.001809835433959961\n"
     ]
    },
    {
     "name": "stderr",
     "output_type": "stream",
     "text": []
    },
    {
     "name": "stdout",
     "output_type": "stream",
     "text": [
      "torch.Size([800, 800, 3]) torch.Size([800, 800])\n",
      "Frame 0 - PSNR: 25.63, SSIM: 0.7381, LPIPS: 0.3293\n",
      "1 23.553296089172363\n"
     ]
    },
    {
     "name": "stderr",
     "output_type": "stream",
     "text": []
    },
    {
     "name": "stdout",
     "output_type": "stream",
     "text": [
      "Frame 1 - PSNR: 24.91, SSIM: 0.7294, LPIPS: 0.3257\n",
      "2 23.513214826583862\n"
     ]
    },
    {
     "name": "stderr",
     "output_type": "stream",
     "text": []
    },
    {
     "name": "stdout",
     "output_type": "stream",
     "text": [
      "Frame 2 - PSNR: 24.98, SSIM: 0.7338, LPIPS: 0.3175\n",
      "3 23.533178329467773\n"
     ]
    },
    {
     "name": "stderr",
     "output_type": "stream",
     "text": []
    },
    {
     "name": "stdout",
     "output_type": "stream",
     "text": [
      "Frame 3 - PSNR: 25.50, SSIM: 0.7465, LPIPS: 0.3142\n",
      "4 23.521355152130127\n"
     ]
    },
    {
     "name": "stderr",
     "output_type": "stream",
     "text": []
    },
    {
     "name": "stdout",
     "output_type": "stream",
     "text": [
      "Frame 4 - PSNR: 25.86, SSIM: 0.7789, LPIPS: 0.2984\n",
      "5 23.531835317611694\n"
     ]
    },
    {
     "name": "stderr",
     "output_type": "stream",
     "text": []
    },
    {
     "name": "stdout",
     "output_type": "stream",
     "text": [
      "Frame 5 - PSNR: 25.33, SSIM: 0.7979, LPIPS: 0.2957\n",
      "6 23.51925301551819\n"
     ]
    },
    {
     "name": "stderr",
     "output_type": "stream",
     "text": []
    },
    {
     "name": "stdout",
     "output_type": "stream",
     "text": [
      "Frame 6 - PSNR: 24.46, SSIM: 0.8008, LPIPS: 0.2942\n",
      "7 23.521873712539673\n"
     ]
    },
    {
     "name": "stderr",
     "output_type": "stream",
     "text": []
    },
    {
     "name": "stdout",
     "output_type": "stream",
     "text": [
      "Frame 7 - PSNR: 24.60, SSIM: 0.8049, LPIPS: 0.2875\n",
      "8 23.522417545318604\n"
     ]
    },
    {
     "name": "stderr",
     "output_type": "stream",
     "text": []
    },
    {
     "name": "stdout",
     "output_type": "stream",
     "text": [
      "Frame 8 - PSNR: 25.02, SSIM: 0.8134, LPIPS: 0.2747\n",
      "9 23.529476642608643\n"
     ]
    },
    {
     "name": "stderr",
     "output_type": "stream",
     "text": []
    },
    {
     "name": "stdout",
     "output_type": "stream",
     "text": [
      "Frame 9 - PSNR: 25.69, SSIM: 0.8406, LPIPS: 0.2445\n",
      "10 23.5119149684906\n"
     ]
    },
    {
     "name": "stderr",
     "output_type": "stream",
     "text": []
    },
    {
     "name": "stdout",
     "output_type": "stream",
     "text": [
      "Frame 10 - PSNR: 25.88, SSIM: 0.8585, LPIPS: 0.2326\n",
      "11 23.52466320991516\n"
     ]
    },
    {
     "name": "stderr",
     "output_type": "stream",
     "text": []
    },
    {
     "name": "stdout",
     "output_type": "stream",
     "text": [
      "Frame 11 - PSNR: 24.58, SSIM: 0.8407, LPIPS: 0.2402\n",
      "12 23.510822772979736\n"
     ]
    },
    {
     "name": "stderr",
     "output_type": "stream",
     "text": []
    },
    {
     "name": "stdout",
     "output_type": "stream",
     "text": [
      "Frame 12 - PSNR: 23.92, SSIM: 0.8360, LPIPS: 0.2453\n",
      "13 23.523709058761597\n"
     ]
    },
    {
     "name": "stderr",
     "output_type": "stream",
     "text": []
    },
    {
     "name": "stdout",
     "output_type": "stream",
     "text": [
      "Frame 13 - PSNR: 23.61, SSIM: 0.8408, LPIPS: 0.2421\n",
      "14 23.513282537460327\n"
     ]
    },
    {
     "name": "stderr",
     "output_type": "stream",
     "text": []
    },
    {
     "name": "stdout",
     "output_type": "stream",
     "text": [
      "Frame 14 - PSNR: 23.80, SSIM: 0.8537, LPIPS: 0.2291\n",
      "15 23.520024061203003\n"
     ]
    },
    {
     "name": "stderr",
     "output_type": "stream",
     "text": []
    },
    {
     "name": "stdout",
     "output_type": "stream",
     "text": [
      "Frame 15 - PSNR: 25.11, SSIM: 0.8677, LPIPS: 0.2098\n",
      "16 23.514147996902466\n"
     ]
    },
    {
     "name": "stderr",
     "output_type": "stream",
     "text": []
    },
    {
     "name": "stdout",
     "output_type": "stream",
     "text": [
      "Frame 16 - PSNR: 25.54, SSIM: 0.8557, LPIPS: 0.2163\n",
      "17 23.515241146087646\n"
     ]
    },
    {
     "name": "stderr",
     "output_type": "stream",
     "text": []
    },
    {
     "name": "stdout",
     "output_type": "stream",
     "text": [
      "Frame 17 - PSNR: 24.64, SSIM: 0.8285, LPIPS: 0.2499\n",
      "18 23.50925850868225\n"
     ]
    },
    {
     "name": "stderr",
     "output_type": "stream",
     "text": []
    },
    {
     "name": "stdout",
     "output_type": "stream",
     "text": [
      "Frame 18 - PSNR: 24.20, SSIM: 0.8124, LPIPS: 0.2757\n",
      "19 23.520758390426636\n"
     ]
    },
    {
     "name": "stderr",
     "output_type": "stream",
     "text": []
    },
    {
     "name": "stdout",
     "output_type": "stream",
     "text": [
      "Frame 19 - PSNR: 24.55, SSIM: 0.8008, LPIPS: 0.2915\n",
      "20 23.51896023750305\n"
     ]
    },
    {
     "name": "stderr",
     "output_type": "stream",
     "text": []
    },
    {
     "name": "stdout",
     "output_type": "stream",
     "text": [
      "Frame 20 - PSNR: 24.88, SSIM: 0.7978, LPIPS: 0.3006\n",
      "21 23.533592224121094\n"
     ]
    },
    {
     "name": "stderr",
     "output_type": "stream",
     "text": []
    },
    {
     "name": "stdout",
     "output_type": "stream",
     "text": [
      "Frame 21 - PSNR: 25.41, SSIM: 0.7958, LPIPS: 0.3046\n",
      "22 23.523520708084106\n"
     ]
    },
    {
     "name": "stderr",
     "output_type": "stream",
     "text": []
    },
    {
     "name": "stdout",
     "output_type": "stream",
     "text": [
      "Frame 22 - PSNR: 26.26, SSIM: 0.8049, LPIPS: 0.3065\n",
      "23 23.530808925628662\n"
     ]
    },
    {
     "name": "stderr",
     "output_type": "stream",
     "text": []
    },
    {
     "name": "stdout",
     "output_type": "stream",
     "text": [
      "Frame 23 - PSNR: 26.23, SSIM: 0.7836, LPIPS: 0.3184\n",
      "24 23.521032333374023\n"
     ]
    },
    {
     "name": "stderr",
     "output_type": "stream",
     "text": [
      "100%|██████████| 25/25 [09:48<00:00, 23.52s/it]\n",
      " 15%|█▌        | 30000/200000 [1:23:37<8337:14:11, 176.55s/it]"
     ]
    },
    {
     "name": "stdout",
     "output_type": "stream",
     "text": [
      "Frame 24 - PSNR: 26.09, SSIM: 0.7581, LPIPS: 0.3253\n",
      "\n",
      "=== METRICS SUMMARY ===\n",
      "Average PSNR: 25.0672 ± 0.7372\n",
      "Average SSIM: 0.8048 ± 0.0397\n",
      "Average LPIPS: 0.2788 ± 0.0366\n",
      "=======================\n",
      "Metrics logged to: ./logs\\ship_blender200k_fullres\\metrics\\metrics_030000.txt and ./logs\\ship_blender200k_fullres\\metrics\\metrics_030000.json\n",
      "Training history updated: ./logs\\ship_blender200k_fullres\\metrics\\training_metrics.json\n",
      "Saved test set with metrics\n",
      "[TRAIN] Iter: 30000 Loss: 0.009370747953653336  PSNR: 24.966712951660156\n"
     ]
    },
    {
     "name": "stderr",
     "output_type": "stream",
     "text": [
      " 16%|█▌        | 31002/200000 [1:25:23<4:56:57,  9.48it/s]    "
     ]
    },
    {
     "name": "stdout",
     "output_type": "stream",
     "text": [
      "[TRAIN] Iter: 31000 Loss: 0.0080186128616333  PSNR: 24.72527503967285\n"
     ]
    },
    {
     "name": "stderr",
     "output_type": "stream",
     "text": [
      " 16%|█▌        | 32002/200000 [1:27:08<4:57:32,  9.41it/s]"
     ]
    },
    {
     "name": "stdout",
     "output_type": "stream",
     "text": [
      "[TRAIN] Iter: 32000 Loss: 0.007827024906873703  PSNR: 25.300067901611328\n"
     ]
    },
    {
     "name": "stderr",
     "output_type": "stream",
     "text": [
      " 17%|█▋        | 33002/200000 [1:28:54<4:52:37,  9.51it/s]"
     ]
    },
    {
     "name": "stdout",
     "output_type": "stream",
     "text": [
      "[TRAIN] Iter: 33000 Loss: 0.005741855129599571  PSNR: 26.573596954345703\n"
     ]
    },
    {
     "name": "stderr",
     "output_type": "stream",
     "text": [
      " 17%|█▋        | 34002/200000 [1:30:40<4:50:39,  9.52it/s]"
     ]
    },
    {
     "name": "stdout",
     "output_type": "stream",
     "text": [
      "[TRAIN] Iter: 34000 Loss: 0.00582954240962863  PSNR: 26.69541358947754\n"
     ]
    },
    {
     "name": "stderr",
     "output_type": "stream",
     "text": [
      " 18%|█▊        | 35002/200000 [1:32:25<4:47:47,  9.56it/s]"
     ]
    },
    {
     "name": "stdout",
     "output_type": "stream",
     "text": [
      "[TRAIN] Iter: 35000 Loss: 0.008066273294389248  PSNR: 25.857223510742188\n"
     ]
    },
    {
     "name": "stderr",
     "output_type": "stream",
     "text": [
      " 18%|█▊        | 36002/200000 [1:34:11<4:44:34,  9.61it/s]"
     ]
    },
    {
     "name": "stdout",
     "output_type": "stream",
     "text": [
      "[TRAIN] Iter: 36000 Loss: 0.0068845669738948345  PSNR: 26.14374351501465\n"
     ]
    },
    {
     "name": "stderr",
     "output_type": "stream",
     "text": [
      " 19%|█▊        | 37002/200000 [1:35:57<4:45:10,  9.53it/s]"
     ]
    },
    {
     "name": "stdout",
     "output_type": "stream",
     "text": [
      "[TRAIN] Iter: 37000 Loss: 0.007575833238661289  PSNR: 25.196168899536133\n"
     ]
    },
    {
     "name": "stderr",
     "output_type": "stream",
     "text": [
      " 19%|█▉        | 38002/200000 [1:37:42<4:40:49,  9.61it/s]"
     ]
    },
    {
     "name": "stdout",
     "output_type": "stream",
     "text": [
      "[TRAIN] Iter: 38000 Loss: 0.004680609330534935  PSNR: 28.22629165649414\n"
     ]
    },
    {
     "name": "stderr",
     "output_type": "stream",
     "text": [
      " 20%|█▉        | 39002/200000 [1:39:28<4:39:17,  9.61it/s]"
     ]
    },
    {
     "name": "stdout",
     "output_type": "stream",
     "text": [
      "[TRAIN] Iter: 39000 Loss: 0.007198074832558632  PSNR: 25.717117309570312\n"
     ]
    },
    {
     "name": "stderr",
     "output_type": "stream",
     "text": [
      " 20%|█▉        | 39999/200000 [1:41:13<4:40:38,  9.50it/s]"
     ]
    },
    {
     "name": "stdout",
     "output_type": "stream",
     "text": [
      "Saved checkpoints at ./logs\\ship_blender200k_fullres\\checkpoints\\040000.tar\n",
      "test poses shape torch.Size([25, 4, 4])\n"
     ]
    },
    {
     "name": "stderr",
     "output_type": "stream",
     "text": []
    },
    {
     "name": "stdout",
     "output_type": "stream",
     "text": [
      "0 0.0019500255584716797\n"
     ]
    },
    {
     "name": "stderr",
     "output_type": "stream",
     "text": []
    },
    {
     "name": "stdout",
     "output_type": "stream",
     "text": [
      "torch.Size([800, 800, 3]) torch.Size([800, 800])\n",
      "Frame 0 - PSNR: 26.03, SSIM: 0.7443, LPIPS: 0.3186\n",
      "1 23.556403875350952\n"
     ]
    },
    {
     "name": "stderr",
     "output_type": "stream",
     "text": []
    },
    {
     "name": "stdout",
     "output_type": "stream",
     "text": [
      "Frame 1 - PSNR: 25.24, SSIM: 0.7363, LPIPS: 0.3076\n",
      "2 23.52480912208557\n"
     ]
    },
    {
     "name": "stderr",
     "output_type": "stream",
     "text": []
    },
    {
     "name": "stdout",
     "output_type": "stream",
     "text": [
      "Frame 2 - PSNR: 25.34, SSIM: 0.7417, LPIPS: 0.3043\n",
      "3 23.53927707672119\n"
     ]
    },
    {
     "name": "stderr",
     "output_type": "stream",
     "text": []
    },
    {
     "name": "stdout",
     "output_type": "stream",
     "text": [
      "Frame 3 - PSNR: 25.69, SSIM: 0.7512, LPIPS: 0.3057\n",
      "4 23.532670259475708\n"
     ]
    },
    {
     "name": "stderr",
     "output_type": "stream",
     "text": []
    },
    {
     "name": "stdout",
     "output_type": "stream",
     "text": [
      "Frame 4 - PSNR: 26.00, SSIM: 0.7821, LPIPS: 0.2862\n",
      "5 23.532522678375244\n"
     ]
    },
    {
     "name": "stderr",
     "output_type": "stream",
     "text": []
    },
    {
     "name": "stdout",
     "output_type": "stream",
     "text": [
      "Frame 5 - PSNR: 25.62, SSIM: 0.8030, LPIPS: 0.2764\n",
      "6 23.522266626358032\n"
     ]
    },
    {
     "name": "stderr",
     "output_type": "stream",
     "text": []
    },
    {
     "name": "stdout",
     "output_type": "stream",
     "text": [
      "Frame 6 - PSNR: 24.90, SSIM: 0.8074, LPIPS: 0.2826\n",
      "7 23.531155347824097\n"
     ]
    },
    {
     "name": "stderr",
     "output_type": "stream",
     "text": []
    },
    {
     "name": "stdout",
     "output_type": "stream",
     "text": [
      "Frame 7 - PSNR: 24.92, SSIM: 0.8117, LPIPS: 0.2780\n",
      "8 23.516690015792847\n"
     ]
    },
    {
     "name": "stderr",
     "output_type": "stream",
     "text": []
    },
    {
     "name": "stdout",
     "output_type": "stream",
     "text": [
      "Frame 8 - PSNR: 25.35, SSIM: 0.8203, LPIPS: 0.2697\n",
      "9 23.532841205596924\n"
     ]
    },
    {
     "name": "stderr",
     "output_type": "stream",
     "text": []
    },
    {
     "name": "stdout",
     "output_type": "stream",
     "text": [
      "Frame 9 - PSNR: 25.97, SSIM: 0.8462, LPIPS: 0.2412\n",
      "10 23.518998622894287\n"
     ]
    },
    {
     "name": "stderr",
     "output_type": "stream",
     "text": []
    },
    {
     "name": "stdout",
     "output_type": "stream",
     "text": [
      "Frame 10 - PSNR: 26.33, SSIM: 0.8665, LPIPS: 0.2275\n",
      "11 23.514122009277344\n"
     ]
    },
    {
     "name": "stderr",
     "output_type": "stream",
     "text": []
    },
    {
     "name": "stdout",
     "output_type": "stream",
     "text": [
      "Frame 11 - PSNR: 24.94, SSIM: 0.8463, LPIPS: 0.2390\n",
      "12 23.512993574142456\n"
     ]
    },
    {
     "name": "stderr",
     "output_type": "stream",
     "text": []
    },
    {
     "name": "stdout",
     "output_type": "stream",
     "text": [
      "Frame 12 - PSNR: 24.32, SSIM: 0.8416, LPIPS: 0.2441\n",
      "13 23.524912118911743\n"
     ]
    },
    {
     "name": "stderr",
     "output_type": "stream",
     "text": []
    },
    {
     "name": "stdout",
     "output_type": "stream",
     "text": [
      "Frame 13 - PSNR: 24.24, SSIM: 0.8472, LPIPS: 0.2383\n",
      "14 23.51669406890869\n"
     ]
    },
    {
     "name": "stderr",
     "output_type": "stream",
     "text": []
    },
    {
     "name": "stdout",
     "output_type": "stream",
     "text": [
      "Frame 14 - PSNR: 24.22, SSIM: 0.8611, LPIPS: 0.2177\n",
      "15 23.5192928314209\n"
     ]
    },
    {
     "name": "stderr",
     "output_type": "stream",
     "text": []
    },
    {
     "name": "stdout",
     "output_type": "stream",
     "text": [
      "Frame 15 - PSNR: 25.57, SSIM: 0.8751, LPIPS: 0.2004\n",
      "16 23.51440143585205\n"
     ]
    },
    {
     "name": "stderr",
     "output_type": "stream",
     "text": []
    },
    {
     "name": "stdout",
     "output_type": "stream",
     "text": [
      "Frame 16 - PSNR: 26.06, SSIM: 0.8630, LPIPS: 0.2084\n",
      "17 23.522105932235718\n"
     ]
    },
    {
     "name": "stderr",
     "output_type": "stream",
     "text": []
    },
    {
     "name": "stdout",
     "output_type": "stream",
     "text": [
      "Frame 17 - PSNR: 25.12, SSIM: 0.8371, LPIPS: 0.2354\n",
      "18 23.516252517700195\n"
     ]
    },
    {
     "name": "stderr",
     "output_type": "stream",
     "text": []
    },
    {
     "name": "stdout",
     "output_type": "stream",
     "text": [
      "Frame 18 - PSNR: 24.57, SSIM: 0.8190, LPIPS: 0.2655\n",
      "19 23.523223400115967\n"
     ]
    },
    {
     "name": "stderr",
     "output_type": "stream",
     "text": []
    },
    {
     "name": "stdout",
     "output_type": "stream",
     "text": [
      "Frame 19 - PSNR: 24.95, SSIM: 0.8074, LPIPS: 0.2844\n",
      "20 23.51945447921753\n"
     ]
    },
    {
     "name": "stderr",
     "output_type": "stream",
     "text": []
    },
    {
     "name": "stdout",
     "output_type": "stream",
     "text": [
      "Frame 20 - PSNR: 25.28, SSIM: 0.8052, LPIPS: 0.2938\n",
      "21 23.527257442474365\n"
     ]
    },
    {
     "name": "stderr",
     "output_type": "stream",
     "text": []
    },
    {
     "name": "stdout",
     "output_type": "stream",
     "text": [
      "Frame 21 - PSNR: 25.83, SSIM: 0.8022, LPIPS: 0.2992\n",
      "22 23.531618356704712\n"
     ]
    },
    {
     "name": "stderr",
     "output_type": "stream",
     "text": []
    },
    {
     "name": "stdout",
     "output_type": "stream",
     "text": [
      "Frame 22 - PSNR: 26.68, SSIM: 0.8104, LPIPS: 0.3017\n",
      "23 23.524102210998535\n"
     ]
    },
    {
     "name": "stderr",
     "output_type": "stream",
     "text": []
    },
    {
     "name": "stdout",
     "output_type": "stream",
     "text": [
      "Frame 23 - PSNR: 26.85, SSIM: 0.7906, LPIPS: 0.3121\n",
      "24 23.53193998336792\n"
     ]
    },
    {
     "name": "stderr",
     "output_type": "stream",
     "text": [
      "100%|██████████| 25/25 [09:48<00:00, 23.53s/it]\n",
      " 20%|██        | 40000/200000 [1:51:01<7847:43:38, 176.57s/it]"
     ]
    },
    {
     "name": "stdout",
     "output_type": "stream",
     "text": [
      "Frame 24 - PSNR: 26.63, SSIM: 0.7651, LPIPS: 0.3199\n",
      "\n",
      "=== METRICS SUMMARY ===\n",
      "Average PSNR: 25.4659 ± 0.7349\n",
      "Average SSIM: 0.8113 ± 0.0400\n",
      "Average LPIPS: 0.2703 ± 0.0355\n",
      "=======================\n",
      "Metrics logged to: ./logs\\ship_blender200k_fullres\\metrics\\metrics_040000.txt and ./logs\\ship_blender200k_fullres\\metrics\\metrics_040000.json\n",
      "Training history updated: ./logs\\ship_blender200k_fullres\\metrics\\training_metrics.json\n",
      "Saved test set with metrics\n",
      "[TRAIN] Iter: 40000 Loss: 0.004941352177411318  PSNR: 26.823884963989258\n"
     ]
    },
    {
     "name": "stderr",
     "output_type": "stream",
     "text": [
      " 21%|██        | 41002/200000 [1:52:47<4:37:36,  9.55it/s]    "
     ]
    },
    {
     "name": "stdout",
     "output_type": "stream",
     "text": [
      "[TRAIN] Iter: 41000 Loss: 0.0059539396315813065  PSNR: 26.153383255004883\n"
     ]
    },
    {
     "name": "stderr",
     "output_type": "stream",
     "text": [
      " 21%|██        | 42002/200000 [1:54:32<4:36:52,  9.51it/s]"
     ]
    },
    {
     "name": "stdout",
     "output_type": "stream",
     "text": [
      "[TRAIN] Iter: 42000 Loss: 0.006549757439643145  PSNR: 26.02237319946289\n"
     ]
    },
    {
     "name": "stderr",
     "output_type": "stream",
     "text": [
      " 22%|██▏       | 43002/200000 [1:56:18<4:34:14,  9.54it/s]"
     ]
    },
    {
     "name": "stdout",
     "output_type": "stream",
     "text": [
      "[TRAIN] Iter: 43000 Loss: 0.005497636739164591  PSNR: 27.337017059326172\n"
     ]
    },
    {
     "name": "stderr",
     "output_type": "stream",
     "text": [
      " 22%|██▏       | 44002/200000 [1:58:04<4:34:39,  9.47it/s]"
     ]
    },
    {
     "name": "stdout",
     "output_type": "stream",
     "text": [
      "[TRAIN] Iter: 44000 Loss: 0.004512956831604242  PSNR: 27.800670623779297\n"
     ]
    },
    {
     "name": "stderr",
     "output_type": "stream",
     "text": [
      " 23%|██▎       | 45002/200000 [1:59:49<4:29:46,  9.58it/s]"
     ]
    },
    {
     "name": "stdout",
     "output_type": "stream",
     "text": [
      "[TRAIN] Iter: 45000 Loss: 0.005015802104026079  PSNR: 27.916889190673828\n"
     ]
    },
    {
     "name": "stderr",
     "output_type": "stream",
     "text": [
      " 23%|██▎       | 46002/200000 [2:01:35<4:27:59,  9.58it/s]"
     ]
    },
    {
     "name": "stdout",
     "output_type": "stream",
     "text": [
      "[TRAIN] Iter: 46000 Loss: 0.008736487478017807  PSNR: 24.75044059753418\n"
     ]
    },
    {
     "name": "stderr",
     "output_type": "stream",
     "text": [
      " 24%|██▎       | 47002/200000 [2:03:20<4:29:44,  9.45it/s]"
     ]
    },
    {
     "name": "stdout",
     "output_type": "stream",
     "text": [
      "[TRAIN] Iter: 47000 Loss: 0.006860142108052969  PSNR: 25.84173011779785\n"
     ]
    },
    {
     "name": "stderr",
     "output_type": "stream",
     "text": [
      " 24%|██▍       | 48002/200000 [2:05:06<4:25:08,  9.55it/s]"
     ]
    },
    {
     "name": "stdout",
     "output_type": "stream",
     "text": [
      "[TRAIN] Iter: 48000 Loss: 0.006746831350028515  PSNR: 25.955026626586914\n"
     ]
    },
    {
     "name": "stderr",
     "output_type": "stream",
     "text": [
      " 24%|██▍       | 49000/200000 [2:06:51<4:35:11,  9.15it/s]"
     ]
    },
    {
     "name": "stdout",
     "output_type": "stream",
     "text": [
      "[TRAIN] Iter: 49000 Loss: 0.004630554001778364  PSNR: 27.60596466064453\n"
     ]
    },
    {
     "name": "stderr",
     "output_type": "stream",
     "text": [
      " 25%|██▍       | 49999/200000 [2:08:37<4:21:57,  9.54it/s]"
     ]
    },
    {
     "name": "stdout",
     "output_type": "stream",
     "text": [
      "Saved checkpoints at ./logs\\ship_blender200k_fullres\\checkpoints\\050000.tar\n"
     ]
    },
    {
     "name": "stderr",
     "output_type": "stream",
     "text": []
    },
    {
     "name": "stdout",
     "output_type": "stream",
     "text": [
      "0 0.0014030933380126953\n"
     ]
    },
    {
     "name": "stderr",
     "output_type": "stream",
     "text": []
    },
    {
     "name": "stdout",
     "output_type": "stream",
     "text": [
      "torch.Size([800, 800, 3]) torch.Size([800, 800])\n",
      "1 23.438522338867188\n"
     ]
    },
    {
     "name": "stderr",
     "output_type": "stream",
     "text": []
    },
    {
     "name": "stdout",
     "output_type": "stream",
     "text": [
      "2 24.102955102920532\n"
     ]
    },
    {
     "name": "stderr",
     "output_type": "stream",
     "text": []
    },
    {
     "name": "stdout",
     "output_type": "stream",
     "text": [
      "3 25.630991220474243\n"
     ]
    },
    {
     "name": "stderr",
     "output_type": "stream",
     "text": []
    },
    {
     "name": "stdout",
     "output_type": "stream",
     "text": [
      "4 25.7572283744812\n"
     ]
    },
    {
     "name": "stderr",
     "output_type": "stream",
     "text": []
    },
    {
     "name": "stdout",
     "output_type": "stream",
     "text": [
      "5 23.476767778396606\n"
     ]
    },
    {
     "name": "stderr",
     "output_type": "stream",
     "text": []
    },
    {
     "name": "stdout",
     "output_type": "stream",
     "text": [
      "6 23.368751049041748\n"
     ]
    },
    {
     "name": "stderr",
     "output_type": "stream",
     "text": []
    },
    {
     "name": "stdout",
     "output_type": "stream",
     "text": [
      "7 23.70871353149414\n"
     ]
    },
    {
     "name": "stderr",
     "output_type": "stream",
     "text": []
    },
    {
     "name": "stdout",
     "output_type": "stream",
     "text": [
      "8 23.10296082496643\n"
     ]
    },
    {
     "name": "stderr",
     "output_type": "stream",
     "text": []
    },
    {
     "name": "stdout",
     "output_type": "stream",
     "text": [
      "9 22.994403839111328\n"
     ]
    },
    {
     "name": "stderr",
     "output_type": "stream",
     "text": []
    },
    {
     "name": "stdout",
     "output_type": "stream",
     "text": [
      "10 22.97699475288391\n"
     ]
    },
    {
     "name": "stderr",
     "output_type": "stream",
     "text": []
    },
    {
     "name": "stdout",
     "output_type": "stream",
     "text": [
      "11 22.968339681625366\n"
     ]
    },
    {
     "name": "stderr",
     "output_type": "stream",
     "text": []
    },
    {
     "name": "stdout",
     "output_type": "stream",
     "text": [
      "12 22.966824769973755\n"
     ]
    },
    {
     "name": "stderr",
     "output_type": "stream",
     "text": []
    },
    {
     "name": "stdout",
     "output_type": "stream",
     "text": [
      "13 23.28542470932007\n"
     ]
    },
    {
     "name": "stderr",
     "output_type": "stream",
     "text": []
    },
    {
     "name": "stdout",
     "output_type": "stream",
     "text": [
      "14 23.04162573814392\n"
     ]
    },
    {
     "name": "stderr",
     "output_type": "stream",
     "text": []
    },
    {
     "name": "stdout",
     "output_type": "stream",
     "text": [
      "15 22.96911096572876\n"
     ]
    },
    {
     "name": "stderr",
     "output_type": "stream",
     "text": []
    },
    {
     "name": "stdout",
     "output_type": "stream",
     "text": [
      "16 23.630396366119385\n"
     ]
    },
    {
     "name": "stderr",
     "output_type": "stream",
     "text": []
    },
    {
     "name": "stdout",
     "output_type": "stream",
     "text": [
      "17 25.009880542755127\n"
     ]
    },
    {
     "name": "stderr",
     "output_type": "stream",
     "text": []
    },
    {
     "name": "stdout",
     "output_type": "stream",
     "text": [
      "18 24.349919319152832\n"
     ]
    },
    {
     "name": "stderr",
     "output_type": "stream",
     "text": []
    },
    {
     "name": "stdout",
     "output_type": "stream",
     "text": [
      "19 24.06695818901062\n"
     ]
    },
    {
     "name": "stderr",
     "output_type": "stream",
     "text": []
    },
    {
     "name": "stdout",
     "output_type": "stream",
     "text": [
      "20 24.050407886505127\n"
     ]
    },
    {
     "name": "stderr",
     "output_type": "stream",
     "text": []
    },
    {
     "name": "stdout",
     "output_type": "stream",
     "text": [
      "21 24.065373182296753\n"
     ]
    },
    {
     "name": "stderr",
     "output_type": "stream",
     "text": []
    },
    {
     "name": "stdout",
     "output_type": "stream",
     "text": [
      "22 24.086625337600708\n"
     ]
    },
    {
     "name": "stderr",
     "output_type": "stream",
     "text": []
    },
    {
     "name": "stdout",
     "output_type": "stream",
     "text": [
      "23 24.06107521057129\n"
     ]
    },
    {
     "name": "stderr",
     "output_type": "stream",
     "text": []
    },
    {
     "name": "stdout",
     "output_type": "stream",
     "text": [
      "24 24.06755781173706\n"
     ]
    },
    {
     "name": "stderr",
     "output_type": "stream",
     "text": []
    },
    {
     "name": "stdout",
     "output_type": "stream",
     "text": [
      "25 24.25804090499878\n"
     ]
    },
    {
     "name": "stderr",
     "output_type": "stream",
     "text": []
    },
    {
     "name": "stdout",
     "output_type": "stream",
     "text": [
      "26 24.253681659698486\n"
     ]
    },
    {
     "name": "stderr",
     "output_type": "stream",
     "text": []
    },
    {
     "name": "stdout",
     "output_type": "stream",
     "text": [
      "27 24.065887212753296\n"
     ]
    },
    {
     "name": "stderr",
     "output_type": "stream",
     "text": []
    },
    {
     "name": "stdout",
     "output_type": "stream",
     "text": [
      "28 24.067018747329712\n"
     ]
    },
    {
     "name": "stderr",
     "output_type": "stream",
     "text": []
    },
    {
     "name": "stdout",
     "output_type": "stream",
     "text": [
      "29 24.07973861694336\n"
     ]
    },
    {
     "name": "stderr",
     "output_type": "stream",
     "text": []
    },
    {
     "name": "stdout",
     "output_type": "stream",
     "text": [
      "30 23.861652612686157\n"
     ]
    },
    {
     "name": "stderr",
     "output_type": "stream",
     "text": []
    },
    {
     "name": "stdout",
     "output_type": "stream",
     "text": [
      "31 23.416661739349365\n"
     ]
    },
    {
     "name": "stderr",
     "output_type": "stream",
     "text": []
    },
    {
     "name": "stdout",
     "output_type": "stream",
     "text": [
      "32 23.418832063674927\n"
     ]
    },
    {
     "name": "stderr",
     "output_type": "stream",
     "text": []
    },
    {
     "name": "stdout",
     "output_type": "stream",
     "text": [
      "33 23.416216373443604\n"
     ]
    },
    {
     "name": "stderr",
     "output_type": "stream",
     "text": []
    },
    {
     "name": "stdout",
     "output_type": "stream",
     "text": [
      "34 23.42443585395813\n"
     ]
    },
    {
     "name": "stderr",
     "output_type": "stream",
     "text": []
    },
    {
     "name": "stdout",
     "output_type": "stream",
     "text": [
      "35 23.42035222053528\n"
     ]
    },
    {
     "name": "stderr",
     "output_type": "stream",
     "text": []
    },
    {
     "name": "stdout",
     "output_type": "stream",
     "text": [
      "36 23.423046350479126\n"
     ]
    },
    {
     "name": "stderr",
     "output_type": "stream",
     "text": []
    },
    {
     "name": "stdout",
     "output_type": "stream",
     "text": [
      "37 23.423214435577393\n"
     ]
    },
    {
     "name": "stderr",
     "output_type": "stream",
     "text": []
    },
    {
     "name": "stdout",
     "output_type": "stream",
     "text": [
      "38 23.41955804824829\n"
     ]
    },
    {
     "name": "stderr",
     "output_type": "stream",
     "text": []
    },
    {
     "name": "stdout",
     "output_type": "stream",
     "text": [
      "39 23.41969585418701\n"
     ]
    },
    {
     "name": "stderr",
     "output_type": "stream",
     "text": [
      "100%|██████████| 40/40 [15:49<00:00, 23.75s/it]\n"
     ]
    },
    {
     "name": "stdout",
     "output_type": "stream",
     "text": [
      "Done, saving (40, 800, 800, 3) (40, 800, 800)\n",
      "test poses shape torch.Size([25, 4, 4])\n"
     ]
    },
    {
     "name": "stderr",
     "output_type": "stream",
     "text": []
    },
    {
     "name": "stdout",
     "output_type": "stream",
     "text": [
      "0 0.0017685890197753906\n"
     ]
    },
    {
     "name": "stderr",
     "output_type": "stream",
     "text": []
    },
    {
     "name": "stdout",
     "output_type": "stream",
     "text": [
      "torch.Size([800, 800, 3]) torch.Size([800, 800])\n",
      "Frame 0 - PSNR: 26.35, SSIM: 0.7497, LPIPS: 0.3066\n",
      "1 23.55326008796692\n"
     ]
    },
    {
     "name": "stderr",
     "output_type": "stream",
     "text": []
    },
    {
     "name": "stdout",
     "output_type": "stream",
     "text": [
      "Frame 1 - PSNR: 25.63, SSIM: 0.7435, LPIPS: 0.2988\n",
      "2 23.54289746284485\n"
     ]
    },
    {
     "name": "stderr",
     "output_type": "stream",
     "text": []
    },
    {
     "name": "stdout",
     "output_type": "stream",
     "text": [
      "Frame 2 - PSNR: 25.77, SSIM: 0.7497, LPIPS: 0.2920\n",
      "3 23.52401828765869\n"
     ]
    },
    {
     "name": "stderr",
     "output_type": "stream",
     "text": []
    },
    {
     "name": "stdout",
     "output_type": "stream",
     "text": [
      "Frame 3 - PSNR: 25.94, SSIM: 0.7565, LPIPS: 0.2927\n",
      "4 23.534549951553345\n"
     ]
    },
    {
     "name": "stderr",
     "output_type": "stream",
     "text": []
    },
    {
     "name": "stdout",
     "output_type": "stream",
     "text": [
      "Frame 4 - PSNR: 26.39, SSIM: 0.7870, LPIPS: 0.2771\n",
      "5 23.529724597930908\n"
     ]
    },
    {
     "name": "stderr",
     "output_type": "stream",
     "text": []
    },
    {
     "name": "stdout",
     "output_type": "stream",
     "text": [
      "Frame 5 - PSNR: 26.12, SSIM: 0.8091, LPIPS: 0.2670\n",
      "6 23.53799319267273\n"
     ]
    },
    {
     "name": "stderr",
     "output_type": "stream",
     "text": []
    },
    {
     "name": "stdout",
     "output_type": "stream",
     "text": [
      "Frame 6 - PSNR: 25.25, SSIM: 0.8138, LPIPS: 0.2692\n",
      "7 23.532644748687744\n"
     ]
    },
    {
     "name": "stderr",
     "output_type": "stream",
     "text": []
    },
    {
     "name": "stdout",
     "output_type": "stream",
     "text": [
      "Frame 7 - PSNR: 25.41, SSIM: 0.8187, LPIPS: 0.2654\n",
      "8 23.52812170982361\n"
     ]
    },
    {
     "name": "stderr",
     "output_type": "stream",
     "text": []
    },
    {
     "name": "stdout",
     "output_type": "stream",
     "text": [
      "Frame 8 - PSNR: 25.86, SSIM: 0.8276, LPIPS: 0.2552\n",
      "9 23.523420333862305\n"
     ]
    },
    {
     "name": "stderr",
     "output_type": "stream",
     "text": []
    },
    {
     "name": "stdout",
     "output_type": "stream",
     "text": [
      "Frame 9 - PSNR: 26.56, SSIM: 0.8525, LPIPS: 0.2322\n",
      "10 23.52990436553955\n"
     ]
    },
    {
     "name": "stderr",
     "output_type": "stream",
     "text": []
    },
    {
     "name": "stdout",
     "output_type": "stream",
     "text": [
      "Frame 10 - PSNR: 26.89, SSIM: 0.8718, LPIPS: 0.2147\n",
      "11 23.526795864105225\n"
     ]
    },
    {
     "name": "stderr",
     "output_type": "stream",
     "text": []
    },
    {
     "name": "stdout",
     "output_type": "stream",
     "text": [
      "Frame 11 - PSNR: 25.35, SSIM: 0.8536, LPIPS: 0.2217\n",
      "12 23.532206535339355\n"
     ]
    },
    {
     "name": "stderr",
     "output_type": "stream",
     "text": []
    },
    {
     "name": "stdout",
     "output_type": "stream",
     "text": [
      "Frame 12 - PSNR: 24.42, SSIM: 0.8478, LPIPS: 0.2263\n",
      "13 23.523375034332275\n"
     ]
    },
    {
     "name": "stderr",
     "output_type": "stream",
     "text": []
    },
    {
     "name": "stdout",
     "output_type": "stream",
     "text": [
      "Frame 13 - PSNR: 24.37, SSIM: 0.8532, LPIPS: 0.2200\n",
      "14 23.527955532073975\n"
     ]
    },
    {
     "name": "stderr",
     "output_type": "stream",
     "text": []
    },
    {
     "name": "stdout",
     "output_type": "stream",
     "text": [
      "Frame 14 - PSNR: 24.61, SSIM: 0.8671, LPIPS: 0.2013\n",
      "15 23.521764993667603\n"
     ]
    },
    {
     "name": "stderr",
     "output_type": "stream",
     "text": []
    },
    {
     "name": "stdout",
     "output_type": "stream",
     "text": [
      "Frame 15 - PSNR: 25.94, SSIM: 0.8812, LPIPS: 0.1853\n",
      "16 23.52815866470337\n"
     ]
    },
    {
     "name": "stderr",
     "output_type": "stream",
     "text": []
    },
    {
     "name": "stdout",
     "output_type": "stream",
     "text": [
      "Frame 16 - PSNR: 26.37, SSIM: 0.8690, LPIPS: 0.1974\n",
      "17 23.52462911605835\n"
     ]
    },
    {
     "name": "stderr",
     "output_type": "stream",
     "text": []
    },
    {
     "name": "stdout",
     "output_type": "stream",
     "text": [
      "Frame 17 - PSNR: 25.38, SSIM: 0.8425, LPIPS: 0.2238\n",
      "18 23.53059673309326\n"
     ]
    },
    {
     "name": "stderr",
     "output_type": "stream",
     "text": []
    },
    {
     "name": "stdout",
     "output_type": "stream",
     "text": [
      "Frame 18 - PSNR: 24.93, SSIM: 0.8253, LPIPS: 0.2523\n",
      "19 23.531713008880615\n"
     ]
    },
    {
     "name": "stderr",
     "output_type": "stream",
     "text": []
    },
    {
     "name": "stdout",
     "output_type": "stream",
     "text": [
      "Frame 19 - PSNR: 25.37, SSIM: 0.8138, LPIPS: 0.2723\n",
      "20 23.53881049156189\n"
     ]
    },
    {
     "name": "stderr",
     "output_type": "stream",
     "text": []
    },
    {
     "name": "stdout",
     "output_type": "stream",
     "text": [
      "Frame 20 - PSNR: 25.68, SSIM: 0.8118, LPIPS: 0.2807\n",
      "21 23.528093099594116\n"
     ]
    },
    {
     "name": "stderr",
     "output_type": "stream",
     "text": []
    },
    {
     "name": "stdout",
     "output_type": "stream",
     "text": [
      "Frame 21 - PSNR: 26.19, SSIM: 0.8079, LPIPS: 0.2896\n",
      "22 23.531697511672974\n"
     ]
    },
    {
     "name": "stderr",
     "output_type": "stream",
     "text": []
    },
    {
     "name": "stdout",
     "output_type": "stream",
     "text": [
      "Frame 22 - PSNR: 27.03, SSIM: 0.8151, LPIPS: 0.2973\n",
      "23 23.52901577949524\n"
     ]
    },
    {
     "name": "stderr",
     "output_type": "stream",
     "text": []
    },
    {
     "name": "stdout",
     "output_type": "stream",
     "text": [
      "Frame 23 - PSNR: 27.22, SSIM: 0.7954, LPIPS: 0.3051\n",
      "24 23.523945331573486\n"
     ]
    },
    {
     "name": "stderr",
     "output_type": "stream",
     "text": [
      "100%|██████████| 25/25 [09:48<00:00, 23.53s/it]\n",
      " 25%|██▌       | 50000/200000 [2:34:16<19246:03:24, 461.91s/it]"
     ]
    },
    {
     "name": "stdout",
     "output_type": "stream",
     "text": [
      "Frame 24 - PSNR: 26.87, SSIM: 0.7695, LPIPS: 0.3100\n",
      "\n",
      "=== METRICS SUMMARY ===\n",
      "Average PSNR: 25.8371 ± 0.7715\n",
      "Average SSIM: 0.8173 ± 0.0400\n",
      "Average LPIPS: 0.2582 ± 0.0374\n",
      "=======================\n",
      "Metrics logged to: ./logs\\ship_blender200k_fullres\\metrics\\metrics_050000.txt and ./logs\\ship_blender200k_fullres\\metrics\\metrics_050000.json\n",
      "Training history updated: ./logs\\ship_blender200k_fullres\\metrics\\training_metrics.json\n",
      "Saved test set with metrics\n",
      "[TRAIN] Iter: 50000 Loss: 0.00649973563849926  PSNR: 25.946142196655273\n"
     ]
    },
    {
     "name": "stderr",
     "output_type": "stream",
     "text": [
      " 26%|██▌       | 51002/200000 [2:36:02<4:20:15,  9.54it/s]     "
     ]
    },
    {
     "name": "stdout",
     "output_type": "stream",
     "text": [
      "[TRAIN] Iter: 51000 Loss: 0.005742169916629791  PSNR: 26.8973331451416\n"
     ]
    },
    {
     "name": "stderr",
     "output_type": "stream",
     "text": [
      " 26%|██▌       | 52002/200000 [2:37:47<4:19:10,  9.52it/s]"
     ]
    },
    {
     "name": "stdout",
     "output_type": "stream",
     "text": [
      "[TRAIN] Iter: 52000 Loss: 0.00724169984459877  PSNR: 25.371387481689453\n"
     ]
    },
    {
     "name": "stderr",
     "output_type": "stream",
     "text": [
      " 27%|██▋       | 53002/200000 [2:39:32<4:16:26,  9.55it/s]"
     ]
    },
    {
     "name": "stdout",
     "output_type": "stream",
     "text": [
      "[TRAIN] Iter: 53000 Loss: 0.005943371914327145  PSNR: 26.053241729736328\n"
     ]
    },
    {
     "name": "stderr",
     "output_type": "stream",
     "text": [
      " 27%|██▋       | 54002/200000 [2:41:17<4:13:48,  9.59it/s]"
     ]
    },
    {
     "name": "stdout",
     "output_type": "stream",
     "text": [
      "[TRAIN] Iter: 54000 Loss: 0.007842568680644035  PSNR: 25.072154998779297\n"
     ]
    },
    {
     "name": "stderr",
     "output_type": "stream",
     "text": [
      " 28%|██▊       | 55002/200000 [2:43:02<4:15:45,  9.45it/s]"
     ]
    },
    {
     "name": "stdout",
     "output_type": "stream",
     "text": [
      "[TRAIN] Iter: 55000 Loss: 0.008798711001873016  PSNR: 25.07750129699707\n"
     ]
    },
    {
     "name": "stderr",
     "output_type": "stream",
     "text": [
      " 28%|██▊       | 56002/200000 [2:44:47<4:11:01,  9.56it/s]"
     ]
    },
    {
     "name": "stdout",
     "output_type": "stream",
     "text": [
      "[TRAIN] Iter: 56000 Loss: 0.0045876228250563145  PSNR: 28.15029525756836\n"
     ]
    },
    {
     "name": "stderr",
     "output_type": "stream",
     "text": [
      " 29%|██▊       | 57002/200000 [2:46:32<4:11:45,  9.47it/s]"
     ]
    },
    {
     "name": "stdout",
     "output_type": "stream",
     "text": [
      "[TRAIN] Iter: 57000 Loss: 0.004931912757456303  PSNR: 26.494033813476562\n"
     ]
    },
    {
     "name": "stderr",
     "output_type": "stream",
     "text": [
      " 29%|██▉       | 58002/200000 [2:48:17<4:08:56,  9.51it/s]"
     ]
    },
    {
     "name": "stdout",
     "output_type": "stream",
     "text": [
      "[TRAIN] Iter: 58000 Loss: 0.0052627925761044025  PSNR: 26.277904510498047\n"
     ]
    },
    {
     "name": "stderr",
     "output_type": "stream",
     "text": [
      " 30%|██▉       | 59002/200000 [2:50:02<4:06:34,  9.53it/s]"
     ]
    },
    {
     "name": "stdout",
     "output_type": "stream",
     "text": [
      "[TRAIN] Iter: 59000 Loss: 0.005706507246941328  PSNR: 26.455394744873047\n"
     ]
    },
    {
     "name": "stderr",
     "output_type": "stream",
     "text": [
      " 30%|██▉       | 59999/200000 [2:51:47<4:03:42,  9.57it/s]"
     ]
    },
    {
     "name": "stdout",
     "output_type": "stream",
     "text": [
      "Saved checkpoints at ./logs\\ship_blender200k_fullres\\checkpoints\\060000.tar\n",
      "test poses shape torch.Size([25, 4, 4])\n"
     ]
    },
    {
     "name": "stderr",
     "output_type": "stream",
     "text": []
    },
    {
     "name": "stdout",
     "output_type": "stream",
     "text": [
      "0 0.0017938613891601562\n"
     ]
    },
    {
     "name": "stderr",
     "output_type": "stream",
     "text": []
    },
    {
     "name": "stdout",
     "output_type": "stream",
     "text": [
      "torch.Size([800, 800, 3]) torch.Size([800, 800])\n",
      "Frame 0 - PSNR: 26.39, SSIM: 0.7521, LPIPS: 0.2965\n",
      "1 23.55458974838257\n"
     ]
    },
    {
     "name": "stderr",
     "output_type": "stream",
     "text": []
    },
    {
     "name": "stdout",
     "output_type": "stream",
     "text": [
      "Frame 1 - PSNR: 25.68, SSIM: 0.7461, LPIPS: 0.2864\n",
      "2 23.538036584854126\n"
     ]
    },
    {
     "name": "stderr",
     "output_type": "stream",
     "text": []
    },
    {
     "name": "stdout",
     "output_type": "stream",
     "text": [
      "Frame 2 - PSNR: 25.88, SSIM: 0.7531, LPIPS: 0.2850\n",
      "3 23.530349731445312\n"
     ]
    },
    {
     "name": "stderr",
     "output_type": "stream",
     "text": []
    },
    {
     "name": "stdout",
     "output_type": "stream",
     "text": [
      "Frame 3 - PSNR: 26.06, SSIM: 0.7591, LPIPS: 0.2895\n",
      "4 23.528084993362427\n"
     ]
    },
    {
     "name": "stderr",
     "output_type": "stream",
     "text": []
    },
    {
     "name": "stdout",
     "output_type": "stream",
     "text": [
      "Frame 4 - PSNR: 26.57, SSIM: 0.7894, LPIPS: 0.2710\n",
      "5 23.5346839427948\n"
     ]
    },
    {
     "name": "stderr",
     "output_type": "stream",
     "text": []
    },
    {
     "name": "stdout",
     "output_type": "stream",
     "text": [
      "Frame 5 - PSNR: 26.34, SSIM: 0.8128, LPIPS: 0.2608\n",
      "6 23.52566409111023\n"
     ]
    },
    {
     "name": "stderr",
     "output_type": "stream",
     "text": []
    },
    {
     "name": "stdout",
     "output_type": "stream",
     "text": [
      "Frame 6 - PSNR: 25.34, SSIM: 0.8160, LPIPS: 0.2644\n",
      "7 23.532548189163208\n"
     ]
    },
    {
     "name": "stderr",
     "output_type": "stream",
     "text": []
    },
    {
     "name": "stdout",
     "output_type": "stream",
     "text": [
      "Frame 7 - PSNR: 25.60, SSIM: 0.8219, LPIPS: 0.2580\n",
      "8 23.526454210281372\n"
     ]
    },
    {
     "name": "stderr",
     "output_type": "stream",
     "text": []
    },
    {
     "name": "stdout",
     "output_type": "stream",
     "text": [
      "Frame 8 - PSNR: 26.08, SSIM: 0.8303, LPIPS: 0.2502\n",
      "9 23.53542447090149\n"
     ]
    },
    {
     "name": "stderr",
     "output_type": "stream",
     "text": []
    },
    {
     "name": "stdout",
     "output_type": "stream",
     "text": [
      "Frame 9 - PSNR: 26.79, SSIM: 0.8545, LPIPS: 0.2246\n",
      "10 23.525455713272095\n"
     ]
    },
    {
     "name": "stderr",
     "output_type": "stream",
     "text": []
    },
    {
     "name": "stdout",
     "output_type": "stream",
     "text": [
      "Frame 10 - PSNR: 27.12, SSIM: 0.8744, LPIPS: 0.2087\n",
      "11 23.527870178222656\n"
     ]
    },
    {
     "name": "stderr",
     "output_type": "stream",
     "text": []
    },
    {
     "name": "stdout",
     "output_type": "stream",
     "text": [
      "Frame 11 - PSNR: 25.54, SSIM: 0.8554, LPIPS: 0.2163\n",
      "12 23.530341148376465\n"
     ]
    },
    {
     "name": "stderr",
     "output_type": "stream",
     "text": []
    },
    {
     "name": "stdout",
     "output_type": "stream",
     "text": [
      "Frame 12 - PSNR: 25.02, SSIM: 0.8514, LPIPS: 0.2231\n",
      "13 23.526899099349976\n"
     ]
    },
    {
     "name": "stderr",
     "output_type": "stream",
     "text": []
    },
    {
     "name": "stdout",
     "output_type": "stream",
     "text": [
      "Frame 13 - PSNR: 24.83, SSIM: 0.8555, LPIPS: 0.2179\n",
      "14 23.519660234451294\n"
     ]
    },
    {
     "name": "stderr",
     "output_type": "stream",
     "text": []
    },
    {
     "name": "stdout",
     "output_type": "stream",
     "text": [
      "Frame 14 - PSNR: 24.73, SSIM: 0.8696, LPIPS: 0.2007\n",
      "15 23.523181676864624\n"
     ]
    },
    {
     "name": "stderr",
     "output_type": "stream",
     "text": []
    },
    {
     "name": "stdout",
     "output_type": "stream",
     "text": [
      "Frame 15 - PSNR: 26.10, SSIM: 0.8846, LPIPS: 0.1820\n",
      "16 23.52312660217285\n"
     ]
    },
    {
     "name": "stderr",
     "output_type": "stream",
     "text": []
    },
    {
     "name": "stdout",
     "output_type": "stream",
     "text": [
      "Frame 16 - PSNR: 26.67, SSIM: 0.8719, LPIPS: 0.1916\n",
      "17 23.52235436439514\n"
     ]
    },
    {
     "name": "stderr",
     "output_type": "stream",
     "text": []
    },
    {
     "name": "stdout",
     "output_type": "stream",
     "text": [
      "Frame 17 - PSNR: 25.72, SSIM: 0.8453, LPIPS: 0.2178\n",
      "18 23.52734112739563\n"
     ]
    },
    {
     "name": "stderr",
     "output_type": "stream",
     "text": []
    },
    {
     "name": "stdout",
     "output_type": "stream",
     "text": [
      "Frame 18 - PSNR: 25.07, SSIM: 0.8284, LPIPS: 0.2481\n",
      "19 23.53426480293274\n"
     ]
    },
    {
     "name": "stderr",
     "output_type": "stream",
     "text": []
    },
    {
     "name": "stdout",
     "output_type": "stream",
     "text": [
      "Frame 19 - PSNR: 25.50, SSIM: 0.8164, LPIPS: 0.2658\n",
      "20 23.527508974075317\n"
     ]
    },
    {
     "name": "stderr",
     "output_type": "stream",
     "text": []
    },
    {
     "name": "stdout",
     "output_type": "stream",
     "text": [
      "Frame 20 - PSNR: 25.90, SSIM: 0.8148, LPIPS: 0.2733\n",
      "21 23.525552988052368\n"
     ]
    },
    {
     "name": "stderr",
     "output_type": "stream",
     "text": []
    },
    {
     "name": "stdout",
     "output_type": "stream",
     "text": [
      "Frame 21 - PSNR: 26.47, SSIM: 0.8102, LPIPS: 0.2823\n",
      "22 23.532743215560913\n"
     ]
    },
    {
     "name": "stderr",
     "output_type": "stream",
     "text": []
    },
    {
     "name": "stdout",
     "output_type": "stream",
     "text": [
      "Frame 22 - PSNR: 27.24, SSIM: 0.8169, LPIPS: 0.2876\n",
      "23 23.532268524169922\n"
     ]
    },
    {
     "name": "stderr",
     "output_type": "stream",
     "text": []
    },
    {
     "name": "stdout",
     "output_type": "stream",
     "text": [
      "Frame 23 - PSNR: 27.39, SSIM: 0.7977, LPIPS: 0.2962\n",
      "24 23.536030054092407\n"
     ]
    },
    {
     "name": "stderr",
     "output_type": "stream",
     "text": [
      "100%|██████████| 25/25 [09:48<00:00, 23.53s/it]\n",
      " 30%|███       | 60000/200000 [3:01:35<6868:13:10, 176.61s/it]"
     ]
    },
    {
     "name": "stdout",
     "output_type": "stream",
     "text": [
      "Frame 24 - PSNR: 26.99, SSIM: 0.7720, LPIPS: 0.2980\n",
      "\n",
      "=== METRICS SUMMARY ===\n",
      "Average PSNR: 26.0409 ± 0.7390\n",
      "Average SSIM: 0.8200 ± 0.0400\n",
      "Average LPIPS: 0.2518 ± 0.0355\n",
      "=======================\n",
      "Metrics logged to: ./logs\\ship_blender200k_fullres\\metrics\\metrics_060000.txt and ./logs\\ship_blender200k_fullres\\metrics\\metrics_060000.json\n",
      "Training history updated: ./logs\\ship_blender200k_fullres\\metrics\\training_metrics.json\n",
      "Saved test set with metrics\n",
      "[TRAIN] Iter: 60000 Loss: 0.005047498736530542  PSNR: 26.20652961730957\n"
     ]
    },
    {
     "name": "stderr",
     "output_type": "stream",
     "text": [
      " 31%|███       | 61002/200000 [3:03:21<4:02:17,  9.56it/s]    "
     ]
    },
    {
     "name": "stdout",
     "output_type": "stream",
     "text": [
      "[TRAIN] Iter: 61000 Loss: 0.00441109761595726  PSNR: 27.89020347595215\n"
     ]
    },
    {
     "name": "stderr",
     "output_type": "stream",
     "text": [
      " 31%|███       | 62002/200000 [3:05:05<3:59:54,  9.59it/s]"
     ]
    },
    {
     "name": "stdout",
     "output_type": "stream",
     "text": [
      "[TRAIN] Iter: 62000 Loss: 0.0057327039539813995  PSNR: 27.5306339263916\n"
     ]
    },
    {
     "name": "stderr",
     "output_type": "stream",
     "text": [
      " 32%|███▏      | 63002/200000 [3:06:50<3:56:28,  9.66it/s]"
     ]
    },
    {
     "name": "stdout",
     "output_type": "stream",
     "text": [
      "[TRAIN] Iter: 63000 Loss: 0.006244385614991188  PSNR: 25.82783317565918\n"
     ]
    },
    {
     "name": "stderr",
     "output_type": "stream",
     "text": [
      " 32%|███▏      | 64002/200000 [3:08:35<3:56:59,  9.56it/s]"
     ]
    },
    {
     "name": "stdout",
     "output_type": "stream",
     "text": [
      "[TRAIN] Iter: 64000 Loss: 0.007272169925272465  PSNR: 25.482879638671875\n"
     ]
    },
    {
     "name": "stderr",
     "output_type": "stream",
     "text": [
      " 33%|███▎      | 65002/200000 [3:10:20<3:56:17,  9.52it/s]"
     ]
    },
    {
     "name": "stdout",
     "output_type": "stream",
     "text": [
      "[TRAIN] Iter: 65000 Loss: 0.0058718351647257805  PSNR: 26.128173828125\n"
     ]
    },
    {
     "name": "stderr",
     "output_type": "stream",
     "text": [
      " 33%|███▎      | 66002/200000 [3:12:05<3:52:39,  9.60it/s]"
     ]
    },
    {
     "name": "stdout",
     "output_type": "stream",
     "text": [
      "[TRAIN] Iter: 66000 Loss: 0.006372879724949598  PSNR: 26.242555618286133\n"
     ]
    },
    {
     "name": "stderr",
     "output_type": "stream",
     "text": [
      " 34%|███▎      | 67002/200000 [3:13:49<3:54:39,  9.45it/s]"
     ]
    },
    {
     "name": "stdout",
     "output_type": "stream",
     "text": [
      "[TRAIN] Iter: 67000 Loss: 0.005895533598959446  PSNR: 26.307331085205078\n"
     ]
    },
    {
     "name": "stderr",
     "output_type": "stream",
     "text": [
      " 34%|███▍      | 68002/200000 [3:15:34<3:50:32,  9.54it/s]"
     ]
    },
    {
     "name": "stdout",
     "output_type": "stream",
     "text": [
      "[TRAIN] Iter: 68000 Loss: 0.007902433164417744  PSNR: 25.792057037353516\n"
     ]
    },
    {
     "name": "stderr",
     "output_type": "stream",
     "text": [
      " 35%|███▍      | 69002/200000 [3:17:19<3:51:09,  9.45it/s]"
     ]
    },
    {
     "name": "stdout",
     "output_type": "stream",
     "text": [
      "[TRAIN] Iter: 69000 Loss: 0.00812380388379097  PSNR: 25.057287216186523\n"
     ]
    },
    {
     "name": "stderr",
     "output_type": "stream",
     "text": [
      " 35%|███▍      | 69999/200000 [3:19:03<3:47:56,  9.51it/s]"
     ]
    },
    {
     "name": "stdout",
     "output_type": "stream",
     "text": [
      "Saved checkpoints at ./logs\\ship_blender200k_fullres\\checkpoints\\070000.tar\n",
      "test poses shape torch.Size([25, 4, 4])\n"
     ]
    },
    {
     "name": "stderr",
     "output_type": "stream",
     "text": []
    },
    {
     "name": "stdout",
     "output_type": "stream",
     "text": [
      "0 0.0017058849334716797\n"
     ]
    },
    {
     "name": "stderr",
     "output_type": "stream",
     "text": []
    },
    {
     "name": "stdout",
     "output_type": "stream",
     "text": [
      "torch.Size([800, 800, 3]) torch.Size([800, 800])\n",
      "Frame 0 - PSNR: 26.63, SSIM: 0.7558, LPIPS: 0.2933\n",
      "1 23.551588535308838\n"
     ]
    },
    {
     "name": "stderr",
     "output_type": "stream",
     "text": []
    },
    {
     "name": "stdout",
     "output_type": "stream",
     "text": [
      "Frame 1 - PSNR: 25.87, SSIM: 0.7501, LPIPS: 0.2838\n",
      "2 23.53634548187256\n"
     ]
    },
    {
     "name": "stderr",
     "output_type": "stream",
     "text": []
    },
    {
     "name": "stdout",
     "output_type": "stream",
     "text": [
      "Frame 2 - PSNR: 26.11, SSIM: 0.7588, LPIPS: 0.2781\n",
      "3 23.519282817840576\n"
     ]
    },
    {
     "name": "stderr",
     "output_type": "stream",
     "text": []
    },
    {
     "name": "stdout",
     "output_type": "stream",
     "text": [
      "Frame 3 - PSNR: 26.24, SSIM: 0.7622, LPIPS: 0.2844\n",
      "4 23.54456067085266\n"
     ]
    },
    {
     "name": "stderr",
     "output_type": "stream",
     "text": []
    },
    {
     "name": "stdout",
     "output_type": "stream",
     "text": [
      "Frame 4 - PSNR: 26.71, SSIM: 0.7929, LPIPS: 0.2650\n",
      "5 23.527554512023926\n"
     ]
    },
    {
     "name": "stderr",
     "output_type": "stream",
     "text": []
    },
    {
     "name": "stdout",
     "output_type": "stream",
     "text": [
      "Frame 5 - PSNR: 26.42, SSIM: 0.8154, LPIPS: 0.2645\n",
      "6 23.5409255027771\n"
     ]
    },
    {
     "name": "stderr",
     "output_type": "stream",
     "text": []
    },
    {
     "name": "stdout",
     "output_type": "stream",
     "text": [
      "Frame 6 - PSNR: 25.70, SSIM: 0.8210, LPIPS: 0.2660\n",
      "7 23.530816078186035\n"
     ]
    },
    {
     "name": "stderr",
     "output_type": "stream",
     "text": []
    },
    {
     "name": "stdout",
     "output_type": "stream",
     "text": [
      "Frame 7 - PSNR: 25.76, SSIM: 0.8254, LPIPS: 0.2554\n",
      "8 23.534730434417725\n"
     ]
    },
    {
     "name": "stderr",
     "output_type": "stream",
     "text": []
    },
    {
     "name": "stdout",
     "output_type": "stream",
     "text": [
      "Frame 8 - PSNR: 26.26, SSIM: 0.8333, LPIPS: 0.2454\n",
      "9 23.529327869415283\n"
     ]
    },
    {
     "name": "stderr",
     "output_type": "stream",
     "text": []
    },
    {
     "name": "stdout",
     "output_type": "stream",
     "text": [
      "Frame 9 - PSNR: 26.93, SSIM: 0.8569, LPIPS: 0.2206\n",
      "10 23.530911684036255\n"
     ]
    },
    {
     "name": "stderr",
     "output_type": "stream",
     "text": []
    },
    {
     "name": "stdout",
     "output_type": "stream",
     "text": [
      "Frame 10 - PSNR: 27.35, SSIM: 0.8777, LPIPS: 0.2071\n",
      "11 23.5275239944458\n"
     ]
    },
    {
     "name": "stderr",
     "output_type": "stream",
     "text": []
    },
    {
     "name": "stdout",
     "output_type": "stream",
     "text": [
      "Frame 11 - PSNR: 25.83, SSIM: 0.8609, LPIPS: 0.2136\n",
      "12 23.54440665245056\n"
     ]
    },
    {
     "name": "stderr",
     "output_type": "stream",
     "text": []
    },
    {
     "name": "stdout",
     "output_type": "stream",
     "text": [
      "Frame 12 - PSNR: 25.06, SSIM: 0.8546, LPIPS: 0.2170\n",
      "13 23.684062004089355\n"
     ]
    },
    {
     "name": "stderr",
     "output_type": "stream",
     "text": []
    },
    {
     "name": "stdout",
     "output_type": "stream",
     "text": [
      "Frame 13 - PSNR: 24.83, SSIM: 0.8585, LPIPS: 0.2118\n",
      "14 23.76334261894226\n"
     ]
    },
    {
     "name": "stderr",
     "output_type": "stream",
     "text": []
    },
    {
     "name": "stdout",
     "output_type": "stream",
     "text": [
      "Frame 14 - PSNR: 25.00, SSIM: 0.8732, LPIPS: 0.1921\n",
      "15 23.774080753326416\n"
     ]
    },
    {
     "name": "stderr",
     "output_type": "stream",
     "text": []
    },
    {
     "name": "stdout",
     "output_type": "stream",
     "text": [
      "Frame 15 - PSNR: 26.50, SSIM: 0.8880, LPIPS: 0.1763\n",
      "16 23.801945686340332\n"
     ]
    },
    {
     "name": "stderr",
     "output_type": "stream",
     "text": []
    },
    {
     "name": "stdout",
     "output_type": "stream",
     "text": [
      "Frame 16 - PSNR: 26.98, SSIM: 0.8749, LPIPS: 0.1856\n",
      "17 23.776903867721558\n"
     ]
    },
    {
     "name": "stderr",
     "output_type": "stream",
     "text": []
    },
    {
     "name": "stdout",
     "output_type": "stream",
     "text": [
      "Frame 17 - PSNR: 25.85, SSIM: 0.8486, LPIPS: 0.2191\n",
      "18 23.76314902305603\n"
     ]
    },
    {
     "name": "stderr",
     "output_type": "stream",
     "text": []
    },
    {
     "name": "stdout",
     "output_type": "stream",
     "text": [
      "Frame 18 - PSNR: 25.36, SSIM: 0.8322, LPIPS: 0.2487\n",
      "19 23.770538091659546\n"
     ]
    },
    {
     "name": "stderr",
     "output_type": "stream",
     "text": []
    },
    {
     "name": "stdout",
     "output_type": "stream",
     "text": [
      "Frame 19 - PSNR: 25.69, SSIM: 0.8200, LPIPS: 0.2649\n",
      "20 23.832635164260864\n"
     ]
    },
    {
     "name": "stderr",
     "output_type": "stream",
     "text": []
    },
    {
     "name": "stdout",
     "output_type": "stream",
     "text": [
      "Frame 20 - PSNR: 26.11, SSIM: 0.8187, LPIPS: 0.2724\n",
      "21 23.792541027069092\n"
     ]
    },
    {
     "name": "stderr",
     "output_type": "stream",
     "text": []
    },
    {
     "name": "stdout",
     "output_type": "stream",
     "text": [
      "Frame 21 - PSNR: 26.52, SSIM: 0.8129, LPIPS: 0.2785\n",
      "22 23.791959285736084\n"
     ]
    },
    {
     "name": "stderr",
     "output_type": "stream",
     "text": []
    },
    {
     "name": "stdout",
     "output_type": "stream",
     "text": [
      "Frame 22 - PSNR: 27.61, SSIM: 0.8216, LPIPS: 0.2820\n",
      "23 23.76695704460144\n"
     ]
    },
    {
     "name": "stderr",
     "output_type": "stream",
     "text": []
    },
    {
     "name": "stdout",
     "output_type": "stream",
     "text": [
      "Frame 23 - PSNR: 27.73, SSIM: 0.8021, LPIPS: 0.2912\n",
      "24 23.80167269706726\n"
     ]
    },
    {
     "name": "stderr",
     "output_type": "stream",
     "text": [
      "100%|██████████| 25/25 [09:51<00:00, 23.66s/it]\n",
      " 35%|███▌      | 70000/200000 [3:28:55<6413:02:01, 177.59s/it]"
     ]
    },
    {
     "name": "stdout",
     "output_type": "stream",
     "text": [
      "Frame 24 - PSNR: 27.30, SSIM: 0.7763, LPIPS: 0.2917\n",
      "\n",
      "=== METRICS SUMMARY ===\n",
      "Average PSNR: 26.2543 ± 0.7754\n",
      "Average SSIM: 0.8237 ± 0.0397\n",
      "Average LPIPS: 0.2483 ± 0.0358\n",
      "=======================\n",
      "Metrics logged to: ./logs\\ship_blender200k_fullres\\metrics\\metrics_070000.txt and ./logs\\ship_blender200k_fullres\\metrics\\metrics_070000.json\n",
      "Training history updated: ./logs\\ship_blender200k_fullres\\metrics\\training_metrics.json\n",
      "Saved test set with metrics\n",
      "[TRAIN] Iter: 70000 Loss: 0.005265241488814354  PSNR: 27.749637603759766\n"
     ]
    },
    {
     "name": "stderr",
     "output_type": "stream",
     "text": [
      " 36%|███▌      | 71002/200000 [3:30:42<3:48:58,  9.39it/s]    "
     ]
    },
    {
     "name": "stdout",
     "output_type": "stream",
     "text": [
      "[TRAIN] Iter: 71000 Loss: 0.005152653902769089  PSNR: 26.486064910888672\n"
     ]
    },
    {
     "name": "stderr",
     "output_type": "stream",
     "text": [
      " 36%|███▌      | 72002/200000 [3:32:28<3:45:15,  9.47it/s]"
     ]
    },
    {
     "name": "stdout",
     "output_type": "stream",
     "text": [
      "[TRAIN] Iter: 72000 Loss: 0.005637707654386759  PSNR: 27.407564163208008\n"
     ]
    },
    {
     "name": "stderr",
     "output_type": "stream",
     "text": [
      " 37%|███▋      | 73002/200000 [3:34:15<3:43:22,  9.48it/s]"
     ]
    },
    {
     "name": "stdout",
     "output_type": "stream",
     "text": [
      "[TRAIN] Iter: 73000 Loss: 0.005485241301357746  PSNR: 26.838886260986328\n"
     ]
    },
    {
     "name": "stderr",
     "output_type": "stream",
     "text": [
      " 37%|███▋      | 74002/200000 [3:36:01<3:42:07,  9.45it/s]"
     ]
    },
    {
     "name": "stdout",
     "output_type": "stream",
     "text": [
      "[TRAIN] Iter: 74000 Loss: 0.005286171101033688  PSNR: 26.6136474609375\n"
     ]
    },
    {
     "name": "stderr",
     "output_type": "stream",
     "text": [
      " 38%|███▊      | 75000/200000 [3:37:47<3:46:25,  9.20it/s]"
     ]
    },
    {
     "name": "stdout",
     "output_type": "stream",
     "text": [
      "[TRAIN] Iter: 75000 Loss: 0.004949900321662426  PSNR: 27.716392517089844\n"
     ]
    },
    {
     "name": "stderr",
     "output_type": "stream",
     "text": [
      " 38%|███▊      | 76002/200000 [3:39:34<3:37:12,  9.51it/s]"
     ]
    },
    {
     "name": "stdout",
     "output_type": "stream",
     "text": [
      "[TRAIN] Iter: 76000 Loss: 0.005527922883629799  PSNR: 27.351760864257812\n"
     ]
    },
    {
     "name": "stderr",
     "output_type": "stream",
     "text": [
      " 39%|███▊      | 77002/200000 [3:41:20<3:35:37,  9.51it/s]"
     ]
    },
    {
     "name": "stdout",
     "output_type": "stream",
     "text": [
      "[TRAIN] Iter: 77000 Loss: 0.0053094252943992615  PSNR: 26.9177188873291\n"
     ]
    },
    {
     "name": "stderr",
     "output_type": "stream",
     "text": [
      " 39%|███▉      | 78002/200000 [3:43:07<3:33:26,  9.53it/s]"
     ]
    },
    {
     "name": "stdout",
     "output_type": "stream",
     "text": [
      "[TRAIN] Iter: 78000 Loss: 0.0051496028900146484  PSNR: 26.4929256439209\n"
     ]
    },
    {
     "name": "stderr",
     "output_type": "stream",
     "text": [
      " 40%|███▉      | 79002/200000 [3:44:51<3:25:19,  9.82it/s]"
     ]
    },
    {
     "name": "stdout",
     "output_type": "stream",
     "text": [
      "[TRAIN] Iter: 79000 Loss: 0.008699931204319  PSNR: 24.21186065673828\n"
     ]
    },
    {
     "name": "stderr",
     "output_type": "stream",
     "text": [
      " 40%|███▉      | 79999/200000 [3:46:33<3:24:01,  9.80it/s]"
     ]
    },
    {
     "name": "stdout",
     "output_type": "stream",
     "text": [
      "Saved checkpoints at ./logs\\ship_blender200k_fullres\\checkpoints\\080000.tar\n",
      "test poses shape torch.Size([25, 4, 4])\n"
     ]
    },
    {
     "name": "stderr",
     "output_type": "stream",
     "text": []
    },
    {
     "name": "stdout",
     "output_type": "stream",
     "text": [
      "0 0.001483917236328125\n"
     ]
    },
    {
     "name": "stderr",
     "output_type": "stream",
     "text": []
    },
    {
     "name": "stdout",
     "output_type": "stream",
     "text": [
      "torch.Size([800, 800, 3]) torch.Size([800, 800])\n",
      "Frame 0 - PSNR: 26.74, SSIM: 0.7598, LPIPS: 0.2839\n",
      "1 23.116411447525024\n"
     ]
    },
    {
     "name": "stderr",
     "output_type": "stream",
     "text": []
    },
    {
     "name": "stdout",
     "output_type": "stream",
     "text": [
      "Frame 1 - PSNR: 25.97, SSIM: 0.7544, LPIPS: 0.2751\n",
      "2 23.103323698043823\n"
     ]
    },
    {
     "name": "stderr",
     "output_type": "stream",
     "text": []
    },
    {
     "name": "stdout",
     "output_type": "stream",
     "text": [
      "Frame 2 - PSNR: 26.30, SSIM: 0.7631, LPIPS: 0.2727\n",
      "3 23.09235143661499\n"
     ]
    },
    {
     "name": "stderr",
     "output_type": "stream",
     "text": []
    },
    {
     "name": "stdout",
     "output_type": "stream",
     "text": [
      "Frame 3 - PSNR: 26.41, SSIM: 0.7657, LPIPS: 0.2794\n",
      "4 23.099101066589355\n"
     ]
    },
    {
     "name": "stderr",
     "output_type": "stream",
     "text": []
    },
    {
     "name": "stdout",
     "output_type": "stream",
     "text": [
      "Frame 4 - PSNR: 26.85, SSIM: 0.7951, LPIPS: 0.2607\n",
      "5 23.120630979537964\n"
     ]
    },
    {
     "name": "stderr",
     "output_type": "stream",
     "text": []
    },
    {
     "name": "stdout",
     "output_type": "stream",
     "text": [
      "Frame 5 - PSNR: 26.69, SSIM: 0.8178, LPIPS: 0.2502\n",
      "6 23.11128067970276\n"
     ]
    },
    {
     "name": "stderr",
     "output_type": "stream",
     "text": []
    },
    {
     "name": "stdout",
     "output_type": "stream",
     "text": [
      "Frame 6 - PSNR: 25.72, SSIM: 0.8214, LPIPS: 0.2562\n",
      "7 23.078596353530884\n"
     ]
    },
    {
     "name": "stderr",
     "output_type": "stream",
     "text": []
    },
    {
     "name": "stdout",
     "output_type": "stream",
     "text": [
      "Frame 7 - PSNR: 25.76, SSIM: 0.8255, LPIPS: 0.2483\n",
      "8 22.913899183273315\n"
     ]
    },
    {
     "name": "stderr",
     "output_type": "stream",
     "text": []
    },
    {
     "name": "stdout",
     "output_type": "stream",
     "text": [
      "Frame 8 - PSNR: 26.30, SSIM: 0.8339, LPIPS: 0.2393\n",
      "9 22.925479888916016\n"
     ]
    },
    {
     "name": "stderr",
     "output_type": "stream",
     "text": []
    },
    {
     "name": "stdout",
     "output_type": "stream",
     "text": [
      "Frame 9 - PSNR: 27.09, SSIM: 0.8578, LPIPS: 0.2208\n",
      "10 22.92566442489624\n"
     ]
    },
    {
     "name": "stderr",
     "output_type": "stream",
     "text": []
    },
    {
     "name": "stdout",
     "output_type": "stream",
     "text": [
      "Frame 10 - PSNR: 27.33, SSIM: 0.8772, LPIPS: 0.2038\n",
      "11 22.93075680732727\n"
     ]
    },
    {
     "name": "stderr",
     "output_type": "stream",
     "text": []
    },
    {
     "name": "stdout",
     "output_type": "stream",
     "text": [
      "Frame 11 - PSNR: 25.96, SSIM: 0.8619, LPIPS: 0.2078\n",
      "12 22.928675413131714\n"
     ]
    },
    {
     "name": "stderr",
     "output_type": "stream",
     "text": []
    },
    {
     "name": "stdout",
     "output_type": "stream",
     "text": [
      "Frame 12 - PSNR: 25.17, SSIM: 0.8554, LPIPS: 0.2136\n",
      "13 22.919260263442993\n"
     ]
    },
    {
     "name": "stderr",
     "output_type": "stream",
     "text": []
    },
    {
     "name": "stdout",
     "output_type": "stream",
     "text": [
      "Frame 13 - PSNR: 24.85, SSIM: 0.8586, LPIPS: 0.2095\n",
      "14 22.91196036338806\n"
     ]
    },
    {
     "name": "stderr",
     "output_type": "stream",
     "text": []
    },
    {
     "name": "stdout",
     "output_type": "stream",
     "text": [
      "Frame 14 - PSNR: 25.22, SSIM: 0.8762, LPIPS: 0.1893\n",
      "15 22.933109998703003\n"
     ]
    },
    {
     "name": "stderr",
     "output_type": "stream",
     "text": []
    },
    {
     "name": "stdout",
     "output_type": "stream",
     "text": [
      "Frame 15 - PSNR: 26.71, SSIM: 0.8907, LPIPS: 0.1702\n",
      "16 22.92858576774597\n"
     ]
    },
    {
     "name": "stderr",
     "output_type": "stream",
     "text": []
    },
    {
     "name": "stdout",
     "output_type": "stream",
     "text": [
      "Frame 16 - PSNR: 26.86, SSIM: 0.8756, LPIPS: 0.1823\n",
      "17 22.92569398880005\n"
     ]
    },
    {
     "name": "stderr",
     "output_type": "stream",
     "text": []
    },
    {
     "name": "stdout",
     "output_type": "stream",
     "text": [
      "Frame 17 - PSNR: 25.84, SSIM: 0.8512, LPIPS: 0.2076\n",
      "18 22.934170722961426\n"
     ]
    },
    {
     "name": "stderr",
     "output_type": "stream",
     "text": []
    },
    {
     "name": "stdout",
     "output_type": "stream",
     "text": [
      "Frame 18 - PSNR: 25.40, SSIM: 0.8333, LPIPS: 0.2391\n",
      "19 22.933504581451416\n"
     ]
    },
    {
     "name": "stderr",
     "output_type": "stream",
     "text": []
    },
    {
     "name": "stdout",
     "output_type": "stream",
     "text": [
      "Frame 19 - PSNR: 25.80, SSIM: 0.8211, LPIPS: 0.2555\n",
      "20 22.93604588508606\n"
     ]
    },
    {
     "name": "stderr",
     "output_type": "stream",
     "text": []
    },
    {
     "name": "stdout",
     "output_type": "stream",
     "text": [
      "Frame 20 - PSNR: 26.14, SSIM: 0.8192, LPIPS: 0.2620\n",
      "21 22.91556453704834\n"
     ]
    },
    {
     "name": "stderr",
     "output_type": "stream",
     "text": []
    },
    {
     "name": "stdout",
     "output_type": "stream",
     "text": [
      "Frame 21 - PSNR: 26.73, SSIM: 0.8147, LPIPS: 0.2712\n",
      "22 22.936328172683716\n"
     ]
    },
    {
     "name": "stderr",
     "output_type": "stream",
     "text": []
    },
    {
     "name": "stdout",
     "output_type": "stream",
     "text": [
      "Frame 22 - PSNR: 27.56, SSIM: 0.8214, LPIPS: 0.2800\n",
      "23 22.937386989593506\n"
     ]
    },
    {
     "name": "stderr",
     "output_type": "stream",
     "text": []
    },
    {
     "name": "stdout",
     "output_type": "stream",
     "text": [
      "Frame 23 - PSNR: 27.67, SSIM: 0.8024, LPIPS: 0.2853\n",
      "24 22.908225059509277\n"
     ]
    },
    {
     "name": "stderr",
     "output_type": "stream",
     "text": [
      "100%|██████████| 25/25 [09:34<00:00, 22.98s/it]\n",
      " 40%|████      | 80000/200000 [3:56:07<5747:05:23, 172.41s/it]"
     ]
    },
    {
     "name": "stdout",
     "output_type": "stream",
     "text": [
      "Frame 24 - PSNR: 27.36, SSIM: 0.7781, LPIPS: 0.2878\n",
      "\n",
      "=== METRICS SUMMARY ===\n",
      "Average PSNR: 26.3387 ± 0.7550\n",
      "Average SSIM: 0.8253 ± 0.0390\n",
      "Average LPIPS: 0.2421 ± 0.0348\n",
      "=======================\n",
      "Metrics logged to: ./logs\\ship_blender200k_fullres\\metrics\\metrics_080000.txt and ./logs\\ship_blender200k_fullres\\metrics\\metrics_080000.json\n",
      "Training history updated: ./logs\\ship_blender200k_fullres\\metrics\\training_metrics.json\n",
      "Saved test set with metrics\n",
      "[TRAIN] Iter: 80000 Loss: 0.0053343819454312325  PSNR: 26.56116485595703\n"
     ]
    },
    {
     "name": "stderr",
     "output_type": "stream",
     "text": [
      " 41%|████      | 81002/200000 [3:57:50<3:22:02,  9.82it/s]    "
     ]
    },
    {
     "name": "stdout",
     "output_type": "stream",
     "text": [
      "[TRAIN] Iter: 81000 Loss: 0.004048959817737341  PSNR: 28.408979415893555\n"
     ]
    },
    {
     "name": "stderr",
     "output_type": "stream",
     "text": [
      " 41%|████      | 82002/200000 [3:59:32<3:19:07,  9.88it/s]"
     ]
    },
    {
     "name": "stdout",
     "output_type": "stream",
     "text": [
      "[TRAIN] Iter: 82000 Loss: 0.003948877565562725  PSNR: 28.400970458984375\n"
     ]
    },
    {
     "name": "stderr",
     "output_type": "stream",
     "text": [
      " 42%|████▏     | 83002/200000 [4:01:15<3:17:36,  9.87it/s]"
     ]
    },
    {
     "name": "stdout",
     "output_type": "stream",
     "text": [
      "[TRAIN] Iter: 83000 Loss: 0.0058556511066854  PSNR: 27.067724227905273\n"
     ]
    },
    {
     "name": "stderr",
     "output_type": "stream",
     "text": [
      " 42%|████▏     | 84002/200000 [4:02:57<3:18:05,  9.76it/s]"
     ]
    },
    {
     "name": "stdout",
     "output_type": "stream",
     "text": [
      "[TRAIN] Iter: 84000 Loss: 0.004065345507115126  PSNR: 28.049394607543945\n"
     ]
    },
    {
     "name": "stderr",
     "output_type": "stream",
     "text": [
      " 43%|████▎     | 85002/200000 [4:04:40<3:14:20,  9.86it/s]"
     ]
    },
    {
     "name": "stdout",
     "output_type": "stream",
     "text": [
      "[TRAIN] Iter: 85000 Loss: 0.005865941289812326  PSNR: 26.666791915893555\n"
     ]
    },
    {
     "name": "stderr",
     "output_type": "stream",
     "text": [
      " 43%|████▎     | 86002/200000 [4:06:22<3:13:50,  9.80it/s]"
     ]
    },
    {
     "name": "stdout",
     "output_type": "stream",
     "text": [
      "[TRAIN] Iter: 86000 Loss: 0.004121686331927776  PSNR: 28.009458541870117\n"
     ]
    },
    {
     "name": "stderr",
     "output_type": "stream",
     "text": [
      " 44%|████▎     | 87002/200000 [4:08:05<3:12:50,  9.77it/s]"
     ]
    },
    {
     "name": "stdout",
     "output_type": "stream",
     "text": [
      "[TRAIN] Iter: 87000 Loss: 0.007713264785706997  PSNR: 26.338586807250977\n"
     ]
    },
    {
     "name": "stderr",
     "output_type": "stream",
     "text": [
      " 44%|████▍     | 88002/200000 [4:09:47<3:09:57,  9.83it/s]"
     ]
    },
    {
     "name": "stdout",
     "output_type": "stream",
     "text": [
      "[TRAIN] Iter: 88000 Loss: 0.005221428349614143  PSNR: 27.297286987304688\n"
     ]
    },
    {
     "name": "stderr",
     "output_type": "stream",
     "text": [
      " 45%|████▍     | 89002/200000 [4:11:30<3:09:32,  9.76it/s]"
     ]
    },
    {
     "name": "stdout",
     "output_type": "stream",
     "text": [
      "[TRAIN] Iter: 89000 Loss: 0.00684319157153368  PSNR: 26.26804542541504\n"
     ]
    },
    {
     "name": "stderr",
     "output_type": "stream",
     "text": [
      " 45%|████▍     | 89999/200000 [4:13:12<3:07:08,  9.80it/s]"
     ]
    },
    {
     "name": "stdout",
     "output_type": "stream",
     "text": [
      "Saved checkpoints at ./logs\\ship_blender200k_fullres\\checkpoints\\090000.tar\n",
      "test poses shape torch.Size([25, 4, 4])\n"
     ]
    },
    {
     "name": "stderr",
     "output_type": "stream",
     "text": []
    },
    {
     "name": "stdout",
     "output_type": "stream",
     "text": [
      "0 0.0020554065704345703\n"
     ]
    },
    {
     "name": "stderr",
     "output_type": "stream",
     "text": []
    },
    {
     "name": "stdout",
     "output_type": "stream",
     "text": [
      "torch.Size([800, 800, 3]) torch.Size([800, 800])\n",
      "Frame 0 - PSNR: 26.84, SSIM: 0.7628, LPIPS: 0.2792\n",
      "1 22.923001527786255\n"
     ]
    },
    {
     "name": "stderr",
     "output_type": "stream",
     "text": []
    },
    {
     "name": "stdout",
     "output_type": "stream",
     "text": [
      "Frame 1 - PSNR: 26.08, SSIM: 0.7579, LPIPS: 0.2727\n",
      "2 22.89920926094055\n"
     ]
    },
    {
     "name": "stderr",
     "output_type": "stream",
     "text": []
    },
    {
     "name": "stdout",
     "output_type": "stream",
     "text": [
      "Frame 2 - PSNR: 26.39, SSIM: 0.7666, LPIPS: 0.2660\n",
      "3 22.917628526687622\n"
     ]
    },
    {
     "name": "stderr",
     "output_type": "stream",
     "text": []
    },
    {
     "name": "stdout",
     "output_type": "stream",
     "text": [
      "Frame 3 - PSNR: 26.49, SSIM: 0.7667, LPIPS: 0.2723\n",
      "4 22.93962264060974\n"
     ]
    },
    {
     "name": "stderr",
     "output_type": "stream",
     "text": []
    },
    {
     "name": "stdout",
     "output_type": "stream",
     "text": [
      "Frame 4 - PSNR: 26.97, SSIM: 0.7969, LPIPS: 0.2567\n",
      "5 22.943204641342163\n"
     ]
    },
    {
     "name": "stderr",
     "output_type": "stream",
     "text": []
    },
    {
     "name": "stdout",
     "output_type": "stream",
     "text": [
      "Frame 5 - PSNR: 26.71, SSIM: 0.8202, LPIPS: 0.2461\n",
      "6 22.93809723854065\n"
     ]
    },
    {
     "name": "stderr",
     "output_type": "stream",
     "text": []
    },
    {
     "name": "stdout",
     "output_type": "stream",
     "text": [
      "Frame 6 - PSNR: 25.93, SSIM: 0.8245, LPIPS: 0.2533\n",
      "7 22.93121027946472\n"
     ]
    },
    {
     "name": "stderr",
     "output_type": "stream",
     "text": []
    },
    {
     "name": "stdout",
     "output_type": "stream",
     "text": [
      "Frame 7 - PSNR: 26.05, SSIM: 0.8294, LPIPS: 0.2466\n",
      "8 22.9261531829834\n"
     ]
    },
    {
     "name": "stderr",
     "output_type": "stream",
     "text": []
    },
    {
     "name": "stdout",
     "output_type": "stream",
     "text": [
      "Frame 8 - PSNR: 26.55, SSIM: 0.8375, LPIPS: 0.2355\n",
      "9 22.937997341156006\n"
     ]
    },
    {
     "name": "stderr",
     "output_type": "stream",
     "text": []
    },
    {
     "name": "stdout",
     "output_type": "stream",
     "text": [
      "Frame 9 - PSNR: 27.32, SSIM: 0.8601, LPIPS: 0.2167\n",
      "10 22.933393716812134\n"
     ]
    },
    {
     "name": "stderr",
     "output_type": "stream",
     "text": []
    },
    {
     "name": "stdout",
     "output_type": "stream",
     "text": [
      "Frame 10 - PSNR: 27.71, SSIM: 0.8801, LPIPS: 0.2016\n",
      "11 22.917641401290894\n"
     ]
    },
    {
     "name": "stderr",
     "output_type": "stream",
     "text": []
    },
    {
     "name": "stdout",
     "output_type": "stream",
     "text": [
      "Frame 11 - PSNR: 26.03, SSIM: 0.8634, LPIPS: 0.2115\n",
      "12 22.92200517654419\n"
     ]
    },
    {
     "name": "stderr",
     "output_type": "stream",
     "text": []
    },
    {
     "name": "stdout",
     "output_type": "stream",
     "text": [
      "Frame 12 - PSNR: 25.28, SSIM: 0.8575, LPIPS: 0.2200\n",
      "13 22.910003900527954\n"
     ]
    },
    {
     "name": "stderr",
     "output_type": "stream",
     "text": []
    },
    {
     "name": "stdout",
     "output_type": "stream",
     "text": [
      "Frame 13 - PSNR: 24.96, SSIM: 0.8610, LPIPS: 0.2132\n",
      "14 22.916492462158203\n"
     ]
    },
    {
     "name": "stderr",
     "output_type": "stream",
     "text": []
    },
    {
     "name": "stdout",
     "output_type": "stream",
     "text": [
      "Frame 14 - PSNR: 25.43, SSIM: 0.8789, LPIPS: 0.1924\n",
      "15 22.918213844299316\n"
     ]
    },
    {
     "name": "stderr",
     "output_type": "stream",
     "text": []
    },
    {
     "name": "stdout",
     "output_type": "stream",
     "text": [
      "Frame 15 - PSNR: 27.00, SSIM: 0.8943, LPIPS: 0.1680\n",
      "16 22.9130756855011\n"
     ]
    },
    {
     "name": "stderr",
     "output_type": "stream",
     "text": []
    },
    {
     "name": "stdout",
     "output_type": "stream",
     "text": [
      "Frame 16 - PSNR: 27.21, SSIM: 0.8779, LPIPS: 0.1816\n",
      "17 22.92686939239502\n"
     ]
    },
    {
     "name": "stderr",
     "output_type": "stream",
     "text": []
    },
    {
     "name": "stdout",
     "output_type": "stream",
     "text": [
      "Frame 17 - PSNR: 26.11, SSIM: 0.8533, LPIPS: 0.2089\n",
      "18 22.93118643760681\n"
     ]
    },
    {
     "name": "stderr",
     "output_type": "stream",
     "text": []
    },
    {
     "name": "stdout",
     "output_type": "stream",
     "text": [
      "Frame 18 - PSNR: 25.61, SSIM: 0.8350, LPIPS: 0.2379\n",
      "19 22.925018072128296\n"
     ]
    },
    {
     "name": "stderr",
     "output_type": "stream",
     "text": []
    },
    {
     "name": "stdout",
     "output_type": "stream",
     "text": [
      "Frame 19 - PSNR: 25.97, SSIM: 0.8242, LPIPS: 0.2542\n",
      "20 22.925084352493286\n"
     ]
    },
    {
     "name": "stderr",
     "output_type": "stream",
     "text": []
    },
    {
     "name": "stdout",
     "output_type": "stream",
     "text": [
      "Frame 20 - PSNR: 26.38, SSIM: 0.8240, LPIPS: 0.2566\n",
      "21 22.928661346435547\n"
     ]
    },
    {
     "name": "stderr",
     "output_type": "stream",
     "text": []
    },
    {
     "name": "stdout",
     "output_type": "stream",
     "text": [
      "Frame 21 - PSNR: 26.96, SSIM: 0.8180, LPIPS: 0.2677\n",
      "22 22.927701711654663\n"
     ]
    },
    {
     "name": "stderr",
     "output_type": "stream",
     "text": []
    },
    {
     "name": "stdout",
     "output_type": "stream",
     "text": [
      "Frame 22 - PSNR: 27.79, SSIM: 0.8238, LPIPS: 0.2791\n",
      "23 22.927671909332275\n"
     ]
    },
    {
     "name": "stderr",
     "output_type": "stream",
     "text": []
    },
    {
     "name": "stdout",
     "output_type": "stream",
     "text": [
      "Frame 23 - PSNR: 27.89, SSIM: 0.8057, LPIPS: 0.2786\n",
      "24 22.94020676612854\n"
     ]
    },
    {
     "name": "stderr",
     "output_type": "stream",
     "text": [
      "100%|██████████| 25/25 [09:33<00:00, 22.93s/it]\n",
      " 45%|████▌     | 90000/200000 [4:22:45<5257:53:19, 172.08s/it]"
     ]
    },
    {
     "name": "stdout",
     "output_type": "stream",
     "text": [
      "Frame 24 - PSNR: 27.37, SSIM: 0.7811, LPIPS: 0.2822\n",
      "\n",
      "=== METRICS SUMMARY ===\n",
      "Average PSNR: 26.5209 ± 0.7758\n",
      "Average SSIM: 0.8280 ± 0.0389\n",
      "Average LPIPS: 0.2399 ± 0.0327\n",
      "=======================\n",
      "Metrics logged to: ./logs\\ship_blender200k_fullres\\metrics\\metrics_090000.txt and ./logs\\ship_blender200k_fullres\\metrics\\metrics_090000.json\n",
      "Training history updated: ./logs\\ship_blender200k_fullres\\metrics\\training_metrics.json\n",
      "Saved test set with metrics\n",
      "[TRAIN] Iter: 90000 Loss: 0.005337736569344997  PSNR: 27.067840576171875\n"
     ]
    },
    {
     "name": "stderr",
     "output_type": "stream",
     "text": [
      " 46%|████▌     | 91002/200000 [4:24:28<3:05:20,  9.80it/s]    "
     ]
    },
    {
     "name": "stdout",
     "output_type": "stream",
     "text": [
      "[TRAIN] Iter: 91000 Loss: 0.005017784424126148  PSNR: 27.123733520507812\n"
     ]
    },
    {
     "name": "stderr",
     "output_type": "stream",
     "text": [
      " 46%|████▌     | 92002/200000 [4:26:11<3:04:48,  9.74it/s]"
     ]
    },
    {
     "name": "stdout",
     "output_type": "stream",
     "text": [
      "[TRAIN] Iter: 92000 Loss: 0.0067710611037909985  PSNR: 26.875455856323242\n"
     ]
    },
    {
     "name": "stderr",
     "output_type": "stream",
     "text": [
      " 47%|████▋     | 93002/200000 [4:27:53<3:00:53,  9.86it/s]"
     ]
    },
    {
     "name": "stdout",
     "output_type": "stream",
     "text": [
      "[TRAIN] Iter: 93000 Loss: 0.004575764760375023  PSNR: 27.535146713256836\n"
     ]
    },
    {
     "name": "stderr",
     "output_type": "stream",
     "text": [
      " 47%|████▋     | 94002/200000 [4:29:36<3:02:02,  9.70it/s]"
     ]
    },
    {
     "name": "stdout",
     "output_type": "stream",
     "text": [
      "[TRAIN] Iter: 94000 Loss: 0.005422455258667469  PSNR: 26.37236213684082\n"
     ]
    },
    {
     "name": "stderr",
     "output_type": "stream",
     "text": [
      " 48%|████▊     | 95002/200000 [4:31:18<2:58:11,  9.82it/s]"
     ]
    },
    {
     "name": "stdout",
     "output_type": "stream",
     "text": [
      "[TRAIN] Iter: 95000 Loss: 0.005140499211847782  PSNR: 27.018653869628906\n"
     ]
    },
    {
     "name": "stderr",
     "output_type": "stream",
     "text": [
      " 48%|████▊     | 96002/200000 [4:33:01<2:57:13,  9.78it/s]"
     ]
    },
    {
     "name": "stdout",
     "output_type": "stream",
     "text": [
      "[TRAIN] Iter: 96000 Loss: 0.006824315059930086  PSNR: 26.34416389465332\n"
     ]
    },
    {
     "name": "stderr",
     "output_type": "stream",
     "text": [
      " 49%|████▊     | 97002/200000 [4:34:43<2:55:26,  9.79it/s]"
     ]
    },
    {
     "name": "stdout",
     "output_type": "stream",
     "text": [
      "[TRAIN] Iter: 97000 Loss: 0.0049494788981974125  PSNR: 27.658775329589844\n"
     ]
    },
    {
     "name": "stderr",
     "output_type": "stream",
     "text": [
      " 49%|████▉     | 98002/200000 [4:36:26<2:55:49,  9.67it/s]"
     ]
    },
    {
     "name": "stdout",
     "output_type": "stream",
     "text": [
      "[TRAIN] Iter: 98000 Loss: 0.006223523057997227  PSNR: 26.63795280456543\n"
     ]
    },
    {
     "name": "stderr",
     "output_type": "stream",
     "text": [
      " 50%|████▉     | 99002/200000 [4:38:08<2:52:40,  9.75it/s]"
     ]
    },
    {
     "name": "stdout",
     "output_type": "stream",
     "text": [
      "[TRAIN] Iter: 99000 Loss: 0.0037323127035051584  PSNR: 28.401092529296875\n"
     ]
    },
    {
     "name": "stderr",
     "output_type": "stream",
     "text": [
      " 50%|████▉     | 99999/200000 [4:39:51<2:50:54,  9.75it/s]"
     ]
    },
    {
     "name": "stdout",
     "output_type": "stream",
     "text": [
      "Saved checkpoints at ./logs\\ship_blender200k_fullres\\checkpoints\\100000.tar\n"
     ]
    },
    {
     "name": "stderr",
     "output_type": "stream",
     "text": []
    },
    {
     "name": "stdout",
     "output_type": "stream",
     "text": [
      "0 0.0017614364624023438\n"
     ]
    },
    {
     "name": "stderr",
     "output_type": "stream",
     "text": []
    },
    {
     "name": "stdout",
     "output_type": "stream",
     "text": [
      "torch.Size([800, 800, 3]) torch.Size([800, 800])\n",
      "1 22.810484170913696\n"
     ]
    },
    {
     "name": "stderr",
     "output_type": "stream",
     "text": []
    },
    {
     "name": "stdout",
     "output_type": "stream",
     "text": [
      "2 22.796335697174072\n"
     ]
    },
    {
     "name": "stderr",
     "output_type": "stream",
     "text": []
    },
    {
     "name": "stdout",
     "output_type": "stream",
     "text": [
      "3 22.796908140182495\n"
     ]
    },
    {
     "name": "stderr",
     "output_type": "stream",
     "text": []
    },
    {
     "name": "stdout",
     "output_type": "stream",
     "text": [
      "4 22.79808497428894\n"
     ]
    },
    {
     "name": "stderr",
     "output_type": "stream",
     "text": []
    },
    {
     "name": "stdout",
     "output_type": "stream",
     "text": [
      "5 22.80018448829651\n"
     ]
    },
    {
     "name": "stderr",
     "output_type": "stream",
     "text": []
    },
    {
     "name": "stdout",
     "output_type": "stream",
     "text": [
      "6 22.80023503303528\n"
     ]
    },
    {
     "name": "stderr",
     "output_type": "stream",
     "text": []
    },
    {
     "name": "stdout",
     "output_type": "stream",
     "text": [
      "7 22.80578112602234\n"
     ]
    },
    {
     "name": "stderr",
     "output_type": "stream",
     "text": []
    },
    {
     "name": "stdout",
     "output_type": "stream",
     "text": [
      "8 22.795708179473877\n"
     ]
    },
    {
     "name": "stderr",
     "output_type": "stream",
     "text": []
    },
    {
     "name": "stdout",
     "output_type": "stream",
     "text": [
      "9 22.79918146133423\n"
     ]
    },
    {
     "name": "stderr",
     "output_type": "stream",
     "text": []
    },
    {
     "name": "stdout",
     "output_type": "stream",
     "text": [
      "10 22.795302867889404\n"
     ]
    },
    {
     "name": "stderr",
     "output_type": "stream",
     "text": []
    },
    {
     "name": "stdout",
     "output_type": "stream",
     "text": [
      "11 22.792991876602173\n"
     ]
    },
    {
     "name": "stderr",
     "output_type": "stream",
     "text": []
    },
    {
     "name": "stdout",
     "output_type": "stream",
     "text": [
      "12 22.801755905151367\n"
     ]
    },
    {
     "name": "stderr",
     "output_type": "stream",
     "text": []
    },
    {
     "name": "stdout",
     "output_type": "stream",
     "text": [
      "13 22.79966688156128\n"
     ]
    },
    {
     "name": "stderr",
     "output_type": "stream",
     "text": []
    },
    {
     "name": "stdout",
     "output_type": "stream",
     "text": [
      "14 22.806865692138672\n"
     ]
    },
    {
     "name": "stderr",
     "output_type": "stream",
     "text": []
    },
    {
     "name": "stdout",
     "output_type": "stream",
     "text": [
      "15 22.795421600341797\n"
     ]
    },
    {
     "name": "stderr",
     "output_type": "stream",
     "text": []
    },
    {
     "name": "stdout",
     "output_type": "stream",
     "text": [
      "16 22.791134357452393\n"
     ]
    },
    {
     "name": "stderr",
     "output_type": "stream",
     "text": []
    },
    {
     "name": "stdout",
     "output_type": "stream",
     "text": [
      "17 22.794779777526855\n"
     ]
    },
    {
     "name": "stderr",
     "output_type": "stream",
     "text": []
    },
    {
     "name": "stdout",
     "output_type": "stream",
     "text": [
      "18 22.801226139068604\n"
     ]
    },
    {
     "name": "stderr",
     "output_type": "stream",
     "text": []
    },
    {
     "name": "stdout",
     "output_type": "stream",
     "text": [
      "19 22.79982900619507\n"
     ]
    },
    {
     "name": "stderr",
     "output_type": "stream",
     "text": []
    },
    {
     "name": "stdout",
     "output_type": "stream",
     "text": [
      "20 22.797121047973633\n"
     ]
    },
    {
     "name": "stderr",
     "output_type": "stream",
     "text": []
    },
    {
     "name": "stdout",
     "output_type": "stream",
     "text": [
      "21 22.799022674560547\n"
     ]
    },
    {
     "name": "stderr",
     "output_type": "stream",
     "text": []
    },
    {
     "name": "stdout",
     "output_type": "stream",
     "text": [
      "22 22.800241231918335\n"
     ]
    },
    {
     "name": "stderr",
     "output_type": "stream",
     "text": []
    },
    {
     "name": "stdout",
     "output_type": "stream",
     "text": [
      "23 22.79714012145996\n"
     ]
    },
    {
     "name": "stderr",
     "output_type": "stream",
     "text": []
    },
    {
     "name": "stdout",
     "output_type": "stream",
     "text": [
      "24 22.795905828475952\n"
     ]
    },
    {
     "name": "stderr",
     "output_type": "stream",
     "text": []
    },
    {
     "name": "stdout",
     "output_type": "stream",
     "text": [
      "25 22.799590587615967\n"
     ]
    },
    {
     "name": "stderr",
     "output_type": "stream",
     "text": []
    },
    {
     "name": "stdout",
     "output_type": "stream",
     "text": [
      "26 22.799082040786743\n"
     ]
    },
    {
     "name": "stderr",
     "output_type": "stream",
     "text": []
    },
    {
     "name": "stdout",
     "output_type": "stream",
     "text": [
      "27 22.78967046737671\n"
     ]
    },
    {
     "name": "stderr",
     "output_type": "stream",
     "text": []
    },
    {
     "name": "stdout",
     "output_type": "stream",
     "text": [
      "28 22.789865732192993\n"
     ]
    },
    {
     "name": "stderr",
     "output_type": "stream",
     "text": []
    },
    {
     "name": "stdout",
     "output_type": "stream",
     "text": [
      "29 22.798962593078613\n"
     ]
    },
    {
     "name": "stderr",
     "output_type": "stream",
     "text": []
    },
    {
     "name": "stdout",
     "output_type": "stream",
     "text": [
      "30 22.790260076522827\n"
     ]
    },
    {
     "name": "stderr",
     "output_type": "stream",
     "text": []
    },
    {
     "name": "stdout",
     "output_type": "stream",
     "text": [
      "31 22.793526887893677\n"
     ]
    },
    {
     "name": "stderr",
     "output_type": "stream",
     "text": []
    },
    {
     "name": "stdout",
     "output_type": "stream",
     "text": [
      "32 22.790483713150024\n"
     ]
    },
    {
     "name": "stderr",
     "output_type": "stream",
     "text": []
    },
    {
     "name": "stdout",
     "output_type": "stream",
     "text": [
      "33 22.800787925720215\n"
     ]
    },
    {
     "name": "stderr",
     "output_type": "stream",
     "text": []
    },
    {
     "name": "stdout",
     "output_type": "stream",
     "text": [
      "34 22.79383683204651\n"
     ]
    },
    {
     "name": "stderr",
     "output_type": "stream",
     "text": []
    },
    {
     "name": "stdout",
     "output_type": "stream",
     "text": [
      "35 22.794113159179688\n"
     ]
    },
    {
     "name": "stderr",
     "output_type": "stream",
     "text": []
    },
    {
     "name": "stdout",
     "output_type": "stream",
     "text": [
      "36 22.799240589141846\n"
     ]
    },
    {
     "name": "stderr",
     "output_type": "stream",
     "text": []
    },
    {
     "name": "stdout",
     "output_type": "stream",
     "text": [
      "37 22.80274724960327\n"
     ]
    },
    {
     "name": "stderr",
     "output_type": "stream",
     "text": []
    },
    {
     "name": "stdout",
     "output_type": "stream",
     "text": [
      "38 22.801700830459595\n"
     ]
    },
    {
     "name": "stderr",
     "output_type": "stream",
     "text": []
    },
    {
     "name": "stdout",
     "output_type": "stream",
     "text": [
      "39 22.795555353164673\n"
     ]
    },
    {
     "name": "stderr",
     "output_type": "stream",
     "text": [
      "100%|██████████| 40/40 [15:11<00:00, 22.80s/it]\n"
     ]
    },
    {
     "name": "stdout",
     "output_type": "stream",
     "text": [
      "Done, saving (40, 800, 800, 3) (40, 800, 800)\n",
      "test poses shape torch.Size([25, 4, 4])\n"
     ]
    },
    {
     "name": "stderr",
     "output_type": "stream",
     "text": []
    },
    {
     "name": "stdout",
     "output_type": "stream",
     "text": [
      "0 0.001966238021850586\n"
     ]
    },
    {
     "name": "stderr",
     "output_type": "stream",
     "text": []
    },
    {
     "name": "stdout",
     "output_type": "stream",
     "text": [
      "torch.Size([800, 800, 3]) torch.Size([800, 800])\n",
      "Frame 0 - PSNR: 27.00, SSIM: 0.7641, LPIPS: 0.2781\n",
      "1 22.934166431427002\n"
     ]
    },
    {
     "name": "stderr",
     "output_type": "stream",
     "text": []
    },
    {
     "name": "stdout",
     "output_type": "stream",
     "text": [
      "Frame 1 - PSNR: 26.21, SSIM: 0.7591, LPIPS: 0.2681\n",
      "2 22.918662071228027\n"
     ]
    },
    {
     "name": "stderr",
     "output_type": "stream",
     "text": []
    },
    {
     "name": "stdout",
     "output_type": "stream",
     "text": [
      "Frame 2 - PSNR: 26.55, SSIM: 0.7679, LPIPS: 0.2669\n",
      "3 22.90735411643982\n"
     ]
    },
    {
     "name": "stderr",
     "output_type": "stream",
     "text": []
    },
    {
     "name": "stdout",
     "output_type": "stream",
     "text": [
      "Frame 3 - PSNR: 26.50, SSIM: 0.7678, LPIPS: 0.2733\n",
      "4 22.903963088989258\n"
     ]
    },
    {
     "name": "stderr",
     "output_type": "stream",
     "text": []
    },
    {
     "name": "stdout",
     "output_type": "stream",
     "text": [
      "Frame 4 - PSNR: 27.15, SSIM: 0.7979, LPIPS: 0.2532\n",
      "5 22.920548915863037\n"
     ]
    },
    {
     "name": "stderr",
     "output_type": "stream",
     "text": []
    },
    {
     "name": "stdout",
     "output_type": "stream",
     "text": [
      "Frame 5 - PSNR: 26.86, SSIM: 0.8213, LPIPS: 0.2466\n",
      "6 22.923102855682373\n"
     ]
    },
    {
     "name": "stderr",
     "output_type": "stream",
     "text": []
    },
    {
     "name": "stdout",
     "output_type": "stream",
     "text": [
      "Frame 6 - PSNR: 25.92, SSIM: 0.8263, LPIPS: 0.2499\n",
      "7 22.925333499908447\n"
     ]
    },
    {
     "name": "stderr",
     "output_type": "stream",
     "text": []
    },
    {
     "name": "stdout",
     "output_type": "stream",
     "text": [
      "Frame 7 - PSNR: 26.02, SSIM: 0.8314, LPIPS: 0.2421\n",
      "8 22.929626941680908\n"
     ]
    },
    {
     "name": "stderr",
     "output_type": "stream",
     "text": []
    },
    {
     "name": "stdout",
     "output_type": "stream",
     "text": [
      "Frame 8 - PSNR: 26.59, SSIM: 0.8391, LPIPS: 0.2336\n",
      "9 22.90926218032837\n"
     ]
    },
    {
     "name": "stderr",
     "output_type": "stream",
     "text": []
    },
    {
     "name": "stdout",
     "output_type": "stream",
     "text": [
      "Frame 9 - PSNR: 27.35, SSIM: 0.8617, LPIPS: 0.2120\n",
      "10 22.909739017486572\n"
     ]
    },
    {
     "name": "stderr",
     "output_type": "stream",
     "text": []
    },
    {
     "name": "stdout",
     "output_type": "stream",
     "text": [
      "Frame 10 - PSNR: 27.68, SSIM: 0.8801, LPIPS: 0.1968\n",
      "11 22.921414136886597\n"
     ]
    },
    {
     "name": "stderr",
     "output_type": "stream",
     "text": []
    },
    {
     "name": "stdout",
     "output_type": "stream",
     "text": [
      "Frame 11 - PSNR: 25.94, SSIM: 0.8624, LPIPS: 0.2024\n",
      "12 22.9185631275177\n"
     ]
    },
    {
     "name": "stderr",
     "output_type": "stream",
     "text": []
    },
    {
     "name": "stdout",
     "output_type": "stream",
     "text": [
      "Frame 12 - PSNR: 25.11, SSIM: 0.8577, LPIPS: 0.2074\n",
      "13 22.915401697158813\n"
     ]
    },
    {
     "name": "stderr",
     "output_type": "stream",
     "text": []
    },
    {
     "name": "stdout",
     "output_type": "stream",
     "text": [
      "Frame 13 - PSNR: 24.89, SSIM: 0.8624, LPIPS: 0.1996\n",
      "14 22.91575312614441\n"
     ]
    },
    {
     "name": "stderr",
     "output_type": "stream",
     "text": []
    },
    {
     "name": "stdout",
     "output_type": "stream",
     "text": [
      "Frame 14 - PSNR: 25.30, SSIM: 0.8790, LPIPS: 0.1827\n",
      "15 22.91814160346985\n"
     ]
    },
    {
     "name": "stderr",
     "output_type": "stream",
     "text": []
    },
    {
     "name": "stdout",
     "output_type": "stream",
     "text": [
      "Frame 15 - PSNR: 26.85, SSIM: 0.8934, LPIPS: 0.1675\n",
      "16 22.920835971832275\n"
     ]
    },
    {
     "name": "stderr",
     "output_type": "stream",
     "text": []
    },
    {
     "name": "stdout",
     "output_type": "stream",
     "text": [
      "Frame 16 - PSNR: 27.22, SSIM: 0.8783, LPIPS: 0.1780\n",
      "17 22.924399375915527\n"
     ]
    },
    {
     "name": "stderr",
     "output_type": "stream",
     "text": []
    },
    {
     "name": "stdout",
     "output_type": "stream",
     "text": [
      "Frame 17 - PSNR: 26.30, SSIM: 0.8540, LPIPS: 0.2045\n",
      "18 22.92063307762146\n"
     ]
    },
    {
     "name": "stderr",
     "output_type": "stream",
     "text": []
    },
    {
     "name": "stdout",
     "output_type": "stream",
     "text": [
      "Frame 18 - PSNR: 25.66, SSIM: 0.8365, LPIPS: 0.2371\n",
      "19 22.935542106628418\n"
     ]
    },
    {
     "name": "stderr",
     "output_type": "stream",
     "text": []
    },
    {
     "name": "stdout",
     "output_type": "stream",
     "text": [
      "Frame 19 - PSNR: 26.03, SSIM: 0.8267, LPIPS: 0.2486\n",
      "20 22.938648462295532\n"
     ]
    },
    {
     "name": "stderr",
     "output_type": "stream",
     "text": []
    },
    {
     "name": "stdout",
     "output_type": "stream",
     "text": [
      "Frame 20 - PSNR: 26.41, SSIM: 0.8246, LPIPS: 0.2567\n",
      "21 22.93488359451294\n"
     ]
    },
    {
     "name": "stderr",
     "output_type": "stream",
     "text": []
    },
    {
     "name": "stdout",
     "output_type": "stream",
     "text": [
      "Frame 21 - PSNR: 27.04, SSIM: 0.8198, LPIPS: 0.2671\n",
      "22 22.938873291015625\n"
     ]
    },
    {
     "name": "stderr",
     "output_type": "stream",
     "text": []
    },
    {
     "name": "stdout",
     "output_type": "stream",
     "text": [
      "Frame 22 - PSNR: 27.83, SSIM: 0.8254, LPIPS: 0.2751\n",
      "23 22.912168502807617\n"
     ]
    },
    {
     "name": "stderr",
     "output_type": "stream",
     "text": []
    },
    {
     "name": "stdout",
     "output_type": "stream",
     "text": [
      "Frame 23 - PSNR: 27.96, SSIM: 0.8072, LPIPS: 0.2809\n",
      "24 22.93242359161377\n"
     ]
    },
    {
     "name": "stderr",
     "output_type": "stream",
     "text": [
      "100%|██████████| 25/25 [09:33<00:00, 22.92s/it]\n",
      " 50%|█████     | 100000/200000 [5:04:37<12386:02:15, 445.90s/it]"
     ]
    },
    {
     "name": "stdout",
     "output_type": "stream",
     "text": [
      "Frame 24 - PSNR: 27.59, SSIM: 0.7825, LPIPS: 0.2816\n",
      "\n",
      "=== METRICS SUMMARY ===\n",
      "Average PSNR: 26.5579 ± 0.8180\n",
      "Average SSIM: 0.8291 ± 0.0385\n",
      "Average LPIPS: 0.2364 ± 0.0348\n",
      "=======================\n",
      "Metrics logged to: ./logs\\ship_blender200k_fullres\\metrics\\metrics_100000.txt and ./logs\\ship_blender200k_fullres\\metrics\\metrics_100000.json\n",
      "Training history updated: ./logs\\ship_blender200k_fullres\\metrics\\training_metrics.json\n",
      "Saved test set with metrics\n",
      "[TRAIN] Iter: 100000 Loss: 0.007290446665138006  PSNR: 25.19590950012207\n"
     ]
    },
    {
     "name": "stderr",
     "output_type": "stream",
     "text": [
      " 51%|█████     | 101002/200000 [5:06:19<2:49:19,  9.74it/s]     "
     ]
    },
    {
     "name": "stdout",
     "output_type": "stream",
     "text": [
      "[TRAIN] Iter: 101000 Loss: 0.005116189830005169  PSNR: 26.752296447753906\n"
     ]
    },
    {
     "name": "stderr",
     "output_type": "stream",
     "text": [
      " 51%|█████     | 102002/200000 [5:08:02<2:45:14,  9.88it/s]"
     ]
    },
    {
     "name": "stdout",
     "output_type": "stream",
     "text": [
      "[TRAIN] Iter: 102000 Loss: 0.00451489444822073  PSNR: 27.772817611694336\n"
     ]
    },
    {
     "name": "stderr",
     "output_type": "stream",
     "text": [
      " 52%|█████▏    | 103002/200000 [5:09:44<2:44:05,  9.85it/s]"
     ]
    },
    {
     "name": "stdout",
     "output_type": "stream",
     "text": [
      "[TRAIN] Iter: 103000 Loss: 0.00622481107711792  PSNR: 26.96769142150879\n"
     ]
    },
    {
     "name": "stderr",
     "output_type": "stream",
     "text": [
      " 52%|█████▏    | 104002/200000 [5:11:28<2:42:44,  9.83it/s]"
     ]
    },
    {
     "name": "stdout",
     "output_type": "stream",
     "text": [
      "[TRAIN] Iter: 104000 Loss: 0.006395920179784298  PSNR: 25.68978500366211\n"
     ]
    },
    {
     "name": "stderr",
     "output_type": "stream",
     "text": [
      " 53%|█████▎    | 105002/200000 [5:13:10<2:40:39,  9.85it/s]"
     ]
    },
    {
     "name": "stdout",
     "output_type": "stream",
     "text": [
      "[TRAIN] Iter: 105000 Loss: 0.0067395493388175964  PSNR: 26.49660301208496\n"
     ]
    },
    {
     "name": "stderr",
     "output_type": "stream",
     "text": [
      " 53%|█████▎    | 106002/200000 [5:14:53<2:41:19,  9.71it/s]"
     ]
    },
    {
     "name": "stdout",
     "output_type": "stream",
     "text": [
      "[TRAIN] Iter: 106000 Loss: 0.006965043023228645  PSNR: 25.755834579467773\n"
     ]
    },
    {
     "name": "stderr",
     "output_type": "stream",
     "text": [
      " 54%|█████▎    | 107002/200000 [5:16:36<2:37:00,  9.87it/s]"
     ]
    },
    {
     "name": "stdout",
     "output_type": "stream",
     "text": [
      "[TRAIN] Iter: 107000 Loss: 0.006557857617735863  PSNR: 26.76529312133789\n"
     ]
    },
    {
     "name": "stderr",
     "output_type": "stream",
     "text": [
      " 54%|█████▍    | 108002/200000 [5:18:18<2:36:32,  9.80it/s]"
     ]
    },
    {
     "name": "stdout",
     "output_type": "stream",
     "text": [
      "[TRAIN] Iter: 108000 Loss: 0.004999340511858463  PSNR: 28.0023250579834\n"
     ]
    },
    {
     "name": "stderr",
     "output_type": "stream",
     "text": [
      " 55%|█████▍    | 109002/200000 [5:20:00<2:34:14,  9.83it/s]"
     ]
    },
    {
     "name": "stdout",
     "output_type": "stream",
     "text": [
      "[TRAIN] Iter: 109000 Loss: 0.004446455277502537  PSNR: 27.234092712402344\n"
     ]
    },
    {
     "name": "stderr",
     "output_type": "stream",
     "text": [
      " 55%|█████▍    | 109999/200000 [5:21:43<2:34:16,  9.72it/s]"
     ]
    },
    {
     "name": "stdout",
     "output_type": "stream",
     "text": [
      "Saved checkpoints at ./logs\\ship_blender200k_fullres\\checkpoints\\110000.tar\n",
      "test poses shape torch.Size([25, 4, 4])\n"
     ]
    },
    {
     "name": "stderr",
     "output_type": "stream",
     "text": []
    },
    {
     "name": "stdout",
     "output_type": "stream",
     "text": [
      "0 0.0020799636840820312\n"
     ]
    },
    {
     "name": "stderr",
     "output_type": "stream",
     "text": []
    },
    {
     "name": "stdout",
     "output_type": "stream",
     "text": [
      "torch.Size([800, 800, 3]) torch.Size([800, 800])\n",
      "Frame 0 - PSNR: 27.14, SSIM: 0.7682, LPIPS: 0.2715\n",
      "1 22.938212156295776\n"
     ]
    },
    {
     "name": "stderr",
     "output_type": "stream",
     "text": []
    },
    {
     "name": "stdout",
     "output_type": "stream",
     "text": [
      "Frame 1 - PSNR: 26.37, SSIM: 0.7635, LPIPS: 0.2637\n",
      "2 22.928044319152832\n"
     ]
    },
    {
     "name": "stderr",
     "output_type": "stream",
     "text": []
    },
    {
     "name": "stdout",
     "output_type": "stream",
     "text": [
      "Frame 2 - PSNR: 26.68, SSIM: 0.7716, LPIPS: 0.2631\n",
      "3 22.908222436904907\n"
     ]
    },
    {
     "name": "stderr",
     "output_type": "stream",
     "text": []
    },
    {
     "name": "stdout",
     "output_type": "stream",
     "text": [
      "Frame 3 - PSNR: 26.56, SSIM: 0.7703, LPIPS: 0.2718\n",
      "4 22.91520094871521\n"
     ]
    },
    {
     "name": "stderr",
     "output_type": "stream",
     "text": []
    },
    {
     "name": "stdout",
     "output_type": "stream",
     "text": [
      "Frame 4 - PSNR: 27.33, SSIM: 0.8012, LPIPS: 0.2503\n",
      "5 22.914613962173462\n"
     ]
    },
    {
     "name": "stderr",
     "output_type": "stream",
     "text": []
    },
    {
     "name": "stdout",
     "output_type": "stream",
     "text": [
      "Frame 5 - PSNR: 27.11, SSIM: 0.8240, LPIPS: 0.2423\n",
      "6 22.919781923294067\n"
     ]
    },
    {
     "name": "stderr",
     "output_type": "stream",
     "text": []
    },
    {
     "name": "stdout",
     "output_type": "stream",
     "text": [
      "Frame 6 - PSNR: 26.17, SSIM: 0.8285, LPIPS: 0.2469\n",
      "7 22.913013696670532\n"
     ]
    },
    {
     "name": "stderr",
     "output_type": "stream",
     "text": []
    },
    {
     "name": "stdout",
     "output_type": "stream",
     "text": [
      "Frame 7 - PSNR: 26.36, SSIM: 0.8336, LPIPS: 0.2387\n",
      "8 22.922499656677246\n"
     ]
    },
    {
     "name": "stderr",
     "output_type": "stream",
     "text": []
    },
    {
     "name": "stdout",
     "output_type": "stream",
     "text": [
      "Frame 8 - PSNR: 26.81, SSIM: 0.8415, LPIPS: 0.2338\n",
      "9 22.918206453323364\n"
     ]
    },
    {
     "name": "stderr",
     "output_type": "stream",
     "text": []
    },
    {
     "name": "stdout",
     "output_type": "stream",
     "text": [
      "Frame 9 - PSNR: 27.57, SSIM: 0.8632, LPIPS: 0.2117\n",
      "10 22.923223972320557\n"
     ]
    },
    {
     "name": "stderr",
     "output_type": "stream",
     "text": []
    },
    {
     "name": "stdout",
     "output_type": "stream",
     "text": [
      "Frame 10 - PSNR: 27.76, SSIM: 0.8818, LPIPS: 0.1964\n",
      "11 22.920253038406372\n"
     ]
    },
    {
     "name": "stderr",
     "output_type": "stream",
     "text": []
    },
    {
     "name": "stdout",
     "output_type": "stream",
     "text": [
      "Frame 11 - PSNR: 26.32, SSIM: 0.8646, LPIPS: 0.2024\n",
      "12 22.91508436203003\n"
     ]
    },
    {
     "name": "stderr",
     "output_type": "stream",
     "text": []
    },
    {
     "name": "stdout",
     "output_type": "stream",
     "text": [
      "Frame 12 - PSNR: 25.49, SSIM: 0.8589, LPIPS: 0.2083\n",
      "13 22.908708333969116\n"
     ]
    },
    {
     "name": "stderr",
     "output_type": "stream",
     "text": []
    },
    {
     "name": "stdout",
     "output_type": "stream",
     "text": [
      "Frame 13 - PSNR: 25.41, SSIM: 0.8652, LPIPS: 0.1976\n",
      "14 22.910770654678345\n"
     ]
    },
    {
     "name": "stderr",
     "output_type": "stream",
     "text": []
    },
    {
     "name": "stdout",
     "output_type": "stream",
     "text": [
      "Frame 14 - PSNR: 25.52, SSIM: 0.8815, LPIPS: 0.1840\n",
      "15 22.90380072593689\n"
     ]
    },
    {
     "name": "stderr",
     "output_type": "stream",
     "text": []
    },
    {
     "name": "stdout",
     "output_type": "stream",
     "text": [
      "Frame 15 - PSNR: 26.98, SSIM: 0.8976, LPIPS: 0.1642\n",
      "16 22.900609731674194\n"
     ]
    },
    {
     "name": "stderr",
     "output_type": "stream",
     "text": []
    },
    {
     "name": "stdout",
     "output_type": "stream",
     "text": [
      "Frame 16 - PSNR: 27.39, SSIM: 0.8821, LPIPS: 0.1745\n",
      "17 22.922460556030273\n"
     ]
    },
    {
     "name": "stderr",
     "output_type": "stream",
     "text": []
    },
    {
     "name": "stdout",
     "output_type": "stream",
     "text": [
      "Frame 17 - PSNR: 26.54, SSIM: 0.8573, LPIPS: 0.2006\n",
      "18 22.92206835746765\n"
     ]
    },
    {
     "name": "stderr",
     "output_type": "stream",
     "text": []
    },
    {
     "name": "stdout",
     "output_type": "stream",
     "text": [
      "Frame 18 - PSNR: 25.68, SSIM: 0.8382, LPIPS: 0.2339\n",
      "19 22.92118215560913\n"
     ]
    },
    {
     "name": "stderr",
     "output_type": "stream",
     "text": []
    },
    {
     "name": "stdout",
     "output_type": "stream",
     "text": [
      "Frame 19 - PSNR: 26.28, SSIM: 0.8286, LPIPS: 0.2468\n",
      "20 22.923465967178345\n"
     ]
    },
    {
     "name": "stderr",
     "output_type": "stream",
     "text": []
    },
    {
     "name": "stdout",
     "output_type": "stream",
     "text": [
      "Frame 20 - PSNR: 26.67, SSIM: 0.8274, LPIPS: 0.2511\n",
      "21 22.91589641571045\n"
     ]
    },
    {
     "name": "stderr",
     "output_type": "stream",
     "text": []
    },
    {
     "name": "stdout",
     "output_type": "stream",
     "text": [
      "Frame 21 - PSNR: 27.15, SSIM: 0.8215, LPIPS: 0.2614\n",
      "22 22.924138069152832\n"
     ]
    },
    {
     "name": "stderr",
     "output_type": "stream",
     "text": []
    },
    {
     "name": "stdout",
     "output_type": "stream",
     "text": [
      "Frame 22 - PSNR: 28.00, SSIM: 0.8269, LPIPS: 0.2747\n",
      "23 22.922317028045654\n"
     ]
    },
    {
     "name": "stderr",
     "output_type": "stream",
     "text": []
    },
    {
     "name": "stdout",
     "output_type": "stream",
     "text": [
      "Frame 23 - PSNR: 28.14, SSIM: 0.8091, LPIPS: 0.2755\n",
      "24 22.915839910507202\n"
     ]
    },
    {
     "name": "stderr",
     "output_type": "stream",
     "text": [
      "100%|██████████| 25/25 [09:32<00:00, 22.92s/it]\n",
      " 55%|█████▌    | 110000/200000 [5:31:16<4227:07:56, 169.09s/it]"
     ]
    },
    {
     "name": "stdout",
     "output_type": "stream",
     "text": [
      "Frame 24 - PSNR: 27.70, SSIM: 0.7852, LPIPS: 0.2764\n",
      "\n",
      "=== METRICS SUMMARY ===\n",
      "Average PSNR: 26.7647 ± 0.7613\n",
      "Average SSIM: 0.8317 ± 0.0382\n",
      "Average LPIPS: 0.2337 ± 0.0337\n",
      "=======================\n",
      "Metrics logged to: ./logs\\ship_blender200k_fullres\\metrics\\metrics_110000.txt and ./logs\\ship_blender200k_fullres\\metrics\\metrics_110000.json\n",
      "Training history updated: ./logs\\ship_blender200k_fullres\\metrics\\training_metrics.json\n",
      "Saved test set with metrics\n",
      "[TRAIN] Iter: 110000 Loss: 0.005273218732327223  PSNR: 27.009370803833008\n"
     ]
    },
    {
     "name": "stderr",
     "output_type": "stream",
     "text": [
      " 56%|█████▌    | 111002/200000 [5:32:58<2:30:42,  9.84it/s]    "
     ]
    },
    {
     "name": "stdout",
     "output_type": "stream",
     "text": [
      "[TRAIN] Iter: 111000 Loss: 0.005344275385141373  PSNR: 26.557607650756836\n"
     ]
    },
    {
     "name": "stderr",
     "output_type": "stream",
     "text": [
      " 56%|█████▌    | 112002/200000 [5:34:41<2:30:07,  9.77it/s]"
     ]
    },
    {
     "name": "stdout",
     "output_type": "stream",
     "text": [
      "[TRAIN] Iter: 112000 Loss: 0.005739561747759581  PSNR: 26.43319320678711\n"
     ]
    },
    {
     "name": "stderr",
     "output_type": "stream",
     "text": [
      " 57%|█████▋    | 113002/200000 [5:36:23<2:26:58,  9.87it/s]"
     ]
    },
    {
     "name": "stdout",
     "output_type": "stream",
     "text": [
      "[TRAIN] Iter: 113000 Loss: 0.006143179722130299  PSNR: 26.87340545654297\n"
     ]
    },
    {
     "name": "stderr",
     "output_type": "stream",
     "text": [
      " 57%|█████▋    | 114002/200000 [5:38:05<2:26:16,  9.80it/s]"
     ]
    },
    {
     "name": "stdout",
     "output_type": "stream",
     "text": [
      "[TRAIN] Iter: 114000 Loss: 0.005358024500310421  PSNR: 27.47888946533203\n"
     ]
    },
    {
     "name": "stderr",
     "output_type": "stream",
     "text": [
      " 58%|█████▊    | 115002/200000 [5:39:48<2:24:45,  9.79it/s]"
     ]
    },
    {
     "name": "stdout",
     "output_type": "stream",
     "text": [
      "[TRAIN] Iter: 115000 Loss: 0.0044694929383695126  PSNR: 27.10602378845215\n"
     ]
    },
    {
     "name": "stderr",
     "output_type": "stream",
     "text": [
      " 58%|█████▊    | 116002/200000 [5:41:30<2:22:04,  9.85it/s]"
     ]
    },
    {
     "name": "stdout",
     "output_type": "stream",
     "text": [
      "[TRAIN] Iter: 116000 Loss: 0.0036136996932327747  PSNR: 29.157426834106445\n"
     ]
    },
    {
     "name": "stderr",
     "output_type": "stream",
     "text": [
      " 59%|█████▊    | 117002/200000 [5:43:12<2:19:38,  9.91it/s]"
     ]
    },
    {
     "name": "stdout",
     "output_type": "stream",
     "text": [
      "[TRAIN] Iter: 117000 Loss: 0.0033683625515550375  PSNR: 29.02174949645996\n"
     ]
    },
    {
     "name": "stderr",
     "output_type": "stream",
     "text": [
      " 59%|█████▉    | 118002/200000 [5:44:54<2:18:09,  9.89it/s]"
     ]
    },
    {
     "name": "stdout",
     "output_type": "stream",
     "text": [
      "[TRAIN] Iter: 118000 Loss: 0.005111523903906345  PSNR: 26.489377975463867\n"
     ]
    },
    {
     "name": "stderr",
     "output_type": "stream",
     "text": [
      " 60%|█████▉    | 119002/200000 [5:46:37<2:16:04,  9.92it/s]"
     ]
    },
    {
     "name": "stdout",
     "output_type": "stream",
     "text": [
      "[TRAIN] Iter: 119000 Loss: 0.004917513579130173  PSNR: 27.57090187072754\n"
     ]
    },
    {
     "name": "stderr",
     "output_type": "stream",
     "text": [
      " 60%|█████▉    | 119999/200000 [5:48:19<2:15:57,  9.81it/s]"
     ]
    },
    {
     "name": "stdout",
     "output_type": "stream",
     "text": [
      "Saved checkpoints at ./logs\\ship_blender200k_fullres\\checkpoints\\120000.tar\n",
      "test poses shape torch.Size([25, 4, 4])\n"
     ]
    },
    {
     "name": "stderr",
     "output_type": "stream",
     "text": []
    },
    {
     "name": "stdout",
     "output_type": "stream",
     "text": [
      "0 0.0018434524536132812\n"
     ]
    },
    {
     "name": "stderr",
     "output_type": "stream",
     "text": []
    },
    {
     "name": "stdout",
     "output_type": "stream",
     "text": [
      "torch.Size([800, 800, 3]) torch.Size([800, 800])\n",
      "Frame 0 - PSNR: 27.25, SSIM: 0.7695, LPIPS: 0.2715\n",
      "1 22.944305896759033\n"
     ]
    },
    {
     "name": "stderr",
     "output_type": "stream",
     "text": []
    },
    {
     "name": "stdout",
     "output_type": "stream",
     "text": [
      "Frame 1 - PSNR: 26.49, SSIM: 0.7659, LPIPS: 0.2636\n",
      "2 22.91694736480713\n"
     ]
    },
    {
     "name": "stderr",
     "output_type": "stream",
     "text": []
    },
    {
     "name": "stdout",
     "output_type": "stream",
     "text": [
      "Frame 2 - PSNR: 26.83, SSIM: 0.7745, LPIPS: 0.2598\n",
      "3 22.93131947517395\n"
     ]
    },
    {
     "name": "stderr",
     "output_type": "stream",
     "text": []
    },
    {
     "name": "stdout",
     "output_type": "stream",
     "text": [
      "Frame 3 - PSNR: 26.65, SSIM: 0.7719, LPIPS: 0.2674\n",
      "4 22.92571187019348\n"
     ]
    },
    {
     "name": "stderr",
     "output_type": "stream",
     "text": []
    },
    {
     "name": "stdout",
     "output_type": "stream",
     "text": [
      "Frame 4 - PSNR: 27.45, SSIM: 0.8026, LPIPS: 0.2470\n",
      "5 22.93489384651184\n"
     ]
    },
    {
     "name": "stderr",
     "output_type": "stream",
     "text": []
    },
    {
     "name": "stdout",
     "output_type": "stream",
     "text": [
      "Frame 5 - PSNR: 27.26, SSIM: 0.8262, LPIPS: 0.2405\n",
      "6 22.923863649368286\n"
     ]
    },
    {
     "name": "stderr",
     "output_type": "stream",
     "text": []
    },
    {
     "name": "stdout",
     "output_type": "stream",
     "text": [
      "Frame 6 - PSNR: 26.26, SSIM: 0.8294, LPIPS: 0.2464\n",
      "7 22.918084383010864\n"
     ]
    },
    {
     "name": "stderr",
     "output_type": "stream",
     "text": []
    },
    {
     "name": "stdout",
     "output_type": "stream",
     "text": [
      "Frame 7 - PSNR: 26.44, SSIM: 0.8351, LPIPS: 0.2384\n",
      "8 22.920555591583252\n"
     ]
    },
    {
     "name": "stderr",
     "output_type": "stream",
     "text": []
    },
    {
     "name": "stdout",
     "output_type": "stream",
     "text": [
      "Frame 8 - PSNR: 26.85, SSIM: 0.8422, LPIPS: 0.2312\n",
      "9 22.91703486442566\n"
     ]
    },
    {
     "name": "stderr",
     "output_type": "stream",
     "text": []
    },
    {
     "name": "stdout",
     "output_type": "stream",
     "text": [
      "Frame 9 - PSNR: 27.54, SSIM: 0.8637, LPIPS: 0.2100\n",
      "10 22.92373776435852\n"
     ]
    },
    {
     "name": "stderr",
     "output_type": "stream",
     "text": []
    },
    {
     "name": "stdout",
     "output_type": "stream",
     "text": [
      "Frame 10 - PSNR: 27.88, SSIM: 0.8818, LPIPS: 0.1955\n",
      "11 22.920642614364624\n"
     ]
    },
    {
     "name": "stderr",
     "output_type": "stream",
     "text": []
    },
    {
     "name": "stdout",
     "output_type": "stream",
     "text": [
      "Frame 11 - PSNR: 26.20, SSIM: 0.8645, LPIPS: 0.1996\n",
      "12 22.920297861099243\n"
     ]
    },
    {
     "name": "stderr",
     "output_type": "stream",
     "text": []
    },
    {
     "name": "stdout",
     "output_type": "stream",
     "text": [
      "Frame 12 - PSNR: 25.38, SSIM: 0.8581, LPIPS: 0.2071\n",
      "13 22.91123056411743\n"
     ]
    },
    {
     "name": "stderr",
     "output_type": "stream",
     "text": []
    },
    {
     "name": "stdout",
     "output_type": "stream",
     "text": [
      "Frame 13 - PSNR: 25.21, SSIM: 0.8643, LPIPS: 0.1981\n",
      "14 22.909313917160034\n"
     ]
    },
    {
     "name": "stderr",
     "output_type": "stream",
     "text": []
    },
    {
     "name": "stdout",
     "output_type": "stream",
     "text": [
      "Frame 14 - PSNR: 25.51, SSIM: 0.8812, LPIPS: 0.1836\n",
      "15 22.899950981140137\n"
     ]
    },
    {
     "name": "stderr",
     "output_type": "stream",
     "text": []
    },
    {
     "name": "stdout",
     "output_type": "stream",
     "text": [
      "Frame 15 - PSNR: 27.14, SSIM: 0.8980, LPIPS: 0.1645\n",
      "16 22.899266719818115\n"
     ]
    },
    {
     "name": "stderr",
     "output_type": "stream",
     "text": []
    },
    {
     "name": "stdout",
     "output_type": "stream",
     "text": [
      "Frame 16 - PSNR: 27.66, SSIM: 0.8835, LPIPS: 0.1730\n",
      "17 22.89752221107483\n"
     ]
    },
    {
     "name": "stderr",
     "output_type": "stream",
     "text": []
    },
    {
     "name": "stdout",
     "output_type": "stream",
     "text": [
      "Frame 17 - PSNR: 26.70, SSIM: 0.8589, LPIPS: 0.2022\n",
      "18 22.899394989013672\n"
     ]
    },
    {
     "name": "stderr",
     "output_type": "stream",
     "text": []
    },
    {
     "name": "stdout",
     "output_type": "stream",
     "text": [
      "Frame 18 - PSNR: 25.84, SSIM: 0.8393, LPIPS: 0.2315\n",
      "19 22.902332544326782\n"
     ]
    },
    {
     "name": "stderr",
     "output_type": "stream",
     "text": []
    },
    {
     "name": "stdout",
     "output_type": "stream",
     "text": [
      "Frame 19 - PSNR: 26.39, SSIM: 0.8297, LPIPS: 0.2455\n",
      "20 22.91644024848938\n"
     ]
    },
    {
     "name": "stderr",
     "output_type": "stream",
     "text": []
    },
    {
     "name": "stdout",
     "output_type": "stream",
     "text": [
      "Frame 20 - PSNR: 26.80, SSIM: 0.8293, LPIPS: 0.2502\n",
      "21 22.915878295898438\n"
     ]
    },
    {
     "name": "stderr",
     "output_type": "stream",
     "text": []
    },
    {
     "name": "stdout",
     "output_type": "stream",
     "text": [
      "Frame 21 - PSNR: 27.27, SSIM: 0.8224, LPIPS: 0.2621\n",
      "22 22.910560607910156\n"
     ]
    },
    {
     "name": "stderr",
     "output_type": "stream",
     "text": []
    },
    {
     "name": "stdout",
     "output_type": "stream",
     "text": [
      "Frame 22 - PSNR: 28.15, SSIM: 0.8278, LPIPS: 0.2698\n",
      "23 22.920641899108887\n"
     ]
    },
    {
     "name": "stderr",
     "output_type": "stream",
     "text": []
    },
    {
     "name": "stdout",
     "output_type": "stream",
     "text": [
      "Frame 23 - PSNR: 28.33, SSIM: 0.8110, LPIPS: 0.2724\n",
      "24 22.924783945083618\n"
     ]
    },
    {
     "name": "stderr",
     "output_type": "stream",
     "text": [
      "100%|██████████| 25/25 [09:32<00:00, 22.92s/it]\n",
      " 60%|██████    | 120000/200000 [5:57:52<3822:21:29, 172.01s/it]"
     ]
    },
    {
     "name": "stdout",
     "output_type": "stream",
     "text": [
      "Frame 24 - PSNR: 27.79, SSIM: 0.7863, LPIPS: 0.2758\n",
      "\n",
      "=== METRICS SUMMARY ===\n",
      "Average PSNR: 26.8514 ± 0.8227\n",
      "Average SSIM: 0.8327 ± 0.0376\n",
      "Average LPIPS: 0.2323 ± 0.0331\n",
      "=======================\n",
      "Metrics logged to: ./logs\\ship_blender200k_fullres\\metrics\\metrics_120000.txt and ./logs\\ship_blender200k_fullres\\metrics\\metrics_120000.json\n",
      "Training history updated: ./logs\\ship_blender200k_fullres\\metrics\\training_metrics.json\n",
      "Saved test set with metrics\n",
      "[TRAIN] Iter: 120000 Loss: 0.00364259397611022  PSNR: 28.199413299560547\n"
     ]
    },
    {
     "name": "stderr",
     "output_type": "stream",
     "text": [
      " 61%|██████    | 121002/200000 [5:59:34<2:14:17,  9.80it/s]    "
     ]
    },
    {
     "name": "stdout",
     "output_type": "stream",
     "text": [
      "[TRAIN] Iter: 121000 Loss: 0.006175481714308262  PSNR: 26.259958267211914\n"
     ]
    },
    {
     "name": "stderr",
     "output_type": "stream",
     "text": [
      " 61%|██████    | 122002/200000 [6:01:17<2:12:45,  9.79it/s]"
     ]
    },
    {
     "name": "stdout",
     "output_type": "stream",
     "text": [
      "[TRAIN] Iter: 122000 Loss: 0.004943476058542728  PSNR: 27.674129486083984\n"
     ]
    },
    {
     "name": "stderr",
     "output_type": "stream",
     "text": [
      " 62%|██████▏   | 123002/200000 [6:02:59<2:11:08,  9.79it/s]"
     ]
    },
    {
     "name": "stdout",
     "output_type": "stream",
     "text": [
      "[TRAIN] Iter: 123000 Loss: 0.0060000307857990265  PSNR: 25.691150665283203\n"
     ]
    },
    {
     "name": "stderr",
     "output_type": "stream",
     "text": [
      " 62%|██████▏   | 124002/200000 [6:04:41<2:09:13,  9.80it/s]"
     ]
    },
    {
     "name": "stdout",
     "output_type": "stream",
     "text": [
      "[TRAIN] Iter: 124000 Loss: 0.006748349405825138  PSNR: 26.708738327026367\n"
     ]
    },
    {
     "name": "stderr",
     "output_type": "stream",
     "text": [
      " 63%|██████▎   | 125002/200000 [6:06:23<2:06:59,  9.84it/s]"
     ]
    },
    {
     "name": "stdout",
     "output_type": "stream",
     "text": [
      "[TRAIN] Iter: 125000 Loss: 0.0060855792835354805  PSNR: 26.283348083496094\n"
     ]
    },
    {
     "name": "stderr",
     "output_type": "stream",
     "text": [
      " 63%|██████▎   | 126002/200000 [6:08:06<2:05:33,  9.82it/s]"
     ]
    },
    {
     "name": "stdout",
     "output_type": "stream",
     "text": [
      "[TRAIN] Iter: 126000 Loss: 0.00398856308311224  PSNR: 27.826791763305664\n"
     ]
    },
    {
     "name": "stderr",
     "output_type": "stream",
     "text": [
      " 64%|██████▎   | 127002/200000 [6:09:48<2:05:25,  9.70it/s]"
     ]
    },
    {
     "name": "stdout",
     "output_type": "stream",
     "text": [
      "[TRAIN] Iter: 127000 Loss: 0.004166990984231234  PSNR: 27.52094078063965\n"
     ]
    },
    {
     "name": "stderr",
     "output_type": "stream",
     "text": [
      " 64%|██████▍   | 128002/200000 [6:11:31<2:02:44,  9.78it/s]"
     ]
    },
    {
     "name": "stdout",
     "output_type": "stream",
     "text": [
      "[TRAIN] Iter: 128000 Loss: 0.005775174126029015  PSNR: 25.850364685058594\n"
     ]
    },
    {
     "name": "stderr",
     "output_type": "stream",
     "text": [
      " 65%|██████▍   | 129002/200000 [6:13:14<2:02:04,  9.69it/s]"
     ]
    },
    {
     "name": "stdout",
     "output_type": "stream",
     "text": [
      "[TRAIN] Iter: 129000 Loss: 0.0047821104526519775  PSNR: 28.311790466308594\n"
     ]
    },
    {
     "name": "stderr",
     "output_type": "stream",
     "text": [
      " 65%|██████▍   | 129999/200000 [6:14:57<1:59:33,  9.76it/s]"
     ]
    },
    {
     "name": "stdout",
     "output_type": "stream",
     "text": [
      "Saved checkpoints at ./logs\\ship_blender200k_fullres\\checkpoints\\130000.tar\n",
      "test poses shape torch.Size([25, 4, 4])\n"
     ]
    },
    {
     "name": "stderr",
     "output_type": "stream",
     "text": []
    },
    {
     "name": "stdout",
     "output_type": "stream",
     "text": [
      "0 0.001852273941040039\n"
     ]
    },
    {
     "name": "stderr",
     "output_type": "stream",
     "text": []
    },
    {
     "name": "stdout",
     "output_type": "stream",
     "text": [
      "torch.Size([800, 800, 3]) torch.Size([800, 800])\n",
      "Frame 0 - PSNR: 27.30, SSIM: 0.7716, LPIPS: 0.2685\n",
      "1 22.927440643310547\n"
     ]
    },
    {
     "name": "stderr",
     "output_type": "stream",
     "text": []
    },
    {
     "name": "stdout",
     "output_type": "stream",
     "text": [
      "Frame 1 - PSNR: 26.51, SSIM: 0.7682, LPIPS: 0.2585\n",
      "2 22.918583869934082\n"
     ]
    },
    {
     "name": "stderr",
     "output_type": "stream",
     "text": []
    },
    {
     "name": "stdout",
     "output_type": "stream",
     "text": [
      "Frame 2 - PSNR: 26.92, SSIM: 0.7775, LPIPS: 0.2553\n",
      "3 22.90983772277832\n"
     ]
    },
    {
     "name": "stderr",
     "output_type": "stream",
     "text": []
    },
    {
     "name": "stdout",
     "output_type": "stream",
     "text": [
      "Frame 3 - PSNR: 26.79, SSIM: 0.7729, LPIPS: 0.2653\n",
      "4 22.94018578529358\n"
     ]
    },
    {
     "name": "stderr",
     "output_type": "stream",
     "text": []
    },
    {
     "name": "stdout",
     "output_type": "stream",
     "text": [
      "Frame 4 - PSNR: 27.49, SSIM: 0.8033, LPIPS: 0.2448\n",
      "5 22.931119203567505\n"
     ]
    },
    {
     "name": "stderr",
     "output_type": "stream",
     "text": []
    },
    {
     "name": "stdout",
     "output_type": "stream",
     "text": [
      "Frame 5 - PSNR: 27.30, SSIM: 0.8267, LPIPS: 0.2374\n",
      "6 22.933418035507202\n"
     ]
    },
    {
     "name": "stderr",
     "output_type": "stream",
     "text": []
    },
    {
     "name": "stdout",
     "output_type": "stream",
     "text": [
      "Frame 6 - PSNR: 26.34, SSIM: 0.8313, LPIPS: 0.2438\n",
      "7 22.92680788040161\n"
     ]
    },
    {
     "name": "stderr",
     "output_type": "stream",
     "text": []
    },
    {
     "name": "stdout",
     "output_type": "stream",
     "text": [
      "Frame 7 - PSNR: 26.50, SSIM: 0.8367, LPIPS: 0.2371\n",
      "8 22.9282169342041\n"
     ]
    },
    {
     "name": "stderr",
     "output_type": "stream",
     "text": []
    },
    {
     "name": "stdout",
     "output_type": "stream",
     "text": [
      "Frame 8 - PSNR: 26.95, SSIM: 0.8433, LPIPS: 0.2289\n",
      "9 22.92700719833374\n"
     ]
    },
    {
     "name": "stderr",
     "output_type": "stream",
     "text": []
    },
    {
     "name": "stdout",
     "output_type": "stream",
     "text": [
      "Frame 9 - PSNR: 27.62, SSIM: 0.8647, LPIPS: 0.2106\n",
      "10 22.92093253135681\n"
     ]
    },
    {
     "name": "stderr",
     "output_type": "stream",
     "text": []
    },
    {
     "name": "stdout",
     "output_type": "stream",
     "text": [
      "Frame 10 - PSNR: 27.86, SSIM: 0.8830, LPIPS: 0.1932\n",
      "11 22.906977653503418\n"
     ]
    },
    {
     "name": "stderr",
     "output_type": "stream",
     "text": []
    },
    {
     "name": "stdout",
     "output_type": "stream",
     "text": [
      "Frame 11 - PSNR: 26.17, SSIM: 0.8638, LPIPS: 0.1987\n",
      "12 22.902690887451172\n"
     ]
    },
    {
     "name": "stderr",
     "output_type": "stream",
     "text": []
    },
    {
     "name": "stdout",
     "output_type": "stream",
     "text": [
      "Frame 12 - PSNR: 25.31, SSIM: 0.8592, LPIPS: 0.2057\n",
      "13 22.894293546676636\n"
     ]
    },
    {
     "name": "stderr",
     "output_type": "stream",
     "text": []
    },
    {
     "name": "stdout",
     "output_type": "stream",
     "text": [
      "Frame 13 - PSNR: 25.18, SSIM: 0.8644, LPIPS: 0.1976\n",
      "14 22.899425983428955\n"
     ]
    },
    {
     "name": "stderr",
     "output_type": "stream",
     "text": []
    },
    {
     "name": "stdout",
     "output_type": "stream",
     "text": [
      "Frame 14 - PSNR: 25.70, SSIM: 0.8832, LPIPS: 0.1814\n",
      "15 22.903334379196167\n"
     ]
    },
    {
     "name": "stderr",
     "output_type": "stream",
     "text": []
    },
    {
     "name": "stdout",
     "output_type": "stream",
     "text": [
      "Frame 15 - PSNR: 27.38, SSIM: 0.9000, LPIPS: 0.1603\n",
      "16 22.914401531219482\n"
     ]
    },
    {
     "name": "stderr",
     "output_type": "stream",
     "text": []
    },
    {
     "name": "stdout",
     "output_type": "stream",
     "text": [
      "Frame 16 - PSNR: 27.72, SSIM: 0.8850, LPIPS: 0.1731\n",
      "17 22.906426906585693\n"
     ]
    },
    {
     "name": "stderr",
     "output_type": "stream",
     "text": []
    },
    {
     "name": "stdout",
     "output_type": "stream",
     "text": [
      "Frame 17 - PSNR: 26.47, SSIM: 0.8596, LPIPS: 0.1975\n",
      "18 22.91825771331787\n"
     ]
    },
    {
     "name": "stderr",
     "output_type": "stream",
     "text": []
    },
    {
     "name": "stdout",
     "output_type": "stream",
     "text": [
      "Frame 18 - PSNR: 25.81, SSIM: 0.8403, LPIPS: 0.2306\n",
      "19 22.919408321380615\n"
     ]
    },
    {
     "name": "stderr",
     "output_type": "stream",
     "text": []
    },
    {
     "name": "stdout",
     "output_type": "stream",
     "text": [
      "Frame 19 - PSNR: 26.47, SSIM: 0.8311, LPIPS: 0.2438\n",
      "20 22.932024002075195\n"
     ]
    },
    {
     "name": "stderr",
     "output_type": "stream",
     "text": []
    },
    {
     "name": "stdout",
     "output_type": "stream",
     "text": [
      "Frame 20 - PSNR: 26.81, SSIM: 0.8304, LPIPS: 0.2491\n",
      "21 22.924932956695557\n"
     ]
    },
    {
     "name": "stderr",
     "output_type": "stream",
     "text": []
    },
    {
     "name": "stdout",
     "output_type": "stream",
     "text": [
      "Frame 21 - PSNR: 27.27, SSIM: 0.8240, LPIPS: 0.2594\n",
      "22 22.921666622161865\n"
     ]
    },
    {
     "name": "stderr",
     "output_type": "stream",
     "text": []
    },
    {
     "name": "stdout",
     "output_type": "stream",
     "text": [
      "Frame 22 - PSNR: 28.09, SSIM: 0.8287, LPIPS: 0.2703\n",
      "23 22.91389560699463\n"
     ]
    },
    {
     "name": "stderr",
     "output_type": "stream",
     "text": []
    },
    {
     "name": "stdout",
     "output_type": "stream",
     "text": [
      "Frame 23 - PSNR: 28.33, SSIM: 0.8109, LPIPS: 0.2711\n",
      "24 22.916255950927734\n"
     ]
    },
    {
     "name": "stderr",
     "output_type": "stream",
     "text": [
      "100%|██████████| 25/25 [09:32<00:00, 22.92s/it]\n",
      " 65%|██████▌   | 130000/200000 [6:24:30<3325:04:16, 171.00s/it]"
     ]
    },
    {
     "name": "stdout",
     "output_type": "stream",
     "text": [
      "Frame 24 - PSNR: 27.91, SSIM: 0.7875, LPIPS: 0.2736\n",
      "\n",
      "=== METRICS SUMMARY ===\n",
      "Average PSNR: 26.8885 ± 0.8309\n",
      "Average SSIM: 0.8339 ± 0.0374\n",
      "Average LPIPS: 0.2302 ± 0.0330\n",
      "=======================\n",
      "Metrics logged to: ./logs\\ship_blender200k_fullres\\metrics\\metrics_130000.txt and ./logs\\ship_blender200k_fullres\\metrics\\metrics_130000.json\n",
      "Training history updated: ./logs\\ship_blender200k_fullres\\metrics\\training_metrics.json\n",
      "Saved test set with metrics\n",
      "[TRAIN] Iter: 130000 Loss: 0.0034561576321721077  PSNR: 28.897708892822266\n"
     ]
    },
    {
     "name": "stderr",
     "output_type": "stream",
     "text": [
      " 66%|██████▌   | 131002/200000 [6:26:14<1:58:33,  9.70it/s]    "
     ]
    },
    {
     "name": "stdout",
     "output_type": "stream",
     "text": [
      "[TRAIN] Iter: 131000 Loss: 0.005288197658956051  PSNR: 28.070032119750977\n"
     ]
    },
    {
     "name": "stderr",
     "output_type": "stream",
     "text": [
      " 66%|██████▌   | 132002/200000 [6:27:57<1:56:17,  9.75it/s]"
     ]
    },
    {
     "name": "stdout",
     "output_type": "stream",
     "text": [
      "[TRAIN] Iter: 132000 Loss: 0.003181387670338154  PSNR: 29.40351676940918\n"
     ]
    },
    {
     "name": "stderr",
     "output_type": "stream",
     "text": [
      " 67%|██████▋   | 133002/200000 [6:29:40<1:55:20,  9.68it/s]"
     ]
    },
    {
     "name": "stdout",
     "output_type": "stream",
     "text": [
      "[TRAIN] Iter: 133000 Loss: 0.00516254547983408  PSNR: 27.154401779174805\n"
     ]
    },
    {
     "name": "stderr",
     "output_type": "stream",
     "text": [
      " 67%|██████▋   | 134002/200000 [6:31:24<1:52:05,  9.81it/s]"
     ]
    },
    {
     "name": "stdout",
     "output_type": "stream",
     "text": [
      "[TRAIN] Iter: 134000 Loss: 0.0054676285944879055  PSNR: 27.770416259765625\n"
     ]
    },
    {
     "name": "stderr",
     "output_type": "stream",
     "text": [
      " 68%|██████▊   | 135002/200000 [6:33:07<1:50:18,  9.82it/s]"
     ]
    },
    {
     "name": "stdout",
     "output_type": "stream",
     "text": [
      "[TRAIN] Iter: 135000 Loss: 0.0055017475970089436  PSNR: 26.730945587158203\n"
     ]
    },
    {
     "name": "stderr",
     "output_type": "stream",
     "text": [
      " 68%|██████▊   | 136002/200000 [6:34:50<1:48:33,  9.83it/s]"
     ]
    },
    {
     "name": "stdout",
     "output_type": "stream",
     "text": [
      "[TRAIN] Iter: 136000 Loss: 0.0036576641723513603  PSNR: 28.085311889648438\n"
     ]
    },
    {
     "name": "stderr",
     "output_type": "stream",
     "text": [
      " 69%|██████▊   | 137002/200000 [6:36:33<1:47:36,  9.76it/s]"
     ]
    },
    {
     "name": "stdout",
     "output_type": "stream",
     "text": [
      "[TRAIN] Iter: 137000 Loss: 0.007519580889493227  PSNR: 25.864532470703125\n"
     ]
    },
    {
     "name": "stderr",
     "output_type": "stream",
     "text": [
      " 69%|██████▉   | 138002/200000 [6:38:17<1:45:24,  9.80it/s]"
     ]
    },
    {
     "name": "stdout",
     "output_type": "stream",
     "text": [
      "[TRAIN] Iter: 138000 Loss: 0.004145216196775436  PSNR: 28.266563415527344\n"
     ]
    },
    {
     "name": "stderr",
     "output_type": "stream",
     "text": [
      " 70%|██████▉   | 139002/200000 [6:40:00<1:46:34,  9.54it/s]"
     ]
    },
    {
     "name": "stdout",
     "output_type": "stream",
     "text": [
      "[TRAIN] Iter: 139000 Loss: 0.006527814082801342  PSNR: 26.207956314086914\n"
     ]
    },
    {
     "name": "stderr",
     "output_type": "stream",
     "text": [
      " 70%|██████▉   | 139999/200000 [6:41:43<1:43:29,  9.66it/s]"
     ]
    },
    {
     "name": "stdout",
     "output_type": "stream",
     "text": [
      "Saved checkpoints at ./logs\\ship_blender200k_fullres\\checkpoints\\140000.tar\n",
      "test poses shape torch.Size([25, 4, 4])\n"
     ]
    },
    {
     "name": "stderr",
     "output_type": "stream",
     "text": []
    },
    {
     "name": "stdout",
     "output_type": "stream",
     "text": [
      "0 0.0016875267028808594\n"
     ]
    },
    {
     "name": "stderr",
     "output_type": "stream",
     "text": []
    },
    {
     "name": "stdout",
     "output_type": "stream",
     "text": [
      "torch.Size([800, 800, 3]) torch.Size([800, 800])\n",
      "Frame 0 - PSNR: 27.44, SSIM: 0.7746, LPIPS: 0.2597\n",
      "1 22.938036680221558\n"
     ]
    },
    {
     "name": "stderr",
     "output_type": "stream",
     "text": []
    },
    {
     "name": "stdout",
     "output_type": "stream",
     "text": [
      "Frame 1 - PSNR: 26.64, SSIM: 0.7708, LPIPS: 0.2547\n",
      "2 22.926568508148193\n"
     ]
    },
    {
     "name": "stderr",
     "output_type": "stream",
     "text": []
    },
    {
     "name": "stdout",
     "output_type": "stream",
     "text": [
      "Frame 2 - PSNR: 27.01, SSIM: 0.7795, LPIPS: 0.2514\n",
      "3 22.919931650161743\n"
     ]
    },
    {
     "name": "stderr",
     "output_type": "stream",
     "text": []
    },
    {
     "name": "stdout",
     "output_type": "stream",
     "text": [
      "Frame 3 - PSNR: 26.84, SSIM: 0.7762, LPIPS: 0.2598\n",
      "4 22.913982391357422\n"
     ]
    },
    {
     "name": "stderr",
     "output_type": "stream",
     "text": []
    },
    {
     "name": "stdout",
     "output_type": "stream",
     "text": [
      "Frame 4 - PSNR: 27.58, SSIM: 0.8052, LPIPS: 0.2419\n",
      "5 22.927528381347656\n"
     ]
    },
    {
     "name": "stderr",
     "output_type": "stream",
     "text": []
    },
    {
     "name": "stdout",
     "output_type": "stream",
     "text": [
      "Frame 5 - PSNR: 27.29, SSIM: 0.8286, LPIPS: 0.2359\n",
      "6 22.93761658668518\n"
     ]
    },
    {
     "name": "stderr",
     "output_type": "stream",
     "text": []
    },
    {
     "name": "stdout",
     "output_type": "stream",
     "text": [
      "Frame 6 - PSNR: 26.32, SSIM: 0.8319, LPIPS: 0.2426\n",
      "7 22.925016164779663\n"
     ]
    },
    {
     "name": "stderr",
     "output_type": "stream",
     "text": []
    },
    {
     "name": "stdout",
     "output_type": "stream",
     "text": [
      "Frame 7 - PSNR: 26.52, SSIM: 0.8379, LPIPS: 0.2350\n",
      "8 22.92253041267395\n"
     ]
    },
    {
     "name": "stderr",
     "output_type": "stream",
     "text": []
    },
    {
     "name": "stdout",
     "output_type": "stream",
     "text": [
      "Frame 8 - PSNR: 27.05, SSIM: 0.8454, LPIPS: 0.2250\n",
      "9 22.92645025253296\n"
     ]
    },
    {
     "name": "stderr",
     "output_type": "stream",
     "text": []
    },
    {
     "name": "stdout",
     "output_type": "stream",
     "text": [
      "Frame 9 - PSNR: 27.79, SSIM: 0.8663, LPIPS: 0.2063\n",
      "10 22.91513442993164\n"
     ]
    },
    {
     "name": "stderr",
     "output_type": "stream",
     "text": []
    },
    {
     "name": "stdout",
     "output_type": "stream",
     "text": [
      "Frame 10 - PSNR: 28.12, SSIM: 0.8849, LPIPS: 0.1924\n",
      "11 22.9045352935791\n"
     ]
    },
    {
     "name": "stderr",
     "output_type": "stream",
     "text": []
    },
    {
     "name": "stdout",
     "output_type": "stream",
     "text": [
      "Frame 11 - PSNR: 26.40, SSIM: 0.8673, LPIPS: 0.1964\n",
      "12 22.903231859207153\n"
     ]
    },
    {
     "name": "stderr",
     "output_type": "stream",
     "text": []
    },
    {
     "name": "stdout",
     "output_type": "stream",
     "text": [
      "Frame 12 - PSNR: 25.51, SSIM: 0.8617, LPIPS: 0.2028\n",
      "13 22.89765739440918\n"
     ]
    },
    {
     "name": "stderr",
     "output_type": "stream",
     "text": []
    },
    {
     "name": "stdout",
     "output_type": "stream",
     "text": [
      "Frame 13 - PSNR: 25.22, SSIM: 0.8662, LPIPS: 0.1949\n",
      "14 22.89263606071472\n"
     ]
    },
    {
     "name": "stderr",
     "output_type": "stream",
     "text": []
    },
    {
     "name": "stdout",
     "output_type": "stream",
     "text": [
      "Frame 14 - PSNR: 25.70, SSIM: 0.8847, LPIPS: 0.1784\n",
      "15 22.897908687591553\n"
     ]
    },
    {
     "name": "stderr",
     "output_type": "stream",
     "text": []
    },
    {
     "name": "stdout",
     "output_type": "stream",
     "text": [
      "Frame 15 - PSNR: 27.42, SSIM: 0.9013, LPIPS: 0.1564\n",
      "16 22.911524295806885\n"
     ]
    },
    {
     "name": "stderr",
     "output_type": "stream",
     "text": []
    },
    {
     "name": "stdout",
     "output_type": "stream",
     "text": [
      "Frame 16 - PSNR: 27.62, SSIM: 0.8852, LPIPS: 0.1666\n",
      "17 22.91996121406555\n"
     ]
    },
    {
     "name": "stderr",
     "output_type": "stream",
     "text": []
    },
    {
     "name": "stdout",
     "output_type": "stream",
     "text": [
      "Frame 17 - PSNR: 26.71, SSIM: 0.8605, LPIPS: 0.1941\n",
      "18 22.920758485794067\n"
     ]
    },
    {
     "name": "stderr",
     "output_type": "stream",
     "text": []
    },
    {
     "name": "stdout",
     "output_type": "stream",
     "text": [
      "Frame 18 - PSNR: 25.81, SSIM: 0.8412, LPIPS: 0.2293\n",
      "19 22.922816038131714\n"
     ]
    },
    {
     "name": "stderr",
     "output_type": "stream",
     "text": []
    },
    {
     "name": "stdout",
     "output_type": "stream",
     "text": [
      "Frame 19 - PSNR: 26.42, SSIM: 0.8319, LPIPS: 0.2418\n",
      "20 22.9209201335907\n"
     ]
    },
    {
     "name": "stderr",
     "output_type": "stream",
     "text": []
    },
    {
     "name": "stdout",
     "output_type": "stream",
     "text": [
      "Frame 20 - PSNR: 26.83, SSIM: 0.8317, LPIPS: 0.2450\n",
      "21 22.92670965194702\n"
     ]
    },
    {
     "name": "stderr",
     "output_type": "stream",
     "text": []
    },
    {
     "name": "stdout",
     "output_type": "stream",
     "text": [
      "Frame 21 - PSNR: 27.38, SSIM: 0.8258, LPIPS: 0.2545\n",
      "22 22.926482677459717\n"
     ]
    },
    {
     "name": "stderr",
     "output_type": "stream",
     "text": []
    },
    {
     "name": "stdout",
     "output_type": "stream",
     "text": [
      "Frame 22 - PSNR: 28.27, SSIM: 0.8306, LPIPS: 0.2634\n",
      "23 22.90671181678772\n"
     ]
    },
    {
     "name": "stderr",
     "output_type": "stream",
     "text": []
    },
    {
     "name": "stdout",
     "output_type": "stream",
     "text": [
      "Frame 23 - PSNR: 28.43, SSIM: 0.8140, LPIPS: 0.2645\n",
      "24 22.917911291122437\n"
     ]
    },
    {
     "name": "stderr",
     "output_type": "stream",
     "text": [
      "100%|██████████| 25/25 [09:32<00:00, 22.92s/it]\n",
      " 70%|███████   | 140000/200000 [6:51:16<2866:55:24, 172.02s/it]"
     ]
    },
    {
     "name": "stdout",
     "output_type": "stream",
     "text": [
      "Frame 24 - PSNR: 27.96, SSIM: 0.7898, LPIPS: 0.2678\n",
      "\n",
      "=== METRICS SUMMARY ===\n",
      "Average PSNR: 26.9708 ± 0.8463\n",
      "Average SSIM: 0.8357 ± 0.0370\n",
      "Average LPIPS: 0.2264 ± 0.0323\n",
      "=======================\n",
      "Metrics logged to: ./logs\\ship_blender200k_fullres\\metrics\\metrics_140000.txt and ./logs\\ship_blender200k_fullres\\metrics\\metrics_140000.json\n",
      "Training history updated: ./logs\\ship_blender200k_fullres\\metrics\\training_metrics.json\n",
      "Saved test set with metrics\n",
      "[TRAIN] Iter: 140000 Loss: 0.005941496696323156  PSNR: 26.204450607299805\n"
     ]
    },
    {
     "name": "stderr",
     "output_type": "stream",
     "text": [
      " 71%|███████   | 141002/200000 [6:53:00<1:42:23,  9.60it/s]    "
     ]
    },
    {
     "name": "stdout",
     "output_type": "stream",
     "text": [
      "[TRAIN] Iter: 141000 Loss: 0.003772504162043333  PSNR: 28.746360778808594\n"
     ]
    },
    {
     "name": "stderr",
     "output_type": "stream",
     "text": [
      " 71%|███████   | 142002/200000 [6:54:43<1:39:23,  9.73it/s]"
     ]
    },
    {
     "name": "stdout",
     "output_type": "stream",
     "text": [
      "[TRAIN] Iter: 142000 Loss: 0.0046522789634764194  PSNR: 28.275360107421875\n"
     ]
    },
    {
     "name": "stderr",
     "output_type": "stream",
     "text": [
      " 72%|███████▏  | 143002/200000 [6:56:26<1:38:28,  9.65it/s]"
     ]
    },
    {
     "name": "stdout",
     "output_type": "stream",
     "text": [
      "[TRAIN] Iter: 143000 Loss: 0.004347031936049461  PSNR: 28.35860824584961\n"
     ]
    },
    {
     "name": "stderr",
     "output_type": "stream",
     "text": [
      " 72%|███████▏  | 144002/200000 [6:58:09<1:35:54,  9.73it/s]"
     ]
    },
    {
     "name": "stdout",
     "output_type": "stream",
     "text": [
      "[TRAIN] Iter: 144000 Loss: 0.005571311339735985  PSNR: 25.938947677612305\n"
     ]
    },
    {
     "name": "stderr",
     "output_type": "stream",
     "text": [
      " 73%|███████▎  | 145002/200000 [6:59:53<1:35:07,  9.64it/s]"
     ]
    },
    {
     "name": "stdout",
     "output_type": "stream",
     "text": [
      "[TRAIN] Iter: 145000 Loss: 0.004610409028828144  PSNR: 27.374853134155273\n"
     ]
    },
    {
     "name": "stderr",
     "output_type": "stream",
     "text": [
      " 73%|███████▎  | 146002/200000 [7:01:36<1:33:51,  9.59it/s]"
     ]
    },
    {
     "name": "stdout",
     "output_type": "stream",
     "text": [
      "[TRAIN] Iter: 146000 Loss: 0.004224915057420731  PSNR: 27.523067474365234\n"
     ]
    },
    {
     "name": "stderr",
     "output_type": "stream",
     "text": [
      " 74%|███████▎  | 147002/200000 [7:03:19<1:29:35,  9.86it/s]"
     ]
    },
    {
     "name": "stdout",
     "output_type": "stream",
     "text": [
      "[TRAIN] Iter: 147000 Loss: 0.003604462370276451  PSNR: 29.988445281982422\n"
     ]
    },
    {
     "name": "stderr",
     "output_type": "stream",
     "text": [
      " 74%|███████▍  | 148002/200000 [7:05:03<1:28:53,  9.75it/s]"
     ]
    },
    {
     "name": "stdout",
     "output_type": "stream",
     "text": [
      "[TRAIN] Iter: 148000 Loss: 0.004753963556140661  PSNR: 27.324594497680664\n"
     ]
    },
    {
     "name": "stderr",
     "output_type": "stream",
     "text": [
      " 75%|███████▍  | 149002/200000 [7:06:46<1:27:11,  9.75it/s]"
     ]
    },
    {
     "name": "stdout",
     "output_type": "stream",
     "text": [
      "[TRAIN] Iter: 149000 Loss: 0.005613663699477911  PSNR: 26.338319778442383\n"
     ]
    },
    {
     "name": "stderr",
     "output_type": "stream",
     "text": [
      " 75%|███████▍  | 149999/200000 [7:08:29<1:25:21,  9.76it/s]"
     ]
    },
    {
     "name": "stdout",
     "output_type": "stream",
     "text": [
      "Saved checkpoints at ./logs\\ship_blender200k_fullres\\checkpoints\\150000.tar\n"
     ]
    },
    {
     "name": "stderr",
     "output_type": "stream",
     "text": []
    },
    {
     "name": "stdout",
     "output_type": "stream",
     "text": [
      "0 0.0016713142395019531\n"
     ]
    },
    {
     "name": "stderr",
     "output_type": "stream",
     "text": []
    },
    {
     "name": "stdout",
     "output_type": "stream",
     "text": [
      "torch.Size([800, 800, 3]) torch.Size([800, 800])\n",
      "1 22.81098484992981\n"
     ]
    },
    {
     "name": "stderr",
     "output_type": "stream",
     "text": []
    },
    {
     "name": "stdout",
     "output_type": "stream",
     "text": [
      "2 22.79407811164856\n"
     ]
    },
    {
     "name": "stderr",
     "output_type": "stream",
     "text": []
    },
    {
     "name": "stdout",
     "output_type": "stream",
     "text": [
      "3 22.79945969581604\n"
     ]
    },
    {
     "name": "stderr",
     "output_type": "stream",
     "text": []
    },
    {
     "name": "stdout",
     "output_type": "stream",
     "text": [
      "4 22.808293104171753\n"
     ]
    },
    {
     "name": "stderr",
     "output_type": "stream",
     "text": []
    },
    {
     "name": "stdout",
     "output_type": "stream",
     "text": [
      "5 22.80592179298401\n"
     ]
    },
    {
     "name": "stderr",
     "output_type": "stream",
     "text": []
    },
    {
     "name": "stdout",
     "output_type": "stream",
     "text": [
      "6 22.816672325134277\n"
     ]
    },
    {
     "name": "stderr",
     "output_type": "stream",
     "text": []
    },
    {
     "name": "stdout",
     "output_type": "stream",
     "text": [
      "7 22.80182456970215\n"
     ]
    },
    {
     "name": "stderr",
     "output_type": "stream",
     "text": []
    },
    {
     "name": "stdout",
     "output_type": "stream",
     "text": [
      "8 22.80890727043152\n"
     ]
    },
    {
     "name": "stderr",
     "output_type": "stream",
     "text": []
    },
    {
     "name": "stdout",
     "output_type": "stream",
     "text": [
      "9 22.813655138015747\n"
     ]
    },
    {
     "name": "stderr",
     "output_type": "stream",
     "text": []
    },
    {
     "name": "stdout",
     "output_type": "stream",
     "text": [
      "10 22.817501068115234\n"
     ]
    },
    {
     "name": "stderr",
     "output_type": "stream",
     "text": []
    },
    {
     "name": "stdout",
     "output_type": "stream",
     "text": [
      "11 22.809805154800415\n"
     ]
    },
    {
     "name": "stderr",
     "output_type": "stream",
     "text": []
    },
    {
     "name": "stdout",
     "output_type": "stream",
     "text": [
      "12 22.80746579170227\n"
     ]
    },
    {
     "name": "stderr",
     "output_type": "stream",
     "text": []
    },
    {
     "name": "stdout",
     "output_type": "stream",
     "text": [
      "13 22.805002212524414\n"
     ]
    },
    {
     "name": "stderr",
     "output_type": "stream",
     "text": []
    },
    {
     "name": "stdout",
     "output_type": "stream",
     "text": [
      "14 22.80693507194519\n"
     ]
    },
    {
     "name": "stderr",
     "output_type": "stream",
     "text": []
    },
    {
     "name": "stdout",
     "output_type": "stream",
     "text": [
      "15 22.805432558059692\n"
     ]
    },
    {
     "name": "stderr",
     "output_type": "stream",
     "text": []
    },
    {
     "name": "stdout",
     "output_type": "stream",
     "text": [
      "16 22.807469844818115\n"
     ]
    },
    {
     "name": "stderr",
     "output_type": "stream",
     "text": []
    },
    {
     "name": "stdout",
     "output_type": "stream",
     "text": [
      "17 22.81023097038269\n"
     ]
    },
    {
     "name": "stderr",
     "output_type": "stream",
     "text": []
    },
    {
     "name": "stdout",
     "output_type": "stream",
     "text": [
      "18 22.80759310722351\n"
     ]
    },
    {
     "name": "stderr",
     "output_type": "stream",
     "text": []
    },
    {
     "name": "stdout",
     "output_type": "stream",
     "text": [
      "19 22.805052995681763\n"
     ]
    },
    {
     "name": "stderr",
     "output_type": "stream",
     "text": []
    },
    {
     "name": "stdout",
     "output_type": "stream",
     "text": [
      "20 22.799492597579956\n"
     ]
    },
    {
     "name": "stderr",
     "output_type": "stream",
     "text": []
    },
    {
     "name": "stdout",
     "output_type": "stream",
     "text": [
      "21 22.794214487075806\n"
     ]
    },
    {
     "name": "stderr",
     "output_type": "stream",
     "text": []
    },
    {
     "name": "stdout",
     "output_type": "stream",
     "text": [
      "22 22.803837776184082\n"
     ]
    },
    {
     "name": "stderr",
     "output_type": "stream",
     "text": []
    },
    {
     "name": "stdout",
     "output_type": "stream",
     "text": [
      "23 22.8032443523407\n"
     ]
    },
    {
     "name": "stderr",
     "output_type": "stream",
     "text": []
    },
    {
     "name": "stdout",
     "output_type": "stream",
     "text": [
      "24 22.805968761444092\n"
     ]
    },
    {
     "name": "stderr",
     "output_type": "stream",
     "text": []
    },
    {
     "name": "stdout",
     "output_type": "stream",
     "text": [
      "25 22.813004970550537\n"
     ]
    },
    {
     "name": "stderr",
     "output_type": "stream",
     "text": []
    },
    {
     "name": "stdout",
     "output_type": "stream",
     "text": [
      "26 22.808563232421875\n"
     ]
    },
    {
     "name": "stderr",
     "output_type": "stream",
     "text": []
    },
    {
     "name": "stdout",
     "output_type": "stream",
     "text": [
      "27 22.810391902923584\n"
     ]
    },
    {
     "name": "stderr",
     "output_type": "stream",
     "text": []
    },
    {
     "name": "stdout",
     "output_type": "stream",
     "text": [
      "28 22.804684162139893\n"
     ]
    },
    {
     "name": "stderr",
     "output_type": "stream",
     "text": []
    },
    {
     "name": "stdout",
     "output_type": "stream",
     "text": [
      "29 22.799943685531616\n"
     ]
    },
    {
     "name": "stderr",
     "output_type": "stream",
     "text": []
    },
    {
     "name": "stdout",
     "output_type": "stream",
     "text": [
      "30 22.806128978729248\n"
     ]
    },
    {
     "name": "stderr",
     "output_type": "stream",
     "text": []
    },
    {
     "name": "stdout",
     "output_type": "stream",
     "text": [
      "31 22.806868314743042\n"
     ]
    },
    {
     "name": "stderr",
     "output_type": "stream",
     "text": []
    },
    {
     "name": "stdout",
     "output_type": "stream",
     "text": [
      "32 22.803872108459473\n"
     ]
    },
    {
     "name": "stderr",
     "output_type": "stream",
     "text": []
    },
    {
     "name": "stdout",
     "output_type": "stream",
     "text": [
      "33 22.8035888671875\n"
     ]
    },
    {
     "name": "stderr",
     "output_type": "stream",
     "text": []
    },
    {
     "name": "stdout",
     "output_type": "stream",
     "text": [
      "34 22.79707360267639\n"
     ]
    },
    {
     "name": "stderr",
     "output_type": "stream",
     "text": []
    },
    {
     "name": "stdout",
     "output_type": "stream",
     "text": [
      "35 22.79678726196289\n"
     ]
    },
    {
     "name": "stderr",
     "output_type": "stream",
     "text": []
    },
    {
     "name": "stdout",
     "output_type": "stream",
     "text": [
      "36 22.804240942001343\n"
     ]
    },
    {
     "name": "stderr",
     "output_type": "stream",
     "text": []
    },
    {
     "name": "stdout",
     "output_type": "stream",
     "text": [
      "37 22.810680389404297\n"
     ]
    },
    {
     "name": "stderr",
     "output_type": "stream",
     "text": []
    },
    {
     "name": "stdout",
     "output_type": "stream",
     "text": [
      "38 22.79952836036682\n"
     ]
    },
    {
     "name": "stderr",
     "output_type": "stream",
     "text": []
    },
    {
     "name": "stdout",
     "output_type": "stream",
     "text": [
      "39 22.798254013061523\n"
     ]
    },
    {
     "name": "stderr",
     "output_type": "stream",
     "text": [
      "100%|██████████| 40/40 [15:12<00:00, 22.81s/it]\n"
     ]
    },
    {
     "name": "stdout",
     "output_type": "stream",
     "text": [
      "Done, saving (40, 800, 800, 3) (40, 800, 800)\n",
      "test poses shape torch.Size([25, 4, 4])\n"
     ]
    },
    {
     "name": "stderr",
     "output_type": "stream",
     "text": []
    },
    {
     "name": "stdout",
     "output_type": "stream",
     "text": [
      "0 0.001964092254638672\n"
     ]
    },
    {
     "name": "stderr",
     "output_type": "stream",
     "text": []
    },
    {
     "name": "stdout",
     "output_type": "stream",
     "text": [
      "torch.Size([800, 800, 3]) torch.Size([800, 800])\n",
      "Frame 0 - PSNR: 27.48, SSIM: 0.7742, LPIPS: 0.2596\n",
      "1 22.934844732284546\n"
     ]
    },
    {
     "name": "stderr",
     "output_type": "stream",
     "text": []
    },
    {
     "name": "stdout",
     "output_type": "stream",
     "text": [
      "Frame 1 - PSNR: 26.69, SSIM: 0.7713, LPIPS: 0.2515\n",
      "2 22.926105260849\n"
     ]
    },
    {
     "name": "stderr",
     "output_type": "stream",
     "text": []
    },
    {
     "name": "stdout",
     "output_type": "stream",
     "text": [
      "Frame 2 - PSNR: 27.14, SSIM: 0.7818, LPIPS: 0.2493\n",
      "3 22.925050735473633\n"
     ]
    },
    {
     "name": "stderr",
     "output_type": "stream",
     "text": []
    },
    {
     "name": "stdout",
     "output_type": "stream",
     "text": [
      "Frame 3 - PSNR: 26.81, SSIM: 0.7752, LPIPS: 0.2603\n",
      "4 22.928935050964355\n"
     ]
    },
    {
     "name": "stderr",
     "output_type": "stream",
     "text": []
    },
    {
     "name": "stdout",
     "output_type": "stream",
     "text": [
      "Frame 4 - PSNR: 27.57, SSIM: 0.8045, LPIPS: 0.2418\n",
      "5 22.91927433013916\n"
     ]
    },
    {
     "name": "stderr",
     "output_type": "stream",
     "text": []
    },
    {
     "name": "stdout",
     "output_type": "stream",
     "text": [
      "Frame 5 - PSNR: 27.59, SSIM: 0.8298, LPIPS: 0.2330\n",
      "6 22.916340589523315\n"
     ]
    },
    {
     "name": "stderr",
     "output_type": "stream",
     "text": []
    },
    {
     "name": "stdout",
     "output_type": "stream",
     "text": [
      "Frame 6 - PSNR: 26.62, SSIM: 0.8339, LPIPS: 0.2388\n",
      "7 22.907740831375122\n"
     ]
    },
    {
     "name": "stderr",
     "output_type": "stream",
     "text": []
    },
    {
     "name": "stdout",
     "output_type": "stream",
     "text": [
      "Frame 7 - PSNR: 26.72, SSIM: 0.8393, LPIPS: 0.2329\n",
      "8 22.911967039108276\n"
     ]
    },
    {
     "name": "stderr",
     "output_type": "stream",
     "text": []
    },
    {
     "name": "stdout",
     "output_type": "stream",
     "text": [
      "Frame 8 - PSNR: 27.21, SSIM: 0.8462, LPIPS: 0.2214\n",
      "9 22.920445442199707\n"
     ]
    },
    {
     "name": "stderr",
     "output_type": "stream",
     "text": []
    },
    {
     "name": "stdout",
     "output_type": "stream",
     "text": [
      "Frame 9 - PSNR: 27.91, SSIM: 0.8678, LPIPS: 0.2042\n",
      "10 22.91954469680786\n"
     ]
    },
    {
     "name": "stderr",
     "output_type": "stream",
     "text": []
    },
    {
     "name": "stdout",
     "output_type": "stream",
     "text": [
      "Frame 10 - PSNR: 28.20, SSIM: 0.8860, LPIPS: 0.1885\n",
      "11 22.92200469970703\n"
     ]
    },
    {
     "name": "stderr",
     "output_type": "stream",
     "text": []
    },
    {
     "name": "stdout",
     "output_type": "stream",
     "text": [
      "Frame 11 - PSNR: 26.21, SSIM: 0.8659, LPIPS: 0.1945\n",
      "12 22.921326398849487\n"
     ]
    },
    {
     "name": "stderr",
     "output_type": "stream",
     "text": []
    },
    {
     "name": "stdout",
     "output_type": "stream",
     "text": [
      "Frame 12 - PSNR: 25.42, SSIM: 0.8614, LPIPS: 0.2018\n",
      "13 22.919071197509766\n"
     ]
    },
    {
     "name": "stderr",
     "output_type": "stream",
     "text": []
    },
    {
     "name": "stdout",
     "output_type": "stream",
     "text": [
      "Frame 13 - PSNR: 25.30, SSIM: 0.8676, LPIPS: 0.1908\n",
      "14 22.9186954498291\n"
     ]
    },
    {
     "name": "stderr",
     "output_type": "stream",
     "text": []
    },
    {
     "name": "stdout",
     "output_type": "stream",
     "text": [
      "Frame 14 - PSNR: 25.61, SSIM: 0.8850, LPIPS: 0.1743\n",
      "15 22.91307759284973\n"
     ]
    },
    {
     "name": "stderr",
     "output_type": "stream",
     "text": []
    },
    {
     "name": "stdout",
     "output_type": "stream",
     "text": [
      "Frame 15 - PSNR: 27.44, SSIM: 0.9024, LPIPS: 0.1527\n",
      "16 22.9069504737854\n"
     ]
    },
    {
     "name": "stderr",
     "output_type": "stream",
     "text": []
    },
    {
     "name": "stdout",
     "output_type": "stream",
     "text": [
      "Frame 16 - PSNR: 27.90, SSIM: 0.8875, LPIPS: 0.1658\n",
      "17 22.907408714294434\n"
     ]
    },
    {
     "name": "stderr",
     "output_type": "stream",
     "text": []
    },
    {
     "name": "stdout",
     "output_type": "stream",
     "text": [
      "Frame 17 - PSNR: 26.94, SSIM: 0.8625, LPIPS: 0.1937\n",
      "18 22.911375522613525\n"
     ]
    },
    {
     "name": "stderr",
     "output_type": "stream",
     "text": []
    },
    {
     "name": "stdout",
     "output_type": "stream",
     "text": [
      "Frame 18 - PSNR: 26.20, SSIM: 0.8433, LPIPS: 0.2256\n",
      "19 22.918936252593994\n"
     ]
    },
    {
     "name": "stderr",
     "output_type": "stream",
     "text": []
    },
    {
     "name": "stdout",
     "output_type": "stream",
     "text": [
      "Frame 19 - PSNR: 26.66, SSIM: 0.8334, LPIPS: 0.2388\n",
      "20 22.92103624343872\n"
     ]
    },
    {
     "name": "stderr",
     "output_type": "stream",
     "text": []
    },
    {
     "name": "stdout",
     "output_type": "stream",
     "text": [
      "Frame 20 - PSNR: 26.99, SSIM: 0.8321, LPIPS: 0.2444\n",
      "21 22.913081645965576\n"
     ]
    },
    {
     "name": "stderr",
     "output_type": "stream",
     "text": []
    },
    {
     "name": "stdout",
     "output_type": "stream",
     "text": [
      "Frame 21 - PSNR: 27.51, SSIM: 0.8262, LPIPS: 0.2529\n",
      "22 22.9205482006073\n"
     ]
    },
    {
     "name": "stderr",
     "output_type": "stream",
     "text": []
    },
    {
     "name": "stdout",
     "output_type": "stream",
     "text": [
      "Frame 22 - PSNR: 28.35, SSIM: 0.8315, LPIPS: 0.2623\n",
      "23 22.920796155929565\n"
     ]
    },
    {
     "name": "stderr",
     "output_type": "stream",
     "text": []
    },
    {
     "name": "stdout",
     "output_type": "stream",
     "text": [
      "Frame 23 - PSNR: 28.51, SSIM: 0.8141, LPIPS: 0.2621\n",
      "24 22.911556720733643\n"
     ]
    },
    {
     "name": "stderr",
     "output_type": "stream",
     "text": [
      "100%|██████████| 25/25 [09:32<00:00, 22.92s/it]\n",
      " 75%|███████▌  | 150000/200000 [7:33:15<6192:34:30, 445.87s/it]"
     ]
    },
    {
     "name": "stdout",
     "output_type": "stream",
     "text": [
      "Frame 24 - PSNR: 27.96, SSIM: 0.7897, LPIPS: 0.2655\n",
      "\n",
      "=== METRICS SUMMARY ===\n",
      "Average PSNR: 27.0782 ± 0.8583\n",
      "Average SSIM: 0.8365 ± 0.0373\n",
      "Average LPIPS: 0.2243 ± 0.0327\n",
      "=======================\n",
      "Metrics logged to: ./logs\\ship_blender200k_fullres\\metrics\\metrics_150000.txt and ./logs\\ship_blender200k_fullres\\metrics\\metrics_150000.json\n",
      "Training history updated: ./logs\\ship_blender200k_fullres\\metrics\\training_metrics.json\n",
      "Saved test set with metrics\n",
      "[TRAIN] Iter: 150000 Loss: 0.004585599526762962  PSNR: 27.34287452697754\n"
     ]
    },
    {
     "name": "stderr",
     "output_type": "stream",
     "text": [
      " 76%|███████▌  | 151002/200000 [7:34:58<1:24:01,  9.72it/s]    "
     ]
    },
    {
     "name": "stdout",
     "output_type": "stream",
     "text": [
      "[TRAIN] Iter: 151000 Loss: 0.004822511691600084  PSNR: 28.25183868408203\n"
     ]
    },
    {
     "name": "stderr",
     "output_type": "stream",
     "text": [
      " 76%|███████▌  | 152002/200000 [7:36:42<1:22:09,  9.74it/s]"
     ]
    },
    {
     "name": "stdout",
     "output_type": "stream",
     "text": [
      "[TRAIN] Iter: 152000 Loss: 0.006824401207268238  PSNR: 26.343914031982422\n"
     ]
    },
    {
     "name": "stderr",
     "output_type": "stream",
     "text": [
      " 77%|███████▋  | 153002/200000 [7:38:25<1:20:38,  9.71it/s]"
     ]
    },
    {
     "name": "stdout",
     "output_type": "stream",
     "text": [
      "[TRAIN] Iter: 153000 Loss: 0.004825098440051079  PSNR: 27.53228187561035\n"
     ]
    },
    {
     "name": "stderr",
     "output_type": "stream",
     "text": [
      " 77%|███████▋  | 154002/200000 [7:40:08<1:17:54,  9.84it/s]"
     ]
    },
    {
     "name": "stdout",
     "output_type": "stream",
     "text": [
      "[TRAIN] Iter: 154000 Loss: 0.009780924767255783  PSNR: 23.385665893554688\n"
     ]
    },
    {
     "name": "stderr",
     "output_type": "stream",
     "text": [
      " 78%|███████▊  | 155002/200000 [7:41:52<1:18:03,  9.61it/s]"
     ]
    },
    {
     "name": "stdout",
     "output_type": "stream",
     "text": [
      "[TRAIN] Iter: 155000 Loss: 0.0054745785892009735  PSNR: 26.14702033996582\n"
     ]
    },
    {
     "name": "stderr",
     "output_type": "stream",
     "text": [
      " 78%|███████▊  | 156002/200000 [7:43:35<1:15:45,  9.68it/s]"
     ]
    },
    {
     "name": "stdout",
     "output_type": "stream",
     "text": [
      "[TRAIN] Iter: 156000 Loss: 0.006253059022128582  PSNR: 27.62639045715332\n"
     ]
    },
    {
     "name": "stderr",
     "output_type": "stream",
     "text": [
      " 79%|███████▊  | 157002/200000 [7:45:18<1:14:04,  9.67it/s]"
     ]
    },
    {
     "name": "stdout",
     "output_type": "stream",
     "text": [
      "[TRAIN] Iter: 157000 Loss: 0.0037726396694779396  PSNR: 28.258129119873047\n"
     ]
    },
    {
     "name": "stderr",
     "output_type": "stream",
     "text": [
      " 79%|███████▉  | 158002/200000 [7:47:02<1:11:29,  9.79it/s]"
     ]
    },
    {
     "name": "stdout",
     "output_type": "stream",
     "text": [
      "[TRAIN] Iter: 158000 Loss: 0.004318973980844021  PSNR: 27.720983505249023\n"
     ]
    },
    {
     "name": "stderr",
     "output_type": "stream",
     "text": [
      " 80%|███████▉  | 159002/200000 [7:48:45<1:09:43,  9.80it/s]"
     ]
    },
    {
     "name": "stdout",
     "output_type": "stream",
     "text": [
      "[TRAIN] Iter: 159000 Loss: 0.0030167007353156805  PSNR: 29.532760620117188\n"
     ]
    },
    {
     "name": "stderr",
     "output_type": "stream",
     "text": [
      " 80%|███████▉  | 159999/200000 [7:50:28<1:08:33,  9.72it/s]"
     ]
    },
    {
     "name": "stdout",
     "output_type": "stream",
     "text": [
      "Saved checkpoints at ./logs\\ship_blender200k_fullres\\checkpoints\\160000.tar\n",
      "test poses shape torch.Size([25, 4, 4])\n"
     ]
    },
    {
     "name": "stderr",
     "output_type": "stream",
     "text": []
    },
    {
     "name": "stdout",
     "output_type": "stream",
     "text": [
      "0 0.001752614974975586\n"
     ]
    },
    {
     "name": "stderr",
     "output_type": "stream",
     "text": []
    },
    {
     "name": "stdout",
     "output_type": "stream",
     "text": [
      "torch.Size([800, 800, 3]) torch.Size([800, 800])\n",
      "Frame 0 - PSNR: 27.58, SSIM: 0.7766, LPIPS: 0.2569\n",
      "1 22.9696524143219\n"
     ]
    },
    {
     "name": "stderr",
     "output_type": "stream",
     "text": []
    },
    {
     "name": "stdout",
     "output_type": "stream",
     "text": [
      "Frame 1 - PSNR: 26.76, SSIM: 0.7734, LPIPS: 0.2471\n",
      "2 22.945488929748535\n"
     ]
    },
    {
     "name": "stderr",
     "output_type": "stream",
     "text": []
    },
    {
     "name": "stdout",
     "output_type": "stream",
     "text": [
      "Frame 2 - PSNR: 27.20, SSIM: 0.7833, LPIPS: 0.2472\n",
      "3 22.947656869888306\n"
     ]
    },
    {
     "name": "stderr",
     "output_type": "stream",
     "text": []
    },
    {
     "name": "stdout",
     "output_type": "stream",
     "text": [
      "Frame 3 - PSNR: 26.80, SSIM: 0.7762, LPIPS: 0.2573\n",
      "4 22.941986322402954\n"
     ]
    },
    {
     "name": "stderr",
     "output_type": "stream",
     "text": []
    },
    {
     "name": "stdout",
     "output_type": "stream",
     "text": [
      "Frame 4 - PSNR: 27.64, SSIM: 0.8060, LPIPS: 0.2366\n",
      "5 22.934892416000366\n"
     ]
    },
    {
     "name": "stderr",
     "output_type": "stream",
     "text": []
    },
    {
     "name": "stdout",
     "output_type": "stream",
     "text": [
      "Frame 5 - PSNR: 27.62, SSIM: 0.8309, LPIPS: 0.2317\n",
      "6 22.947225332260132\n"
     ]
    },
    {
     "name": "stderr",
     "output_type": "stream",
     "text": []
    },
    {
     "name": "stdout",
     "output_type": "stream",
     "text": [
      "Frame 6 - PSNR: 26.70, SSIM: 0.8353, LPIPS: 0.2381\n",
      "7 22.940107822418213\n"
     ]
    },
    {
     "name": "stderr",
     "output_type": "stream",
     "text": []
    },
    {
     "name": "stdout",
     "output_type": "stream",
     "text": [
      "Frame 7 - PSNR: 26.83, SSIM: 0.8409, LPIPS: 0.2291\n",
      "8 22.944475650787354\n"
     ]
    },
    {
     "name": "stderr",
     "output_type": "stream",
     "text": []
    },
    {
     "name": "stdout",
     "output_type": "stream",
     "text": [
      "Frame 8 - PSNR: 27.24, SSIM: 0.8480, LPIPS: 0.2202\n",
      "9 22.937565803527832\n"
     ]
    },
    {
     "name": "stderr",
     "output_type": "stream",
     "text": []
    },
    {
     "name": "stdout",
     "output_type": "stream",
     "text": [
      "Frame 9 - PSNR: 27.97, SSIM: 0.8689, LPIPS: 0.2030\n",
      "10 22.93469500541687\n"
     ]
    },
    {
     "name": "stderr",
     "output_type": "stream",
     "text": []
    },
    {
     "name": "stdout",
     "output_type": "stream",
     "text": [
      "Frame 10 - PSNR: 28.34, SSIM: 0.8868, LPIPS: 0.1873\n",
      "11 22.924233436584473\n"
     ]
    },
    {
     "name": "stderr",
     "output_type": "stream",
     "text": []
    },
    {
     "name": "stdout",
     "output_type": "stream",
     "text": [
      "Frame 11 - PSNR: 26.32, SSIM: 0.8669, LPIPS: 0.1945\n",
      "12 22.9310405254364\n"
     ]
    },
    {
     "name": "stderr",
     "output_type": "stream",
     "text": []
    },
    {
     "name": "stdout",
     "output_type": "stream",
     "text": [
      "Frame 12 - PSNR: 25.30, SSIM: 0.8608, LPIPS: 0.2020\n",
      "13 22.92330574989319\n"
     ]
    },
    {
     "name": "stderr",
     "output_type": "stream",
     "text": []
    },
    {
     "name": "stdout",
     "output_type": "stream",
     "text": [
      "Frame 13 - PSNR: 25.27, SSIM: 0.8680, LPIPS: 0.1908\n",
      "14 22.934905290603638\n"
     ]
    },
    {
     "name": "stderr",
     "output_type": "stream",
     "text": []
    },
    {
     "name": "stdout",
     "output_type": "stream",
     "text": [
      "Frame 14 - PSNR: 25.77, SSIM: 0.8868, LPIPS: 0.1731\n",
      "15 22.93256640434265\n"
     ]
    },
    {
     "name": "stderr",
     "output_type": "stream",
     "text": []
    },
    {
     "name": "stdout",
     "output_type": "stream",
     "text": [
      "Frame 15 - PSNR: 27.52, SSIM: 0.9033, LPIPS: 0.1534\n",
      "16 22.929426193237305\n"
     ]
    },
    {
     "name": "stderr",
     "output_type": "stream",
     "text": []
    },
    {
     "name": "stdout",
     "output_type": "stream",
     "text": [
      "Frame 16 - PSNR: 28.04, SSIM: 0.8875, LPIPS: 0.1657\n",
      "17 22.930036544799805\n"
     ]
    },
    {
     "name": "stderr",
     "output_type": "stream",
     "text": []
    },
    {
     "name": "stdout",
     "output_type": "stream",
     "text": [
      "Frame 17 - PSNR: 27.08, SSIM: 0.8639, LPIPS: 0.1901\n",
      "18 22.933887243270874\n"
     ]
    },
    {
     "name": "stderr",
     "output_type": "stream",
     "text": []
    },
    {
     "name": "stdout",
     "output_type": "stream",
     "text": [
      "Frame 18 - PSNR: 26.20, SSIM: 0.8443, LPIPS: 0.2237\n",
      "19 22.942237854003906\n"
     ]
    },
    {
     "name": "stderr",
     "output_type": "stream",
     "text": []
    },
    {
     "name": "stdout",
     "output_type": "stream",
     "text": [
      "Frame 19 - PSNR: 26.83, SSIM: 0.8353, LPIPS: 0.2386\n",
      "20 22.940431356430054\n"
     ]
    },
    {
     "name": "stderr",
     "output_type": "stream",
     "text": []
    },
    {
     "name": "stdout",
     "output_type": "stream",
     "text": [
      "Frame 20 - PSNR: 27.11, SSIM: 0.8343, LPIPS: 0.2401\n",
      "21 22.94625163078308\n"
     ]
    },
    {
     "name": "stderr",
     "output_type": "stream",
     "text": []
    },
    {
     "name": "stdout",
     "output_type": "stream",
     "text": [
      "Frame 21 - PSNR: 27.58, SSIM: 0.8279, LPIPS: 0.2514\n",
      "22 22.94310212135315\n"
     ]
    },
    {
     "name": "stderr",
     "output_type": "stream",
     "text": []
    },
    {
     "name": "stdout",
     "output_type": "stream",
     "text": [
      "Frame 22 - PSNR: 28.45, SSIM: 0.8322, LPIPS: 0.2612\n",
      "23 22.940502405166626\n"
     ]
    },
    {
     "name": "stderr",
     "output_type": "stream",
     "text": []
    },
    {
     "name": "stdout",
     "output_type": "stream",
     "text": [
      "Frame 23 - PSNR: 28.59, SSIM: 0.8152, LPIPS: 0.2590\n",
      "24 22.941102981567383\n"
     ]
    },
    {
     "name": "stderr",
     "output_type": "stream",
     "text": [
      "100%|██████████| 25/25 [09:33<00:00, 22.94s/it]\n",
      " 80%|████████  | 160000/200000 [8:00:02<1581:12:55, 142.31s/it]"
     ]
    },
    {
     "name": "stdout",
     "output_type": "stream",
     "text": [
      "Frame 24 - PSNR: 28.08, SSIM: 0.7917, LPIPS: 0.2594\n",
      "\n",
      "=== METRICS SUMMARY ===\n",
      "Average PSNR: 27.1521 ± 0.8860\n",
      "Average SSIM: 0.8378 ± 0.0370\n",
      "Average LPIPS: 0.2223 ± 0.0317\n",
      "=======================\n",
      "Metrics logged to: ./logs\\ship_blender200k_fullres\\metrics\\metrics_160000.txt and ./logs\\ship_blender200k_fullres\\metrics\\metrics_160000.json\n",
      "Training history updated: ./logs\\ship_blender200k_fullres\\metrics\\training_metrics.json\n",
      "Saved test set with metrics\n",
      "[TRAIN] Iter: 160000 Loss: 0.0034189957659691572  PSNR: 28.244081497192383\n"
     ]
    },
    {
     "name": "stderr",
     "output_type": "stream",
     "text": [
      " 81%|████████  | 161002/200000 [8:01:45<1:06:12,  9.82it/s]    "
     ]
    },
    {
     "name": "stdout",
     "output_type": "stream",
     "text": [
      "[TRAIN] Iter: 161000 Loss: 0.004945084452629089  PSNR: 27.63671112060547\n"
     ]
    },
    {
     "name": "stderr",
     "output_type": "stream",
     "text": [
      " 81%|████████  | 162002/200000 [8:03:28<1:05:02,  9.74it/s]"
     ]
    },
    {
     "name": "stdout",
     "output_type": "stream",
     "text": [
      "[TRAIN] Iter: 162000 Loss: 0.004310618154704571  PSNR: 26.973480224609375\n"
     ]
    },
    {
     "name": "stderr",
     "output_type": "stream",
     "text": [
      " 82%|████████▏ | 163002/200000 [8:05:11<1:03:07,  9.77it/s]"
     ]
    },
    {
     "name": "stdout",
     "output_type": "stream",
     "text": [
      "[TRAIN] Iter: 163000 Loss: 0.003320201998576522  PSNR: 29.527210235595703\n"
     ]
    },
    {
     "name": "stderr",
     "output_type": "stream",
     "text": [
      " 82%|████████▏ | 164002/200000 [8:06:55<1:01:08,  9.81it/s]"
     ]
    },
    {
     "name": "stdout",
     "output_type": "stream",
     "text": [
      "[TRAIN] Iter: 164000 Loss: 0.006543279625475407  PSNR: 26.185169219970703\n"
     ]
    },
    {
     "name": "stderr",
     "output_type": "stream",
     "text": [
      " 83%|████████▎ | 165002/200000 [8:08:38<59:40,  9.77it/s]  "
     ]
    },
    {
     "name": "stdout",
     "output_type": "stream",
     "text": [
      "[TRAIN] Iter: 165000 Loss: 0.004593094810843468  PSNR: 27.439138412475586\n"
     ]
    },
    {
     "name": "stderr",
     "output_type": "stream",
     "text": [
      " 83%|████████▎ | 166002/200000 [8:10:21<58:20,  9.71it/s]  "
     ]
    },
    {
     "name": "stdout",
     "output_type": "stream",
     "text": [
      "[TRAIN] Iter: 166000 Loss: 0.0034370264038443565  PSNR: 29.575151443481445\n"
     ]
    },
    {
     "name": "stderr",
     "output_type": "stream",
     "text": [
      " 84%|████████▎ | 167002/200000 [8:12:05<56:51,  9.67it/s]"
     ]
    },
    {
     "name": "stdout",
     "output_type": "stream",
     "text": [
      "[TRAIN] Iter: 167000 Loss: 0.004350811243057251  PSNR: 28.114295959472656\n"
     ]
    },
    {
     "name": "stderr",
     "output_type": "stream",
     "text": [
      " 84%|████████▍ | 168002/200000 [8:13:48<55:44,  9.57it/s]"
     ]
    },
    {
     "name": "stdout",
     "output_type": "stream",
     "text": [
      "[TRAIN] Iter: 168000 Loss: 0.0032249598298221827  PSNR: 29.296052932739258\n"
     ]
    },
    {
     "name": "stderr",
     "output_type": "stream",
     "text": [
      " 85%|████████▍ | 169002/200000 [8:15:31<53:03,  9.74it/s]"
     ]
    },
    {
     "name": "stdout",
     "output_type": "stream",
     "text": [
      "[TRAIN] Iter: 169000 Loss: 0.0056077176705002785  PSNR: 27.432191848754883\n"
     ]
    },
    {
     "name": "stderr",
     "output_type": "stream",
     "text": [
      " 85%|████████▍ | 169999/200000 [8:17:14<51:41,  9.67it/s]"
     ]
    },
    {
     "name": "stdout",
     "output_type": "stream",
     "text": [
      "Saved checkpoints at ./logs\\ship_blender200k_fullres\\checkpoints\\170000.tar\n",
      "test poses shape torch.Size([25, 4, 4])\n"
     ]
    },
    {
     "name": "stderr",
     "output_type": "stream",
     "text": []
    },
    {
     "name": "stdout",
     "output_type": "stream",
     "text": [
      "0 0.0015285015106201172\n"
     ]
    },
    {
     "name": "stderr",
     "output_type": "stream",
     "text": []
    },
    {
     "name": "stdout",
     "output_type": "stream",
     "text": [
      "torch.Size([800, 800, 3]) torch.Size([800, 800])\n",
      "Frame 0 - PSNR: 27.57, SSIM: 0.7774, LPIPS: 0.2533\n",
      "1 22.936655282974243\n"
     ]
    },
    {
     "name": "stderr",
     "output_type": "stream",
     "text": []
    },
    {
     "name": "stdout",
     "output_type": "stream",
     "text": [
      "Frame 1 - PSNR: 26.70, SSIM: 0.7734, LPIPS: 0.2472\n",
      "2 22.916608095169067\n"
     ]
    },
    {
     "name": "stderr",
     "output_type": "stream",
     "text": []
    },
    {
     "name": "stdout",
     "output_type": "stream",
     "text": [
      "Frame 2 - PSNR: 27.20, SSIM: 0.7846, LPIPS: 0.2450\n",
      "3 22.919144868850708\n"
     ]
    },
    {
     "name": "stderr",
     "output_type": "stream",
     "text": []
    },
    {
     "name": "stdout",
     "output_type": "stream",
     "text": [
      "Frame 3 - PSNR: 26.84, SSIM: 0.7774, LPIPS: 0.2554\n",
      "4 22.92410182952881\n"
     ]
    },
    {
     "name": "stderr",
     "output_type": "stream",
     "text": []
    },
    {
     "name": "stdout",
     "output_type": "stream",
     "text": [
      "Frame 4 - PSNR: 27.71, SSIM: 0.8073, LPIPS: 0.2375\n",
      "5 22.92095446586609\n"
     ]
    },
    {
     "name": "stderr",
     "output_type": "stream",
     "text": []
    },
    {
     "name": "stdout",
     "output_type": "stream",
     "text": [
      "Frame 5 - PSNR: 27.57, SSIM: 0.8314, LPIPS: 0.2311\n",
      "6 22.924503803253174\n"
     ]
    },
    {
     "name": "stderr",
     "output_type": "stream",
     "text": []
    },
    {
     "name": "stdout",
     "output_type": "stream",
     "text": [
      "Frame 6 - PSNR: 26.51, SSIM: 0.8342, LPIPS: 0.2368\n",
      "7 22.92648935317993\n"
     ]
    },
    {
     "name": "stderr",
     "output_type": "stream",
     "text": []
    },
    {
     "name": "stdout",
     "output_type": "stream",
     "text": [
      "Frame 7 - PSNR: 26.76, SSIM: 0.8405, LPIPS: 0.2276\n",
      "8 22.937633752822876\n"
     ]
    },
    {
     "name": "stderr",
     "output_type": "stream",
     "text": []
    },
    {
     "name": "stdout",
     "output_type": "stream",
     "text": [
      "Frame 8 - PSNR: 27.26, SSIM: 0.8482, LPIPS: 0.2211\n",
      "9 22.944126844406128\n"
     ]
    },
    {
     "name": "stderr",
     "output_type": "stream",
     "text": []
    },
    {
     "name": "stdout",
     "output_type": "stream",
     "text": [
      "Frame 9 - PSNR: 27.97, SSIM: 0.8690, LPIPS: 0.2037\n",
      "10 22.92848229408264\n"
     ]
    },
    {
     "name": "stderr",
     "output_type": "stream",
     "text": []
    },
    {
     "name": "stdout",
     "output_type": "stream",
     "text": [
      "Frame 10 - PSNR: 28.38, SSIM: 0.8875, LPIPS: 0.1874\n",
      "11 22.937880992889404\n"
     ]
    },
    {
     "name": "stderr",
     "output_type": "stream",
     "text": []
    },
    {
     "name": "stdout",
     "output_type": "stream",
     "text": [
      "Frame 11 - PSNR: 26.37, SSIM: 0.8675, LPIPS: 0.1937\n",
      "12 22.935919523239136\n"
     ]
    },
    {
     "name": "stderr",
     "output_type": "stream",
     "text": []
    },
    {
     "name": "stdout",
     "output_type": "stream",
     "text": [
      "Frame 12 - PSNR: 25.27, SSIM: 0.8621, LPIPS: 0.2012\n",
      "13 22.931344032287598\n"
     ]
    },
    {
     "name": "stderr",
     "output_type": "stream",
     "text": []
    },
    {
     "name": "stdout",
     "output_type": "stream",
     "text": [
      "Frame 13 - PSNR: 25.04, SSIM: 0.8682, LPIPS: 0.1911\n",
      "14 22.944549322128296\n"
     ]
    },
    {
     "name": "stderr",
     "output_type": "stream",
     "text": []
    },
    {
     "name": "stdout",
     "output_type": "stream",
     "text": [
      "Frame 14 - PSNR: 25.69, SSIM: 0.8862, LPIPS: 0.1753\n",
      "15 22.93143939971924\n"
     ]
    },
    {
     "name": "stderr",
     "output_type": "stream",
     "text": []
    },
    {
     "name": "stdout",
     "output_type": "stream",
     "text": [
      "Frame 15 - PSNR: 27.57, SSIM: 0.9037, LPIPS: 0.1535\n",
      "16 22.923515558242798\n"
     ]
    },
    {
     "name": "stderr",
     "output_type": "stream",
     "text": []
    },
    {
     "name": "stdout",
     "output_type": "stream",
     "text": [
      "Frame 16 - PSNR: 28.04, SSIM: 0.8888, LPIPS: 0.1638\n",
      "17 22.92916202545166\n"
     ]
    },
    {
     "name": "stderr",
     "output_type": "stream",
     "text": []
    },
    {
     "name": "stdout",
     "output_type": "stream",
     "text": [
      "Frame 17 - PSNR: 26.89, SSIM: 0.8636, LPIPS: 0.1908\n",
      "18 22.933271884918213\n"
     ]
    },
    {
     "name": "stderr",
     "output_type": "stream",
     "text": []
    },
    {
     "name": "stdout",
     "output_type": "stream",
     "text": [
      "Frame 18 - PSNR: 26.12, SSIM: 0.8439, LPIPS: 0.2235\n",
      "19 22.92976474761963\n"
     ]
    },
    {
     "name": "stderr",
     "output_type": "stream",
     "text": []
    },
    {
     "name": "stdout",
     "output_type": "stream",
     "text": [
      "Frame 19 - PSNR: 26.71, SSIM: 0.8352, LPIPS: 0.2373\n",
      "20 22.933160305023193\n"
     ]
    },
    {
     "name": "stderr",
     "output_type": "stream",
     "text": []
    },
    {
     "name": "stdout",
     "output_type": "stream",
     "text": [
      "Frame 20 - PSNR: 27.05, SSIM: 0.8344, LPIPS: 0.2393\n",
      "21 22.947601079940796\n"
     ]
    },
    {
     "name": "stderr",
     "output_type": "stream",
     "text": []
    },
    {
     "name": "stdout",
     "output_type": "stream",
     "text": [
      "Frame 21 - PSNR: 27.54, SSIM: 0.8276, LPIPS: 0.2501\n",
      "22 22.95076274871826\n"
     ]
    },
    {
     "name": "stderr",
     "output_type": "stream",
     "text": []
    },
    {
     "name": "stdout",
     "output_type": "stream",
     "text": [
      "Frame 22 - PSNR: 28.47, SSIM: 0.8327, LPIPS: 0.2586\n",
      "23 22.942363262176514\n"
     ]
    },
    {
     "name": "stderr",
     "output_type": "stream",
     "text": []
    },
    {
     "name": "stdout",
     "output_type": "stream",
     "text": [
      "Frame 23 - PSNR: 28.57, SSIM: 0.8154, LPIPS: 0.2575\n",
      "24 22.948514223098755\n"
     ]
    },
    {
     "name": "stderr",
     "output_type": "stream",
     "text": [
      "100%|██████████| 25/25 [09:33<00:00, 22.93s/it]\n",
      " 85%|████████▌ | 170000/200000 [8:26:48<1434:27:21, 172.13s/it]"
     ]
    },
    {
     "name": "stdout",
     "output_type": "stream",
     "text": [
      "Frame 24 - PSNR: 27.98, SSIM: 0.7914, LPIPS: 0.2597\n",
      "\n",
      "=== METRICS SUMMARY ===\n",
      "Average PSNR: 27.1112 ± 0.9232\n",
      "Average SSIM: 0.8381 ± 0.0369\n",
      "Average LPIPS: 0.2217 ± 0.0311\n",
      "=======================\n",
      "Metrics logged to: ./logs\\ship_blender200k_fullres\\metrics\\metrics_170000.txt and ./logs\\ship_blender200k_fullres\\metrics\\metrics_170000.json\n",
      "Training history updated: ./logs\\ship_blender200k_fullres\\metrics\\training_metrics.json\n",
      "Saved test set with metrics\n",
      "[TRAIN] Iter: 170000 Loss: 0.004885748028755188  PSNR: 27.1497745513916\n"
     ]
    },
    {
     "name": "stderr",
     "output_type": "stream",
     "text": [
      " 86%|████████▌ | 171002/200000 [8:28:31<49:26,  9.77it/s]      "
     ]
    },
    {
     "name": "stdout",
     "output_type": "stream",
     "text": [
      "[TRAIN] Iter: 171000 Loss: 0.004295368678867817  PSNR: 28.512516021728516\n"
     ]
    },
    {
     "name": "stderr",
     "output_type": "stream",
     "text": [
      " 86%|████████▌ | 172002/200000 [8:30:15<48:08,  9.69it/s]"
     ]
    },
    {
     "name": "stdout",
     "output_type": "stream",
     "text": [
      "[TRAIN] Iter: 172000 Loss: 0.005263788625597954  PSNR: 28.54383087158203\n"
     ]
    },
    {
     "name": "stderr",
     "output_type": "stream",
     "text": [
      " 87%|████████▋ | 173002/200000 [8:31:58<46:27,  9.69it/s]"
     ]
    },
    {
     "name": "stdout",
     "output_type": "stream",
     "text": [
      "[TRAIN] Iter: 173000 Loss: 0.00594668323174119  PSNR: 26.977535247802734\n"
     ]
    },
    {
     "name": "stderr",
     "output_type": "stream",
     "text": [
      " 87%|████████▋ | 174002/200000 [8:33:41<44:51,  9.66it/s]"
     ]
    },
    {
     "name": "stdout",
     "output_type": "stream",
     "text": [
      "[TRAIN] Iter: 174000 Loss: 0.00386870582588017  PSNR: 28.232215881347656\n"
     ]
    },
    {
     "name": "stderr",
     "output_type": "stream",
     "text": [
      " 88%|████████▊ | 175002/200000 [8:35:25<43:06,  9.66it/s]"
     ]
    },
    {
     "name": "stdout",
     "output_type": "stream",
     "text": [
      "[TRAIN] Iter: 175000 Loss: 0.005282299593091011  PSNR: 27.46018409729004\n"
     ]
    },
    {
     "name": "stderr",
     "output_type": "stream",
     "text": [
      " 88%|████████▊ | 176002/200000 [8:37:08<41:04,  9.74it/s]"
     ]
    },
    {
     "name": "stdout",
     "output_type": "stream",
     "text": [
      "[TRAIN] Iter: 176000 Loss: 0.006956477649509907  PSNR: 26.1168270111084\n"
     ]
    },
    {
     "name": "stderr",
     "output_type": "stream",
     "text": [
      " 89%|████████▊ | 177002/200000 [8:38:52<39:32,  9.69it/s]"
     ]
    },
    {
     "name": "stdout",
     "output_type": "stream",
     "text": [
      "[TRAIN] Iter: 177000 Loss: 0.003517229575663805  PSNR: 29.99380111694336\n"
     ]
    },
    {
     "name": "stderr",
     "output_type": "stream",
     "text": [
      " 89%|████████▉ | 178002/200000 [8:40:35<37:32,  9.77it/s]"
     ]
    },
    {
     "name": "stdout",
     "output_type": "stream",
     "text": [
      "[TRAIN] Iter: 178000 Loss: 0.0051794168539345264  PSNR: 27.224103927612305\n"
     ]
    },
    {
     "name": "stderr",
     "output_type": "stream",
     "text": [
      " 90%|████████▉ | 179002/200000 [8:42:18<36:05,  9.70it/s]"
     ]
    },
    {
     "name": "stdout",
     "output_type": "stream",
     "text": [
      "[TRAIN] Iter: 179000 Loss: 0.006733772344887257  PSNR: 25.87721061706543\n"
     ]
    },
    {
     "name": "stderr",
     "output_type": "stream",
     "text": [
      " 90%|████████▉ | 179999/200000 [8:44:01<34:39,  9.62it/s]"
     ]
    },
    {
     "name": "stdout",
     "output_type": "stream",
     "text": [
      "Saved checkpoints at ./logs\\ship_blender200k_fullres\\checkpoints\\180000.tar\n",
      "test poses shape torch.Size([25, 4, 4])\n"
     ]
    },
    {
     "name": "stderr",
     "output_type": "stream",
     "text": []
    },
    {
     "name": "stdout",
     "output_type": "stream",
     "text": [
      "0 0.0020744800567626953\n"
     ]
    },
    {
     "name": "stderr",
     "output_type": "stream",
     "text": []
    },
    {
     "name": "stdout",
     "output_type": "stream",
     "text": [
      "torch.Size([800, 800, 3]) torch.Size([800, 800])\n",
      "Frame 0 - PSNR: 27.65, SSIM: 0.7783, LPIPS: 0.2517\n",
      "1 22.960025310516357\n"
     ]
    },
    {
     "name": "stderr",
     "output_type": "stream",
     "text": []
    },
    {
     "name": "stdout",
     "output_type": "stream",
     "text": [
      "Frame 1 - PSNR: 26.84, SSIM: 0.7758, LPIPS: 0.2441\n",
      "2 22.946256637573242\n"
     ]
    },
    {
     "name": "stderr",
     "output_type": "stream",
     "text": []
    },
    {
     "name": "stdout",
     "output_type": "stream",
     "text": [
      "Frame 2 - PSNR: 27.36, SSIM: 0.7873, LPIPS: 0.2416\n",
      "3 22.937308311462402\n"
     ]
    },
    {
     "name": "stderr",
     "output_type": "stream",
     "text": []
    },
    {
     "name": "stdout",
     "output_type": "stream",
     "text": [
      "Frame 3 - PSNR: 26.95, SSIM: 0.7793, LPIPS: 0.2535\n",
      "4 22.94917058944702\n"
     ]
    },
    {
     "name": "stderr",
     "output_type": "stream",
     "text": []
    },
    {
     "name": "stdout",
     "output_type": "stream",
     "text": [
      "Frame 4 - PSNR: 27.81, SSIM: 0.8086, LPIPS: 0.2338\n",
      "5 22.936988592147827\n"
     ]
    },
    {
     "name": "stderr",
     "output_type": "stream",
     "text": []
    },
    {
     "name": "stdout",
     "output_type": "stream",
     "text": [
      "Frame 5 - PSNR: 27.71, SSIM: 0.8327, LPIPS: 0.2251\n",
      "6 22.952285289764404\n"
     ]
    },
    {
     "name": "stderr",
     "output_type": "stream",
     "text": []
    },
    {
     "name": "stdout",
     "output_type": "stream",
     "text": [
      "Frame 6 - PSNR: 26.82, SSIM: 0.8371, LPIPS: 0.2336\n",
      "7 22.944490432739258\n"
     ]
    },
    {
     "name": "stderr",
     "output_type": "stream",
     "text": []
    },
    {
     "name": "stdout",
     "output_type": "stream",
     "text": [
      "Frame 7 - PSNR: 27.01, SSIM: 0.8431, LPIPS: 0.2255\n",
      "8 22.94421887397766\n"
     ]
    },
    {
     "name": "stderr",
     "output_type": "stream",
     "text": []
    },
    {
     "name": "stdout",
     "output_type": "stream",
     "text": [
      "Frame 8 - PSNR: 27.48, SSIM: 0.8504, LPIPS: 0.2184\n",
      "9 22.946167469024658\n"
     ]
    },
    {
     "name": "stderr",
     "output_type": "stream",
     "text": []
    },
    {
     "name": "stdout",
     "output_type": "stream",
     "text": [
      "Frame 9 - PSNR: 28.08, SSIM: 0.8698, LPIPS: 0.2007\n",
      "10 22.938751697540283\n"
     ]
    },
    {
     "name": "stderr",
     "output_type": "stream",
     "text": []
    },
    {
     "name": "stdout",
     "output_type": "stream",
     "text": [
      "Frame 10 - PSNR: 28.48, SSIM: 0.8880, LPIPS: 0.1869\n",
      "11 22.934632539749146\n"
     ]
    },
    {
     "name": "stderr",
     "output_type": "stream",
     "text": []
    },
    {
     "name": "stdout",
     "output_type": "stream",
     "text": [
      "Frame 11 - PSNR: 26.30, SSIM: 0.8675, LPIPS: 0.1918\n",
      "12 22.93639326095581\n"
     ]
    },
    {
     "name": "stderr",
     "output_type": "stream",
     "text": []
    },
    {
     "name": "stdout",
     "output_type": "stream",
     "text": [
      "Frame 12 - PSNR: 25.47, SSIM: 0.8622, LPIPS: 0.1998\n",
      "13 22.934690237045288\n"
     ]
    },
    {
     "name": "stderr",
     "output_type": "stream",
     "text": []
    },
    {
     "name": "stdout",
     "output_type": "stream",
     "text": [
      "Frame 13 - PSNR: 25.31, SSIM: 0.8696, LPIPS: 0.1893\n",
      "14 22.927363634109497\n"
     ]
    },
    {
     "name": "stderr",
     "output_type": "stream",
     "text": []
    },
    {
     "name": "stdout",
     "output_type": "stream",
     "text": [
      "Frame 14 - PSNR: 26.08, SSIM: 0.8891, LPIPS: 0.1708\n",
      "15 22.922643899917603\n"
     ]
    },
    {
     "name": "stderr",
     "output_type": "stream",
     "text": []
    },
    {
     "name": "stdout",
     "output_type": "stream",
     "text": [
      "Frame 15 - PSNR: 27.67, SSIM: 0.9052, LPIPS: 0.1511\n",
      "16 22.9223735332489\n"
     ]
    },
    {
     "name": "stderr",
     "output_type": "stream",
     "text": []
    },
    {
     "name": "stdout",
     "output_type": "stream",
     "text": [
      "Frame 16 - PSNR: 28.18, SSIM: 0.8901, LPIPS: 0.1627\n",
      "17 22.9220871925354\n"
     ]
    },
    {
     "name": "stderr",
     "output_type": "stream",
     "text": []
    },
    {
     "name": "stdout",
     "output_type": "stream",
     "text": [
      "Frame 17 - PSNR: 27.21, SSIM: 0.8657, LPIPS: 0.1874\n",
      "18 22.929681062698364\n"
     ]
    },
    {
     "name": "stderr",
     "output_type": "stream",
     "text": []
    },
    {
     "name": "stdout",
     "output_type": "stream",
     "text": [
      "Frame 18 - PSNR: 26.27, SSIM: 0.8457, LPIPS: 0.2211\n",
      "19 22.9431369304657\n"
     ]
    },
    {
     "name": "stderr",
     "output_type": "stream",
     "text": []
    },
    {
     "name": "stdout",
     "output_type": "stream",
     "text": [
      "Frame 19 - PSNR: 26.93, SSIM: 0.8375, LPIPS: 0.2335\n",
      "20 22.94243335723877\n"
     ]
    },
    {
     "name": "stderr",
     "output_type": "stream",
     "text": []
    },
    {
     "name": "stdout",
     "output_type": "stream",
     "text": [
      "Frame 20 - PSNR: 27.30, SSIM: 0.8367, LPIPS: 0.2364\n",
      "21 22.94202947616577\n"
     ]
    },
    {
     "name": "stderr",
     "output_type": "stream",
     "text": []
    },
    {
     "name": "stdout",
     "output_type": "stream",
     "text": [
      "Frame 21 - PSNR: 27.75, SSIM: 0.8297, LPIPS: 0.2489\n",
      "22 22.95171046257019\n"
     ]
    },
    {
     "name": "stderr",
     "output_type": "stream",
     "text": []
    },
    {
     "name": "stdout",
     "output_type": "stream",
     "text": [
      "Frame 22 - PSNR: 28.57, SSIM: 0.8335, LPIPS: 0.2566\n",
      "23 22.94566321372986\n"
     ]
    },
    {
     "name": "stderr",
     "output_type": "stream",
     "text": []
    },
    {
     "name": "stdout",
     "output_type": "stream",
     "text": [
      "Frame 23 - PSNR: 28.65, SSIM: 0.8162, LPIPS: 0.2573\n",
      "24 22.928381204605103\n"
     ]
    },
    {
     "name": "stderr",
     "output_type": "stream",
     "text": [
      "100%|██████████| 25/25 [09:33<00:00, 22.94s/it]\n",
      " 90%|█████████ | 180000/200000 [8:53:35<956:32:36, 172.18s/it]"
     ]
    },
    {
     "name": "stdout",
     "output_type": "stream",
     "text": [
      "Frame 24 - PSNR: 28.12, SSIM: 0.7925, LPIPS: 0.2588\n",
      "\n",
      "=== METRICS SUMMARY ===\n",
      "Average PSNR: 27.2804 ± 0.8830\n",
      "Average SSIM: 0.8397 ± 0.0367\n",
      "Average LPIPS: 0.2192 ± 0.0311\n",
      "=======================\n",
      "Metrics logged to: ./logs\\ship_blender200k_fullres\\metrics\\metrics_180000.txt and ./logs\\ship_blender200k_fullres\\metrics\\metrics_180000.json\n",
      "Training history updated: ./logs\\ship_blender200k_fullres\\metrics\\training_metrics.json\n",
      "Saved test set with metrics\n",
      "[TRAIN] Iter: 180000 Loss: 0.0040407367050647736  PSNR: 28.415250778198242\n"
     ]
    },
    {
     "name": "stderr",
     "output_type": "stream",
     "text": [
      " 91%|█████████ | 181002/200000 [8:55:18<32:26,  9.76it/s]     "
     ]
    },
    {
     "name": "stdout",
     "output_type": "stream",
     "text": [
      "[TRAIN] Iter: 181000 Loss: 0.00384325860068202  PSNR: 27.58636474609375\n"
     ]
    },
    {
     "name": "stderr",
     "output_type": "stream",
     "text": [
      " 91%|█████████ | 182002/200000 [8:57:01<30:53,  9.71it/s]"
     ]
    },
    {
     "name": "stdout",
     "output_type": "stream",
     "text": [
      "[TRAIN] Iter: 182000 Loss: 0.0063269855454564095  PSNR: 25.619792938232422\n"
     ]
    },
    {
     "name": "stderr",
     "output_type": "stream",
     "text": [
      " 92%|█████████▏| 183002/200000 [8:58:43<29:04,  9.75it/s]"
     ]
    },
    {
     "name": "stdout",
     "output_type": "stream",
     "text": [
      "[TRAIN] Iter: 183000 Loss: 0.0038794404827058315  PSNR: 28.623340606689453\n"
     ]
    },
    {
     "name": "stderr",
     "output_type": "stream",
     "text": [
      " 92%|█████████▏| 184002/200000 [9:00:26<27:43,  9.62it/s]"
     ]
    },
    {
     "name": "stdout",
     "output_type": "stream",
     "text": [
      "[TRAIN] Iter: 184000 Loss: 0.00582899758592248  PSNR: 28.005611419677734\n"
     ]
    },
    {
     "name": "stderr",
     "output_type": "stream",
     "text": [
      " 93%|█████████▎| 185002/200000 [9:02:09<25:18,  9.87it/s]"
     ]
    },
    {
     "name": "stdout",
     "output_type": "stream",
     "text": [
      "[TRAIN] Iter: 185000 Loss: 0.004530721344053745  PSNR: 27.28662872314453\n"
     ]
    },
    {
     "name": "stderr",
     "output_type": "stream",
     "text": [
      " 93%|█████████▎| 186002/200000 [9:03:52<24:06,  9.68it/s]"
     ]
    },
    {
     "name": "stdout",
     "output_type": "stream",
     "text": [
      "[TRAIN] Iter: 186000 Loss: 0.0043065231293439865  PSNR: 27.704360961914062\n"
     ]
    },
    {
     "name": "stderr",
     "output_type": "stream",
     "text": [
      " 94%|█████████▎| 187002/200000 [9:05:35<22:05,  9.81it/s]"
     ]
    },
    {
     "name": "stdout",
     "output_type": "stream",
     "text": [
      "[TRAIN] Iter: 187000 Loss: 0.0044418759644031525  PSNR: 27.856143951416016\n"
     ]
    },
    {
     "name": "stderr",
     "output_type": "stream",
     "text": [
      " 94%|█████████▍| 188002/200000 [9:07:18<20:37,  9.70it/s]"
     ]
    },
    {
     "name": "stdout",
     "output_type": "stream",
     "text": [
      "[TRAIN] Iter: 188000 Loss: 0.006048064678907394  PSNR: 27.010601043701172\n"
     ]
    },
    {
     "name": "stderr",
     "output_type": "stream",
     "text": [
      " 95%|█████████▍| 189002/200000 [9:09:01<18:45,  9.77it/s]"
     ]
    },
    {
     "name": "stdout",
     "output_type": "stream",
     "text": [
      "[TRAIN] Iter: 189000 Loss: 0.004487997852265835  PSNR: 28.626644134521484\n"
     ]
    },
    {
     "name": "stderr",
     "output_type": "stream",
     "text": [
      " 95%|█████████▍| 189999/200000 [9:10:43<17:16,  9.65it/s]"
     ]
    },
    {
     "name": "stdout",
     "output_type": "stream",
     "text": [
      "Saved checkpoints at ./logs\\ship_blender200k_fullres\\checkpoints\\190000.tar\n",
      "test poses shape torch.Size([25, 4, 4])\n"
     ]
    },
    {
     "name": "stderr",
     "output_type": "stream",
     "text": []
    },
    {
     "name": "stdout",
     "output_type": "stream",
     "text": [
      "0 0.0014672279357910156\n"
     ]
    },
    {
     "name": "stderr",
     "output_type": "stream",
     "text": []
    },
    {
     "name": "stdout",
     "output_type": "stream",
     "text": [
      "torch.Size([800, 800, 3]) torch.Size([800, 800])\n",
      "Frame 0 - PSNR: 27.72, SSIM: 0.7812, LPIPS: 0.2496\n",
      "1 22.960713148117065\n"
     ]
    },
    {
     "name": "stderr",
     "output_type": "stream",
     "text": []
    },
    {
     "name": "stdout",
     "output_type": "stream",
     "text": [
      "Frame 1 - PSNR: 26.92, SSIM: 0.7778, LPIPS: 0.2427\n",
      "2 22.937116622924805\n"
     ]
    },
    {
     "name": "stderr",
     "output_type": "stream",
     "text": []
    },
    {
     "name": "stdout",
     "output_type": "stream",
     "text": [
      "Frame 2 - PSNR: 27.29, SSIM: 0.7881, LPIPS: 0.2405\n",
      "3 22.939610719680786\n"
     ]
    },
    {
     "name": "stderr",
     "output_type": "stream",
     "text": []
    },
    {
     "name": "stdout",
     "output_type": "stream",
     "text": [
      "Frame 3 - PSNR: 26.96, SSIM: 0.7795, LPIPS: 0.2523\n",
      "4 22.94649600982666\n"
     ]
    },
    {
     "name": "stderr",
     "output_type": "stream",
     "text": []
    },
    {
     "name": "stdout",
     "output_type": "stream",
     "text": [
      "Frame 4 - PSNR: 27.86, SSIM: 0.8093, LPIPS: 0.2323\n",
      "5 22.946402072906494\n"
     ]
    },
    {
     "name": "stderr",
     "output_type": "stream",
     "text": []
    },
    {
     "name": "stdout",
     "output_type": "stream",
     "text": [
      "Frame 5 - PSNR: 27.74, SSIM: 0.8332, LPIPS: 0.2262\n",
      "6 22.945824146270752\n"
     ]
    },
    {
     "name": "stderr",
     "output_type": "stream",
     "text": []
    },
    {
     "name": "stdout",
     "output_type": "stream",
     "text": [
      "Frame 6 - PSNR: 26.80, SSIM: 0.8375, LPIPS: 0.2329\n",
      "7 22.930358171463013\n"
     ]
    },
    {
     "name": "stderr",
     "output_type": "stream",
     "text": []
    },
    {
     "name": "stdout",
     "output_type": "stream",
     "text": [
      "Frame 7 - PSNR: 26.96, SSIM: 0.8433, LPIPS: 0.2255\n",
      "8 22.94080352783203\n"
     ]
    },
    {
     "name": "stderr",
     "output_type": "stream",
     "text": []
    },
    {
     "name": "stdout",
     "output_type": "stream",
     "text": [
      "Frame 8 - PSNR: 27.51, SSIM: 0.8507, LPIPS: 0.2171\n",
      "9 22.937225341796875\n"
     ]
    },
    {
     "name": "stderr",
     "output_type": "stream",
     "text": []
    },
    {
     "name": "stdout",
     "output_type": "stream",
     "text": [
      "Frame 9 - PSNR: 28.16, SSIM: 0.8701, LPIPS: 0.2000\n",
      "10 22.9304621219635\n"
     ]
    },
    {
     "name": "stderr",
     "output_type": "stream",
     "text": []
    },
    {
     "name": "stdout",
     "output_type": "stream",
     "text": [
      "Frame 10 - PSNR: 28.54, SSIM: 0.8889, LPIPS: 0.1846\n",
      "11 22.924340963363647\n"
     ]
    },
    {
     "name": "stderr",
     "output_type": "stream",
     "text": []
    },
    {
     "name": "stdout",
     "output_type": "stream",
     "text": [
      "Frame 11 - PSNR: 26.41, SSIM: 0.8688, LPIPS: 0.1910\n",
      "12 22.930875301361084\n"
     ]
    },
    {
     "name": "stderr",
     "output_type": "stream",
     "text": []
    },
    {
     "name": "stdout",
     "output_type": "stream",
     "text": [
      "Frame 12 - PSNR: 25.42, SSIM: 0.8648, LPIPS: 0.1980\n",
      "13 22.932392835617065\n"
     ]
    },
    {
     "name": "stderr",
     "output_type": "stream",
     "text": []
    },
    {
     "name": "stdout",
     "output_type": "stream",
     "text": [
      "Frame 13 - PSNR: 25.36, SSIM: 0.8709, LPIPS: 0.1871\n",
      "14 22.928744792938232\n"
     ]
    },
    {
     "name": "stderr",
     "output_type": "stream",
     "text": []
    },
    {
     "name": "stdout",
     "output_type": "stream",
     "text": [
      "Frame 14 - PSNR: 26.17, SSIM: 0.8909, LPIPS: 0.1692\n",
      "15 22.93178105354309\n"
     ]
    },
    {
     "name": "stderr",
     "output_type": "stream",
     "text": []
    },
    {
     "name": "stdout",
     "output_type": "stream",
     "text": [
      "Frame 15 - PSNR: 27.75, SSIM: 0.9064, LPIPS: 0.1490\n",
      "16 22.93431544303894\n"
     ]
    },
    {
     "name": "stderr",
     "output_type": "stream",
     "text": []
    },
    {
     "name": "stdout",
     "output_type": "stream",
     "text": [
      "Frame 16 - PSNR: 28.15, SSIM: 0.8905, LPIPS: 0.1630\n",
      "17 22.925718545913696\n"
     ]
    },
    {
     "name": "stderr",
     "output_type": "stream",
     "text": []
    },
    {
     "name": "stdout",
     "output_type": "stream",
     "text": [
      "Frame 17 - PSNR: 27.23, SSIM: 0.8668, LPIPS: 0.1865\n",
      "18 22.937106132507324\n"
     ]
    },
    {
     "name": "stderr",
     "output_type": "stream",
     "text": []
    },
    {
     "name": "stdout",
     "output_type": "stream",
     "text": [
      "Frame 18 - PSNR: 26.23, SSIM: 0.8465, LPIPS: 0.2196\n",
      "19 22.940897464752197\n"
     ]
    },
    {
     "name": "stderr",
     "output_type": "stream",
     "text": []
    },
    {
     "name": "stdout",
     "output_type": "stream",
     "text": [
      "Frame 19 - PSNR: 26.90, SSIM: 0.8377, LPIPS: 0.2334\n",
      "20 22.93383240699768\n"
     ]
    },
    {
     "name": "stderr",
     "output_type": "stream",
     "text": []
    },
    {
     "name": "stdout",
     "output_type": "stream",
     "text": [
      "Frame 20 - PSNR: 27.25, SSIM: 0.8369, LPIPS: 0.2345\n",
      "21 22.942586660385132\n"
     ]
    },
    {
     "name": "stderr",
     "output_type": "stream",
     "text": []
    },
    {
     "name": "stdout",
     "output_type": "stream",
     "text": [
      "Frame 21 - PSNR: 27.80, SSIM: 0.8306, LPIPS: 0.2468\n",
      "22 22.947146892547607\n"
     ]
    },
    {
     "name": "stderr",
     "output_type": "stream",
     "text": []
    },
    {
     "name": "stdout",
     "output_type": "stream",
     "text": [
      "Frame 22 - PSNR: 28.59, SSIM: 0.8340, LPIPS: 0.2545\n",
      "23 22.94564414024353\n"
     ]
    },
    {
     "name": "stderr",
     "output_type": "stream",
     "text": []
    },
    {
     "name": "stdout",
     "output_type": "stream",
     "text": [
      "Frame 23 - PSNR: 28.77, SSIM: 0.8174, LPIPS: 0.2557\n",
      "24 22.941625356674194\n"
     ]
    },
    {
     "name": "stderr",
     "output_type": "stream",
     "text": [
      "100%|██████████| 25/25 [09:33<00:00, 22.94s/it]\n",
      " 95%|█████████▌| 190000/200000 [9:20:17<478:14:27, 172.17s/it]"
     ]
    },
    {
     "name": "stdout",
     "output_type": "stream",
     "text": [
      "Frame 24 - PSNR: 28.22, SSIM: 0.7944, LPIPS: 0.2565\n",
      "\n",
      "=== METRICS SUMMARY ===\n",
      "Average PSNR: 27.3074 ± 0.8983\n",
      "Average SSIM: 0.8406 ± 0.0366\n",
      "Average LPIPS: 0.2179 ± 0.0311\n",
      "=======================\n",
      "Metrics logged to: ./logs\\ship_blender200k_fullres\\metrics\\metrics_190000.txt and ./logs\\ship_blender200k_fullres\\metrics\\metrics_190000.json\n",
      "Training history updated: ./logs\\ship_blender200k_fullres\\metrics\\training_metrics.json\n",
      "Saved test set with metrics\n",
      "[TRAIN] Iter: 190000 Loss: 0.0041650086641311646  PSNR: 27.854249954223633\n"
     ]
    },
    {
     "name": "stderr",
     "output_type": "stream",
     "text": [
      " 96%|█████████▌| 191002/200000 [9:22:00<15:26,  9.72it/s]     "
     ]
    },
    {
     "name": "stdout",
     "output_type": "stream",
     "text": [
      "[TRAIN] Iter: 191000 Loss: 0.003110478864982724  PSNR: 30.099163055419922\n"
     ]
    },
    {
     "name": "stderr",
     "output_type": "stream",
     "text": [
      " 96%|█████████▌| 192002/200000 [9:23:43<13:46,  9.68it/s]"
     ]
    },
    {
     "name": "stdout",
     "output_type": "stream",
     "text": [
      "[TRAIN] Iter: 192000 Loss: 0.004386285785585642  PSNR: 28.68501853942871\n"
     ]
    },
    {
     "name": "stderr",
     "output_type": "stream",
     "text": [
      " 97%|█████████▋| 193002/200000 [9:25:26<12:01,  9.70it/s]"
     ]
    },
    {
     "name": "stdout",
     "output_type": "stream",
     "text": [
      "[TRAIN] Iter: 193000 Loss: 0.004458585754036903  PSNR: 27.464736938476562\n"
     ]
    },
    {
     "name": "stderr",
     "output_type": "stream",
     "text": [
      " 97%|█████████▋| 194002/200000 [9:27:09<10:15,  9.74it/s]"
     ]
    },
    {
     "name": "stdout",
     "output_type": "stream",
     "text": [
      "[TRAIN] Iter: 194000 Loss: 0.0030231860000640154  PSNR: 29.290666580200195\n"
     ]
    },
    {
     "name": "stderr",
     "output_type": "stream",
     "text": [
      " 98%|█████████▊| 195002/200000 [9:28:52<08:26,  9.86it/s]"
     ]
    },
    {
     "name": "stdout",
     "output_type": "stream",
     "text": [
      "[TRAIN] Iter: 195000 Loss: 0.004388272762298584  PSNR: 27.672924041748047\n"
     ]
    },
    {
     "name": "stderr",
     "output_type": "stream",
     "text": [
      " 98%|█████████▊| 196002/200000 [9:30:35<06:51,  9.71it/s]"
     ]
    },
    {
     "name": "stdout",
     "output_type": "stream",
     "text": [
      "[TRAIN] Iter: 196000 Loss: 0.005377611611038446  PSNR: 27.03116226196289\n"
     ]
    },
    {
     "name": "stderr",
     "output_type": "stream",
     "text": [
      " 99%|█████████▊| 197002/200000 [9:32:18<05:08,  9.72it/s]"
     ]
    },
    {
     "name": "stdout",
     "output_type": "stream",
     "text": [
      "[TRAIN] Iter: 197000 Loss: 0.004753293469548225  PSNR: 27.25433921813965\n"
     ]
    },
    {
     "name": "stderr",
     "output_type": "stream",
     "text": [
      " 99%|█████████▉| 198002/200000 [9:34:01<03:25,  9.71it/s]"
     ]
    },
    {
     "name": "stdout",
     "output_type": "stream",
     "text": [
      "[TRAIN] Iter: 198000 Loss: 0.002804212737828493  PSNR: 29.848007202148438\n"
     ]
    },
    {
     "name": "stderr",
     "output_type": "stream",
     "text": [
      "100%|█████████▉| 199002/200000 [9:35:44<01:42,  9.72it/s]"
     ]
    },
    {
     "name": "stdout",
     "output_type": "stream",
     "text": [
      "[TRAIN] Iter: 199000 Loss: 0.0058717201463878155  PSNR: 26.178638458251953\n"
     ]
    },
    {
     "name": "stderr",
     "output_type": "stream",
     "text": [
      "100%|█████████▉| 199999/200000 [9:37:26<00:00,  9.71it/s]"
     ]
    },
    {
     "name": "stdout",
     "output_type": "stream",
     "text": [
      "Saved checkpoints at ./logs\\ship_blender200k_fullres\\checkpoints\\200000.tar\n"
     ]
    },
    {
     "name": "stderr",
     "output_type": "stream",
     "text": []
    },
    {
     "name": "stdout",
     "output_type": "stream",
     "text": [
      "0 0.001516103744506836\n"
     ]
    },
    {
     "name": "stderr",
     "output_type": "stream",
     "text": []
    },
    {
     "name": "stdout",
     "output_type": "stream",
     "text": [
      "torch.Size([800, 800, 3]) torch.Size([800, 800])\n",
      "1 22.827479124069214\n"
     ]
    },
    {
     "name": "stderr",
     "output_type": "stream",
     "text": []
    },
    {
     "name": "stdout",
     "output_type": "stream",
     "text": [
      "2 22.80836844444275\n"
     ]
    },
    {
     "name": "stderr",
     "output_type": "stream",
     "text": []
    },
    {
     "name": "stdout",
     "output_type": "stream",
     "text": [
      "3 22.80560803413391\n"
     ]
    },
    {
     "name": "stderr",
     "output_type": "stream",
     "text": []
    },
    {
     "name": "stdout",
     "output_type": "stream",
     "text": [
      "4 22.810211181640625\n"
     ]
    },
    {
     "name": "stderr",
     "output_type": "stream",
     "text": []
    },
    {
     "name": "stdout",
     "output_type": "stream",
     "text": [
      "5 22.808995723724365\n"
     ]
    },
    {
     "name": "stderr",
     "output_type": "stream",
     "text": []
    },
    {
     "name": "stdout",
     "output_type": "stream",
     "text": [
      "6 22.808852434158325\n"
     ]
    },
    {
     "name": "stderr",
     "output_type": "stream",
     "text": []
    },
    {
     "name": "stdout",
     "output_type": "stream",
     "text": [
      "7 22.805271863937378\n"
     ]
    },
    {
     "name": "stderr",
     "output_type": "stream",
     "text": []
    },
    {
     "name": "stdout",
     "output_type": "stream",
     "text": [
      "8 22.806782007217407\n"
     ]
    },
    {
     "name": "stderr",
     "output_type": "stream",
     "text": []
    },
    {
     "name": "stdout",
     "output_type": "stream",
     "text": [
      "9 22.81288766860962\n"
     ]
    },
    {
     "name": "stderr",
     "output_type": "stream",
     "text": []
    },
    {
     "name": "stdout",
     "output_type": "stream",
     "text": [
      "10 22.8069269657135\n"
     ]
    },
    {
     "name": "stderr",
     "output_type": "stream",
     "text": []
    },
    {
     "name": "stdout",
     "output_type": "stream",
     "text": [
      "11 22.80979895591736\n"
     ]
    },
    {
     "name": "stderr",
     "output_type": "stream",
     "text": []
    },
    {
     "name": "stdout",
     "output_type": "stream",
     "text": [
      "12 22.80626344680786\n"
     ]
    },
    {
     "name": "stderr",
     "output_type": "stream",
     "text": []
    },
    {
     "name": "stdout",
     "output_type": "stream",
     "text": [
      "13 22.808526277542114\n"
     ]
    },
    {
     "name": "stderr",
     "output_type": "stream",
     "text": []
    },
    {
     "name": "stdout",
     "output_type": "stream",
     "text": [
      "14 22.806209802627563\n"
     ]
    },
    {
     "name": "stderr",
     "output_type": "stream",
     "text": []
    },
    {
     "name": "stdout",
     "output_type": "stream",
     "text": [
      "15 22.80469250679016\n"
     ]
    },
    {
     "name": "stderr",
     "output_type": "stream",
     "text": []
    },
    {
     "name": "stdout",
     "output_type": "stream",
     "text": [
      "16 22.805115938186646\n"
     ]
    },
    {
     "name": "stderr",
     "output_type": "stream",
     "text": []
    },
    {
     "name": "stdout",
     "output_type": "stream",
     "text": [
      "17 22.805577754974365\n"
     ]
    },
    {
     "name": "stderr",
     "output_type": "stream",
     "text": []
    },
    {
     "name": "stdout",
     "output_type": "stream",
     "text": [
      "18 22.81351923942566\n"
     ]
    },
    {
     "name": "stderr",
     "output_type": "stream",
     "text": []
    },
    {
     "name": "stdout",
     "output_type": "stream",
     "text": [
      "19 22.809262990951538\n"
     ]
    },
    {
     "name": "stderr",
     "output_type": "stream",
     "text": []
    },
    {
     "name": "stdout",
     "output_type": "stream",
     "text": [
      "20 22.808255910873413\n"
     ]
    },
    {
     "name": "stderr",
     "output_type": "stream",
     "text": []
    },
    {
     "name": "stdout",
     "output_type": "stream",
     "text": [
      "21 22.807352304458618\n"
     ]
    },
    {
     "name": "stderr",
     "output_type": "stream",
     "text": []
    },
    {
     "name": "stdout",
     "output_type": "stream",
     "text": [
      "22 22.804967880249023\n"
     ]
    },
    {
     "name": "stderr",
     "output_type": "stream",
     "text": []
    },
    {
     "name": "stdout",
     "output_type": "stream",
     "text": [
      "23 22.80518651008606\n"
     ]
    },
    {
     "name": "stderr",
     "output_type": "stream",
     "text": []
    },
    {
     "name": "stdout",
     "output_type": "stream",
     "text": [
      "24 22.80871319770813\n"
     ]
    },
    {
     "name": "stderr",
     "output_type": "stream",
     "text": []
    },
    {
     "name": "stdout",
     "output_type": "stream",
     "text": [
      "25 22.813950538635254\n"
     ]
    },
    {
     "name": "stderr",
     "output_type": "stream",
     "text": []
    },
    {
     "name": "stdout",
     "output_type": "stream",
     "text": [
      "26 22.813415050506592\n"
     ]
    },
    {
     "name": "stderr",
     "output_type": "stream",
     "text": []
    },
    {
     "name": "stdout",
     "output_type": "stream",
     "text": [
      "27 22.812716484069824\n"
     ]
    },
    {
     "name": "stderr",
     "output_type": "stream",
     "text": []
    },
    {
     "name": "stdout",
     "output_type": "stream",
     "text": [
      "28 22.809566020965576\n"
     ]
    },
    {
     "name": "stderr",
     "output_type": "stream",
     "text": []
    },
    {
     "name": "stdout",
     "output_type": "stream",
     "text": [
      "29 22.818553686141968\n"
     ]
    },
    {
     "name": "stderr",
     "output_type": "stream",
     "text": []
    },
    {
     "name": "stdout",
     "output_type": "stream",
     "text": [
      "30 22.813751220703125\n"
     ]
    },
    {
     "name": "stderr",
     "output_type": "stream",
     "text": []
    },
    {
     "name": "stdout",
     "output_type": "stream",
     "text": [
      "31 22.81144905090332\n"
     ]
    },
    {
     "name": "stderr",
     "output_type": "stream",
     "text": []
    },
    {
     "name": "stdout",
     "output_type": "stream",
     "text": [
      "32 22.814035177230835\n"
     ]
    },
    {
     "name": "stderr",
     "output_type": "stream",
     "text": []
    },
    {
     "name": "stdout",
     "output_type": "stream",
     "text": [
      "33 22.815606832504272\n"
     ]
    },
    {
     "name": "stderr",
     "output_type": "stream",
     "text": []
    },
    {
     "name": "stdout",
     "output_type": "stream",
     "text": [
      "34 23.502057313919067\n"
     ]
    },
    {
     "name": "stderr",
     "output_type": "stream",
     "text": []
    },
    {
     "name": "stdout",
     "output_type": "stream",
     "text": [
      "35 24.504003047943115\n"
     ]
    },
    {
     "name": "stderr",
     "output_type": "stream",
     "text": []
    },
    {
     "name": "stdout",
     "output_type": "stream",
     "text": [
      "36 23.728144645690918\n"
     ]
    },
    {
     "name": "stderr",
     "output_type": "stream",
     "text": []
    },
    {
     "name": "stdout",
     "output_type": "stream",
     "text": [
      "37 23.88103413581848\n"
     ]
    },
    {
     "name": "stderr",
     "output_type": "stream",
     "text": []
    },
    {
     "name": "stdout",
     "output_type": "stream",
     "text": [
      "38 23.293307304382324\n"
     ]
    },
    {
     "name": "stderr",
     "output_type": "stream",
     "text": []
    },
    {
     "name": "stdout",
     "output_type": "stream",
     "text": [
      "39 23.294431924819946\n"
     ]
    },
    {
     "name": "stderr",
     "output_type": "stream",
     "text": [
      "100%|██████████| 40/40 [15:18<00:00, 22.96s/it]\n"
     ]
    },
    {
     "name": "stdout",
     "output_type": "stream",
     "text": [
      "Done, saving (40, 800, 800, 3) (40, 800, 800)\n",
      "test poses shape torch.Size([25, 4, 4])\n"
     ]
    },
    {
     "name": "stderr",
     "output_type": "stream",
     "text": []
    },
    {
     "name": "stdout",
     "output_type": "stream",
     "text": [
      "0 0.0022001266479492188\n"
     ]
    },
    {
     "name": "stderr",
     "output_type": "stream",
     "text": []
    },
    {
     "name": "stdout",
     "output_type": "stream",
     "text": [
      "torch.Size([800, 800, 3]) torch.Size([800, 800])\n",
      "Frame 0 - PSNR: 27.75, SSIM: 0.7824, LPIPS: 0.2476\n",
      "1 23.42484164237976\n"
     ]
    },
    {
     "name": "stderr",
     "output_type": "stream",
     "text": []
    },
    {
     "name": "stdout",
     "output_type": "stream",
     "text": [
      "Frame 1 - PSNR: 26.98, SSIM: 0.7796, LPIPS: 0.2377\n",
      "2 23.395535469055176\n"
     ]
    },
    {
     "name": "stderr",
     "output_type": "stream",
     "text": []
    },
    {
     "name": "stdout",
     "output_type": "stream",
     "text": [
      "Frame 2 - PSNR: 27.40, SSIM: 0.7892, LPIPS: 0.2406\n",
      "3 23.398374319076538\n"
     ]
    },
    {
     "name": "stderr",
     "output_type": "stream",
     "text": []
    },
    {
     "name": "stdout",
     "output_type": "stream",
     "text": [
      "Frame 3 - PSNR: 26.91, SSIM: 0.7797, LPIPS: 0.2514\n",
      "4 23.39027237892151\n"
     ]
    },
    {
     "name": "stderr",
     "output_type": "stream",
     "text": []
    },
    {
     "name": "stdout",
     "output_type": "stream",
     "text": [
      "Frame 4 - PSNR: 27.70, SSIM: 0.8082, LPIPS: 0.2328\n",
      "5 23.394373655319214\n"
     ]
    },
    {
     "name": "stderr",
     "output_type": "stream",
     "text": []
    },
    {
     "name": "stdout",
     "output_type": "stream",
     "text": [
      "Frame 5 - PSNR: 27.62, SSIM: 0.8334, LPIPS: 0.2243\n",
      "6 23.403594255447388\n"
     ]
    },
    {
     "name": "stderr",
     "output_type": "stream",
     "text": []
    },
    {
     "name": "stdout",
     "output_type": "stream",
     "text": [
      "Frame 6 - PSNR: 26.74, SSIM: 0.8378, LPIPS: 0.2325\n",
      "7 23.38841152191162\n"
     ]
    },
    {
     "name": "stderr",
     "output_type": "stream",
     "text": []
    },
    {
     "name": "stdout",
     "output_type": "stream",
     "text": [
      "Frame 7 - PSNR: 26.85, SSIM: 0.8436, LPIPS: 0.2250\n",
      "8 23.398274660110474\n"
     ]
    },
    {
     "name": "stderr",
     "output_type": "stream",
     "text": []
    },
    {
     "name": "stdout",
     "output_type": "stream",
     "text": [
      "Frame 8 - PSNR: 27.41, SSIM: 0.8508, LPIPS: 0.2177\n",
      "9 23.389217138290405\n"
     ]
    },
    {
     "name": "stderr",
     "output_type": "stream",
     "text": []
    },
    {
     "name": "stdout",
     "output_type": "stream",
     "text": [
      "Frame 9 - PSNR: 28.05, SSIM: 0.8700, LPIPS: 0.1997\n",
      "10 23.69474720954895\n"
     ]
    },
    {
     "name": "stderr",
     "output_type": "stream",
     "text": []
    },
    {
     "name": "stdout",
     "output_type": "stream",
     "text": [
      "Frame 10 - PSNR: 28.41, SSIM: 0.8884, LPIPS: 0.1839\n",
      "11 23.389946460723877\n"
     ]
    },
    {
     "name": "stderr",
     "output_type": "stream",
     "text": []
    },
    {
     "name": "stdout",
     "output_type": "stream",
     "text": [
      "Frame 11 - PSNR: 26.34, SSIM: 0.8686, LPIPS: 0.1928\n",
      "12 23.4027361869812\n"
     ]
    },
    {
     "name": "stderr",
     "output_type": "stream",
     "text": []
    },
    {
     "name": "stdout",
     "output_type": "stream",
     "text": [
      "Frame 12 - PSNR: 25.31, SSIM: 0.8636, LPIPS: 0.1995\n",
      "13 23.403005361557007\n"
     ]
    },
    {
     "name": "stderr",
     "output_type": "stream",
     "text": []
    },
    {
     "name": "stdout",
     "output_type": "stream",
     "text": [
      "Frame 13 - PSNR: 25.38, SSIM: 0.8708, LPIPS: 0.1861\n",
      "14 23.429920196533203\n"
     ]
    },
    {
     "name": "stderr",
     "output_type": "stream",
     "text": []
    },
    {
     "name": "stdout",
     "output_type": "stream",
     "text": [
      "Frame 14 - PSNR: 26.00, SSIM: 0.8899, LPIPS: 0.1671\n",
      "15 23.44178795814514\n"
     ]
    },
    {
     "name": "stderr",
     "output_type": "stream",
     "text": []
    },
    {
     "name": "stdout",
     "output_type": "stream",
     "text": [
      "Frame 15 - PSNR: 27.61, SSIM: 0.9064, LPIPS: 0.1475\n",
      "16 23.42000102996826\n"
     ]
    },
    {
     "name": "stderr",
     "output_type": "stream",
     "text": []
    },
    {
     "name": "stdout",
     "output_type": "stream",
     "text": [
      "Frame 16 - PSNR: 28.10, SSIM: 0.8907, LPIPS: 0.1614\n",
      "17 23.42381501197815\n"
     ]
    },
    {
     "name": "stderr",
     "output_type": "stream",
     "text": []
    },
    {
     "name": "stdout",
     "output_type": "stream",
     "text": [
      "Frame 17 - PSNR: 27.06, SSIM: 0.8665, LPIPS: 0.1852\n",
      "18 23.422515869140625\n"
     ]
    },
    {
     "name": "stderr",
     "output_type": "stream",
     "text": []
    },
    {
     "name": "stdout",
     "output_type": "stream",
     "text": [
      "Frame 18 - PSNR: 26.21, SSIM: 0.8464, LPIPS: 0.2198\n",
      "19 23.41890239715576\n"
     ]
    },
    {
     "name": "stderr",
     "output_type": "stream",
     "text": []
    },
    {
     "name": "stdout",
     "output_type": "stream",
     "text": [
      "Frame 19 - PSNR: 26.82, SSIM: 0.8374, LPIPS: 0.2321\n",
      "20 23.41937518119812\n"
     ]
    },
    {
     "name": "stderr",
     "output_type": "stream",
     "text": []
    },
    {
     "name": "stdout",
     "output_type": "stream",
     "text": [
      "Frame 20 - PSNR: 27.25, SSIM: 0.8374, LPIPS: 0.2366\n",
      "21 23.419379711151123\n"
     ]
    },
    {
     "name": "stderr",
     "output_type": "stream",
     "text": []
    },
    {
     "name": "stdout",
     "output_type": "stream",
     "text": [
      "Frame 21 - PSNR: 27.72, SSIM: 0.8305, LPIPS: 0.2459\n",
      "22 23.4243483543396\n"
     ]
    },
    {
     "name": "stderr",
     "output_type": "stream",
     "text": []
    },
    {
     "name": "stdout",
     "output_type": "stream",
     "text": [
      "Frame 22 - PSNR: 28.63, SSIM: 0.8347, LPIPS: 0.2550\n",
      "23 23.112672328948975\n"
     ]
    },
    {
     "name": "stderr",
     "output_type": "stream",
     "text": []
    },
    {
     "name": "stdout",
     "output_type": "stream",
     "text": [
      "Frame 23 - PSNR: 28.75, SSIM: 0.8179, LPIPS: 0.2526\n",
      "24 22.926058053970337\n"
     ]
    },
    {
     "name": "stderr",
     "output_type": "stream",
     "text": [
      "100%|██████████| 25/25 [09:44<00:00, 23.37s/it]\n",
      "100%|██████████| 200000/200000 [10:02:30<00:00,  5.53it/s] "
     ]
    },
    {
     "name": "stdout",
     "output_type": "stream",
     "text": [
      "Frame 24 - PSNR: 28.17, SSIM: 0.7947, LPIPS: 0.2566\n",
      "\n",
      "=== METRICS SUMMARY ===\n",
      "Average PSNR: 27.2466 ± 0.9001\n",
      "Average SSIM: 0.8407 ± 0.0362\n",
      "Average LPIPS: 0.2172 ± 0.0311\n",
      "=======================\n",
      "Metrics logged to: ./logs\\ship_blender200k_fullres\\metrics\\metrics_200000.txt and ./logs\\ship_blender200k_fullres\\metrics\\metrics_200000.json\n",
      "Training history updated: ./logs\\ship_blender200k_fullres\\metrics\\training_metrics.json\n",
      "Saved test set with metrics\n",
      "[TRAIN] Iter: 200000 Loss: 0.004367784596979618  PSNR: 28.598913192749023\n"
     ]
    },
    {
     "name": "stderr",
     "output_type": "stream",
     "text": [
      "\n"
     ]
    }
   ],
   "source": [
    "# Insert training parameters\n",
    "N_iters = 200000 + 1\n",
    "train()"
   ]
  },
  {
   "cell_type": "markdown",
   "id": "2e21da52",
   "metadata": {},
   "source": [
    "## Evaluate with SSIM and LPIPS Metrics\n",
    "\n",
    "This section demonstrates how to evaluate your trained NeRF model using advanced image quality metrics including SSIM (Structural Similarity Index) and LPIPS (Learned Perceptual Image Patch Similarity).\n"
   ]
  },
  {
   "cell_type": "code",
   "execution_count": 67,
   "id": "de7d21ec",
   "metadata": {},
   "outputs": [
    {
     "name": "stdout",
     "output_type": "stream",
     "text": [
      "Evaluation functions loaded. Usage examples:\n",
      "1. evaluate_test_set() - Evaluate entire test set\n",
      "2. calculate_single_image_metrics(0) - Evaluate single image\n",
      "3. retroactive_metrics_evaluation('experiment', iteration) - Retroactive evaluation\n"
     ]
    }
   ],
   "source": [
    "# Example 1: Evaluate test set with comprehensive metrics\n",
    "def evaluate_test_set(calculate_lpips=True):\n",
    "    \"\"\"\n",
    "    Evaluate the trained NeRF model on the test set with PSNR, SSIM, and optionally LPIPS.\n",
    "    \n",
    "    Args:\n",
    "        calculate_lpips (bool): Whether to calculate LPIPS (slower but more perceptually accurate)\n",
    "    \"\"\"\n",
    "    print(\"Evaluating test set with comprehensive metrics...\")\n",
    "    \n",
    "    # Make sure we have test data loaded\n",
    "    if 'i_test' not in globals():\n",
    "        print(\"Error: Test data not loaded. Please run the training cell first.\")\n",
    "        return\n",
    "    \n",
    "    # Use the test poses and ground truth images\n",
    "    test_poses = poses[i_test]\n",
    "    test_images = images[i_test]\n",
    "    \n",
    "    print(f\"Evaluating {len(test_poses)} test images...\")\n",
    "    \n",
    "    # Render test set with metrics calculation\n",
    "    with torch.no_grad():\n",
    "        try:\n",
    "            rgbs, disps, metrics = render_path(\n",
    "                test_poses, hwf, K, args.chunk, render_kwargs_test, \n",
    "                gt_imgs=test_images, \n",
    "                calculate_metrics=True,\n",
    "                metrics_include_lpips=calculate_lpips,\n",
    "                metrics_device=device\n",
    "            )\n",
    "            \n",
    "            return metrics\n",
    "            \n",
    "        except Exception as e:\n",
    "            print(f\"Error during evaluation: {e}\")\n",
    "            print(\"Note: Make sure the lpips package is installed: pip install lpips\")\n",
    "            \n",
    "            # Fallback to PSNR/SSIM only\n",
    "            if calculate_lpips:\n",
    "                print(\"Retrying without LPIPS...\")\n",
    "                return evaluate_test_set(calculate_lpips=False)\n",
    "            else:\n",
    "                raise\n",
    "\n",
    "# Example 2: Calculate metrics for individual images\n",
    "def calculate_single_image_metrics(img_idx=0, include_lpips=True):\n",
    "    \"\"\"\n",
    "    Calculate metrics for a single test image comparison.\n",
    "    \n",
    "    Args:\n",
    "        img_idx (int): Index of the test image to evaluate\n",
    "        include_lpips (bool): Whether to include LPIPS calculation\n",
    "    \"\"\"\n",
    "    from nerf_helpers import calculate_metrics\n",
    "    \n",
    "    if img_idx >= len(i_test):\n",
    "        print(f\"Error: img_idx {img_idx} out of range. Max index: {len(i_test)-1}\")\n",
    "        return\n",
    "    \n",
    "    test_pose = poses[i_test[img_idx]]\n",
    "    gt_image = images[i_test[img_idx]]\n",
    "    \n",
    "    print(f\"Rendering test image {img_idx}...\")\n",
    "    \n",
    "    # Render single image\n",
    "    with torch.no_grad():\n",
    "        rgb, disp, acc, _ = render(H, W, K, chunk=args.chunk, c2w=test_pose[:3,:4], **render_kwargs_test)\n",
    "        rendered_img = rgb.cpu().numpy()\n",
    "    \n",
    "    # Calculate metrics\n",
    "    metrics = calculate_metrics(rendered_img, gt_image, include_lpips=include_lpips, device=device)\n",
    "    \n",
    "    print(f\"\\nMetrics for test image {img_idx}:\")\n",
    "    print(f\"PSNR: {metrics['psnr']:.2f} dB\")\n",
    "    print(f\"SSIM: {metrics['ssim']:.4f}\")\n",
    "    if include_lpips and 'lpips' in metrics:\n",
    "        print(f\"LPIPS: {metrics['lpips']:.4f}\")\n",
    "    \n",
    "    return rendered_img, gt_image, metrics\n",
    "\n",
    "def retroactive_metrics_evaluation(experiment_name, iteration, include_lpips=True):\n",
    "    \"\"\"\n",
    "    Retroactively calculate comprehensive metrics for an existing checkpoint.\n",
    "    Useful when training completed without enhanced metrics due to missing modules.\n",
    "    \n",
    "    Args:\n",
    "        experiment_name (str): Name of experiment (e.g., \"chair_blender500k\")\n",
    "        iteration (int): Iteration number to evaluate (e.g., 50000)\n",
    "        include_lpips (bool): Whether to calculate LPIPS\n",
    "    \"\"\"\n",
    "    import os\n",
    "    import json\n",
    "    import time as time_module\n",
    "    \n",
    "    print(f\"🔄 Retroactively calculating metrics for {experiment_name} at iteration {iteration}\")\n",
    "    \n",
    "    # Paths\n",
    "    exp_dir = f\"./logs/{experiment_name}\"\n",
    "    checkpoint_path = os.path.join(exp_dir, f\"{iteration:06d}.tar\")\n",
    "    testset_dir = os.path.join(exp_dir, f\"testset_{iteration:06d}\")\n",
    "    \n",
    "    # Check if checkpoint and test images exist\n",
    "    if not os.path.exists(checkpoint_path):\n",
    "        print(f\"❌ Checkpoint not found: {checkpoint_path}\")\n",
    "        return None\n",
    "        \n",
    "    if not os.path.exists(testset_dir):\n",
    "        print(f\"❌ Test images not found: {testset_dir}\")\n",
    "        return None\n",
    "    \n",
    "    print(f\"✅ Found checkpoint: {checkpoint_path}\")\n",
    "    print(f\"✅ Found test images: {testset_dir}\")\n",
    "    \n",
    "    # Load the experiment configuration\n",
    "    config_path = os.path.join(exp_dir, \"config.yaml\")\n",
    "    if os.path.exists(config_path):\n",
    "        import yaml\n",
    "        with open(config_path, 'r') as f:\n",
    "            exp_args = yaml.safe_load(f)\n",
    "        print(f\"✅ Loaded config from: {config_path}\")\n",
    "    else:\n",
    "        print(f\"❌ Config not found, using current args\")\n",
    "        exp_args = dict(args)  # Use current global args\n",
    "    \n",
    "    # Convert to AttrDict for compatibility\n",
    "    exp_args = AttrDict.from_obj(exp_args)\n",
    "    \n",
    "    # Load the checkpoint\n",
    "    print(f\"📦 Loading checkpoint...\")\n",
    "    checkpoint = torch.load(checkpoint_path, map_location=device)\n",
    "    \n",
    "    # Create networks (matching the training configuration)\n",
    "    print(f\"🧠 Creating networks...\")\n",
    "    from embedder import get_embedder\n",
    "    \n",
    "    embed_fn, input_ch = get_embedder(exp_args.multires, exp_args.i_embed)\n",
    "    embeddirs_fn, input_ch_views = get_embedder(exp_args.multires_views, exp_args.i_embed)\n",
    "    \n",
    "    from nerf import NeRF\n",
    "    output_ch = 5 if exp_args.N_importance > 0 else 4\n",
    "    skips = [4]\n",
    "    \n",
    "    # Create networks\n",
    "    model = NeRF(D=exp_args.netdepth, W=exp_args.netwidth,\n",
    "                 input_ch=input_ch, output_ch=output_ch, skips=skips,\n",
    "                 input_ch_views=input_ch_views, use_viewdirs=exp_args.use_viewdirs).to(device)\n",
    "    \n",
    "    model_fine = None\n",
    "    if exp_args.N_importance > 0:\n",
    "        model_fine = NeRF(D=exp_args.netdepth_fine, W=exp_args.netwidth_fine,\n",
    "                          input_ch=input_ch, output_ch=output_ch, skips=skips,\n",
    "                          input_ch_views=input_ch_views, use_viewdirs=exp_args.use_viewdirs).to(device)\n",
    "    \n",
    "    # Load checkpoint weights\n",
    "    model.load_state_dict(checkpoint['network_fn_state_dict'])\n",
    "    if model_fine is not None:\n",
    "        model_fine.load_state_dict(checkpoint['network_fine_state_dict'])\n",
    "    \n",
    "    print(f\"✅ Networks loaded from checkpoint\")\n",
    "    \n",
    "    # Set networks to eval mode\n",
    "    model.eval()\n",
    "    if model_fine is not None:\n",
    "        model_fine.eval()\n",
    "    \n",
    "    # Create network query function\n",
    "    network_query_fn = lambda inputs, viewdirs, network_fn : run_network(inputs, viewdirs, network_fn,\n",
    "                                                                embed_fn=embed_fn,\n",
    "                                                                embeddirs_fn=embeddirs_fn,\n",
    "                                                                netchunk=exp_args.netchunk)\n",
    "    \n",
    "    # Create render kwargs\n",
    "    render_kwargs = {\n",
    "        'network_query_fn': network_query_fn,\n",
    "        'perturb': 0.0,  # No noise during evaluation\n",
    "        'N_importance': exp_args.N_importance,\n",
    "        'network_fine': model_fine,\n",
    "        'N_samples': exp_args.N_samples,\n",
    "        'network_fn': model,\n",
    "        'use_viewdirs': exp_args.use_viewdirs,\n",
    "        'white_bkgd': exp_args.white_bkgd,\n",
    "        'raw_noise_std': 0.0,  # No noise during evaluation\n",
    "    }\n",
    "    \n",
    "    # Set near/far based on dataset type\n",
    "    if exp_args.dataset_type == 'blender':\n",
    "        near, far = 2., 6.\n",
    "        render_kwargs['ndc'] = False\n",
    "    elif exp_args.dataset_type == 'llff':\n",
    "        near, far = 0., 1.\n",
    "        render_kwargs['ndc'] = True\n",
    "    else:\n",
    "        print(f\"⚠️ Unknown dataset type: {exp_args.dataset_type}, using default near/far\")\n",
    "        near, far = 0., 1.\n",
    "    \n",
    "    render_kwargs['near'] = near\n",
    "    render_kwargs['far'] = far\n",
    "    \n",
    "    # Load original dataset to get ground truth images\n",
    "    print(f\"📊 Loading ground truth data...\")\n",
    "    \n",
    "    if exp_args.dataset_type == 'blender':\n",
    "        from load_blender import load_blender_data\n",
    "        images, poses, render_poses, hwf, i_split = load_blender_data(\n",
    "            exp_args.datadir, exp_args.half_res, exp_args.testskip\n",
    "        )\n",
    "        i_train, i_val, i_test = i_split\n",
    "        H, W, focal = hwf\n",
    "        K = np.array([\n",
    "            [focal, 0, 0.5*W],\n",
    "            [0, focal, 0.5*H],\n",
    "            [0, 0, 1]\n",
    "        ])\n",
    "        # Handle white background\n",
    "        if exp_args.white_bkgd:\n",
    "            images = images[...,:3]*images[...,-1:] + (1.-images[...,-1:])\n",
    "        else:\n",
    "            images = images[...,:3]\n",
    "    \n",
    "    elif exp_args.dataset_type == 'llff':\n",
    "        from load_llff import load_llff_data\n",
    "        images, poses, bds, render_poses, i_test = load_llff_data(\n",
    "            exp_args.datadir, exp_args.factor, recenter=True, bd_factor=.75, spherify=exp_args.spherify\n",
    "        )\n",
    "        hwf = poses[0,:3,-1]\n",
    "        poses = poses[:,:3,:4]\n",
    "        H, W, focal = hwf\n",
    "        K = np.array([\n",
    "            [focal, 0, 0.5*W],\n",
    "            [0, focal, 0.5*H],\n",
    "            [0, 0, 1]\n",
    "        ])\n",
    "        # Create splits\n",
    "        if exp_args.llffhold > 0:\n",
    "            i_test = np.arange(images.shape[0])[::exp_args.llffhold]\n",
    "        i_val = i_test\n",
    "        i_train = np.array([i for i in np.arange(int(images.shape[0]))\n",
    "                            if (i not in i_test and i not in i_val)])\n",
    "    \n",
    "    print(f\"✅ Loaded {len(i_test)} test images\")\n",
    "    \n",
    "    # Get test data\n",
    "    test_poses = poses[i_test]\n",
    "    test_images = images[i_test]\n",
    "    \n",
    "    # Convert to tensors\n",
    "    test_poses = torch.tensor(test_poses).to(device)\n",
    "    H, W = int(H), int(W)\n",
    "    \n",
    "    # Calculate metrics using our enhanced render_path\n",
    "    print(f\"🎯 Calculating comprehensive metrics (LPIPS: {include_lpips})...\")\n",
    "    \n",
    "    with torch.no_grad():\n",
    "        rgbs, disps, metrics = render_path(\n",
    "            test_poses, [H, W, focal], K, exp_args.chunk,\n",
    "            render_kwargs,\n",
    "            gt_imgs=test_images,\n",
    "            calculate_metrics=True,\n",
    "            metrics_include_lpips=include_lpips,\n",
    "            metrics_device=device\n",
    "        )\n",
    "    \n",
    "    # Save metrics in the same format as training\n",
    "    metrics_file_txt = os.path.join(exp_dir, f'metrics_{iteration:06d}.txt')\n",
    "    with open(metrics_file_txt, 'w') as f:\n",
    "        f.write(f\"Iteration: {iteration}\\n\")\n",
    "        f.write(f\"Timestamp: {time_module.strftime('%Y-%m-%d %H:%M:%S')} (retroactive)\\n\")\n",
    "        f.write(f\"LPIPS_included: {include_lpips}\\n\")\n",
    "        f.write(\"-\" * 40 + \"\\n\")\n",
    "        for key, value in metrics.items():\n",
    "            f.write(f\"{key}: {value:.6f}\\n\")\n",
    "    \n",
    "    # JSON format\n",
    "    metrics_file_json = os.path.join(exp_dir, f'metrics_{iteration:06d}.json')\n",
    "    json_data = {\n",
    "        'iteration': iteration,\n",
    "        'timestamp': time_module.strftime('%Y-%m-%d %H:%M:%S'),\n",
    "        'lpips_included': include_lpips,\n",
    "        'retroactive': True,\n",
    "        'metrics': {k: float(v) for k, v in metrics.items()}\n",
    "    }\n",
    "    with open(metrics_file_json, 'w') as f:\n",
    "        json.dump(json_data, f, indent=2)\n",
    "    \n",
    "    # Update consolidated training log\n",
    "    training_log_file = os.path.join(exp_dir, 'training_metrics.json')\n",
    "    if os.path.exists(training_log_file):\n",
    "        with open(training_log_file, 'r') as f:\n",
    "            training_log = json.load(f)\n",
    "    else:\n",
    "        training_log = {'experiment': experiment_name, 'metrics_history': []}\n",
    "    \n",
    "    # Check if this iteration already exists\n",
    "    existing_idx = None\n",
    "    for idx, entry in enumerate(training_log['metrics_history']):\n",
    "        if entry['iteration'] == iteration:\n",
    "            existing_idx = idx\n",
    "            break\n",
    "    \n",
    "    if existing_idx is not None:\n",
    "        # Update existing entry\n",
    "        training_log['metrics_history'][existing_idx] = json_data\n",
    "        print(f\"📝 Updated existing metrics entry for iteration {iteration}\")\n",
    "    else:\n",
    "        # Add new entry and sort by iteration\n",
    "        training_log['metrics_history'].append(json_data)\n",
    "        training_log['metrics_history'].sort(key=lambda x: x['iteration'])\n",
    "        print(f\"📝 Added new metrics entry for iteration {iteration}\")\n",
    "    \n",
    "    with open(training_log_file, 'w') as f:\n",
    "        json.dump(training_log, f, indent=2)\n",
    "    \n",
    "    print(f\"✅ Metrics saved:\")\n",
    "    print(f\"   📄 {metrics_file_txt}\")\n",
    "    print(f\"   📄 {metrics_file_json}\")\n",
    "    print(f\"   📄 {training_log_file}\")\n",
    "    \n",
    "    print(f\"\\n🎯 Results for iteration {iteration}:\")\n",
    "    for key, value in metrics.items():\n",
    "        print(f\"   {key}: {value:.4f}\")\n",
    "    \n",
    "    return metrics\n",
    "\n",
    "print(\"Evaluation functions loaded. Usage examples:\")\n",
    "print(\"1. evaluate_test_set() - Evaluate entire test set\")\n",
    "print(\"2. calculate_single_image_metrics(0) - Evaluate single image\")\n",
    "print(\"3. retroactive_metrics_evaluation('experiment', iteration) - Retroactive evaluation\")\n"
   ]
  },
  {
   "cell_type": "code",
   "execution_count": 68,
   "id": "73ca04ed",
   "metadata": {},
   "outputs": [
    {
     "name": "stdout",
     "output_type": "stream",
     "text": [
      "Manual evaluation examples available above (uncomment to use).\n"
     ]
    }
   ],
   "source": [
    "# Example: Manual evaluation (if you have a trained model)\n",
    "# Uncomment any of these to run:\n",
    "\n",
    "# Evaluate a single test image\n",
    "# rendered, gt, metrics = calculate_single_image_metrics(img_idx=0, include_lpips=True)\n",
    "\n",
    "# Evaluate the full test set\n",
    "# test_metrics = evaluate_test_set(calculate_lpips=True)\n",
    "\n",
    "# Retroactively evaluate a checkpoint\n",
    "# metrics = retroactive_metrics_evaluation('chair_blender500k', 10000)\n",
    "\n",
    "print(\"Manual evaluation examples available above (uncomment to use).\")\n"
   ]
  },
  {
   "cell_type": "markdown",
   "id": "7e13b282",
   "metadata": {},
   "source": [
    "### Metrics Analysis and Visualization\n",
    "\n",
    "Functions to analyze and visualize your saved training metrics:\n"
   ]
  },
  {
   "cell_type": "code",
   "execution_count": 69,
   "id": "cb36157e",
   "metadata": {},
   "outputs": [
    {
     "name": "stdout",
     "output_type": "stream",
     "text": [
      "Metrics analysis functions loaded:\n",
      "- load_training_metrics(experiment_name)\n",
      "- plot_training_metrics(experiment_name)\n",
      "- get_latest_metrics(experiment_name)\n",
      "- compare_experiments([exp1, exp2], metric)\n"
     ]
    }
   ],
   "source": [
    "import json\n",
    "import matplotlib.pyplot as plt\n",
    "import os\n",
    "\n",
    "def load_training_metrics(experiment_name=\"fern_test\"):\n",
    "    \"\"\"\n",
    "    Load and return all training metrics from the consolidated JSON file.\n",
    "    \n",
    "    Args:\n",
    "        experiment_name (str): Name of the experiment directory\n",
    "        \n",
    "    Returns:\n",
    "        dict: Training metrics history\n",
    "    \"\"\"\n",
    "    log_file = f\"./logs/{experiment_name}/training_metrics.json\"\n",
    "    \n",
    "    if os.path.exists(log_file):\n",
    "        with open(log_file, 'r') as f:\n",
    "            return json.load(f)\n",
    "    else:\n",
    "        print(f\"No training metrics found at {log_file}\")\n",
    "        return None\n",
    "\n",
    "def plot_training_metrics(experiment_name=\"fern_test\", save_plot=True):\n",
    "    \"\"\"\n",
    "    Plot training metrics over time.\n",
    "    \n",
    "    Args:\n",
    "        experiment_name (str): Name of the experiment directory\n",
    "        save_plot (bool): Whether to save the plot\n",
    "    \"\"\"\n",
    "    data = load_training_metrics(experiment_name)\n",
    "    \n",
    "    if data is None or 'metrics_history' not in data:\n",
    "        print(\"No metrics data to plot\")\n",
    "        return\n",
    "    \n",
    "    history = data['metrics_history']\n",
    "    \n",
    "    # Extract data\n",
    "    iterations = [entry['iteration'] for entry in history]\n",
    "    psnr_values = [entry['metrics'].get('avg_psnr', 0) for entry in history]\n",
    "    ssim_values = [entry['metrics'].get('avg_ssim', 0) for entry in history]\n",
    "    lpips_values = [entry['metrics'].get('avg_lpips', 0) for entry in history if 'avg_lpips' in entry['metrics']]\n",
    "    lpips_iterations = [entry['iteration'] for entry in history if 'avg_lpips' in entry['metrics']]\n",
    "    \n",
    "    # Create subplot\n",
    "    fig, (ax1, ax2, ax3) = plt.subplots(3, 1, figsize=(12, 10))\n",
    "    \n",
    "    # PSNR plot\n",
    "    ax1.plot(iterations, psnr_values, 'b-', linewidth=2, marker='o', markersize=4)\n",
    "    ax1.set_ylabel('PSNR (dB)', fontsize=12)\n",
    "    ax1.set_title(f'Training Metrics - {experiment_name}', fontsize=14, fontweight='bold')\n",
    "    ax1.grid(True, alpha=0.3)\n",
    "    ax1.set_ylim(bottom=0)\n",
    "    \n",
    "    # SSIM plot\n",
    "    ax2.plot(iterations, ssim_values, 'g-', linewidth=2, marker='s', markersize=4)\n",
    "    ax2.set_ylabel('SSIM', fontsize=12)\n",
    "    ax2.grid(True, alpha=0.3)\n",
    "    ax2.set_ylim(0, 1)\n",
    "    \n",
    "    # LPIPS plot\n",
    "    if lpips_values:\n",
    "        ax3.plot(lpips_iterations, lpips_values, 'r-', linewidth=2, marker='^', markersize=4)\n",
    "        ax3.set_ylabel('LPIPS', fontsize=12)\n",
    "        ax3.set_xlabel('Training Iteration', fontsize=12)\n",
    "        ax3.grid(True, alpha=0.3)\n",
    "        ax3.set_ylim(bottom=0)\n",
    "    else:\n",
    "        ax3.text(0.5, 0.5, 'No LPIPS data available', transform=ax3.transAxes, \n",
    "                ha='center', va='center', fontsize=12)\n",
    "        ax3.set_ylabel('LPIPS', fontsize=12)\n",
    "        ax3.set_xlabel('Training Iteration', fontsize=12)\n",
    "    \n",
    "    plt.tight_layout()\n",
    "    \n",
    "    if save_plot:\n",
    "        plot_file = f\"./logs/{experiment_name}/metrics_plot.png\"\n",
    "        plt.savefig(plot_file, dpi=300, bbox_inches='tight')\n",
    "        print(f\"Plot saved to: {plot_file}\")\n",
    "    \n",
    "    plt.show()\n",
    "\n",
    "def get_latest_metrics(experiment_name=\"fern_test\"):\n",
    "    \"\"\"\n",
    "    Get the latest metrics from training.\n",
    "    \n",
    "    Args:\n",
    "        experiment_name (str): Name of the experiment directory\n",
    "        \n",
    "    Returns:\n",
    "        dict: Latest metrics or None\n",
    "    \"\"\"\n",
    "    data = load_training_metrics(experiment_name)\n",
    "    \n",
    "    if data and 'metrics_history' in data and data['metrics_history']:\n",
    "        latest = data['metrics_history'][-1]\n",
    "        print(f\"Latest metrics from iteration {latest['iteration']}:\")\n",
    "        print(f\"Timestamp: {latest['timestamp']}\")\n",
    "        print(\"-\" * 40)\n",
    "        for key, value in latest['metrics'].items():\n",
    "            print(f\"{key}: {value:.6f}\")\n",
    "        return latest\n",
    "    else:\n",
    "        print(\"No metrics available\")\n",
    "        return None\n",
    "\n",
    "def compare_experiments(exp_names=[\"fern_test\"], metric=\"avg_psnr\"):\n",
    "    \"\"\"\n",
    "    Compare metrics across multiple experiments.\n",
    "    \n",
    "    Args:\n",
    "        exp_names (list): List of experiment names to compare\n",
    "        metric (str): Metric to compare ('avg_psnr', 'avg_ssim', 'avg_lpips')\n",
    "    \"\"\"\n",
    "    plt.figure(figsize=(12, 6))\n",
    "    \n",
    "    for exp_name in exp_names:\n",
    "        data = load_training_metrics(exp_name)\n",
    "        if data and 'metrics_history' in data:\n",
    "            history = data['metrics_history']\n",
    "            iterations = [entry['iteration'] for entry in history]\n",
    "            values = [entry['metrics'].get(metric, 0) for entry in history]\n",
    "            plt.plot(iterations, values, linewidth=2, marker='o', markersize=3, label=exp_name)\n",
    "    \n",
    "    plt.xlabel('Training Iteration', fontsize=12)\n",
    "    plt.ylabel(metric.replace('_', ' ').title(), fontsize=12)\n",
    "    plt.title(f'Experiment Comparison - {metric.replace(\"_\", \" \").title()}', fontsize=14)\n",
    "    plt.legend()\n",
    "    plt.grid(True, alpha=0.3)\n",
    "    plt.tight_layout()\n",
    "    plt.show()\n",
    "\n",
    "print(\"Metrics analysis functions loaded:\")\n",
    "print(\"- load_training_metrics(experiment_name)\")\n",
    "print(\"- plot_training_metrics(experiment_name)\")  \n",
    "print(\"- get_latest_metrics(experiment_name)\")\n",
    "print(\"- compare_experiments([exp1, exp2], metric)\")\n"
   ]
  },
  {
   "cell_type": "code",
   "execution_count": 70,
   "id": "3909e2b8",
   "metadata": {},
   "outputs": [
    {
     "name": "stdout",
     "output_type": "stream",
     "text": [
      "Enhanced training analysis functions loaded:\n",
      "- load_training_log(experiment_name)\n",
      "- plot_training_curves(experiment_name)\n",
      "- get_training_summary(experiment_name)\n"
     ]
    }
   ],
   "source": [
    "# Enhanced training analysis functions\n",
    "import pandas as pd\n",
    "import matplotlib.pyplot as plt\n",
    "\n",
    "def load_training_log(experiment_name=\"fern_test\"):\n",
    "    \"\"\"Load the detailed training log (loss, PSNR every 1000 iterations)\"\"\"\n",
    "    csv_file = f\"./logs/{experiment_name}/training_log.csv\"\n",
    "    \n",
    "    if os.path.exists(csv_file):\n",
    "        df = pd.read_csv(csv_file)\n",
    "        return df\n",
    "    else:\n",
    "        print(f\"No training log found at {csv_file}\")\n",
    "        return None\n",
    "\n",
    "def plot_training_curves(experiment_name=\"fern_test\", save_plot=True):\n",
    "    \"\"\"Plot detailed training curves (loss, PSNR vs iteration)\"\"\"\n",
    "    # Load detailed training data\n",
    "    df = load_training_log(experiment_name)\n",
    "    if df is None:\n",
    "        return\n",
    "    \n",
    "    # Load test metrics\n",
    "    test_data = load_training_metrics(experiment_name)\n",
    "    \n",
    "    fig, ((ax1, ax2), (ax3, ax4)) = plt.subplots(2, 2, figsize=(15, 10))\n",
    "    \n",
    "    # Training Loss\n",
    "    ax1.plot(df['iteration'], df['loss'], 'b-', linewidth=1, alpha=0.7, label='Fine Loss')\n",
    "    if 'loss_coarse' in df.columns:\n",
    "        ax1.plot(df['iteration'], df['loss_coarse'], 'c--', linewidth=1, alpha=0.7, label='Coarse Loss')\n",
    "    ax1.set_ylabel('Training Loss')\n",
    "    ax1.set_title('Training Loss Over Time')\n",
    "    ax1.set_yscale('log')\n",
    "    ax1.legend()\n",
    "    ax1.grid(True, alpha=0.3)\n",
    "    \n",
    "    # Training PSNR\n",
    "    ax2.plot(df['iteration'], df['psnr'], 'g-', linewidth=1, alpha=0.7, label='Fine PSNR')\n",
    "    if 'psnr_coarse' in df.columns:\n",
    "        ax2.plot(df['iteration'], df['psnr_coarse'], 'lime', linestyle='--', linewidth=1, alpha=0.7, label='Coarse PSNR')\n",
    "    ax2.set_ylabel('Training PSNR (dB)')\n",
    "    ax2.set_title('Training PSNR Over Time')\n",
    "    ax2.legend()\n",
    "    ax2.grid(True, alpha=0.3)\n",
    "    \n",
    "    # Learning Rate\n",
    "    ax3.plot(df['iteration'], df['learning_rate'], 'orange', linewidth=2)\n",
    "    ax3.set_ylabel('Learning Rate')\n",
    "    ax3.set_xlabel('Iteration')\n",
    "    ax3.set_title('Learning Rate Schedule')\n",
    "    ax3.set_yscale('log')\n",
    "    ax3.grid(True, alpha=0.3)\n",
    "    \n",
    "    # Test Metrics (if available)\n",
    "    if test_data and 'metrics_history' in test_data:\n",
    "        history = test_data['metrics_history']\n",
    "        test_iters = [entry['iteration'] for entry in history]\n",
    "        test_psnr = [entry['metrics'].get('avg_psnr', 0) for entry in history]\n",
    "        test_ssim = [entry['metrics'].get('avg_ssim', 0) for entry in history]\n",
    "        \n",
    "        ax4.plot(test_iters, test_psnr, 'ro-', linewidth=2, markersize=6, label='Test PSNR')\n",
    "        ax4_twin = ax4.twinx()\n",
    "        ax4_twin.plot(test_iters, test_ssim, 'bs-', linewidth=2, markersize=6, label='Test SSIM')\n",
    "        \n",
    "        ax4.set_ylabel('Test PSNR (dB)', color='r')\n",
    "        ax4_twin.set_ylabel('Test SSIM', color='b')\n",
    "        ax4.set_xlabel('Iteration')\n",
    "        ax4.set_title('Test Set Metrics')\n",
    "        ax4.grid(True, alpha=0.3)\n",
    "    else:\n",
    "        ax4.text(0.5, 0.5, 'No test metrics available', transform=ax4.transAxes, \n",
    "                ha='center', va='center', fontsize=12)\n",
    "        ax4.set_title('Test Set Metrics')\n",
    "    \n",
    "    plt.suptitle(f'Complete Training Analysis - {experiment_name}', fontsize=16, fontweight='bold')\n",
    "    plt.tight_layout()\n",
    "    \n",
    "    if save_plot:\n",
    "        plot_file = f\"./logs/{experiment_name}/complete_training_plot.png\"\n",
    "        plt.savefig(plot_file, dpi=300, bbox_inches='tight')\n",
    "        print(f\"Complete training plot saved to: {plot_file}\")\n",
    "    \n",
    "    plt.show()\n",
    "\n",
    "def get_training_summary(experiment_name=\"fern_test\"):\n",
    "    \"\"\"Get a summary of training progress\"\"\"\n",
    "    df = load_training_log(experiment_name)\n",
    "    test_data = load_training_metrics(experiment_name)\n",
    "    \n",
    "    if df is None:\n",
    "        print(\"No training data available\")\n",
    "        return\n",
    "    \n",
    "    print(f\"=== TRAINING SUMMARY: {experiment_name} ===\")\n",
    "    print(f\"Total iterations: {df['iteration'].max():,}\")\n",
    "    print(f\"Training entries: {len(df):,}\")\n",
    "    print(f\"Latest loss: {df['loss'].iloc[-1]:.6f}\")\n",
    "    print(f\"Latest PSNR: {df['psnr'].iloc[-1]:.2f} dB\")\n",
    "    print(f\"Best training PSNR: {df['psnr'].max():.2f} dB\")\n",
    "    print(f\"Current learning rate: {df['learning_rate'].iloc[-1]:.2e}\")\n",
    "    \n",
    "    if test_data and 'metrics_history' in test_data:\n",
    "        history = test_data['metrics_history']\n",
    "        if history:\n",
    "            latest_test = history[-1]\n",
    "            print(f\"\\nLatest test metrics (iter {latest_test['iteration']}):\")\n",
    "            for key, value in latest_test['metrics'].items():\n",
    "                print(f\"  {key}: {value:.4f}\")\n",
    "    \n",
    "    return df\n",
    "\n",
    "print(\"Enhanced training analysis functions loaded:\")\n",
    "print(\"- load_training_log(experiment_name)\")\n",
    "print(\"- plot_training_curves(experiment_name)\")  \n",
    "print(\"- get_training_summary(experiment_name)\")\n"
   ]
  },
  {
   "cell_type": "code",
   "execution_count": 71,
   "id": "1f4ee3cf",
   "metadata": {},
   "outputs": [
    {
     "name": "stdout",
     "output_type": "stream",
     "text": [
      "No training metrics found at ./logs/chair_blender500k/training_metrics.json\n",
      "No metrics available\n",
      "No training metrics found at ./logs/chair_blender500k/training_metrics.json\n",
      "No metrics data to plot\n",
      "No training log found at ./logs/chair_blender500k/training_log.csv\n",
      "No training log found at ./logs/chair_blender500k/training_log.csv\n",
      "No training metrics found at ./logs/chair_blender500k/training_metrics.json\n",
      "No training data available\n"
     ]
    }
   ],
   "source": [
    "# Quick view of your current metrics\n",
    "get_latest_metrics(\"chair_blender500k\")\n",
    "\n",
    "# Plot test metrics over time  \n",
    "plot_training_metrics(\"chair_blender500k\")\n",
    "\n",
    "# Plot detailed training curves\n",
    "plot_training_curves(\"chair_blender500k\")\n",
    "\n",
    "# Get training summary\n",
    "get_training_summary(\"chair_blender500k\")"
   ]
  },
  {
   "cell_type": "code",
   "execution_count": null,
   "id": "1e9ef50b",
   "metadata": {},
   "outputs": [],
   "source": []
  }
 ],
 "metadata": {
  "kernelspec": {
   "display_name": ".venv",
   "language": "python",
   "name": "python3"
  },
  "language_info": {
   "codemirror_mode": {
    "name": "ipython",
    "version": 3
   },
   "file_extension": ".py",
   "mimetype": "text/x-python",
   "name": "python",
   "nbconvert_exporter": "python",
   "pygments_lexer": "ipython3",
   "version": "3.13.5"
  }
 },
 "nbformat": 4,
 "nbformat_minor": 5
}
