{
 "cells": [
  {
   "cell_type": "markdown",
   "metadata": {},
   "source": [
    "# PlenOctree Pipeline Analysis Results\n",
    "\n",
    "Comprehensive analysis with **descriptive file naming**:\n",
    "- `nerf_training_metrics.json` - NeRF training progression\n",
    "- `nerf_evaluation_final.json` - Final NeRF test results\n",
    "- `nerf_evaluation_steps.json` - Step-by-step evaluations\n",
    "- `nerf_evaluation_summary.json` - Comprehensive summary\n",
    "- `octree_*_metrics.json` - Octree pipeline stages\n",
    "- `pipeline_summary_metrics.json` - Overall pipeline timing"
   ]
  },
  {
   "cell_type": "code",
   "execution_count": null,
   "metadata": {},
   "outputs": [],
   "source": [
    "# Auto-run analysis with new descriptive file names\n",
    "import sys\n",
    "sys.path.append('/mnt/d/GitHub/nerf-projects/plenoctree/analysis')\n",
    "from experiment_analyzer import SimplePlenOctreeAnalyzer\n",
    "from IPython.display import Image, display\n",
    "from pathlib import Path\n",
    "\n",
    "print(\"🚀 Running analysis with descriptive file naming...\")\n",
    "analyzer = SimplePlenOctreeAnalyzer()\n",
    "analyzer.analyze_all_scenes()"
   ]
  },
  {
   "cell_type": "markdown",
   "metadata": {},
   "source": [
    "## Comprehensive Pipeline Analysis\n",
    "\n",
    "Beautiful visualization showing all 6 stages with proper data sources."
   ]
  },
  {
   "cell_type": "code",
   "execution_count": null,
   "metadata": {},
   "outputs": [],
   "source": [
    "# Display comprehensive analysis\n",
    "scenes = analyzer.discover_scenes()\n",
    "base_path = Path('/mnt/d/GitHub/nerf-projects/plenoctree/data/Plenoctree/checkpoints/syn_sh16')\n",
    "\n",
    "for scene in scenes:\n",
    "    comprehensive_plot = base_path / scene / 'analysis' / f'{scene}_pipeline_analysis.png'\n",
    "    if comprehensive_plot.exists():\n",
    "        print(f\"\\n🎬 COMPREHENSIVE ANALYSIS - {scene.upper()}:\")\n",
    "        display(Image(str(comprehensive_plot)))\n",
    "    else:\n",
    "        print(f\"⚠️ No comprehensive plot found for {scene}\")"
   ]
  },
  {
   "cell_type": "markdown",
   "metadata": {},
   "source": [
    "## Individual Metric Plots\n",
    "\n",
    "High-quality individual plots for detailed analysis."
   ]
  },
  {
   "cell_type": "code",
   "execution_count": null,
   "metadata": {},
   "outputs": [],
   "source": [
    "# Display individual plots for each scene\n",
    "individual_plot_types = [\n",
    "    ('psnr_progression', '📈 PSNR Progression'),\n",
    "    ('ssim_progression', '📊 SSIM Progression'), \n",
    "    ('lpips_progression', '📉 LPIPS Progression'),\n",
    "    ('memory_progression', '💾 Memory Usage')\n",
    "]\n",
    "\n",
    "for scene in scenes:\n",
    "    print(f\"\\n{'='*60}\")\n",
    "    print(f\"🎬 INDIVIDUAL PLOTS - {scene.upper()}\")\n",
    "    print(f\"{'='*60}\")\n",
    "    \n",
    "    analysis_dir = base_path / scene / 'analysis'\n",
    "    \n",
    "    for plot_type, title in individual_plot_types:\n",
    "        plot_path = analysis_dir / f'{scene}_{plot_type}.png'\n",
    "        if plot_path.exists():\n",
    "            print(f\"\\n{title}:\")\n",
    "            display(Image(str(plot_path)))\n",
    "        else:\n",
    "            print(f\"⚠️ {title} not found\")"
   ]
  },
  {
   "cell_type": "markdown",
   "metadata": {},
   "source": [
    "## File Structure Summary\n",
    "\n",
    "New descriptive file naming for better organization."
   ]
  },
  {
   "cell_type": "markdown",
   "metadata": {},
   "source": [
    "\n"
   ]
  },
  {
   "cell_type": "code",
   "execution_count": null,
   "metadata": {},
   "outputs": [],
   "source": [
    "\n"
   ]
  },
  {
   "cell_type": "code",
   "execution_count": null,
   "metadata": {},
   "outputs": [],
   "source": [
    "\n"
   ]
  },
  {
   "cell_type": "code",
   "execution_count": null,
   "metadata": {},
   "outputs": [],
   "source": [
    "# Show new file structure with descriptive names\n",
    "print(\"\\n📁 NEW DESCRIPTIVE FILE STRUCTURE\")\n",
    "print(\"=\"*60)\n",
    "\n",
    "for scene in scenes:\n",
    "    scene_dir = base_path / scene\n",
    "    octrees_dir = scene_dir / 'octrees'\n",
    "    analysis_dir = scene_dir / 'analysis'\n",
    "    \n",
    "    print(f\"\\n🎬 {scene.upper()}:\")\n",
    "    print(f\"  📂 Scene Directory: {scene_dir}\")\n",
    "    \n",
    "    # NeRF files\n",
    "    nerf_files = list(scene_dir.glob('nerf_*.json'))\n",
    "    if nerf_files:\n",
    "        print(f\"  🧠 NeRF Files ({len(nerf_files)}):\")\n",
    "        for f in sorted(nerf_files):\n",
    "            print(f\"    • {f.name}\")\n",
    "    \n",
    "    # Octree files\n",
    "    if octrees_dir.exists():\n",
    "        octree_files = list(octrees_dir.glob('octree_*.json')) + list(octrees_dir.glob('pipeline_*.json'))\n",
    "        if octree_files:\n",
    "            print(f\"  🌳 Octree Files ({len(octree_files)}):\")\n",
    "            for f in sorted(octree_files):\n",
    "                print(f\"    • {f.name}\")\n",
    "    \n",
    "    # Analysis files\n",
    "    if analysis_dir.exists():\n",
    "        analysis_files = list(analysis_dir.glob('*.png'))\n",
    "        if analysis_files:\n",
    "            print(f\"  📊 Analysis Plots ({len(analysis_files)}):\")\n",
    "            for f in sorted(analysis_files):\n",
    "                print(f\"    • {f.name}\")\n",
    "\n",
    "print(f\"\\n✅ All files now use descriptive naming for better organization!\")\n",
    "print(f\"🎯 Ready for multi-scene analysis with clear file identification.\")"
   ]
  }
 ],
 "metadata": {
  "kernelspec": {
   "display_name": "Python 3",
   "language": "python",
   "name": "python3"
  },
  "language_info": {
   "name": "python",
   "version": "3.9.7"
  }
 },
 "nbformat": 4,
 "nbformat_minor": 4
}
